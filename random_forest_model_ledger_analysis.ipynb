{
 "cells": [
  {
   "cell_type": "markdown",
   "metadata": {},
   "source": [
    "# Analyse the trade ledger\n",
    "Find the key areas of interest for trading:\n",
    "- Ticker\n",
    "- Time of year\n",
    "- Periods held"
   ]
  },
  {
   "cell_type": "code",
   "execution_count": 1,
   "metadata": {},
   "outputs": [],
   "source": [
    "#Import modules\n",
    "import pandas as pd\n",
    "import numpy as np\n",
    "import datetime as dt\n",
    "import matplotlib.pyplot as plt\n",
    "import matplotlib.dates as mdates\n",
    "from matplotlib.ticker import FuncFormatter\n",
    "%matplotlib inline"
   ]
  },
  {
   "cell_type": "code",
   "execution_count": 2,
   "metadata": {},
   "outputs": [
    {
     "name": "stdout",
     "output_type": "stream",
     "text": [
      "(72, 11)\n",
      "Unnamed: 0               int64\n",
      "ticker                  object\n",
      "share_vol                int64\n",
      "buy_spend              float64\n",
      "buy_prob               float64\n",
      "buy_date        datetime64[ns]\n",
      "sell_spend             float64\n",
      "sell_prob              float64\n",
      "sell_date       datetime64[ns]\n",
      "periods_held           float64\n",
      "profit_loss            float64\n",
      "dtype: object\n"
     ]
    },
    {
     "data": {
      "text/html": [
       "<div>\n",
       "<style scoped>\n",
       "    .dataframe tbody tr th:only-of-type {\n",
       "        vertical-align: middle;\n",
       "    }\n",
       "\n",
       "    .dataframe tbody tr th {\n",
       "        vertical-align: top;\n",
       "    }\n",
       "\n",
       "    .dataframe thead th {\n",
       "        text-align: right;\n",
       "    }\n",
       "</style>\n",
       "<table border=\"1\" class=\"dataframe\">\n",
       "  <thead>\n",
       "    <tr style=\"text-align: right;\">\n",
       "      <th></th>\n",
       "      <th>Unnamed: 0</th>\n",
       "      <th>ticker</th>\n",
       "      <th>share_vol</th>\n",
       "      <th>buy_spend</th>\n",
       "      <th>buy_prob</th>\n",
       "      <th>buy_date</th>\n",
       "      <th>sell_spend</th>\n",
       "      <th>sell_prob</th>\n",
       "      <th>sell_date</th>\n",
       "      <th>periods_held</th>\n",
       "      <th>profit_loss</th>\n",
       "    </tr>\n",
       "  </thead>\n",
       "  <tbody>\n",
       "    <tr>\n",
       "      <th>0</th>\n",
       "      <td>0</td>\n",
       "      <td>AGR</td>\n",
       "      <td>2469</td>\n",
       "      <td>99997.60</td>\n",
       "      <td>0.363336</td>\n",
       "      <td>2014-01-06</td>\n",
       "      <td>-147630.5</td>\n",
       "      <td>0.372360</td>\n",
       "      <td>2015-03-30</td>\n",
       "      <td>64.0</td>\n",
       "      <td>47632.90</td>\n",
       "    </tr>\n",
       "    <tr>\n",
       "      <th>1</th>\n",
       "      <td>1</td>\n",
       "      <td>AGR</td>\n",
       "      <td>1735</td>\n",
       "      <td>99960.45</td>\n",
       "      <td>0.363336</td>\n",
       "      <td>2017-01-09</td>\n",
       "      <td>-101091.0</td>\n",
       "      <td>0.372464</td>\n",
       "      <td>2017-03-13</td>\n",
       "      <td>9.0</td>\n",
       "      <td>1130.55</td>\n",
       "    </tr>\n",
       "    <tr>\n",
       "      <th>2</th>\n",
       "      <td>2</td>\n",
       "      <td>AGR</td>\n",
       "      <td>1723</td>\n",
       "      <td>99960.01</td>\n",
       "      <td>0.349121</td>\n",
       "      <td>2018-07-23</td>\n",
       "      <td>-99537.5</td>\n",
       "      <td>0.360050</td>\n",
       "      <td>2019-01-28</td>\n",
       "      <td>27.0</td>\n",
       "      <td>-422.51</td>\n",
       "    </tr>\n",
       "    <tr>\n",
       "      <th>3</th>\n",
       "      <td>3</td>\n",
       "      <td>AGR</td>\n",
       "      <td>1679</td>\n",
       "      <td>99965.81</td>\n",
       "      <td>0.360538</td>\n",
       "      <td>2019-02-25</td>\n",
       "      <td>-98651.5</td>\n",
       "      <td>0.360316</td>\n",
       "      <td>2019-04-29</td>\n",
       "      <td>9.0</td>\n",
       "      <td>-1314.31</td>\n",
       "    </tr>\n",
       "    <tr>\n",
       "      <th>5</th>\n",
       "      <td>5</td>\n",
       "      <td>COA</td>\n",
       "      <td>3238</td>\n",
       "      <td>99980.40</td>\n",
       "      <td>0.363336</td>\n",
       "      <td>2014-01-06</td>\n",
       "      <td>-103933.0</td>\n",
       "      <td>0.372360</td>\n",
       "      <td>2014-02-03</td>\n",
       "      <td>4.0</td>\n",
       "      <td>3952.60</td>\n",
       "    </tr>\n",
       "  </tbody>\n",
       "</table>\n",
       "</div>"
      ],
      "text/plain": [
       "   Unnamed: 0 ticker  share_vol  buy_spend  buy_prob   buy_date  sell_spend  \\\n",
       "0           0    AGR       2469   99997.60  0.363336 2014-01-06   -147630.5   \n",
       "1           1    AGR       1735   99960.45  0.363336 2017-01-09   -101091.0   \n",
       "2           2    AGR       1723   99960.01  0.349121 2018-07-23    -99537.5   \n",
       "3           3    AGR       1679   99965.81  0.360538 2019-02-25    -98651.5   \n",
       "5           5    COA       3238   99980.40  0.363336 2014-01-06   -103933.0   \n",
       "\n",
       "   sell_prob  sell_date  periods_held  profit_loss  \n",
       "0   0.372360 2015-03-30          64.0     47632.90  \n",
       "1   0.372464 2017-03-13           9.0      1130.55  \n",
       "2   0.360050 2019-01-28          27.0      -422.51  \n",
       "3   0.360316 2019-04-29           9.0     -1314.31  \n",
       "5   0.372360 2014-02-03           4.0      3952.60  "
      ]
     },
     "execution_count": 2,
     "metadata": {},
     "output_type": "execute_result"
    }
   ],
   "source": [
    "#Import data\n",
    "path = r'C:\\\\Users\\\\Robert\\\\Documents\\\\python_scripts\\\\stock_trading_ml_modelling\\\\historical_prices'\n",
    "ledger_df = pd.read_csv(path+r'\\\\trades_ledger_rf_mod.csv')\n",
    "ledger_df.dropna(axis=0,inplace=True)\n",
    "ledger_df['buy_date'] = [dt.datetime.strptime(x,'%Y-%m-%d') for x in ledger_df['buy_date']]\n",
    "ledger_df['sell_date'] = [dt.datetime.strptime(x,'%Y-%m-%d') for x in ledger_df['sell_date']]\n",
    "print(ledger_df.shape)\n",
    "print(ledger_df.dtypes)\n",
    "ledger_df.head()"
   ]
  },
  {
   "cell_type": "code",
   "execution_count": 3,
   "metadata": {},
   "outputs": [],
   "source": [
    "#Create a cumulative profit loss\n",
    "ledger_df = ledger_df.sort_values(['buy_date','ticker']).reset_index(drop=True)\n",
    "ledger_df['cum_profit_loss'] = [ledger_df.iloc[:x+1]['profit_loss'].sum() for x in ledger_df.index]"
   ]
  },
  {
   "cell_type": "code",
   "execution_count": 13,
   "metadata": {},
   "outputs": [
    {
     "data": {
      "text/plain": [
       "Text(0.5,0,'Buy date')"
      ]
     },
     "execution_count": 13,
     "metadata": {},
     "output_type": "execute_result"
    },
    {
     "data": {
      "image/png": "[encoded data removed]",
      "text/plain": [
       "<Figure size 432x288 with 1 Axes>"
      ]
     },
     "metadata": {
      "needs_background": "light"
     },
     "output_type": "display_data"
    }
   ],
   "source": [
    "#Plot the cumulative profit_loss\n",
    "fig = plt.figure()\n",
    "ax = fig.add_subplot(111)\n",
    "ax.plot(ledger_df.buy_date,ledger_df.cum_profit_loss/10)\n",
    "ax.legend()\n",
    "ax.set_title('Cumulative profit/loss')\n",
    "ax.set_ylabel('Profit loss (£)')\n",
    "def millions(x, pos):\n",
    "    #'The two args are the value and tick position'\n",
    "    return '£{:,.1f}K'.format(x*1e-3)\n",
    "ax.yaxis.set_major_formatter(FuncFormatter(millions))\n",
    "ax.set_xlabel('Buy date')"
   ]
  },
  {
   "cell_type": "code",
   "execution_count": 5,
   "metadata": {},
   "outputs": [
    {
     "name": "stdout",
     "output_type": "stream",
     "text": [
      "\n",
      "LEDGER STATS:\n",
      "    FIRST TRADE VALUE:£999.98\n",
      "    NET PROFIT LOSS:£8,375.14\n",
      "        TOTAL PROFIT:£9,654.32\n",
      "        TOTAL LOSS:£-1,279.18\n",
      "    \n"
     ]
    }
   ],
   "source": [
    "#Top line summary\n",
    "print('''\\nLEDGER STATS:\n",
    "    FIRST TRADE VALUE:£{:,.2f}\n",
    "    NET PROFIT LOSS:£{:,.2f}\n",
    "        TOTAL PROFIT:£{:,.2f}\n",
    "        TOTAL LOSS:£{:,.2f}\n",
    "    '''.format(\n",
    "    ledger_df.iloc[0].buy_spend/100\n",
    "    ,ledger_df.profit_loss.sum()/100\n",
    "    ,ledger_df[ledger_df.profit_loss > 0].profit_loss.sum()/100\n",
    "    ,ledger_df[ledger_df.profit_loss < 0].profit_loss.sum()/100\n",
    "))"
   ]
  },
  {
   "cell_type": "code",
   "execution_count": 6,
   "metadata": {},
   "outputs": [
    {
     "name": "stdout",
     "output_type": "stream",
     "text": [
      "\n",
      "ROI STATS:\n",
      "    AVERAGE ROI %: 11.65\n",
      "    AVERAGE POS ROI %: 18.24\n",
      "    POS COUNT: 53\n",
      "    AVERAGE NEG ROI %: -6.74\n",
      "    NEG COUNT: 19\n",
      "\n",
      "PERIODS HELD STATS:\n",
      "    AVERAGE PERIODS HELD: 26.07\n",
      "    AVERAGE POS ROI PERIODS HELD: 25.68\n",
      "    AVERAGE NEG ROI PERIODS HELD: 27.16\n",
      "    \n"
     ]
    }
   ],
   "source": [
    "#Calculate ROI\n",
    "ledger_df['roi'] = ledger_df['profit_loss'] / ledger_df['buy_spend']\n",
    "print('''\\nROI STATS:\n",
    "    AVERAGE ROI %: {:.2f}\n",
    "    AVERAGE POS ROI %: {:.2f}\n",
    "    POS COUNT: {:,.0f}\n",
    "    AVERAGE NEG ROI %: {:.2f}\n",
    "    NEG COUNT: {:,.0f}\n",
    "\\nPERIODS HELD STATS:\n",
    "    AVERAGE PERIODS HELD: {:.2f}\n",
    "    AVERAGE POS ROI PERIODS HELD: {:.2f}\n",
    "    AVERAGE NEG ROI PERIODS HELD: {:.2f}\n",
    "    '''.format(\n",
    "    ledger_df['roi'].mean()*100\n",
    "    ,ledger_df[ledger_df['roi'] > 0]['roi'].mean()*100\n",
    "    ,len(ledger_df[ledger_df['roi'] > 0])\n",
    "    ,ledger_df[ledger_df['roi'] <= 0]['roi'].mean()*100\n",
    "    ,len(ledger_df[ledger_df['roi'] <= 0])\n",
    "    ,ledger_df['periods_held'].mean()\n",
    "    ,ledger_df[ledger_df['roi'] > 0]['periods_held'].mean()\n",
    "    ,ledger_df[ledger_df['roi'] <= 0]['periods_held'].mean()\n",
    "))"
   ]
  },
  {
   "cell_type": "code",
   "execution_count": 7,
   "metadata": {},
   "outputs": [
    {
     "data": {
      "text/plain": [
       "<matplotlib.collections.PathCollection at 0x24f146a5630>"
      ]
     },
     "execution_count": 7,
     "metadata": {},
     "output_type": "execute_result"
    },
    {
     "data": {
      "image/png": "[encoded data removed]",
      "text/plain": [
       "<Figure size 432x288 with 1 Axes>"
      ]
     },
     "metadata": {
      "needs_background": "light"
     },
     "output_type": "display_data"
    }
   ],
   "source": [
    "#ROI % by date\n",
    "fig,ax = plt.subplots()\n",
    "\n",
    "#matplotlib formatting for dates\n",
    "years = mdates.YearLocator()\n",
    "month = mdates.MonthLocator()\n",
    "dates_fmt = mdates.DateFormatter('%Y')\n",
    "\n",
    "#Format the x-axis\n",
    "ax.xaxis.set_major_locator(years)\n",
    "ax.xaxis.set_major_formatter(dates_fmt)\n",
    "ax.xaxis.set_tick_params(rotation=45)\n",
    "ax.set_xlabel(r'Buy date')\n",
    "\n",
    "#Format the y-axis\n",
    "ax.set_ylabel(r'% ROI')\n",
    "\n",
    "ax.set_title = r'ROI % by buy_date'\n",
    "\n",
    "tmp_df = ledger_df[ledger_df['roi']<10]\n",
    "ax.scatter(tmp_df['buy_date'].tolist(),tmp_df['roi'])"
   ]
  },
  {
   "cell_type": "code",
   "execution_count": 8,
   "metadata": {},
   "outputs": [
    {
     "name": "stderr",
     "output_type": "stream",
     "text": [
      "C:\\Users\\Robert\\Anaconda3\\lib\\site-packages\\matplotlib\\figure.py:457: UserWarning: matplotlib is currently using a non-GUI backend, so cannot show the figure\n",
      "  \"matplotlib is currently using a non-GUI backend, \"\n"
     ]
    },
    {
     "data": {
      "image/png": "[encoded data removed]",
      "text/plain": [
       "<Figure size 432x288 with 1 Axes>"
      ]
     },
     "metadata": {
      "needs_background": "light"
     },
     "output_type": "display_data"
    }
   ],
   "source": [
    "#ROI % by month\n",
    "ledger_df['month'] = [x.month for x in ledger_df['buy_date']]\n",
    "fig,ax = plt.subplots()\n",
    "\n",
    "#Format the x-axis\n",
    "ax.xaxis.set_tick_params(rotation=45)\n",
    "ax.set_xlabel(r'Buy month')\n",
    "\n",
    "#Format the y-axis\n",
    "ax.set_ylabel(r'% ROI')\n",
    "\n",
    "ax.set_title = r'ROI % by buy_date'\n",
    "\n",
    "tmp_df = ledger_df[ledger_df['roi']<10]\n",
    "data = []\n",
    "labels = []\n",
    "for i in tmp_df['month'].unique():\n",
    "    labels.append(i)\n",
    "    data.append(tmp_df.loc[tmp_df['month'] == i,'roi'].tolist())\n",
    "ax.boxplot(data)\n",
    "fig.show()"
   ]
  },
  {
   "cell_type": "code",
   "execution_count": 9,
   "metadata": {},
   "outputs": [
    {
     "data": {
      "image/png": "[encoded data removed]",
      "text/plain": [
       "<Figure size 2592x648 with 1 Axes>"
      ]
     },
     "metadata": {
      "needs_background": "light"
     },
     "output_type": "display_data"
    }
   ],
   "source": [
    "#ROI % by ticker\n",
    "\n",
    "#Create a mean and median ROI for each ticker\n",
    "tmp_df = ledger_df[['ticker','roi']].groupby(['ticker']).mean()\n",
    "tmp_df.rename(columns={'roi':'mean'},inplace=True)\n",
    "tmp_df['median'] = ledger_df[['ticker','roi']].groupby(['ticker']).median()\n",
    "tmp_df.rename(columns={'roi':'median'},inplace=True)\n",
    "tmp_df\n",
    "\n",
    "fig,ax = plt.subplots(figsize=(36,9))\n",
    "man_bar = ax.bar(tmp_df.index,tmp_df['mean'])\n",
    "plt.show()"
   ]
  },
  {
   "cell_type": "code",
   "execution_count": 10,
   "metadata": {},
   "outputs": [
    {
     "data": {
      "image/png": "[encoded data removed]",
      "text/plain": [
       "<Figure size 432x288 with 1 Axes>"
      ]
     },
     "metadata": {
      "needs_background": "light"
     },
     "output_type": "display_data"
    }
   ],
   "source": [
    "#ROI by signal prob \n",
    "fig,ax = plt.subplots()\n",
    "tmp_df = ledger_df[ledger_df['roi']<10]\n",
    "ax.scatter(tmp_df['buy_prob'],tmp_df['roi'])\n",
    "ax.set_xlabel('Buy signal probability')\n",
    "ax.set_ylabel('ROI')\n",
    "plt.show()"
   ]
  },
  {
   "cell_type": "code",
   "execution_count": 11,
   "metadata": {},
   "outputs": [
    {
     "data": {
      "image/png": "[encoded data removed]",
      "text/plain": [
       "<Figure size 432x288 with 1 Axes>"
      ]
     },
     "metadata": {
      "needs_background": "light"
     },
     "output_type": "display_data"
    }
   ],
   "source": [
    "#ROI by periods held\n",
    "fig,ax = plt.subplots()\n",
    "tmp_df = ledger_df[ledger_df['roi']<10]\n",
    "ax.scatter(tmp_df['periods_held'],tmp_df['roi'])\n",
    "ax.set_xlabel('Periods held')\n",
    "ax.set_ylabel('ROI')\n",
    "plt.show()"
   ]
  }
 ],
 "metadata": {
  "kernelspec": {
   "display_name": "Python 3",
   "language": "python",
   "name": "python3"
  },
  "language_info": {
   "codemirror_mode": {
    "name": "ipython",
    "version": 3
   },
   "file_extension": ".py",
   "mimetype": "text/x-python",
   "name": "python",
   "nbconvert_exporter": "python",
   "pygments_lexer": "ipython3",
   "version": "3.7.0"
  }
 },
 "nbformat": 4,
 "nbformat_minor": 2
}
