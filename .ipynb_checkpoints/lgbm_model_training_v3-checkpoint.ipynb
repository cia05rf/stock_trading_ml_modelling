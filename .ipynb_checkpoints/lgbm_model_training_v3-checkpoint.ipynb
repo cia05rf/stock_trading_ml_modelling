{
 "cells": [
  {
   "cell_type": "markdown",
   "metadata": {},
   "source": [
    "# Use engineered features to train a model\n",
    "This code will use the features created to train a Light Gradient Boost Model (lgbm).\n",
    "The process is:\n",
    "1. Run a lgbm model and compare it to a base model"
   ]
  },
  {
   "cell_type": "code",
   "execution_count": 1,
   "metadata": {},
   "outputs": [],
   "source": [
    "#Import libraries\n",
    "import pandas as pd\n",
    "import numpy as np\n",
    "import re\n",
    "import datetime as dt\n",
    "from rf_modules import *"
   ]
  },
  {
   "cell_type": "code",
   "execution_count": 2,
   "metadata": {
    "scrolled": true
   },
   "outputs": [
    {
     "name": "stdout",
     "output_type": "stream",
     "text": [
      "SHAPE: (279509, 144)\n",
      "ticker                                    object\n",
      "date                              datetime64[ns]\n",
      "open                                     float64\n",
      "close                                    float64\n",
      "high                                     float64\n",
      "                                       ...      \n",
      "long_prev_min_move_date_volume           float64\n",
      "long_max_grad_volume                     float64\n",
      "long_min_grad_volume                     float64\n",
      "long_grad_conv_volume                    float64\n",
      "signal                                      bool\n",
      "Length: 144, dtype: object\n"
     ]
    },
    {
     "data": {
      "text/html": [
       "<div>\n",
       "<style scoped>\n",
       "    .dataframe tbody tr th:only-of-type {\n",
       "        vertical-align: middle;\n",
       "    }\n",
       "\n",
       "    .dataframe tbody tr th {\n",
       "        vertical-align: top;\n",
       "    }\n",
       "\n",
       "    .dataframe thead th {\n",
       "        text-align: right;\n",
       "    }\n",
       "</style>\n",
       "<table border=\"1\" class=\"dataframe\">\n",
       "  <thead>\n",
       "    <tr style=\"text-align: right;\">\n",
       "      <th></th>\n",
       "      <th>ticker</th>\n",
       "      <th>date</th>\n",
       "      <th>open</th>\n",
       "      <th>close</th>\n",
       "      <th>high</th>\n",
       "      <th>low</th>\n",
       "      <th>volume</th>\n",
       "      <th>change_price</th>\n",
       "      <th>per_change_price</th>\n",
       "      <th>ema26</th>\n",
       "      <th>...</th>\n",
       "      <th>prev_min_grad_volume</th>\n",
       "      <th>prev_grad_conv_volume</th>\n",
       "      <th>max_move_cum_volume</th>\n",
       "      <th>min_move_cum_volume</th>\n",
       "      <th>long_prev_max_move_date_volume</th>\n",
       "      <th>long_prev_min_move_date_volume</th>\n",
       "      <th>long_max_grad_volume</th>\n",
       "      <th>long_min_grad_volume</th>\n",
       "      <th>long_grad_conv_volume</th>\n",
       "      <th>signal</th>\n",
       "    </tr>\n",
       "  </thead>\n",
       "  <tbody>\n",
       "    <tr>\n",
       "      <th>128355</th>\n",
       "      <td>III</td>\n",
       "      <td>2007-12-31</td>\n",
       "      <td>NaN</td>\n",
       "      <td>NaN</td>\n",
       "      <td>NaN</td>\n",
       "      <td>NaN</td>\n",
       "      <td>NaN</td>\n",
       "      <td>NaN</td>\n",
       "      <td>NaN</td>\n",
       "      <td>NaN</td>\n",
       "      <td>...</td>\n",
       "      <td>NaN</td>\n",
       "      <td>NaN</td>\n",
       "      <td>0</td>\n",
       "      <td>0</td>\n",
       "      <td>0.0</td>\n",
       "      <td>0.0</td>\n",
       "      <td>NaN</td>\n",
       "      <td>NaN</td>\n",
       "      <td>NaN</td>\n",
       "      <td>False</td>\n",
       "    </tr>\n",
       "    <tr>\n",
       "      <th>128356</th>\n",
       "      <td>III</td>\n",
       "      <td>2008-01-07</td>\n",
       "      <td>0.000000</td>\n",
       "      <td>0.000000</td>\n",
       "      <td>0.000000</td>\n",
       "      <td>0.000000</td>\n",
       "      <td>1.000000</td>\n",
       "      <td>0.000000</td>\n",
       "      <td>NaN</td>\n",
       "      <td>NaN</td>\n",
       "      <td>...</td>\n",
       "      <td>NaN</td>\n",
       "      <td>NaN</td>\n",
       "      <td>0</td>\n",
       "      <td>0</td>\n",
       "      <td>0.0</td>\n",
       "      <td>0.0</td>\n",
       "      <td>NaN</td>\n",
       "      <td>NaN</td>\n",
       "      <td>NaN</td>\n",
       "      <td>False</td>\n",
       "    </tr>\n",
       "    <tr>\n",
       "      <th>128357</th>\n",
       "      <td>III</td>\n",
       "      <td>2008-01-14</td>\n",
       "      <td>0.000000</td>\n",
       "      <td>0.000000</td>\n",
       "      <td>0.000000</td>\n",
       "      <td>0.000000</td>\n",
       "      <td>1.000000</td>\n",
       "      <td>0.000000</td>\n",
       "      <td>NaN</td>\n",
       "      <td>NaN</td>\n",
       "      <td>...</td>\n",
       "      <td>NaN</td>\n",
       "      <td>NaN</td>\n",
       "      <td>0</td>\n",
       "      <td>0</td>\n",
       "      <td>0.0</td>\n",
       "      <td>0.0</td>\n",
       "      <td>NaN</td>\n",
       "      <td>NaN</td>\n",
       "      <td>NaN</td>\n",
       "      <td>True</td>\n",
       "    </tr>\n",
       "    <tr>\n",
       "      <th>128358</th>\n",
       "      <td>III</td>\n",
       "      <td>2008-01-21</td>\n",
       "      <td>0.000000</td>\n",
       "      <td>0.257812</td>\n",
       "      <td>0.333333</td>\n",
       "      <td>0.000000</td>\n",
       "      <td>0.776440</td>\n",
       "      <td>0.257812</td>\n",
       "      <td>1.000000</td>\n",
       "      <td>NaN</td>\n",
       "      <td>...</td>\n",
       "      <td>NaN</td>\n",
       "      <td>NaN</td>\n",
       "      <td>0</td>\n",
       "      <td>0</td>\n",
       "      <td>0.0</td>\n",
       "      <td>0.0</td>\n",
       "      <td>NaN</td>\n",
       "      <td>NaN</td>\n",
       "      <td>NaN</td>\n",
       "      <td>True</td>\n",
       "    </tr>\n",
       "    <tr>\n",
       "      <th>128359</th>\n",
       "      <td>III</td>\n",
       "      <td>2008-01-28</td>\n",
       "      <td>0.192308</td>\n",
       "      <td>0.937500</td>\n",
       "      <td>0.402299</td>\n",
       "      <td>0.478632</td>\n",
       "      <td>0.440501</td>\n",
       "      <td>0.745192</td>\n",
       "      <td>0.794872</td>\n",
       "      <td>NaN</td>\n",
       "      <td>...</td>\n",
       "      <td>NaN</td>\n",
       "      <td>NaN</td>\n",
       "      <td>0</td>\n",
       "      <td>0</td>\n",
       "      <td>0.0</td>\n",
       "      <td>0.0</td>\n",
       "      <td>NaN</td>\n",
       "      <td>NaN</td>\n",
       "      <td>NaN</td>\n",
       "      <td>False</td>\n",
       "    </tr>\n",
       "  </tbody>\n",
       "</table>\n",
       "<p>5 rows × 144 columns</p>\n",
       "</div>"
      ],
      "text/plain": [
       "       ticker       date      open     close      high       low    volume  \\\n",
       "128355    III 2007-12-31       NaN       NaN       NaN       NaN       NaN   \n",
       "128356    III 2008-01-07  0.000000  0.000000  0.000000  0.000000  1.000000   \n",
       "128357    III 2008-01-14  0.000000  0.000000  0.000000  0.000000  1.000000   \n",
       "128358    III 2008-01-21  0.000000  0.257812  0.333333  0.000000  0.776440   \n",
       "128359    III 2008-01-28  0.192308  0.937500  0.402299  0.478632  0.440501   \n",
       "\n",
       "        change_price  per_change_price  ema26  ...  prev_min_grad_volume  \\\n",
       "128355           NaN               NaN    NaN  ...                   NaN   \n",
       "128356      0.000000               NaN    NaN  ...                   NaN   \n",
       "128357      0.000000               NaN    NaN  ...                   NaN   \n",
       "128358      0.257812          1.000000    NaN  ...                   NaN   \n",
       "128359      0.745192          0.794872    NaN  ...                   NaN   \n",
       "\n",
       "        prev_grad_conv_volume  max_move_cum_volume  min_move_cum_volume  \\\n",
       "128355                    NaN                    0                    0   \n",
       "128356                    NaN                    0                    0   \n",
       "128357                    NaN                    0                    0   \n",
       "128358                    NaN                    0                    0   \n",
       "128359                    NaN                    0                    0   \n",
       "\n",
       "        long_prev_max_move_date_volume  long_prev_min_move_date_volume  \\\n",
       "128355                             0.0                             0.0   \n",
       "128356                             0.0                             0.0   \n",
       "128357                             0.0                             0.0   \n",
       "128358                             0.0                             0.0   \n",
       "128359                             0.0                             0.0   \n",
       "\n",
       "        long_max_grad_volume  long_min_grad_volume  long_grad_conv_volume  \\\n",
       "128355                   NaN                   NaN                    NaN   \n",
       "128356                   NaN                   NaN                    NaN   \n",
       "128357                   NaN                   NaN                    NaN   \n",
       "128358                   NaN                   NaN                    NaN   \n",
       "128359                   NaN                   NaN                    NaN   \n",
       "\n",
       "        signal  \n",
       "128355   False  \n",
       "128356   False  \n",
       "128357    True  \n",
       "128358    True  \n",
       "128359   False  \n",
       "\n",
       "[5 rows x 144 columns]"
      ]
     },
     "execution_count": 2,
     "metadata": {},
     "output_type": "execute_result"
    }
   ],
   "source": [
    "#Import and combine prices files\n",
    "path = r\"C:\\Users\\Robert\\Documents\\python_scripts\\stock_trading_ml_modelling\\historical_prices\"\n",
    "df_ft = pd.read_hdf(path + r\"\\all_hist_prices_w_ft_eng2.h5\")\n",
    "print(\"SHAPE: {}\".format(df_ft.shape))\n",
    "print(df_ft.dtypes)\n",
    "df_ft.head()"
   ]
  },
  {
   "cell_type": "code",
   "execution_count": 3,
   "metadata": {
    "scrolled": true
   },
   "outputs": [
    {
     "data": {
      "text/plain": [
       "Index(['ticker', 'date', 'open', 'close', 'high', 'low', 'volume',\n",
       "       'change_price', 'per_change_price', 'ema26',\n",
       "       ...\n",
       "       'prev_min_grad_volume', 'prev_grad_conv_volume', 'max_move_cum_volume',\n",
       "       'min_move_cum_volume', 'long_prev_max_move_date_volume',\n",
       "       'long_prev_min_move_date_volume', 'long_max_grad_volume',\n",
       "       'long_min_grad_volume', 'long_grad_conv_volume', 'signal'],\n",
       "      dtype='object', length=144)"
      ]
     },
     "execution_count": 3,
     "metadata": {},
     "output_type": "execute_result"
    }
   ],
   "source": [
    "df_ft.columns"
   ]
  },
  {
   "cell_type": "markdown",
   "metadata": {},
   "source": [
    "# Build the LGBM model\n",
    "This model is designed to predict if a week should be buy, hold or sell.\n"
   ]
  },
  {
   "cell_type": "code",
   "execution_count": 4,
   "metadata": {
    "scrolled": true
   },
   "outputs": [
    {
     "name": "stdout",
     "output_type": "stream",
     "text": [
      "feature_cols length -> 141\n"
     ]
    },
    {
     "data": {
      "text/plain": [
       "['open',\n",
       " 'close',\n",
       " 'high',\n",
       " 'low',\n",
       " 'volume',\n",
       " 'change_price',\n",
       " 'per_change_price',\n",
       " 'ema26',\n",
       " 'macd',\n",
       " 'signal_line',\n",
       " 'macd_line',\n",
       " 'close_orig_per_change_max_4',\n",
       " 'close_orig_per_change_max_13',\n",
       " 'close_orig_per_change_max_26',\n",
       " 'close_orig_per_change_max_52',\n",
       " 'close_orig_per_change_min_4',\n",
       " 'close_orig_per_change_min_13',\n",
       " 'close_orig_per_change_min_26',\n",
       " 'close_orig_per_change_min_52',\n",
       " 'macd_line_per_change_max_4',\n",
       " 'macd_line_per_change_max_13',\n",
       " 'macd_line_per_change_max_26',\n",
       " 'macd_line_per_change_max_52',\n",
       " 'macd_line_per_change_min_4',\n",
       " 'macd_line_per_change_min_13',\n",
       " 'macd_line_per_change_min_26',\n",
       " 'macd_line_per_change_min_52',\n",
       " 'change_close_shift1',\n",
       " 'close_max',\n",
       " 'close_min',\n",
       " 'prev_max_close',\n",
       " 'prev_min_close',\n",
       " 'prev_max_close_date_change',\n",
       " 'prev_min_close_date_change',\n",
       " 'max_change_close',\n",
       " 'min_change_close',\n",
       " 'prev_max_grad_close',\n",
       " 'prev_min_grad_close',\n",
       " 'prev_grad_conv_close',\n",
       " 'max_move_cum_close',\n",
       " 'min_move_cum_close',\n",
       " 'long_prev_max_move_date_close',\n",
       " 'long_prev_min_move_date_close',\n",
       " 'long_max_grad_close',\n",
       " 'long_min_grad_close',\n",
       " 'long_grad_conv_close',\n",
       " 'change_macd_shift1',\n",
       " 'macd_max',\n",
       " 'macd_min',\n",
       " 'prev_max_macd',\n",
       " 'prev_min_macd',\n",
       " 'prev_max_macd_date_change',\n",
       " 'prev_min_macd_date_change',\n",
       " 'max_change_macd',\n",
       " 'min_change_macd',\n",
       " 'prev_max_grad_macd',\n",
       " 'prev_min_grad_macd',\n",
       " 'prev_grad_conv_macd',\n",
       " 'max_move_cum_macd',\n",
       " 'min_move_cum_macd',\n",
       " 'long_prev_max_move_date_macd',\n",
       " 'long_prev_min_move_date_macd',\n",
       " 'long_max_grad_macd',\n",
       " 'long_min_grad_macd',\n",
       " 'long_grad_conv_macd',\n",
       " 'change_ema26_shift1',\n",
       " 'ema26_max',\n",
       " 'ema26_min',\n",
       " 'prev_max_ema26',\n",
       " 'prev_min_ema26',\n",
       " 'prev_max_ema26_date_change',\n",
       " 'prev_min_ema26_date_change',\n",
       " 'max_change_ema26',\n",
       " 'min_change_ema26',\n",
       " 'prev_max_grad_ema26',\n",
       " 'prev_min_grad_ema26',\n",
       " 'prev_grad_conv_ema26',\n",
       " 'max_move_cum_ema26',\n",
       " 'min_move_cum_ema26',\n",
       " 'long_prev_max_move_date_ema26',\n",
       " 'long_prev_min_move_date_ema26',\n",
       " 'long_max_grad_ema26',\n",
       " 'long_min_grad_ema26',\n",
       " 'long_grad_conv_ema26',\n",
       " 'change_signal_line_shift1',\n",
       " 'signal_line_max',\n",
       " 'signal_line_min',\n",
       " 'prev_max_signal_line',\n",
       " 'prev_min_signal_line',\n",
       " 'prev_max_signal_line_date_change',\n",
       " 'prev_min_signal_line_date_change',\n",
       " 'max_change_signal_line',\n",
       " 'min_change_signal_line',\n",
       " 'prev_max_grad_signal_line',\n",
       " 'prev_min_grad_signal_line',\n",
       " 'prev_grad_conv_signal_line',\n",
       " 'max_move_cum_signal_line',\n",
       " 'min_move_cum_signal_line',\n",
       " 'long_prev_max_move_date_signal_line',\n",
       " 'long_prev_min_move_date_signal_line',\n",
       " 'long_max_grad_signal_line',\n",
       " 'long_min_grad_signal_line',\n",
       " 'long_grad_conv_signal_line',\n",
       " 'change_macd_line_shift1',\n",
       " 'macd_line_max',\n",
       " 'macd_line_min',\n",
       " 'prev_max_macd_line',\n",
       " 'prev_min_macd_line',\n",
       " 'prev_max_macd_line_date_change',\n",
       " 'prev_min_macd_line_date_change',\n",
       " 'max_change_macd_line',\n",
       " 'min_change_macd_line',\n",
       " 'prev_max_grad_macd_line',\n",
       " 'prev_min_grad_macd_line',\n",
       " 'prev_grad_conv_macd_line',\n",
       " 'max_move_cum_macd_line',\n",
       " 'min_move_cum_macd_line',\n",
       " 'long_prev_max_move_date_macd_line',\n",
       " 'long_prev_min_move_date_macd_line',\n",
       " 'long_max_grad_macd_line',\n",
       " 'long_min_grad_macd_line',\n",
       " 'long_grad_conv_macd_line',\n",
       " 'change_volume_shift1',\n",
       " 'volume_max',\n",
       " 'volume_min',\n",
       " 'prev_max_volume',\n",
       " 'prev_min_volume',\n",
       " 'prev_max_volume_date_change',\n",
       " 'prev_min_volume_date_change',\n",
       " 'max_change_volume',\n",
       " 'min_change_volume',\n",
       " 'prev_max_grad_volume',\n",
       " 'prev_min_grad_volume',\n",
       " 'prev_grad_conv_volume',\n",
       " 'max_move_cum_volume',\n",
       " 'min_move_cum_volume',\n",
       " 'long_prev_max_move_date_volume',\n",
       " 'long_prev_min_move_date_volume',\n",
       " 'long_max_grad_volume',\n",
       " 'long_min_grad_volume',\n",
       " 'long_grad_conv_volume']"
      ]
     },
     "execution_count": 4,
     "metadata": {},
     "output_type": "execute_result"
    }
   ],
   "source": [
    "#Import the feature cols\n",
    "with open(path + r'\\feature_engineering_feature_list.txt','r') as f:\n",
    "    feature_cols = f.read().split(',')\n",
    "for col in ['signal','ticker']:\n",
    "    try:\n",
    "        feature_cols.remove(col)\n",
    "    except:\n",
    "        print('{} DOES NOT EXIST'.format(col))\n",
    "print('feature_cols length -> {}'.format(len(feature_cols)))\n",
    "feature_cols"
   ]
  },
  {
   "cell_type": "code",
   "execution_count": 5,
   "metadata": {
    "scrolled": true
   },
   "outputs": [
    {
     "name": "stdout",
     "output_type": "stream",
     "text": [
      "COLUMNS: Index(['open', 'close', 'high', 'low', 'volume', 'change_price',\n",
      "       'per_change_price', 'ema26', 'macd', 'signal_line',\n",
      "       ...\n",
      "       'prev_grad_conv_volume', 'max_move_cum_volume', 'min_move_cum_volume',\n",
      "       'long_prev_max_move_date_volume', 'long_prev_min_move_date_volume',\n",
      "       'long_max_grad_volume', 'long_min_grad_volume', 'long_grad_conv_volume',\n",
      "       'signal', 'date'],\n",
      "      dtype='object', length=143)\n",
      "COLUMNS: open                            float64\n",
      "close                           float64\n",
      "high                            float64\n",
      "low                             float64\n",
      "volume                          float64\n",
      "                              ...      \n",
      "long_max_grad_volume            float64\n",
      "long_min_grad_volume            float64\n",
      "long_grad_conv_volume           float64\n",
      "signal                             bool\n",
      "date                     datetime64[ns]\n",
      "Length: 143, dtype: object\n",
      "SHAPE: (279509, 143)\n"
     ]
    }
   ],
   "source": [
    "target_cols = 'signal'\n",
    "df_model = df_ft[feature_cols+[target_cols]+['date']].copy()\n",
    "print(\"COLUMNS:\",df_model.columns)\n",
    "print(\"COLUMNS:\",df_model.dtypes)\n",
    "print(\"SHAPE:\",df_model.shape)"
   ]
  },
  {
   "cell_type": "code",
   "execution_count": 6,
   "metadata": {},
   "outputs": [],
   "source": [
    "#Remove rows with missing or infinate values\n",
    "# df_model.dropna(inplace=True)\n",
    "# df_model.reset_index(inplace=True)\n",
    "# print(\"COLUMNS:\",df_model.columns)\n",
    "# print(\"SHAPE:\",df_model.shape)"
   ]
  },
  {
   "cell_type": "code",
   "execution_count": 7,
   "metadata": {
    "scrolled": false
   },
   "outputs": [
    {
     "name": "stdout",
     "output_type": "stream",
     "text": [
      "train rows: 186,018\n",
      "valid rows: 93,491\n"
     ]
    }
   ],
   "source": [
    "#Create the train and test dataset\n",
    "#All prices pre-2014 are training, all post 2014 are testing\n",
    "#This remove the posibility that we are learning from other shares at times what is good/bad\n",
    "date_lim = dt.datetime(2014,1,1)\n",
    "\n",
    "#Separate\n",
    "df_train = df_model[df_model.date < date_lim]\n",
    "df_valid = df_model[df_model.date >= date_lim]\n",
    "\n",
    "#Reset the index and drop 'date' column\n",
    "df_train = df_train.reset_index(drop=True).drop(columns=['date'])\n",
    "df_valid = df_valid.reset_index(drop=True).drop(columns=['date'])\n",
    "\n",
    "print(\"train rows: {:,}\".format(df_train.shape[0]))\n",
    "print(\"valid rows: {:,}\".format(df_valid.shape[0]))"
   ]
  },
  {
   "cell_type": "code",
   "execution_count": 8,
   "metadata": {
    "scrolled": true
   },
   "outputs": [],
   "source": [
    "#Shuffle the datasets\n",
    "np.random.seed(0)\n",
    "rand_index = np.random.permutation(df_train.index.values)\n",
    "df_train = df_train.iloc[rand_index].reset_index(drop=True)\n",
    "rand_index = np.random.permutation(df_valid.index.values)\n",
    "df_valid = df_valid.iloc[rand_index].reset_index(drop=True)"
   ]
  },
  {
   "cell_type": "code",
   "execution_count": 9,
   "metadata": {},
   "outputs": [],
   "source": [
    "#Function to calculate the True Positive Rate for each classifier\n",
    "def calc_tpr(pred_signal_s,real_signal_s,features=[],unique_classes=['buy','sell','hold']):\n",
    "    tpr_li = []\n",
    "    for cl in unique_classes:\n",
    "        tpr_li.append(measure_acc(pred_signal_s,real_signal_s,features,_opt_text=cl,_multiclass=True,_cl=cl))\n",
    "    cols = [x for x in tpr_li[0]]\n",
    "    tpr_df = pd.DataFrame(tpr_li,columns=cols)\n",
    "    return tpr_df"
   ]
  },
  {
   "cell_type": "markdown",
   "metadata": {},
   "source": [
    "# Separate into fetaures and targets "
   ]
  },
  {
   "cell_type": "code",
   "execution_count": 10,
   "metadata": {
    "scrolled": true
   },
   "outputs": [
    {
     "name": "stdout",
     "output_type": "stream",
     "text": [
      "X_train.shape -> (186018, 141)\n",
      "y_train.shape -> (186018,)\n",
      "X_valid.shape -> (93491, 141)\n",
      "y_valid.shape -> (93491,)\n"
     ]
    }
   ],
   "source": [
    "#Train\n",
    "X_train = df_train[feature_cols]\n",
    "y_train = df_train[target_cols]\n",
    "print('X_train.shape -> {}'.format(X_train.shape))\n",
    "print('y_train.shape -> {}'.format(y_train.shape))\n",
    "#Validation\n",
    "X_valid = df_valid[feature_cols]\n",
    "y_valid = df_valid[target_cols]\n",
    "print('X_valid.shape -> {}'.format(X_valid.shape))\n",
    "print('y_valid.shape -> {}'.format(y_valid.shape))"
   ]
  },
  {
   "cell_type": "markdown",
   "metadata": {},
   "source": [
    "# Create a base level model\n",
    "Test what the accuracy is if all signals are positive."
   ]
  },
  {
   "cell_type": "code",
   "execution_count": 11,
   "metadata": {},
   "outputs": [
    {
     "data": {
      "text/html": [
       "<div>\n",
       "<style scoped>\n",
       "    .dataframe tbody tr th:only-of-type {\n",
       "        vertical-align: middle;\n",
       "    }\n",
       "\n",
       "    .dataframe tbody tr th {\n",
       "        vertical-align: top;\n",
       "    }\n",
       "\n",
       "    .dataframe thead th {\n",
       "        text-align: right;\n",
       "    }\n",
       "</style>\n",
       "<table border=\"1\" class=\"dataframe\">\n",
       "  <thead>\n",
       "    <tr style=\"text-align: right;\">\n",
       "      <th></th>\n",
       "      <th>feature</th>\n",
       "      <th>tot_p</th>\n",
       "      <th>tot_n</th>\n",
       "      <th>tpr</th>\n",
       "      <th>tnr</th>\n",
       "      <th>ppv</th>\n",
       "      <th>npv</th>\n",
       "      <th>acc</th>\n",
       "      <th>auc</th>\n",
       "      <th>opt_text</th>\n",
       "    </tr>\n",
       "  </thead>\n",
       "  <tbody>\n",
       "    <tr>\n",
       "      <th>0</th>\n",
       "      <td>[ALL POSITIVE]</td>\n",
       "      <td>0</td>\n",
       "      <td>93491</td>\n",
       "      <td>0.0</td>\n",
       "      <td>1.0</td>\n",
       "      <td>0.000000</td>\n",
       "      <td>0.509193</td>\n",
       "      <td>0.509193</td>\n",
       "      <td>0.5</td>\n",
       "      <td>False</td>\n",
       "    </tr>\n",
       "    <tr>\n",
       "      <th>1</th>\n",
       "      <td>[ALL POSITIVE]</td>\n",
       "      <td>93491</td>\n",
       "      <td>0</td>\n",
       "      <td>1.0</td>\n",
       "      <td>0.0</td>\n",
       "      <td>0.509193</td>\n",
       "      <td>0.000000</td>\n",
       "      <td>0.000000</td>\n",
       "      <td>0.5</td>\n",
       "      <td>True</td>\n",
       "    </tr>\n",
       "  </tbody>\n",
       "</table>\n",
       "</div>"
      ],
      "text/plain": [
       "          feature  tot_p  tot_n  tpr  tnr       ppv       npv       acc  auc  \\\n",
       "0  [ALL POSITIVE]      0  93491  0.0  1.0  0.000000  0.509193  0.509193  0.5   \n",
       "1  [ALL POSITIVE]  93491      0  1.0  0.0  0.509193  0.000000  0.000000  0.5   \n",
       "\n",
       "   opt_text  \n",
       "0     False  \n",
       "1      True  "
      ]
     },
     "execution_count": 11,
     "metadata": {},
     "output_type": "execute_result"
    }
   ],
   "source": [
    "#Buy model\n",
    "unique_classes = y_valid.unique()\n",
    "calc_tpr(np.full((1,y_valid.shape[0]),1)[0],y_valid,[\"ALL POSITIVE\"],unique_classes)"
   ]
  },
  {
   "cell_type": "markdown",
   "metadata": {},
   "source": [
    "# Creating a multi-classification model - LGBM\n",
    "The model will take a one-vs-all approach (IE 1 if it is this value, 0 if it is anything else) using the variables of \"buy\", \"hold\", and \"sell\" individually and building a model to find the error rate on each one."
   ]
  },
  {
   "cell_type": "markdown",
   "metadata": {},
   "source": [
    "Error rate is determined by the four classifications:\n",
    "- True positive - correct - model is 1, actual is 1\n",
    "- True negative - correct - model is 0, actual is 0\n",
    "- False positive - error - model is 1, actual is 0\n",
    "- False negative - error - model is 0, actual is 1"
   ]
  },
  {
   "cell_type": "code",
   "execution_count": 12,
   "metadata": {},
   "outputs": [],
   "source": [
    "#Import the modules\n",
    "import lightgbm as lgb\n",
    "from sklearn.model_selection import RandomizedSearchCV\n",
    "from sklearn.model_selection import GridSearchCV"
   ]
  },
  {
   "cell_type": "code",
   "execution_count": 13,
   "metadata": {},
   "outputs": [],
   "source": [
    "# #Build a custom loss function\n",
    "def lgbm_custom_loss(_y_act,_y_pred):\n",
    "    #Convert _y_pred into classes\n",
    "    _y_pred_conv = []\n",
    "    _n_classes = len(np.unique(_y_act))\n",
    "    for i in range(0,_y_act.shape[0]):\n",
    "        _tmp_li = []\n",
    "        for j in range(0,_n_classes):\n",
    "            _tmp_li.append(_y_pred[(_y_act.shape[0]*j) + i])\n",
    "        _y_pred_conv.append(np.argmax(_tmp_li))\n",
    "    _y_pred_conv = np.array(_y_pred_conv)\n",
    "    _ac_results = calc_tpr(_y_pred_conv,_y_act,unique_classes=range(0,_n_classes))\n",
    "    _av = _ac_results[_ac_results.opt_text.isin([0,2])]['ppv'].mean() #Only average for buy and sell\n",
    "    #If _av_ppv is 0 then append the time to prevent early stopping\n",
    "    if _av == 0.5:\n",
    "        _time_now = dt.datetime.now()\n",
    "        _av += _time_now.hour*10**-4 + _time_now.minute*10**-6 + _time_now.second*10**-8\n",
    "    # (eval_name, eval_result, is_higher_better)\n",
    "    return 'lgbm_custom_loss',_av,True"
   ]
  },
  {
   "cell_type": "code",
   "execution_count": 14,
   "metadata": {
    "scrolled": true
   },
   "outputs": [
    {
     "name": "stdout",
     "output_type": "stream",
     "text": [
      "mod_fixed_params -> {'boosting_type': 'gbdt', 'random_state': 0, 'silent': False, 'objective': 'binary', 'num_class': array([False,  True]), 'min_samples_split': 200, 'min_samples_leaf': 50, 'n_estimators': 20, 'subsample': 0.8}\n",
      "search_params -> {'fixed': {'cv': 3, 'n_iter': 80, 'verbose': True, 'random_state': 0}, 'variable': {'learning_rate': [0.1, 0.01, 0.005], 'num_leaves': array([  10,   20,   30,   40,   50,   60,   70,   80,   90,  100,  111,\n",
      "        121,  131,  141,  151,  161,  171,  181,  191,  201,  212,  222,\n",
      "        232,  242,  252,  262,  272,  282,  292,  302,  313,  323,  333,\n",
      "        343,  353,  363,  373,  383,  393,  403,  414,  424,  434,  444,\n",
      "        454,  464,  474,  484,  494,  504,  515,  525,  535,  545,  555,\n",
      "        565,  575,  585,  595,  605,  616,  626,  636,  646,  656,  666,\n",
      "        676,  686,  696,  706,  717,  727,  737,  747,  757,  767,  777,\n",
      "        787,  797,  807,  818,  828,  838,  848,  858,  868,  878,  888,\n",
      "        898,  908,  919,  929,  939,  949,  959,  969,  979,  989,  999,\n",
      "       1010]), 'max_depth': array([ 2,  4,  6,  8, 10, 13, 15, 17, 19, 22])}}\n",
      "fit_params -> {'verbose': True, 'eval_set': (           open     close      high       low    volume  change_price  \\\n",
      "0      0.846294  0.905684  0.877239  0.879362  0.027657      0.059389   \n",
      "1      0.994494  1.000000  1.000000  1.000000  0.023501      0.005506   \n",
      "2      0.942050  0.895254  0.946122  0.921783  0.249523     -0.046797   \n",
      "3      0.340561  0.328850  0.325568  0.342912  0.093720     -0.011711   \n",
      "4      0.857632  0.846472  0.854564  0.909562  0.207408     -0.011160   \n",
      "...         ...       ...       ...       ...       ...           ...   \n",
      "93486  0.651200  0.676533  0.673670  0.657730  0.178479      0.025333   \n",
      "93487  0.966707  0.960725  0.963617  0.666039  0.540058     -0.005982   \n",
      "93488  0.987813  1.000000  0.924965  0.892717  0.269120      0.012187   \n",
      "93489  0.890500  0.924025  0.872818  0.931900  0.067699      0.033525   \n",
      "93490  0.653768  0.640244  0.640397  0.662506  0.459258     -0.013524   \n",
      "\n",
      "       per_change_price     ema26      macd  signal_line  ...  \\\n",
      "0              0.065574  0.891279  0.023046    -0.035132  ...   \n",
      "1              0.005506  0.999603 -0.000564     0.000175  ...   \n",
      "2             -0.052272  0.955618 -0.010109    -0.005939  ...   \n",
      "3             -0.035611  0.329002 -0.006334     0.004268  ...   \n",
      "4             -0.013184  0.755558  0.011820     0.031980  ...   \n",
      "...                 ...       ...       ...          ...  ...   \n",
      "93486          0.037446  0.715299 -0.014909    -0.072163  ...   \n",
      "93487         -0.006226  0.920184 -0.002336    -0.041995  ...   \n",
      "93488          0.012187  0.938386 -0.041950     0.045844  ...   \n",
      "93489          0.036281  0.875823  0.026033    -0.023803  ...   \n",
      "93490         -0.021123  0.730504  0.029528    -0.121652  ...   \n",
      "\n",
      "       prev_max_grad_volume  prev_min_grad_volume  prev_grad_conv_volume  \\\n",
      "0                 -0.001806              0.030104               0.031910   \n",
      "1                  0.002616             -0.001711              -0.004327   \n",
      "2                  0.003467             -0.048160              -0.051627   \n",
      "3                 -0.023922             -0.022154               0.001768   \n",
      "4                 -0.007643             -0.005324               0.002319   \n",
      "...                     ...                   ...                    ...   \n",
      "93486              0.021359             -0.004440              -0.025799   \n",
      "93487              0.022592              0.011780              -0.010812   \n",
      "93488              0.016845              0.002413              -0.014432   \n",
      "93489              0.004430             -0.001378              -0.005808   \n",
      "93490             -0.008199             -0.021206              -0.013007   \n",
      "\n",
      "       max_move_cum_volume  min_move_cum_volume  \\\n",
      "0                        0                    2   \n",
      "1                        0                    0   \n",
      "2                        0                    0   \n",
      "3                       -1                    0   \n",
      "4                        0                    0   \n",
      "...                    ...                  ...   \n",
      "93486                    1                   -1   \n",
      "93487                    0                    2   \n",
      "93488                    2                    0   \n",
      "93489                    0                   -1   \n",
      "93490                    0                    0   \n",
      "\n",
      "       long_prev_max_move_date_volume  long_prev_min_move_date_volume  \\\n",
      "0                                 0.0                            15.0   \n",
      "1                                 0.0                             0.0   \n",
      "2                                 0.0                             0.0   \n",
      "3                                 8.0                             0.0   \n",
      "4                                 0.0                             0.0   \n",
      "...                               ...                             ...   \n",
      "93486                             9.0                             5.0   \n",
      "93487                             0.0                            15.0   \n",
      "93488                            16.0                             0.0   \n",
      "93489                             0.0                            14.0   \n",
      "93490                             0.0                             0.0   \n",
      "\n",
      "       long_max_grad_volume  long_min_grad_volume  long_grad_conv_volume  \n",
      "0                       NaN              0.017215                    NaN  \n",
      "1                       NaN                   NaN                    NaN  \n",
      "2                       NaN                   NaN                    NaN  \n",
      "3                 -0.023922                   NaN                    NaN  \n",
      "4                       NaN                   NaN                    NaN  \n",
      "...                     ...                   ...                    ...  \n",
      "93486              0.021359             -0.004440              -0.025799  \n",
      "93487                   NaN              0.005472                    NaN  \n",
      "93488              0.010414                   NaN                    NaN  \n",
      "93489                   NaN             -0.001378                    NaN  \n",
      "93490                   NaN                   NaN                    NaN  \n",
      "\n",
      "[93491 rows x 141 columns], 0        False\n",
      "1        False\n",
      "2        False\n",
      "3        False\n",
      "4        False\n",
      "         ...  \n",
      "93486     True\n",
      "93487    False\n",
      "93488    False\n",
      "93489    False\n",
      "93490     True\n",
      "Name: signal, Length: 93491, dtype: bool), 'eval_metric': 'auc', 'early_stopping_rounds': 5}\n"
     ]
    }
   ],
   "source": [
    "#Create parameters grid\n",
    "#Create fixed parameters\n",
    "mod_fixed_params = {\n",
    "    'boosting_type':'gbdt'\n",
    "    ,'random_state':0\n",
    "    ,'silent':False\n",
    "    ,'objective':'binary'\n",
    "#     ,'num_class':len(np.unique(y_train))\n",
    "    ,'min_samples_split':200 #Should be between 0.5-1% of samples\n",
    "    ,'min_samples_leaf':50\n",
    "    ,'n_estimators':20\n",
    "    ,'subsample':0.8\n",
    "}\n",
    "print('mod_fixed_params -> {}'.format(mod_fixed_params))\n",
    "search_params = {\n",
    "    'fixed':{\n",
    "        'cv':3\n",
    "        ,'n_iter':80\n",
    "#         'cv':2\n",
    "#         ,'n_iter':1\n",
    "        ,'verbose':True\n",
    "        ,'random_state':0\n",
    "    }\n",
    "    ,'variable':{\n",
    "        'learning_rate':[0.1,0.01,0.005]\n",
    "        ,'num_leaves':np.linspace(10,1010,100,dtype=int)\n",
    "        ,'max_depth':np.linspace(2,22,10,dtype=int)\n",
    "    }\n",
    "}\n",
    "print('search_params -> {}'.format(search_params))\n",
    "fit_params = {\n",
    "    'verbose':True\n",
    "    ,'eval_set':(X_valid,y_valid)\n",
    "#     ,'eval_metric':lgbm_custom_loss\n",
    "    ,'eval_metric':'auc'\n",
    "    ,'early_stopping_rounds':5\n",
    "}\n",
    "print('fit_params -> {}'.format(fit_params))"
   ]
  },
  {
   "cell_type": "code",
   "execution_count": 15,
   "metadata": {
    "scrolled": true
   },
   "outputs": [
    {
     "name": "stdout",
     "output_type": "stream",
     "text": [
      "Fitting 3 folds for each of 80 candidates, totalling 240 fits\n"
     ]
    },
    {
     "name": "stderr",
     "output_type": "stream",
     "text": [
      "[Parallel(n_jobs=1)]: Using backend SequentialBackend with 1 concurrent workers.\n",
      "C:\\Users\\Robert\\Anaconda3\\lib\\site-packages\\sklearn\\model_selection\\_validation.py:536: FitFailedWarning: Estimator fit failed. The score on this train-test partition for these parameters will be set to nan. Details: \n",
      "lightgbm.basic.LightGBMError: Parameter num_class should be of type int, got \"False,True\"\n",
      "\n",
      "  FitFailedWarning)\n",
      "[Parallel(n_jobs=1)]: Done 240 out of 240 | elapsed:  7.3min finished\n"
     ]
    },
    {
     "ename": "LightGBMError",
     "evalue": "Parameter num_class should be of type int, got \"False,True\"",
     "output_type": "error",
     "traceback": [
      "\u001b[1;31m---------------------------------------------------------------------------\u001b[0m",
      "\u001b[1;31mLightGBMError\u001b[0m                             Traceback (most recent call last)",
      "\u001b[1;32m~\\Anaconda3\\lib\\site-packages\\lightgbm\\engine.py\u001b[0m in \u001b[0;36mtrain\u001b[1;34m(params, train_set, num_boost_round, valid_sets, valid_names, fobj, feval, init_model, feature_name, categorical_feature, early_stopping_rounds, evals_result, verbose_eval, learning_rates, keep_training_booster, callbacks)\u001b[0m\n\u001b[0;32m    227\u001b[0m     \u001b[1;32mtry\u001b[0m\u001b[1;33m:\u001b[0m\u001b[1;33m\u001b[0m\u001b[0m\n\u001b[1;32m--> 228\u001b[1;33m         \u001b[0mbooster\u001b[0m \u001b[1;33m=\u001b[0m \u001b[0mBooster\u001b[0m\u001b[1;33m(\u001b[0m\u001b[0mparams\u001b[0m\u001b[1;33m=\u001b[0m\u001b[0mparams\u001b[0m\u001b[1;33m,\u001b[0m \u001b[0mtrain_set\u001b[0m\u001b[1;33m=\u001b[0m\u001b[0mtrain_set\u001b[0m\u001b[1;33m)\u001b[0m\u001b[1;33m\u001b[0m\u001b[0m\n\u001b[0m\u001b[0;32m    229\u001b[0m         \u001b[1;32mif\u001b[0m \u001b[0mis_valid_contain_train\u001b[0m\u001b[1;33m:\u001b[0m\u001b[1;33m\u001b[0m\u001b[0m\n",
      "\u001b[1;32m~\\Anaconda3\\lib\\site-packages\\lightgbm\\basic.py\u001b[0m in \u001b[0;36m__init__\u001b[1;34m(self, params, train_set, model_file, model_str, silent)\u001b[0m\n\u001b[0;32m   1713\u001b[0m             _safe_call(_LIB.LGBM_BoosterCreate(\n\u001b[1;32m-> 1714\u001b[1;33m                 \u001b[0mtrain_set\u001b[0m\u001b[1;33m.\u001b[0m\u001b[0mconstruct\u001b[0m\u001b[1;33m(\u001b[0m\u001b[1;33m)\u001b[0m\u001b[1;33m.\u001b[0m\u001b[0mhandle\u001b[0m\u001b[1;33m,\u001b[0m\u001b[1;33m\u001b[0m\u001b[0m\n\u001b[0m\u001b[0;32m   1715\u001b[0m                 \u001b[0mc_str\u001b[0m\u001b[1;33m(\u001b[0m\u001b[0mparams_str\u001b[0m\u001b[1;33m)\u001b[0m\u001b[1;33m,\u001b[0m\u001b[1;33m\u001b[0m\u001b[0m\n",
      "\u001b[1;32m~\\Anaconda3\\lib\\site-packages\\lightgbm\\basic.py\u001b[0m in \u001b[0;36mconstruct\u001b[1;34m(self)\u001b[0m\n\u001b[0;32m   1084\u001b[0m                                 \u001b[0msilent\u001b[0m\u001b[1;33m=\u001b[0m\u001b[0mself\u001b[0m\u001b[1;33m.\u001b[0m\u001b[0msilent\u001b[0m\u001b[1;33m,\u001b[0m \u001b[0mfeature_name\u001b[0m\u001b[1;33m=\u001b[0m\u001b[0mself\u001b[0m\u001b[1;33m.\u001b[0m\u001b[0mfeature_name\u001b[0m\u001b[1;33m,\u001b[0m\u001b[1;33m\u001b[0m\u001b[0m\n\u001b[1;32m-> 1085\u001b[1;33m                                 categorical_feature=self.categorical_feature, params=self.params)\n\u001b[0m\u001b[0;32m   1086\u001b[0m             \u001b[1;32mif\u001b[0m \u001b[0mself\u001b[0m\u001b[1;33m.\u001b[0m\u001b[0mfree_raw_data\u001b[0m\u001b[1;33m:\u001b[0m\u001b[1;33m\u001b[0m\u001b[0m\n",
      "\u001b[1;32m~\\Anaconda3\\lib\\site-packages\\lightgbm\\basic.py\u001b[0m in \u001b[0;36m_lazy_init\u001b[1;34m(self, data, label, reference, weight, group, init_score, predictor, silent, feature_name, categorical_feature, params)\u001b[0m\n\u001b[0;32m    886\u001b[0m         \u001b[1;32melif\u001b[0m \u001b[0misinstance\u001b[0m\u001b[1;33m(\u001b[0m\u001b[0mdata\u001b[0m\u001b[1;33m,\u001b[0m \u001b[0mnp\u001b[0m\u001b[1;33m.\u001b[0m\u001b[0mndarray\u001b[0m\u001b[1;33m)\u001b[0m\u001b[1;33m:\u001b[0m\u001b[1;33m\u001b[0m\u001b[0m\n\u001b[1;32m--> 887\u001b[1;33m             \u001b[0mself\u001b[0m\u001b[1;33m.\u001b[0m\u001b[0m__init_from_np2d\u001b[0m\u001b[1;33m(\u001b[0m\u001b[0mdata\u001b[0m\u001b[1;33m,\u001b[0m \u001b[0mparams_str\u001b[0m\u001b[1;33m,\u001b[0m \u001b[0mref_dataset\u001b[0m\u001b[1;33m)\u001b[0m\u001b[1;33m\u001b[0m\u001b[0m\n\u001b[0m\u001b[0;32m    888\u001b[0m         \u001b[1;32melif\u001b[0m \u001b[0misinstance\u001b[0m\u001b[1;33m(\u001b[0m\u001b[0mdata\u001b[0m\u001b[1;33m,\u001b[0m \u001b[0mlist\u001b[0m\u001b[1;33m)\u001b[0m \u001b[1;32mand\u001b[0m \u001b[0mlen\u001b[0m\u001b[1;33m(\u001b[0m\u001b[0mdata\u001b[0m\u001b[1;33m)\u001b[0m \u001b[1;33m>\u001b[0m \u001b[1;36m0\u001b[0m \u001b[1;32mand\u001b[0m \u001b[0mall\u001b[0m\u001b[1;33m(\u001b[0m\u001b[0misinstance\u001b[0m\u001b[1;33m(\u001b[0m\u001b[0mx\u001b[0m\u001b[1;33m,\u001b[0m \u001b[0mnp\u001b[0m\u001b[1;33m.\u001b[0m\u001b[0mndarray\u001b[0m\u001b[1;33m)\u001b[0m \u001b[1;32mfor\u001b[0m \u001b[0mx\u001b[0m \u001b[1;32min\u001b[0m \u001b[0mdata\u001b[0m\u001b[1;33m)\u001b[0m\u001b[1;33m:\u001b[0m\u001b[1;33m\u001b[0m\u001b[0m\n",
      "\u001b[1;32m~\\Anaconda3\\lib\\site-packages\\lightgbm\\basic.py\u001b[0m in \u001b[0;36m__init_from_np2d\u001b[1;34m(self, mat, params_str, ref_dataset)\u001b[0m\n\u001b[0;32m    936\u001b[0m             \u001b[0mref_dataset\u001b[0m\u001b[1;33m,\u001b[0m\u001b[1;33m\u001b[0m\u001b[0m\n\u001b[1;32m--> 937\u001b[1;33m             ctypes.byref(self.handle)))\n\u001b[0m\u001b[0;32m    938\u001b[0m         \u001b[1;32mreturn\u001b[0m \u001b[0mself\u001b[0m\u001b[1;33m\u001b[0m\u001b[0m\n",
      "\u001b[1;32m~\\Anaconda3\\lib\\site-packages\\lightgbm\\basic.py\u001b[0m in \u001b[0;36m_safe_call\u001b[1;34m(ret)\u001b[0m\n\u001b[0;32m     44\u001b[0m     \u001b[1;32mif\u001b[0m \u001b[0mret\u001b[0m \u001b[1;33m!=\u001b[0m \u001b[1;36m0\u001b[0m\u001b[1;33m:\u001b[0m\u001b[1;33m\u001b[0m\u001b[0m\n\u001b[1;32m---> 45\u001b[1;33m         \u001b[1;32mraise\u001b[0m \u001b[0mLightGBMError\u001b[0m\u001b[1;33m(\u001b[0m\u001b[0mdecode_string\u001b[0m\u001b[1;33m(\u001b[0m\u001b[0m_LIB\u001b[0m\u001b[1;33m.\u001b[0m\u001b[0mLGBM_GetLastError\u001b[0m\u001b[1;33m(\u001b[0m\u001b[1;33m)\u001b[0m\u001b[1;33m)\u001b[0m\u001b[1;33m)\u001b[0m\u001b[1;33m\u001b[0m\u001b[0m\n\u001b[0m\u001b[0;32m     46\u001b[0m \u001b[1;33m\u001b[0m\u001b[0m\n",
      "\u001b[1;31mLightGBMError\u001b[0m: Parameter num_class should be of type int, got \"False,True\"",
      "\nDuring handling of the above exception, another exception occurred:\n",
      "\u001b[1;31mLightGBMError\u001b[0m                             Traceback (most recent call last)",
      "\u001b[1;32m<ipython-input-15-99e568e4a059>\u001b[0m in \u001b[0;36m<module>\u001b[1;34m()\u001b[0m\n\u001b[0;32m      6\u001b[0m \u001b[0mgbm\u001b[0m \u001b[1;33m=\u001b[0m \u001b[0mRandomizedSearchCV\u001b[0m\u001b[1;33m(\u001b[0m\u001b[0mlgb_mod\u001b[0m\u001b[1;33m,\u001b[0m\u001b[0msearch_params\u001b[0m\u001b[1;33m[\u001b[0m\u001b[1;34m'variable'\u001b[0m\u001b[1;33m]\u001b[0m\u001b[1;33m,\u001b[0m\u001b[1;33m**\u001b[0m\u001b[0msearch_params\u001b[0m\u001b[1;33m[\u001b[0m\u001b[1;34m'fixed'\u001b[0m\u001b[1;33m]\u001b[0m\u001b[1;33m)\u001b[0m\u001b[1;33m\u001b[0m\u001b[0m\n\u001b[0;32m      7\u001b[0m \u001b[1;31m#Fit the model\u001b[0m\u001b[1;33m\u001b[0m\u001b[1;33m\u001b[0m\u001b[0m\n\u001b[1;32m----> 8\u001b[1;33m \u001b[0mgbm\u001b[0m\u001b[1;33m.\u001b[0m\u001b[0mfit\u001b[0m\u001b[1;33m(\u001b[0m\u001b[0mX_train\u001b[0m\u001b[1;33m,\u001b[0m\u001b[0my_train\u001b[0m\u001b[1;33m,\u001b[0m\u001b[1;33m**\u001b[0m\u001b[0mfit_params\u001b[0m\u001b[1;33m)\u001b[0m\u001b[1;33m\u001b[0m\u001b[0m\n\u001b[0m\u001b[0;32m      9\u001b[0m \u001b[0mprint\u001b[0m\u001b[1;33m(\u001b[0m\u001b[1;34m'Best parameters found by grid search are: {}'\u001b[0m\u001b[1;33m.\u001b[0m\u001b[0mformat\u001b[0m\u001b[1;33m(\u001b[0m\u001b[0mgbm\u001b[0m\u001b[1;33m.\u001b[0m\u001b[0mbest_params_\u001b[0m\u001b[1;33m)\u001b[0m\u001b[1;33m)\u001b[0m\u001b[1;33m\u001b[0m\u001b[0m\n\u001b[0;32m     10\u001b[0m \u001b[0mrun_time\u001b[0m\u001b[1;33m.\u001b[0m\u001b[0mend\u001b[0m\u001b[1;33m(\u001b[0m\u001b[1;33m)\u001b[0m\u001b[1;33m\u001b[0m\u001b[0m\n",
      "\u001b[1;32m~\\Anaconda3\\lib\\site-packages\\sklearn\\model_selection\\_search.py\u001b[0m in \u001b[0;36mfit\u001b[1;34m(self, X, y, groups, **fit_params)\u001b[0m\n\u001b[0;32m    739\u001b[0m             \u001b[0mrefit_start_time\u001b[0m \u001b[1;33m=\u001b[0m \u001b[0mtime\u001b[0m\u001b[1;33m.\u001b[0m\u001b[0mtime\u001b[0m\u001b[1;33m(\u001b[0m\u001b[1;33m)\u001b[0m\u001b[1;33m\u001b[0m\u001b[0m\n\u001b[0;32m    740\u001b[0m             \u001b[1;32mif\u001b[0m \u001b[0my\u001b[0m \u001b[1;32mis\u001b[0m \u001b[1;32mnot\u001b[0m \u001b[1;32mNone\u001b[0m\u001b[1;33m:\u001b[0m\u001b[1;33m\u001b[0m\u001b[0m\n\u001b[1;32m--> 741\u001b[1;33m                 \u001b[0mself\u001b[0m\u001b[1;33m.\u001b[0m\u001b[0mbest_estimator_\u001b[0m\u001b[1;33m.\u001b[0m\u001b[0mfit\u001b[0m\u001b[1;33m(\u001b[0m\u001b[0mX\u001b[0m\u001b[1;33m,\u001b[0m \u001b[0my\u001b[0m\u001b[1;33m,\u001b[0m \u001b[1;33m**\u001b[0m\u001b[0mfit_params\u001b[0m\u001b[1;33m)\u001b[0m\u001b[1;33m\u001b[0m\u001b[0m\n\u001b[0m\u001b[0;32m    742\u001b[0m             \u001b[1;32melse\u001b[0m\u001b[1;33m:\u001b[0m\u001b[1;33m\u001b[0m\u001b[0m\n\u001b[0;32m    743\u001b[0m                 \u001b[0mself\u001b[0m\u001b[1;33m.\u001b[0m\u001b[0mbest_estimator_\u001b[0m\u001b[1;33m.\u001b[0m\u001b[0mfit\u001b[0m\u001b[1;33m(\u001b[0m\u001b[0mX\u001b[0m\u001b[1;33m,\u001b[0m \u001b[1;33m**\u001b[0m\u001b[0mfit_params\u001b[0m\u001b[1;33m)\u001b[0m\u001b[1;33m\u001b[0m\u001b[0m\n",
      "\u001b[1;32m~\\Anaconda3\\lib\\site-packages\\lightgbm\\sklearn.py\u001b[0m in \u001b[0;36mfit\u001b[1;34m(self, X, y, sample_weight, init_score, eval_set, eval_names, eval_sample_weight, eval_class_weight, eval_init_score, eval_metric, early_stopping_rounds, verbose, feature_name, categorical_feature, callbacks)\u001b[0m\n\u001b[0;32m    803\u001b[0m                                         \u001b[0mverbose\u001b[0m\u001b[1;33m=\u001b[0m\u001b[0mverbose\u001b[0m\u001b[1;33m,\u001b[0m \u001b[0mfeature_name\u001b[0m\u001b[1;33m=\u001b[0m\u001b[0mfeature_name\u001b[0m\u001b[1;33m,\u001b[0m\u001b[1;33m\u001b[0m\u001b[0m\n\u001b[0;32m    804\u001b[0m                                         \u001b[0mcategorical_feature\u001b[0m\u001b[1;33m=\u001b[0m\u001b[0mcategorical_feature\u001b[0m\u001b[1;33m,\u001b[0m\u001b[1;33m\u001b[0m\u001b[0m\n\u001b[1;32m--> 805\u001b[1;33m                                         callbacks=callbacks)\n\u001b[0m\u001b[0;32m    806\u001b[0m         \u001b[1;32mreturn\u001b[0m \u001b[0mself\u001b[0m\u001b[1;33m\u001b[0m\u001b[0m\n\u001b[0;32m    807\u001b[0m \u001b[1;33m\u001b[0m\u001b[0m\n",
      "\u001b[1;32m~\\Anaconda3\\lib\\site-packages\\lightgbm\\sklearn.py\u001b[0m in \u001b[0;36mfit\u001b[1;34m(self, X, y, sample_weight, init_score, group, eval_set, eval_names, eval_sample_weight, eval_class_weight, eval_init_score, eval_group, eval_metric, early_stopping_rounds, verbose, feature_name, categorical_feature, callbacks)\u001b[0m\n\u001b[0;32m    598\u001b[0m                               \u001b[0mverbose_eval\u001b[0m\u001b[1;33m=\u001b[0m\u001b[0mverbose\u001b[0m\u001b[1;33m,\u001b[0m \u001b[0mfeature_name\u001b[0m\u001b[1;33m=\u001b[0m\u001b[0mfeature_name\u001b[0m\u001b[1;33m,\u001b[0m\u001b[1;33m\u001b[0m\u001b[0m\n\u001b[0;32m    599\u001b[0m                               \u001b[0mcategorical_feature\u001b[0m\u001b[1;33m=\u001b[0m\u001b[0mcategorical_feature\u001b[0m\u001b[1;33m,\u001b[0m\u001b[1;33m\u001b[0m\u001b[0m\n\u001b[1;32m--> 600\u001b[1;33m                               callbacks=callbacks)\n\u001b[0m\u001b[0;32m    601\u001b[0m \u001b[1;33m\u001b[0m\u001b[0m\n\u001b[0;32m    602\u001b[0m         \u001b[1;32mif\u001b[0m \u001b[0mevals_result\u001b[0m\u001b[1;33m:\u001b[0m\u001b[1;33m\u001b[0m\u001b[0m\n",
      "\u001b[1;32m~\\Anaconda3\\lib\\site-packages\\lightgbm\\engine.py\u001b[0m in \u001b[0;36mtrain\u001b[1;34m(params, train_set, num_boost_round, valid_sets, valid_names, fobj, feval, init_model, feature_name, categorical_feature, early_stopping_rounds, evals_result, verbose_eval, learning_rates, keep_training_booster, callbacks)\u001b[0m\n\u001b[0;32m    232\u001b[0m             \u001b[0mbooster\u001b[0m\u001b[1;33m.\u001b[0m\u001b[0madd_valid\u001b[0m\u001b[1;33m(\u001b[0m\u001b[0mvalid_set\u001b[0m\u001b[1;33m,\u001b[0m \u001b[0mname_valid_set\u001b[0m\u001b[1;33m)\u001b[0m\u001b[1;33m\u001b[0m\u001b[0m\n\u001b[0;32m    233\u001b[0m     \u001b[1;32mfinally\u001b[0m\u001b[1;33m:\u001b[0m\u001b[1;33m\u001b[0m\u001b[0m\n\u001b[1;32m--> 234\u001b[1;33m         \u001b[0mtrain_set\u001b[0m\u001b[1;33m.\u001b[0m\u001b[0m_reverse_update_params\u001b[0m\u001b[1;33m(\u001b[0m\u001b[1;33m)\u001b[0m\u001b[1;33m\u001b[0m\u001b[0m\n\u001b[0m\u001b[0;32m    235\u001b[0m         \u001b[1;32mfor\u001b[0m \u001b[0mvalid_set\u001b[0m \u001b[1;32min\u001b[0m \u001b[0mreduced_valid_sets\u001b[0m\u001b[1;33m:\u001b[0m\u001b[1;33m\u001b[0m\u001b[0m\n\u001b[0;32m    236\u001b[0m             \u001b[0mvalid_set\u001b[0m\u001b[1;33m.\u001b[0m\u001b[0m_reverse_update_params\u001b[0m\u001b[1;33m(\u001b[0m\u001b[1;33m)\u001b[0m\u001b[1;33m\u001b[0m\u001b[0m\n",
      "\u001b[1;32m~\\Anaconda3\\lib\\site-packages\\lightgbm\\basic.py\u001b[0m in \u001b[0;36m_reverse_update_params\u001b[1;34m(self)\u001b[0m\n\u001b[0;32m   1179\u001b[0m         \u001b[0mself\u001b[0m\u001b[1;33m.\u001b[0m\u001b[0mparams_back_up\u001b[0m \u001b[1;33m=\u001b[0m \u001b[1;32mNone\u001b[0m\u001b[1;33m\u001b[0m\u001b[0m\n\u001b[0;32m   1180\u001b[0m         \u001b[1;32mif\u001b[0m \u001b[0mself\u001b[0m\u001b[1;33m.\u001b[0m\u001b[0mhandle\u001b[0m \u001b[1;32mis\u001b[0m \u001b[1;32mnot\u001b[0m \u001b[1;32mNone\u001b[0m \u001b[1;32mand\u001b[0m \u001b[0mself\u001b[0m\u001b[1;33m.\u001b[0m\u001b[0mparams\u001b[0m \u001b[1;32mis\u001b[0m \u001b[1;32mnot\u001b[0m \u001b[1;32mNone\u001b[0m\u001b[1;33m:\u001b[0m\u001b[1;33m\u001b[0m\u001b[0m\n\u001b[1;32m-> 1181\u001b[1;33m             \u001b[0m_safe_call\u001b[0m\u001b[1;33m(\u001b[0m\u001b[0m_LIB\u001b[0m\u001b[1;33m.\u001b[0m\u001b[0mLGBM_DatasetUpdateParam\u001b[0m\u001b[1;33m(\u001b[0m\u001b[0mself\u001b[0m\u001b[1;33m.\u001b[0m\u001b[0mhandle\u001b[0m\u001b[1;33m,\u001b[0m \u001b[0mc_str\u001b[0m\u001b[1;33m(\u001b[0m\u001b[0mparam_dict_to_str\u001b[0m\u001b[1;33m(\u001b[0m\u001b[0mself\u001b[0m\u001b[1;33m.\u001b[0m\u001b[0mparams\u001b[0m\u001b[1;33m)\u001b[0m\u001b[1;33m)\u001b[0m\u001b[1;33m)\u001b[0m\u001b[1;33m)\u001b[0m\u001b[1;33m\u001b[0m\u001b[0m\n\u001b[0m\u001b[0;32m   1182\u001b[0m         \u001b[1;32mreturn\u001b[0m \u001b[0mself\u001b[0m\u001b[1;33m\u001b[0m\u001b[0m\n\u001b[0;32m   1183\u001b[0m \u001b[1;33m\u001b[0m\u001b[0m\n",
      "\u001b[1;32m~\\Anaconda3\\lib\\site-packages\\lightgbm\\basic.py\u001b[0m in \u001b[0;36m_safe_call\u001b[1;34m(ret)\u001b[0m\n\u001b[0;32m     43\u001b[0m     \"\"\"\n\u001b[0;32m     44\u001b[0m     \u001b[1;32mif\u001b[0m \u001b[0mret\u001b[0m \u001b[1;33m!=\u001b[0m \u001b[1;36m0\u001b[0m\u001b[1;33m:\u001b[0m\u001b[1;33m\u001b[0m\u001b[0m\n\u001b[1;32m---> 45\u001b[1;33m         \u001b[1;32mraise\u001b[0m \u001b[0mLightGBMError\u001b[0m\u001b[1;33m(\u001b[0m\u001b[0mdecode_string\u001b[0m\u001b[1;33m(\u001b[0m\u001b[0m_LIB\u001b[0m\u001b[1;33m.\u001b[0m\u001b[0mLGBM_GetLastError\u001b[0m\u001b[1;33m(\u001b[0m\u001b[1;33m)\u001b[0m\u001b[1;33m)\u001b[0m\u001b[1;33m)\u001b[0m\u001b[1;33m\u001b[0m\u001b[0m\n\u001b[0m\u001b[0;32m     46\u001b[0m \u001b[1;33m\u001b[0m\u001b[0m\n\u001b[0;32m     47\u001b[0m \u001b[1;33m\u001b[0m\u001b[0m\n",
      "\u001b[1;31mLightGBMError\u001b[0m: Parameter num_class should be of type int, got \"False,True\""
     ]
    }
   ],
   "source": [
    "run_time = process_time()\n",
    "#Setup the model\n",
    "lgb_mod = lgb.LGBMClassifier(**mod_fixed_params)\n",
    "#Add the search grid\n",
    "seed = np.random.seed(0)\n",
    "gbm = RandomizedSearchCV(lgb_mod,search_params['variable'],**search_params['fixed'])\n",
    "#Fit the model\n",
    "gbm.fit(X_train,y_train,**fit_params)\n",
    "print('Best parameters found by grid search are: {}'.format(gbm.best_params_))\n",
    "run_time.end()"
   ]
  },
  {
   "cell_type": "markdown",
   "metadata": {},
   "source": [
    "# Train the final model"
   ]
  },
  {
   "cell_type": "code",
   "execution_count": null,
   "metadata": {},
   "outputs": [],
   "source": [
    "final_models = lgb.LGBMClassifier(**gbm.best_params_)\n",
    "final_models.fit(X_train,y_train)"
   ]
  },
  {
   "cell_type": "code",
   "execution_count": null,
   "metadata": {},
   "outputs": [],
   "source": [
    "print('classes_ -> {}'.format(final_models.classes_))"
   ]
  },
  {
   "cell_type": "code",
   "execution_count": null,
   "metadata": {},
   "outputs": [],
   "source": [
    "import matplotlib.pyplot as plt\n",
    "%matplotlib inline\n",
    "lgb.plot_importance(final_models,figsize=(12,36))"
   ]
  },
  {
   "cell_type": "code",
   "execution_count": null,
   "metadata": {},
   "outputs": [],
   "source": [
    "y_pred = final_models.predict(X_valid)\n",
    "calc_tpr(y_pred,y_valid,['FINAL RF MODEL - VALIDATION SET'],y_valid.unique())    "
   ]
  },
  {
   "cell_type": "code",
   "execution_count": null,
   "metadata": {},
   "outputs": [],
   "source": [
    "y_pred = final_models.predict(X_train)\n",
    "calc_tpr(y_pred,y_train,['FINAL RF MODEL - TRAINING SET'],y_train.unique())    "
   ]
  },
  {
   "cell_type": "markdown",
   "metadata": {},
   "source": [
    "# Exporting the model"
   ]
  },
  {
   "cell_type": "code",
   "execution_count": null,
   "metadata": {},
   "outputs": [],
   "source": [
    "#Import the modules\n",
    "from sklearn.externals import joblib as jl"
   ]
  },
  {
   "cell_type": "code",
   "execution_count": null,
   "metadata": {},
   "outputs": [],
   "source": [
    "#Export the model\n",
    "jl.dump(final_models,path+r'\\lgb_model.joblib')"
   ]
  },
  {
   "cell_type": "code",
   "execution_count": null,
   "metadata": {},
   "outputs": [],
   "source": [
    "#Export a list of the features for this model\n",
    "file_object = open(path+r'\\lgb_model_feature_list.txt','w')\n",
    "feature_str = ''\n",
    "for i in feature_cols:\n",
    "    feature_str += '{},'.format(i)\n",
    "feature_str = feature_str[:-1]\n",
    "file_object.write(feature_str)\n",
    "file_object.close()\n",
    "feature_str"
   ]
  }
 ],
 "metadata": {
  "kernelspec": {
   "display_name": "Python 3",
   "language": "python",
   "name": "python3"
  },
  "language_info": {
   "codemirror_mode": {
    "name": "ipython",
    "version": 3
   },
   "file_extension": ".py",
   "mimetype": "text/x-python",
   "name": "python",
   "nbconvert_exporter": "python",
   "pygments_lexer": "ipython3",
   "version": "3.7.0"
  }
 },
 "nbformat": 4,
 "nbformat_minor": 2
}
