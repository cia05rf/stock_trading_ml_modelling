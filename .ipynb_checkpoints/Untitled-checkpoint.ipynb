{
 "cells": [
  {
   "cell_type": "code",
   "execution_count": 9,
   "metadata": {},
   "outputs": [
    {
     "data": {
      "text/plain": [
       "(279824, 106)"
      ]
     },
     "execution_count": 9,
     "metadata": {},
     "output_type": "execute_result"
    }
   ],
   "source": [
    "import pandas as pd\n",
    "tw_df = pd.read_hdf(r'C:\\Users\\Robert\\Documents\\python_scripts\\stock_trading_ml_modelling\\historical_prices\\all_hist_prices_w_ft_eng2_20191115.h5')\n",
    "tw_df.shape"
   ]
  },
  {
   "cell_type": "code",
   "execution_count": 10,
   "metadata": {},
   "outputs": [
    {
     "data": {
      "text/plain": [
       "(279488, 106)"
      ]
     },
     "execution_count": 10,
     "metadata": {},
     "output_type": "execute_result"
    }
   ],
   "source": [
    "lw_df = pd.read_hdf(r'C:\\Users\\Robert\\Documents\\python_scripts\\stock_trading_ml_modelling\\historical_prices\\all_hist_prices_w_ft_eng2.h5')\n",
    "lw_df.shape"
   ]
  },
  {
   "cell_type": "code",
   "execution_count": 13,
   "metadata": {},
   "outputs": [
    {
     "data": {
      "text/html": [
       "<div>\n",
       "<style scoped>\n",
       "    .dataframe tbody tr th:only-of-type {\n",
       "        vertical-align: middle;\n",
       "    }\n",
       "\n",
       "    .dataframe tbody tr th {\n",
       "        vertical-align: top;\n",
       "    }\n",
       "\n",
       "    .dataframe thead th {\n",
       "        text-align: right;\n",
       "    }\n",
       "</style>\n",
       "<table border=\"1\" class=\"dataframe\">\n",
       "  <thead>\n",
       "    <tr style=\"text-align: right;\">\n",
       "      <th></th>\n",
       "      <th>ticker</th>\n",
       "      <th>date</th>\n",
       "      <th>open</th>\n",
       "      <th>close</th>\n",
       "      <th>high</th>\n",
       "      <th>low</th>\n",
       "      <th>volume</th>\n",
       "      <th>change_price</th>\n",
       "      <th>per_change_price</th>\n",
       "      <th>ema26</th>\n",
       "      <th>...</th>\n",
       "      <th>min_change_macd_line</th>\n",
       "      <th>prev_max_grad_macd_line</th>\n",
       "      <th>prev_min_grad_macd_line</th>\n",
       "      <th>max_move_cum_macd_line</th>\n",
       "      <th>min_move_cum_macd_line</th>\n",
       "      <th>long_prev_max_move_date_macd_line</th>\n",
       "      <th>long_prev_min_move_date_macd_line</th>\n",
       "      <th>long_max_grad_macd_line</th>\n",
       "      <th>long_min_grad_macd_line</th>\n",
       "      <th>signal</th>\n",
       "    </tr>\n",
       "  </thead>\n",
       "  <tbody>\n",
       "    <tr>\n",
       "      <th>79746</th>\n",
       "      <td>EQN</td>\n",
       "      <td>2019-11-04</td>\n",
       "      <td>0.50146</td>\n",
       "      <td>0.562897</td>\n",
       "      <td>0.478952</td>\n",
       "      <td>0.530029</td>\n",
       "      <td>0.011455</td>\n",
       "      <td>0.061438</td>\n",
       "      <td>0.109145</td>\n",
       "      <td>0.496467</td>\n",
       "      <td>...</td>\n",
       "      <td>0.01914</td>\n",
       "      <td>-0.004537</td>\n",
       "      <td>-0.00428</td>\n",
       "      <td>0</td>\n",
       "      <td>0</td>\n",
       "      <td>0.0</td>\n",
       "      <td>0.0</td>\n",
       "      <td>0.0</td>\n",
       "      <td>0.0</td>\n",
       "      <td>hold</td>\n",
       "    </tr>\n",
       "  </tbody>\n",
       "</table>\n",
       "<p>1 rows × 106 columns</p>\n",
       "</div>"
      ],
      "text/plain": [
       "      ticker       date     open     close      high       low    volume  \\\n",
       "79746    EQN 2019-11-04  0.50146  0.562897  0.478952  0.530029  0.011455   \n",
       "\n",
       "       change_price  per_change_price     ema26  ...  min_change_macd_line  \\\n",
       "79746      0.061438          0.109145  0.496467  ...               0.01914   \n",
       "\n",
       "       prev_max_grad_macd_line  prev_min_grad_macd_line  \\\n",
       "79746                -0.004537                 -0.00428   \n",
       "\n",
       "       max_move_cum_macd_line  min_move_cum_macd_line  \\\n",
       "79746                       0                       0   \n",
       "\n",
       "       long_prev_max_move_date_macd_line  long_prev_min_move_date_macd_line  \\\n",
       "79746                                0.0                                0.0   \n",
       "\n",
       "       long_max_grad_macd_line  long_min_grad_macd_line  signal  \n",
       "79746                      0.0                      0.0    hold  \n",
       "\n",
       "[1 rows x 106 columns]"
      ]
     },
     "execution_count": 13,
     "metadata": {},
     "output_type": "execute_result"
    }
   ],
   "source": [
    "tw_tmp = tw_df[(tw_df.date == '2019-11-04') & (tw_df.ticker == 'EQN')]\n",
    "tw_tmp"
   ]
  },
  {
   "cell_type": "code",
   "execution_count": 14,
   "metadata": {},
   "outputs": [
    {
     "data": {
      "text/html": [
       "<div>\n",
       "<style scoped>\n",
       "    .dataframe tbody tr th:only-of-type {\n",
       "        vertical-align: middle;\n",
       "    }\n",
       "\n",
       "    .dataframe tbody tr th {\n",
       "        vertical-align: top;\n",
       "    }\n",
       "\n",
       "    .dataframe thead th {\n",
       "        text-align: right;\n",
       "    }\n",
       "</style>\n",
       "<table border=\"1\" class=\"dataframe\">\n",
       "  <thead>\n",
       "    <tr style=\"text-align: right;\">\n",
       "      <th></th>\n",
       "      <th>ticker</th>\n",
       "      <th>date</th>\n",
       "      <th>open</th>\n",
       "      <th>close</th>\n",
       "      <th>high</th>\n",
       "      <th>low</th>\n",
       "      <th>volume</th>\n",
       "      <th>change_price</th>\n",
       "      <th>per_change_price</th>\n",
       "      <th>ema26</th>\n",
       "      <th>...</th>\n",
       "      <th>min_change_macd_line</th>\n",
       "      <th>prev_max_grad_macd_line</th>\n",
       "      <th>prev_min_grad_macd_line</th>\n",
       "      <th>max_move_cum_macd_line</th>\n",
       "      <th>min_move_cum_macd_line</th>\n",
       "      <th>long_prev_max_move_date_macd_line</th>\n",
       "      <th>long_prev_min_move_date_macd_line</th>\n",
       "      <th>long_max_grad_macd_line</th>\n",
       "      <th>long_min_grad_macd_line</th>\n",
       "      <th>signal</th>\n",
       "    </tr>\n",
       "  </thead>\n",
       "  <tbody>\n",
       "    <tr>\n",
       "      <th>79654</th>\n",
       "      <td>EQN</td>\n",
       "      <td>2019-11-04</td>\n",
       "      <td>0.50146</td>\n",
       "      <td>0.562897</td>\n",
       "      <td>0.478952</td>\n",
       "      <td>0.530029</td>\n",
       "      <td>0.011455</td>\n",
       "      <td>0.061438</td>\n",
       "      <td>0.109145</td>\n",
       "      <td>0.496467</td>\n",
       "      <td>...</td>\n",
       "      <td>0.01914</td>\n",
       "      <td>-0.004537</td>\n",
       "      <td>-0.00428</td>\n",
       "      <td>0</td>\n",
       "      <td>0</td>\n",
       "      <td>0.0</td>\n",
       "      <td>0.0</td>\n",
       "      <td>0.0</td>\n",
       "      <td>0.0</td>\n",
       "      <td>hold</td>\n",
       "    </tr>\n",
       "  </tbody>\n",
       "</table>\n",
       "<p>1 rows × 106 columns</p>\n",
       "</div>"
      ],
      "text/plain": [
       "      ticker       date     open     close      high       low    volume  \\\n",
       "79654    EQN 2019-11-04  0.50146  0.562897  0.478952  0.530029  0.011455   \n",
       "\n",
       "       change_price  per_change_price     ema26  ...  min_change_macd_line  \\\n",
       "79654      0.061438          0.109145  0.496467  ...               0.01914   \n",
       "\n",
       "       prev_max_grad_macd_line  prev_min_grad_macd_line  \\\n",
       "79654                -0.004537                 -0.00428   \n",
       "\n",
       "       max_move_cum_macd_line  min_move_cum_macd_line  \\\n",
       "79654                       0                       0   \n",
       "\n",
       "       long_prev_max_move_date_macd_line  long_prev_min_move_date_macd_line  \\\n",
       "79654                                0.0                                0.0   \n",
       "\n",
       "       long_max_grad_macd_line  long_min_grad_macd_line  signal  \n",
       "79654                      0.0                      0.0    hold  \n",
       "\n",
       "[1 rows x 106 columns]"
      ]
     },
     "execution_count": 14,
     "metadata": {},
     "output_type": "execute_result"
    }
   ],
   "source": [
    "lw_tmp = lw_df[(lw_df.date == '2019-11-04') & (lw_df.ticker == 'EQN')]\n",
    "lw_tmp"
   ]
  },
  {
   "cell_type": "code",
   "execution_count": 22,
   "metadata": {},
   "outputs": [
    {
     "ename": "ValueError",
     "evalue": "Can only compare identically-labeled Series objects",
     "output_type": "error",
     "traceback": [
      "\u001b[1;31m---------------------------------------------------------------------------\u001b[0m",
      "\u001b[1;31mValueError\u001b[0m                                Traceback (most recent call last)",
      "\u001b[1;32m<ipython-input-22-6ee04f9602c3>\u001b[0m in \u001b[0;36m<module>\u001b[1;34m()\u001b[0m\n\u001b[0;32m      2\u001b[0m     \u001b[1;32mif\u001b[0m \u001b[0mi\u001b[0m \u001b[1;32mnot\u001b[0m \u001b[1;32min\u001b[0m \u001b[0mtw_tmp\u001b[0m\u001b[1;33m:\u001b[0m\u001b[1;33m\u001b[0m\u001b[0m\n\u001b[0;32m      3\u001b[0m         \u001b[0mprint\u001b[0m\u001b[1;33m(\u001b[0m\u001b[1;34mr'NO {} IN tw_tmp'\u001b[0m\u001b[1;33m.\u001b[0m\u001b[0mformat\u001b[0m\u001b[1;33m(\u001b[0m\u001b[0mi\u001b[0m\u001b[1;33m)\u001b[0m\u001b[1;33m)\u001b[0m\u001b[1;33m\u001b[0m\u001b[0m\n\u001b[1;32m----> 4\u001b[1;33m     \u001b[1;32melif\u001b[0m \u001b[0mlw_tmp\u001b[0m\u001b[1;33m[\u001b[0m\u001b[0mi\u001b[0m\u001b[1;33m]\u001b[0m\u001b[1;33m.\u001b[0m\u001b[0mitem\u001b[0m \u001b[1;33m!=\u001b[0m \u001b[0mtw_tmp\u001b[0m\u001b[1;33m[\u001b[0m\u001b[0mi\u001b[0m\u001b[1;33m]\u001b[0m\u001b[1;33m.\u001b[0m\u001b[0mitem\u001b[0m\u001b[1;33m:\u001b[0m\u001b[1;33m\u001b[0m\u001b[0m\n\u001b[0m\u001b[0;32m      5\u001b[0m         \u001b[0mprint\u001b[0m\u001b[1;33m(\u001b[0m\u001b[1;34mr'MIS-MATCH IN {} - {} vs {}'\u001b[0m\u001b[1;33m.\u001b[0m\u001b[0mformat\u001b[0m\u001b[1;33m(\u001b[0m\u001b[0mi\u001b[0m\u001b[1;33m,\u001b[0m\u001b[0mlw_tmp\u001b[0m\u001b[1;33m[\u001b[0m\u001b[0mi\u001b[0m\u001b[1;33m]\u001b[0m\u001b[1;33m,\u001b[0m\u001b[0mtw_tmp\u001b[0m\u001b[1;33m[\u001b[0m\u001b[0mi\u001b[0m\u001b[1;33m]\u001b[0m\u001b[1;33m)\u001b[0m\u001b[1;33m)\u001b[0m\u001b[1;33m\u001b[0m\u001b[0m\n\u001b[0;32m      6\u001b[0m     \u001b[1;32melse\u001b[0m\u001b[1;33m:\u001b[0m\u001b[1;33m\u001b[0m\u001b[0m\n",
      "\u001b[1;32m~\\Anaconda3\\lib\\site-packages\\pandas\\core\\ops\\__init__.py\u001b[0m in \u001b[0;36mwrapper\u001b[1;34m(self, other, axis)\u001b[0m\n\u001b[0;32m   1140\u001b[0m \u001b[1;33m\u001b[0m\u001b[0m\n\u001b[0;32m   1141\u001b[0m         \u001b[1;32melif\u001b[0m \u001b[0misinstance\u001b[0m\u001b[1;33m(\u001b[0m\u001b[0mother\u001b[0m\u001b[1;33m,\u001b[0m \u001b[0mABCSeries\u001b[0m\u001b[1;33m)\u001b[0m \u001b[1;32mand\u001b[0m \u001b[1;32mnot\u001b[0m \u001b[0mself\u001b[0m\u001b[1;33m.\u001b[0m\u001b[0m_indexed_same\u001b[0m\u001b[1;33m(\u001b[0m\u001b[0mother\u001b[0m\u001b[1;33m)\u001b[0m\u001b[1;33m:\u001b[0m\u001b[1;33m\u001b[0m\u001b[0m\n\u001b[1;32m-> 1142\u001b[1;33m             \u001b[1;32mraise\u001b[0m \u001b[0mValueError\u001b[0m\u001b[1;33m(\u001b[0m\u001b[1;34m\"Can only compare identically-labeled \"\u001b[0m \u001b[1;34m\"Series objects\"\u001b[0m\u001b[1;33m)\u001b[0m\u001b[1;33m\u001b[0m\u001b[0m\n\u001b[0m\u001b[0;32m   1143\u001b[0m \u001b[1;33m\u001b[0m\u001b[0m\n\u001b[0;32m   1144\u001b[0m         \u001b[1;32melif\u001b[0m \u001b[0mis_categorical_dtype\u001b[0m\u001b[1;33m(\u001b[0m\u001b[0mself\u001b[0m\u001b[1;33m)\u001b[0m\u001b[1;33m:\u001b[0m\u001b[1;33m\u001b[0m\u001b[0m\n",
      "\u001b[1;31mValueError\u001b[0m: Can only compare identically-labeled Series objects"
     ]
    }
   ],
   "source": [
    "for i in lw_tmp.columns:\n",
    "    if i not in tw_tmp:\n",
    "        print(r'NO {} IN tw_tmp'.format(i))\n",
    "    elif lw_tmp[i] != tw_tmp[i]:\n",
    "        print(r'MIS-MATCH IN {} - {} vs {}'.format(i,lw_tmp[i],tw_tmp[i]))\n",
    "    else:\n",
    "        print(r'MATCH IN {} - {} vs {}'.format(i,lw_tmp[i],tw_tmp[i]))"
   ]
  }
 ],
 "metadata": {
  "kernelspec": {
   "display_name": "Python 3",
   "language": "python",
   "name": "python3"
  },
  "language_info": {
   "codemirror_mode": {
    "name": "ipython",
    "version": 3
   },
   "file_extension": ".py",
   "mimetype": "text/x-python",
   "name": "python",
   "nbconvert_exporter": "python",
   "pygments_lexer": "ipython3",
   "version": "3.7.0"
  }
 },
 "nbformat": 4,
 "nbformat_minor": 2
}
