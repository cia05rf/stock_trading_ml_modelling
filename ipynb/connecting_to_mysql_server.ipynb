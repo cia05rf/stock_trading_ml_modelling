{
 "cells": [
  {
   "cell_type": "code",
   "execution_count": 6,
   "metadata": {},
   "outputs": [],
   "source": [
    "import pandas as pd\n",
    "import re\n",
    "import os\n",
    "import tables"
   ]
  },
  {
   "cell_type": "code",
   "execution_count": 7,
   "metadata": {},
   "outputs": [
    {
     "name": "stderr",
     "output_type": "stream",
     "text": [
      "Closing remaining open files:C:\\\\Users\\\\Robert\\\\Documents\\\\python_scripts\\\\stock_trading_ml_modelling\\\\historical_prices\\\\all_hist_prices_d_TMP.h5...done\n"
     ]
    }
   ],
   "source": [
    "#close any open h5 files\n",
    "tables.file._open_files.close_all()"
   ]
  },
  {
   "cell_type": "code",
   "execution_count": 5,
   "metadata": {},
   "outputs": [],
   "source": [
    "#Clean column names\n",
    "def clean_col_name(str_in):\n",
    "    str_out = str_in.lower() #Change all to lower case\n",
    "    str_out = re.sub(r'.*\\.','',str_out) #Remove everything before a .\n",
    "    str_out = re.sub(r' ','_',str_out) #Replace spaces with _\n",
    "    str_out = re.sub(r'_?&_?','_and_',str_out) #Put _ around & and @ and change to 'and' and 'at'\n",
    "    str_out = re.sub(r'_?@_?','_at_',str_out) #Put _ around & and @ and change to 'and' and 'at'\n",
    "    str_out = re.sub(r'[^0-9a-z_]','',str_out) #Remove all non allowed characters\n",
    "    str_out = re.sub(r'^_','',str_out) #Remove leading _\n",
    "    return str_out"
   ]
  },
  {
   "cell_type": "code",
   "execution_count": 3,
   "metadata": {},
   "outputs": [
    {
     "ename": "AttributeError",
     "evalue": "'function' object has no attribute 'to_hdf'",
     "output_type": "error",
     "traceback": [
      "\u001b[1;31m---------------------------------------------------------------------------\u001b[0m",
      "\u001b[1;31mAttributeError\u001b[0m                            Traceback (most recent call last)",
      "\u001b[1;32m<ipython-input-3-00b0e09392f4>\u001b[0m in \u001b[0;36m<module>\u001b[1;34m()\u001b[0m\n\u001b[0;32m     21\u001b[0m \u001b[1;31m#Add to h5 file\u001b[0m\u001b[1;33m\u001b[0m\u001b[1;33m\u001b[0m\u001b[0m\n\u001b[0;32m     22\u001b[0m \u001b[0mold_df\u001b[0m \u001b[1;33m=\u001b[0m \u001b[0mold_df\u001b[0m\u001b[1;33m.\u001b[0m\u001b[0mdrop_duplicates\u001b[0m\u001b[1;33m\u001b[0m\u001b[0m\n\u001b[1;32m---> 23\u001b[1;33m \u001b[0mold_df\u001b[0m\u001b[1;33m.\u001b[0m\u001b[0mto_hdf\u001b[0m\u001b[1;33m(\u001b[0m\u001b[0msrc_fldr_pth\u001b[0m \u001b[1;33m+\u001b[0m \u001b[1;34mr'\\\\all_hist_prices_d_TMP.h5'\u001b[0m\u001b[1;33m,\u001b[0m\u001b[0mkey\u001b[0m\u001b[1;33m=\u001b[0m\u001b[0mgroup_name\u001b[0m\u001b[1;33m,\u001b[0m\u001b[0mappend\u001b[0m\u001b[1;33m=\u001b[0m\u001b[1;32mTrue\u001b[0m\u001b[1;33m,\u001b[0m\u001b[0mmin_itemsize\u001b[0m\u001b[1;33m=\u001b[0m\u001b[0mcol_lens\u001b[0m\u001b[1;33m)\u001b[0m\u001b[1;33m\u001b[0m\u001b[0m\n\u001b[0m",
      "\u001b[1;31mAttributeError\u001b[0m: 'function' object has no attribute 'to_hdf'"
     ]
    }
   ],
   "source": [
    "#Read in the hdf file\n",
    "src_fldr_pth = r'C:\\\\Users\\\\Robert\\\\Documents\\\\python_scripts\\\\stock_trading_ml_modelling\\\\historical_prices'\n",
    "group_name = r'daily_data'\n",
    "old_df = pd.read_hdf(src_fldr_pth + r'\\\\all_hist_prices_d.h5')\n",
    "#convert the columns\n",
    "for col in old_df:\n",
    "    old_df.rename(columns={col:clean_col_name(col)},inplace=True)\n",
    "#Read to a new hdf file\n",
    "hf = pd.HDFStore(src_fldr_pth + r'\\\\all_hist_prices_d_TMP.h5')\n",
    "\n",
    "#Create a dictionary of max character lengths of fields for use later in h5 file appending\n",
    "def get_col_lens(_df_in):\n",
    "    _col_lens = {}\n",
    "    for c in _df_in:\n",
    "        _tmp_s = pd.Series([len(str(x)) for x in _df_in[c]])\n",
    "        _col_lens[c] = _tmp_s.max()\n",
    "    return _col_lens\n",
    "col_lens = get_col_lens(old_df)\n",
    "col_lens\n",
    "\n",
    "#Add to h5 file\n",
    "old_df = old_df.drop_duplicates()\n",
    "old_df.to_hdf(src_fldr_pth + r'\\\\all_hist_prices_d_TMP.h5',key=group_name,append=True,min_itemsize=col_lens)"
   ]
  },
  {
   "cell_type": "code",
   "execution_count": 4,
   "metadata": {},
   "outputs": [
    {
     "ename": "AttributeError",
     "evalue": "'function' object has no attribute 'drop_duplicates'",
     "output_type": "error",
     "traceback": [
      "\u001b[1;31m---------------------------------------------------------------------------\u001b[0m",
      "\u001b[1;31mAttributeError\u001b[0m                            Traceback (most recent call last)",
      "\u001b[1;32m<ipython-input-4-4f0c5942b729>\u001b[0m in \u001b[0;36m<module>\u001b[1;34m()\u001b[0m\n\u001b[0;32m      1\u001b[0m \u001b[1;33m\u001b[0m\u001b[0m\n\u001b[0;32m      2\u001b[0m \u001b[1;31m#Add to h5 file\u001b[0m\u001b[1;33m\u001b[0m\u001b[1;33m\u001b[0m\u001b[0m\n\u001b[1;32m----> 3\u001b[1;33m \u001b[0mold_df\u001b[0m \u001b[1;33m=\u001b[0m \u001b[0mold_df\u001b[0m\u001b[1;33m.\u001b[0m\u001b[0mdrop_duplicates\u001b[0m\u001b[1;33m(\u001b[0m\u001b[1;33m)\u001b[0m\u001b[1;33m\u001b[0m\u001b[0m\n\u001b[0m\u001b[0;32m      4\u001b[0m \u001b[0mold_df\u001b[0m\u001b[1;33m.\u001b[0m\u001b[0mto_hdf\u001b[0m\u001b[1;33m(\u001b[0m\u001b[0msrc_fldr_pth\u001b[0m \u001b[1;33m+\u001b[0m \u001b[1;34mr'\\\\all_hist_prices_d_TMP.h5'\u001b[0m\u001b[1;33m,\u001b[0m\u001b[0mkey\u001b[0m\u001b[1;33m=\u001b[0m\u001b[0mgroup_name\u001b[0m\u001b[1;33m,\u001b[0m\u001b[0mappend\u001b[0m\u001b[1;33m=\u001b[0m\u001b[1;32mTrue\u001b[0m\u001b[1;33m,\u001b[0m\u001b[0mmin_itemsize\u001b[0m\u001b[1;33m=\u001b[0m\u001b[0mcol_lens\u001b[0m\u001b[1;33m)\u001b[0m\u001b[1;33m\u001b[0m\u001b[0m\n",
      "\u001b[1;31mAttributeError\u001b[0m: 'function' object has no attribute 'drop_duplicates'"
     ]
    }
   ],
   "source": [
    "\n",
    "#Add to h5 file\n",
    "old_df = old_df.drop_duplicates()\n",
    "old_df.to_hdf(src_fldr_pth + r'\\\\all_hist_prices_d_TMP.h5',key=group_name,append=True,min_itemsize=col_lens)"
   ]
  },
  {
   "cell_type": "code",
   "execution_count": null,
   "metadata": {},
   "outputs": [],
   "source": [
    "#Delete the old h5 file and rename the TMP\n",
    "#Close any open h5 files\n",
    "import tables\n",
    "tables.file._open_files.close_all()\n",
    "try:\n",
    "    os.remove(src_fldr_pth + r'\\\\all_hist_prices_d.h5')\n",
    "    print('\\nSUCCESSFULLY REMOVED {}'.format(src_fldr_pth + r'\\\\all_hist_prices_d.h5'))\n",
    "except Exception as e:\n",
    "    print('\\nERROR - REMOVING:{}'.format(e))\n",
    "try:\n",
    "    os.rename(src_fldr_pth + r'\\\\all_hist_prices_d_TMP.h5',src_fldr_pth + r'\\\\all_hist_prices_d.h5')\n",
    "    print('\\nSUCCESSFULLY RENAMED {} TO {}'.format(src_fldr_pth + r'\\\\all_hist_prices_d_TMP.h5',src_fldr_pth + r'\\\\all_hist_prices_d.h5'))\n",
    "except Exception as e:\n",
    "    print('\\nERROR - RENAMING:{}'.format(e))"
   ]
  },
  {
   "cell_type": "code",
   "execution_count": null,
   "metadata": {},
   "outputs": [],
   "source": [
    "#Read in the hdf file\n",
    "src_fldr_pth = r'C:\\\\Users\\\\Robert\\\\Documents\\\\python_scripts\\\\stock_trading_ml_modelling\\\\historical_prices'\n",
    "group_name = r'weekly_data'\n",
    "old_df = pd.read_hdf(src_fldr_pth + r'\\\\all_hist_prices_w.h5')\n",
    "#convert the columns\n",
    "for col in old_df:\n",
    "    old_df.rename(columns={col:clean_col_name(col)},inplace=True)\n",
    "#Read to a new hdf file\n",
    "hf = pd.HDFStore(src_fldr_pth + r'\\\\all_hist_prices_w_TMP.h5')\n",
    "\n",
    "#Create a dictionary of max character lengths of fields for use later in h5 file appending\n",
    "def get_col_lens(_df_in):\n",
    "    _col_lens = {}\n",
    "    for c in _df_in:\n",
    "        _tmp_s = pd.Series([len(str(x)) for x in _df_in[c]])\n",
    "        _col_lens[c] = _tmp_s.max()\n",
    "    return _col_lens\n",
    "col_lens = get_col_lens(old_df)\n",
    "col_lens\n",
    "\n",
    "#Add to h5 file\n",
    "old_df = old_df.drop_duplicates\n",
    "old_df.to_hdf(src_fldr_pth + r'\\\\all_hist_prices_w_TMP.h5',key=group_name,append=True,min_itemsize=col_lens)"
   ]
  },
  {
   "cell_type": "code",
   "execution_count": null,
   "metadata": {},
   "outputs": [],
   "source": [
    "#Delete the old h5 file and rename the TMP\n",
    "#Close any open h5 files\n",
    "import tables\n",
    "tables.file._open_files.close_all()\n",
    "try:\n",
    "    os.remove(src_fldr_pth + r'\\\\all_hist_prices_w.h5')\n",
    "    print('\\nSUCCESSFULLY REMOVED {}'.format(src_fldr_pth + r'\\\\all_hist_prices_w.h5'))\n",
    "except Exception as e:\n",
    "    print('\\nERROR - REMOVING:{}'.format(e))\n",
    "try:\n",
    "    os.rename(src_fldr_pth + r'\\\\all_hist_prices_w_TMP.h5',src_fldr_pth + r'\\\\all_hist_prices_w.h5')\n",
    "    print('\\nSUCCESSFULLY RENAMED {} TO {}'.format(src_fldr_pth + r'\\\\all_hist_prices_w_TMP.h5',src_fldr_pth + r'\\\\all_hist_prices_w.h5'))\n",
    "except Exception as e:\n",
    "    print('\\nERROR - RENAMING:{}'.format(e))"
   ]
  }
 ],
 "metadata": {
  "kernelspec": {
   "display_name": "Python 3",
   "language": "python",
   "name": "python3"
  },
  "language_info": {
   "codemirror_mode": {
    "name": "ipython",
    "version": 3
   },
   "file_extension": ".py",
   "mimetype": "text/x-python",
   "name": "python",
   "nbconvert_exporter": "python",
   "pygments_lexer": "ipython3",
   "version": "3.7.0"
  }
 },
 "nbformat": 4,
 "nbformat_minor": 2
}
