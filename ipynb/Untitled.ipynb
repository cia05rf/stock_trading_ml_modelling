{
 "cells": [
  {
   "cell_type": "code",
   "execution_count": 35,
   "metadata": {},
   "outputs": [
    {
     "data": {
      "text/plain": [
       "(279824, 106)"
      ]
     },
     "execution_count": 35,
     "metadata": {},
     "output_type": "execute_result"
    }
   ],
   "source": [
    "import pandas as pd\n",
    "tw_df = pd.read_hdf(r'C:\\Users\\Robert\\Documents\\python_scripts\\stock_trading_ml_modelling\\historical_prices\\all_hist_prices_w_ft_eng2_20191115.h5')\n",
    "tw_df.shape"
   ]
  },
  {
   "cell_type": "code",
   "execution_count": 36,
   "metadata": {},
   "outputs": [
    {
     "data": {
      "text/plain": [
       "(279488, 106)"
      ]
     },
     "execution_count": 36,
     "metadata": {},
     "output_type": "execute_result"
    }
   ],
   "source": [
    "lw_df = pd.read_hdf(r'C:\\Users\\Robert\\Documents\\python_scripts\\stock_trading_ml_modelling\\historical_prices\\all_hist_prices_w_ft_eng2.h5')\n",
    "lw_df.shape"
   ]
  },
  {
   "cell_type": "code",
   "execution_count": 37,
   "metadata": {},
   "outputs": [
    {
     "data": {
      "text/html": [
       "<div>\n",
       "<style scoped>\n",
       "    .dataframe tbody tr th:only-of-type {\n",
       "        vertical-align: middle;\n",
       "    }\n",
       "\n",
       "    .dataframe tbody tr th {\n",
       "        vertical-align: top;\n",
       "    }\n",
       "\n",
       "    .dataframe thead th {\n",
       "        text-align: right;\n",
       "    }\n",
       "</style>\n",
       "<table border=\"1\" class=\"dataframe\">\n",
       "  <thead>\n",
       "    <tr style=\"text-align: right;\">\n",
       "      <th></th>\n",
       "      <th>ticker</th>\n",
       "      <th>date</th>\n",
       "      <th>open</th>\n",
       "      <th>close</th>\n",
       "      <th>high</th>\n",
       "      <th>low</th>\n",
       "      <th>volume</th>\n",
       "      <th>change_price</th>\n",
       "      <th>per_change_price</th>\n",
       "      <th>ema26</th>\n",
       "      <th>...</th>\n",
       "      <th>min_change_macd_line</th>\n",
       "      <th>prev_max_grad_macd_line</th>\n",
       "      <th>prev_min_grad_macd_line</th>\n",
       "      <th>max_move_cum_macd_line</th>\n",
       "      <th>min_move_cum_macd_line</th>\n",
       "      <th>long_prev_max_move_date_macd_line</th>\n",
       "      <th>long_prev_min_move_date_macd_line</th>\n",
       "      <th>long_max_grad_macd_line</th>\n",
       "      <th>long_min_grad_macd_line</th>\n",
       "      <th>signal</th>\n",
       "    </tr>\n",
       "  </thead>\n",
       "  <tbody>\n",
       "    <tr>\n",
       "      <th>79746</th>\n",
       "      <td>EQN</td>\n",
       "      <td>2019-11-04</td>\n",
       "      <td>0.50146</td>\n",
       "      <td>0.562897</td>\n",
       "      <td>0.478952</td>\n",
       "      <td>0.530029</td>\n",
       "      <td>0.011455</td>\n",
       "      <td>0.061438</td>\n",
       "      <td>0.109145</td>\n",
       "      <td>0.496467</td>\n",
       "      <td>...</td>\n",
       "      <td>0.01914</td>\n",
       "      <td>-0.004537</td>\n",
       "      <td>-0.00428</td>\n",
       "      <td>0</td>\n",
       "      <td>0</td>\n",
       "      <td>0.0</td>\n",
       "      <td>0.0</td>\n",
       "      <td>0.0</td>\n",
       "      <td>0.0</td>\n",
       "      <td>hold</td>\n",
       "    </tr>\n",
       "  </tbody>\n",
       "</table>\n",
       "<p>1 rows × 106 columns</p>\n",
       "</div>"
      ],
      "text/plain": [
       "      ticker       date     open     close      high       low    volume  \\\n",
       "79746    EQN 2019-11-04  0.50146  0.562897  0.478952  0.530029  0.011455   \n",
       "\n",
       "       change_price  per_change_price     ema26  ...  min_change_macd_line  \\\n",
       "79746      0.061438          0.109145  0.496467  ...               0.01914   \n",
       "\n",
       "       prev_max_grad_macd_line  prev_min_grad_macd_line  \\\n",
       "79746                -0.004537                 -0.00428   \n",
       "\n",
       "       max_move_cum_macd_line  min_move_cum_macd_line  \\\n",
       "79746                       0                       0   \n",
       "\n",
       "       long_prev_max_move_date_macd_line  long_prev_min_move_date_macd_line  \\\n",
       "79746                                0.0                                0.0   \n",
       "\n",
       "       long_max_grad_macd_line  long_min_grad_macd_line  signal  \n",
       "79746                      0.0                      0.0    hold  \n",
       "\n",
       "[1 rows x 106 columns]"
      ]
     },
     "execution_count": 37,
     "metadata": {},
     "output_type": "execute_result"
    }
   ],
   "source": [
    "tw_tmp = tw_df[(tw_df.date == '2019-11-04') & (tw_df.ticker == 'EQN')]\n",
    "tw_tmp"
   ]
  },
  {
   "cell_type": "code",
   "execution_count": 38,
   "metadata": {},
   "outputs": [
    {
     "data": {
      "text/html": [
       "<div>\n",
       "<style scoped>\n",
       "    .dataframe tbody tr th:only-of-type {\n",
       "        vertical-align: middle;\n",
       "    }\n",
       "\n",
       "    .dataframe tbody tr th {\n",
       "        vertical-align: top;\n",
       "    }\n",
       "\n",
       "    .dataframe thead th {\n",
       "        text-align: right;\n",
       "    }\n",
       "</style>\n",
       "<table border=\"1\" class=\"dataframe\">\n",
       "  <thead>\n",
       "    <tr style=\"text-align: right;\">\n",
       "      <th></th>\n",
       "      <th>ticker</th>\n",
       "      <th>date</th>\n",
       "      <th>open</th>\n",
       "      <th>close</th>\n",
       "      <th>high</th>\n",
       "      <th>low</th>\n",
       "      <th>volume</th>\n",
       "      <th>change_price</th>\n",
       "      <th>per_change_price</th>\n",
       "      <th>ema26</th>\n",
       "      <th>...</th>\n",
       "      <th>min_change_macd_line</th>\n",
       "      <th>prev_max_grad_macd_line</th>\n",
       "      <th>prev_min_grad_macd_line</th>\n",
       "      <th>max_move_cum_macd_line</th>\n",
       "      <th>min_move_cum_macd_line</th>\n",
       "      <th>long_prev_max_move_date_macd_line</th>\n",
       "      <th>long_prev_min_move_date_macd_line</th>\n",
       "      <th>long_max_grad_macd_line</th>\n",
       "      <th>long_min_grad_macd_line</th>\n",
       "      <th>signal</th>\n",
       "    </tr>\n",
       "  </thead>\n",
       "  <tbody>\n",
       "    <tr>\n",
       "      <th>79654</th>\n",
       "      <td>EQN</td>\n",
       "      <td>2019-11-04</td>\n",
       "      <td>0.50146</td>\n",
       "      <td>0.562897</td>\n",
       "      <td>0.478952</td>\n",
       "      <td>0.530029</td>\n",
       "      <td>0.011455</td>\n",
       "      <td>0.061438</td>\n",
       "      <td>0.109145</td>\n",
       "      <td>0.496467</td>\n",
       "      <td>...</td>\n",
       "      <td>0.01914</td>\n",
       "      <td>-0.004537</td>\n",
       "      <td>-0.00428</td>\n",
       "      <td>0</td>\n",
       "      <td>0</td>\n",
       "      <td>0.0</td>\n",
       "      <td>0.0</td>\n",
       "      <td>0.0</td>\n",
       "      <td>0.0</td>\n",
       "      <td>hold</td>\n",
       "    </tr>\n",
       "  </tbody>\n",
       "</table>\n",
       "<p>1 rows × 106 columns</p>\n",
       "</div>"
      ],
      "text/plain": [
       "      ticker       date     open     close      high       low    volume  \\\n",
       "79654    EQN 2019-11-04  0.50146  0.562897  0.478952  0.530029  0.011455   \n",
       "\n",
       "       change_price  per_change_price     ema26  ...  min_change_macd_line  \\\n",
       "79654      0.061438          0.109145  0.496467  ...               0.01914   \n",
       "\n",
       "       prev_max_grad_macd_line  prev_min_grad_macd_line  \\\n",
       "79654                -0.004537                 -0.00428   \n",
       "\n",
       "       max_move_cum_macd_line  min_move_cum_macd_line  \\\n",
       "79654                       0                       0   \n",
       "\n",
       "       long_prev_max_move_date_macd_line  long_prev_min_move_date_macd_line  \\\n",
       "79654                                0.0                                0.0   \n",
       "\n",
       "       long_max_grad_macd_line  long_min_grad_macd_line  signal  \n",
       "79654                      0.0                      0.0    hold  \n",
       "\n",
       "[1 rows x 106 columns]"
      ]
     },
     "execution_count": 38,
     "metadata": {},
     "output_type": "execute_result"
    }
   ],
   "source": [
    "lw_tmp = lw_df[(lw_df.date == '2019-11-04') & (lw_df.ticker == 'EQN')]\n",
    "lw_tmp"
   ]
  },
  {
   "cell_type": "code",
   "execution_count": 39,
   "metadata": {},
   "outputs": [
    {
     "data": {
      "text/plain": [
       "Index(['ticker', 'date', 'open', 'close', 'high', 'low', 'volume',\n",
       "       'change_price', 'per_change_price', 'ema26',\n",
       "       ...\n",
       "       'min_change_macd_line', 'prev_max_grad_macd_line',\n",
       "       'prev_min_grad_macd_line', 'max_move_cum_macd_line',\n",
       "       'min_move_cum_macd_line', 'long_prev_max_move_date_macd_line',\n",
       "       'long_prev_min_move_date_macd_line', 'long_max_grad_macd_line',\n",
       "       'long_min_grad_macd_line', 'signal'],\n",
       "      dtype='object', length=106)"
      ]
     },
     "execution_count": 39,
     "metadata": {},
     "output_type": "execute_result"
    }
   ],
   "source": [
    "tw_tmp.columns"
   ]
  },
  {
   "cell_type": "code",
   "execution_count": 40,
   "metadata": {},
   "outputs": [
    {
     "name": "stdout",
     "output_type": "stream",
     "text": [
      "MATCH IN ticker - EQN vs EQN\n",
      "MATCH IN date - 2019-11-04T00:00:00.000000000 vs 2019-11-04T00:00:00.000000000\n",
      "MATCH IN open - 0.5014599329512275 vs 0.5014599329512275\n",
      "MATCH IN close - 0.5628974884122022 vs 0.5628974884122022\n",
      "MATCH IN high - 0.4789515488482923 vs 0.4789515488482923\n",
      "MATCH IN low - 0.5300289048281768 vs 0.5300289048281768\n",
      "MATCH IN volume - 0.01145500033716825 vs 0.01145500033716825\n",
      "MATCH IN change_price - 0.061437555460974735 vs 0.061437555460974735\n",
      "MATCH IN per_change_price - 0.10914519379767572 vs 0.10914519379767572\n",
      "MATCH IN ema26 - 0.49646707677321017 vs 0.49646707677321017\n",
      "MATCH IN macd - 0.01012308280582274 vs 0.01012308280582274\n",
      "MATCH IN signal_line - -0.01913082397374493 vs -0.01913082397374493\n",
      "MATCH IN macd_line - -0.00900774116792219 vs -0.00900774116792219\n",
      "MATCH IN close_shift1 - 0.5003772771370055 vs 0.5003772771370055\n",
      "MATCH IN change_close_shift1 - 0.06252021127519669 vs 0.06252021127519669\n",
      "MATCH IN volume_shift1 - 0.012395136939469075 vs 0.012395136939469075\n",
      "MATCH IN change_volume_shift1 - -0.0009401366023008249 vs -0.0009401366023008249\n",
      "MATCH IN ema26_shift1 - 0.4931411415727466 vs 0.4931411415727466\n",
      "MATCH IN change_ema26_shift1 - 0.0033259352004635923 vs 0.0033259352004635923\n",
      "MATCH IN close_13_norm - 1.0 vs 1.0\n",
      "MATCH IN close_26_norm - 0.9465240641711229 vs 0.9465240641711229\n",
      "MATCH IN close_52_norm - 0.9465240641711229 vs 0.9465240641711229\n",
      "MATCH IN macd_line_13_norm - 0.4646135209430187 vs 0.4646135209430187\n",
      "MATCH IN macd_line_26_norm - 0.3016315690770175 vs 0.3016315690770175\n",
      "MATCH IN macd_line_52_norm - 0.5333284823200791 vs 0.5333284823200791\n",
      "MATCH IN close_max - False vs False\n",
      "MATCH IN close_min - False vs False\n",
      "MATCH IN prev_max_close - 0.5391829255147138 vs 0.5391829255147138\n",
      "MATCH IN prev_min_close - 0.4335453271531745 vs 0.4335453271531745\n",
      "MATCH IN prev_max_close_date_change - 18.0 vs 18.0\n",
      "MATCH IN prev_min_close_date_change - 5.0 vs 5.0\n",
      "MATCH IN max_change_close - 0.02371456289748841 vs 0.02371456289748841\n",
      "MATCH IN min_change_close - 0.1293521612590277 vs 0.1293521612590277\n",
      "MATCH IN prev_max_grad_close - -0.005748984944845677 vs -0.005748984944845677\n",
      "MATCH IN prev_min_grad_close - 0.00877746808543402 vs 0.00877746808543402\n",
      "MATCH IN max_move_cum_close - 0 vs 0\n",
      "MATCH IN min_move_cum_close - 0 vs 0\n",
      "MATCH IN long_prev_max_move_date_close - 0.0 vs 0.0\n",
      "MATCH IN long_prev_min_move_date_close - 0.0 vs 0.0\n",
      "MATCH IN long_max_grad_close - 0.0 vs 0.0\n",
      "MATCH IN long_min_grad_close - 0.0 vs 0.0\n",
      "MATCH IN macd_max - False vs False\n",
      "MATCH IN macd_min - False vs False\n",
      "MATCH IN prev_max_macd - -0.014030297437289625 vs -0.014030297437289625\n",
      "MATCH IN prev_min_macd - -0.018513459834887856 vs -0.018513459834887856\n",
      "MATCH IN prev_max_macd_date_change - 6.0 vs 6.0\n",
      "MATCH IN prev_min_macd_date_change - 5.0 vs 5.0\n",
      "MATCH IN max_change_macd - 0.024153380243112366 vs 0.024153380243112366\n",
      "MATCH IN min_change_macd - 0.028636542640710597 vs 0.028636542640710597\n",
      "MATCH IN prev_max_grad_macd - -0.0022530943959237354 vs -0.0022530943959237354\n",
      "MATCH IN prev_min_grad_macd - 0.0010753968046795157 vs 0.0010753968046795157\n",
      "MATCH IN max_move_cum_macd - 0 vs 0\n",
      "MATCH IN min_move_cum_macd - 0 vs 0\n",
      "MATCH IN long_prev_max_move_date_macd - 0.0 vs 0.0\n",
      "MATCH IN long_prev_min_move_date_macd - 0.0 vs 0.0\n",
      "MATCH IN long_max_grad_macd - 0.0 vs 0.0\n",
      "MATCH IN long_min_grad_macd - 0.0 vs 0.0\n",
      "MIS-MATCH IN ema26_max - False vs True\n",
      "MATCH IN ema26_min - False vs False\n",
      "MATCH IN prev_max_ema26 - 0.4954137104077817 vs 0.4954137104077817\n",
      "MATCH IN prev_min_ema26 - 0.48734609104340687 vs 0.48734609104340687\n",
      "MATCH IN prev_max_ema26_date_change - 3.0 vs 3.0\n",
      "MATCH IN prev_min_ema26_date_change - 5.0 vs 5.0\n",
      "MATCH IN max_change_ema26 - 0.0010533663654284653 vs 0.0010533663654284653\n",
      "MATCH IN min_change_ema26 - 0.0091209857298033 vs 0.0091209857298033\n",
      "MATCH IN prev_max_grad_ema26 - 0.0012896444258953393 vs 0.0012896444258953393\n",
      "MATCH IN prev_min_grad_ema26 - 0.0018408319403612112 vs 0.0018408319403612112\n",
      "MATCH IN max_move_cum_ema26 - 3 vs 3\n",
      "MATCH IN min_move_cum_ema26 - 3 vs 3\n",
      "MATCH IN long_prev_max_move_date_ema26 - 21.0 vs 21.0\n",
      "MATCH IN long_prev_min_move_date_ema26 - 20.0 vs 20.0\n",
      "MATCH IN long_max_grad_ema26 - 0.0007517830269438101 vs 0.0007517830269438101\n",
      "MATCH IN long_min_grad_ema26 - 0.0006663386797050586 vs 0.0006663386797050586\n",
      "MATCH IN signal_line_max - False vs False\n",
      "MATCH IN signal_line_min - False vs False\n",
      "MATCH IN prev_max_signal_line - 0.02778350185318426 vs 0.02778350185318426\n",
      "MATCH IN prev_min_signal_line - -0.04799714004377867 vs -0.04799714004377867\n",
      "MATCH IN prev_max_signal_line_date_change - 15.0 vs 15.0\n",
      "MATCH IN prev_min_signal_line_date_change - 33.0 vs 33.0\n",
      "MATCH IN max_change_signal_line - -0.04691432582692919 vs -0.04691432582692919\n",
      "MATCH IN min_change_signal_line - 0.02886631607003374 vs 0.02886631607003374\n",
      "MATCH IN prev_max_grad_signal_line - 0.0017016315101597483 vs 0.0017016315101597483\n",
      "MATCH IN prev_min_grad_signal_line - 0.0035750097843718033 vs 0.0035750097843718033\n",
      "MATCH IN max_move_cum_signal_line - 0 vs 0\n",
      "MATCH IN min_move_cum_signal_line - 0 vs 0\n",
      "MATCH IN long_prev_max_move_date_signal_line - 0.0 vs 0.0\n",
      "MATCH IN long_prev_min_move_date_signal_line - 0.0 vs 0.0\n",
      "MATCH IN long_max_grad_signal_line - 0.0 vs 0.0\n",
      "MATCH IN long_min_grad_signal_line - 0.0 vs 0.0\n",
      "MATCH IN macd_line_max - False vs False\n",
      "MATCH IN macd_line_min - False vs False\n",
      "MATCH IN prev_max_macd_line - -0.01459779984626386 vs -0.01459779984626386\n",
      "MATCH IN prev_min_macd_line - -0.028147991525160787 vs -0.028147991525160787\n",
      "MATCH IN prev_max_macd_line_date_change - 7.0 vs 7.0\n",
      "MATCH IN prev_min_macd_line_date_change - 5.0 vs 5.0\n",
      "MATCH IN max_change_macd_line - 0.0055900586783416695 vs 0.0055900586783416695\n",
      "MATCH IN min_change_macd_line - 0.019140250357238597 vs 0.019140250357238597\n",
      "MATCH IN prev_max_grad_macd_line - -0.004536866803763432 vs -0.004536866803763432\n",
      "MATCH IN prev_min_grad_macd_line - -0.004279748719402325 vs -0.004279748719402325\n",
      "MATCH IN max_move_cum_macd_line - 0 vs 0\n",
      "MATCH IN min_move_cum_macd_line - 0 vs 0\n",
      "MATCH IN long_prev_max_move_date_macd_line - 0.0 vs 0.0\n",
      "MATCH IN long_prev_min_move_date_macd_line - 0.0 vs 0.0\n",
      "MATCH IN long_max_grad_macd_line - 0.0 vs 0.0\n",
      "MATCH IN long_min_grad_macd_line - 0.0 vs 0.0\n",
      "MATCH IN signal - hold vs hold\n"
     ]
    }
   ],
   "source": [
    "for i in lw_tmp.columns:\n",
    "    if i not in tw_tmp:\n",
    "        print(r'NO {} IN tw_tmp'.format(i))\n",
    "    elif lw_tmp[i].values[0] != tw_tmp[i].values[0]:\n",
    "        print(r'MIS-MATCH IN {} - {} vs {}'.format(i,lw_tmp[i].values[0],tw_tmp[i].values[0]))\n",
    "    else:\n",
    "        print(r'MATCH IN {} - {} vs {}'.format(i,lw_tmp[i].values[0],tw_tmp[i].values[0]))"
   ]
  },
  {
   "cell_type": "code",
   "execution_count": 41,
   "metadata": {},
   "outputs": [
    {
     "data": {
      "text/plain": [
       " 0     152732\n",
       " 1      36137\n",
       "-1      35090\n",
       "-2      16164\n",
       " 2      16025\n",
       "-3       7248\n",
       " 3       6613\n",
       "-4       3331\n",
       " 4       2656\n",
       "-5       1365\n",
       " 5        862\n",
       "-6        682\n",
       " 6        391\n",
       "-7        204\n",
       " 7        169\n",
       " 8         65\n",
       "-8         54\n",
       "-10        21\n",
       "-9         15\n",
       "Name: max_move_cum_macd_line, dtype: int64"
      ]
     },
     "execution_count": 41,
     "metadata": {},
     "output_type": "execute_result"
    }
   ],
   "source": [
    "tw_df.max_move_cum_macd_line.value_counts()"
   ]
  }
 ],
 "metadata": {
  "kernelspec": {
   "display_name": "Python 3",
   "language": "python",
   "name": "python3"
  },
  "language_info": {
   "codemirror_mode": {
    "name": "ipython",
    "version": 3
   },
   "file_extension": ".py",
   "mimetype": "text/x-python",
   "name": "python",
   "nbconvert_exporter": "python",
   "pygments_lexer": "ipython3",
   "version": "3.7.0"
  }
 },
 "nbformat": 4,
 "nbformat_minor": 2
}
