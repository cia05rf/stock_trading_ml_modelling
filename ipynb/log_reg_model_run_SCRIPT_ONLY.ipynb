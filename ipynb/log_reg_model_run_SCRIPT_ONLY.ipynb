{
 "cells": [
  {
   "cell_type": "markdown",
   "metadata": {},
   "source": [
    "# Trialing the logistic regression model,\n",
    "The code will run the logistic regression model on the FTSE 350 stock data and see what the profit would have been from investing with the below criteria:\n",
    "- Starting with \\u00c2\\u00a310,000\n",
    "- Never investing more than 10% of the value into a single stock\n",
    "- Tracking balance so once the account is empty no more can be invested until shares are liqidated\n",
    "- Shares are bought at the open of the day following the first buy signal, if shares are not already held\n",
    "- Shares are sold at the open of the day following the first close signal after a hold period, if shares are held\n",
    "\n",
    "Trading variables:\n",
    "- Trades cost \\u00c2\\u00a32.50 to execute\n",
    "- Spread is 1%"
   ]
  },
  {
   "cell_type": "code",
   "execution_count": 1,
   "metadata": {},
   "outputs": [
    {
     "ename": "IndentationError",
     "evalue": "unexpected indent (<ipython-input-1-427a504bc45f>, line 2)",
     "output_type": "error",
     "traceback": [
      "\u001b[1;36m  File \u001b[1;32m\"<ipython-input-1-427a504bc45f>\"\u001b[1;36m, line \u001b[1;32m2\u001b[0m\n\u001b[1;33m    \"path = r'C:\\\\\\\\Users\\\\\\\\Robert\\\\\\\\Documents\\\\\\\\Python Scripts\\\\\\\\Stock trading - ML modelling\\\\\\\\Historical prices'\\n\",\u001b[0m\n\u001b[1;37m    ^\u001b[0m\n\u001b[1;31mIndentationError\u001b[0m\u001b[1;31m:\u001b[0m unexpected indent\n"
     ]
    }
   ],
   "source": [
    "#Import and combine prices files\n",
    "path = r'C:\\\\Users\\\\Robert\\\\Documents\\\\Python Scripts\\\\Stock trading - ML modelling\\\\Historical prices'\n",
    "df_ft = pd.read_hdf(path +'\\\\all_hist_prices_w_ft_eng2.h5')\n",
    "print('SHAPE: {}'.format(df_ft.shape))\n",
    "print(df_ft.columns)\n",
    "df_ft.head()"
   ]
  },
  {
   "cell_type": "code",
   "execution_count": null,
   "metadata": {},
   "outputs": [],
   "source": [
    "#Import the features\n",
    "file_object = open(path+r'\\\\log_reg_model_feature_list.txt','r')\n",
    "ft_li = file_object.read().split(',')\n",
    "file_object.close()\n",
    "ft_li"
   ]
  },
  {
   "cell_type": "code",
   "execution_count": 2,
   "metadata": {},
   "outputs": [
    {
     "ename": "IndentationError",
     "evalue": "unexpected indent (<ipython-input-2-a8d39a58587a>, line 2)",
     "output_type": "error",
     "traceback": [
      "\u001b[1;36m  File \u001b[1;32m\"<ipython-input-2-a8d39a58587a>\"\u001b[1;36m, line \u001b[1;32m2\u001b[0m\n\u001b[1;33m    \"lr_mod = jl.load(path+r'\\\\\\\\log_reg_model.joblib')\\n\",\u001b[0m\n\u001b[1;37m    ^\u001b[0m\n\u001b[1;31mIndentationError\u001b[0m\u001b[1;31m:\u001b[0m unexpected indent\n"
     ]
    }
   ],
   "source": [
    "#Import to lr model\n",
    "lr_mod = jl.load(path+r'\\\\log_reg_model.joblib')\n",
    "lr_mod"
   ]
  },
  {
   "cell_type": "code",
   "execution_count": 3,
   "metadata": {},
   "outputs": [
    {
     "ename": "IndentationError",
     "evalue": "unexpected indent (<ipython-input-3-2b12aeef3884>, line 2)",
     "output_type": "error",
     "traceback": [
      "\u001b[1;36m  File \u001b[1;32m\"<ipython-input-3-2b12aeef3884>\"\u001b[1;36m, line \u001b[1;32m2\u001b[0m\n\u001b[1;33m    \"lr_mod_df.head()\"\u001b[0m\n\u001b[1;37m    ^\u001b[0m\n\u001b[1;31mIndentationError\u001b[0m\u001b[1;31m:\u001b[0m unexpected indent\n"
     ]
    }
   ],
   "source": [
    "lr_mod_df = df_ft.replace([np.inf,-np.inf],np.nan).dropna(axis=0)\n",
    "lr_mod_df.head()"
   ]
  },
  {
   "cell_type": "code",
   "execution_count": 4,
   "metadata": {},
   "outputs": [
    {
     "ename": "IndentationError",
     "evalue": "unexpected indent (<ipython-input-4-32882f9e448d>, line 2)",
     "output_type": "error",
     "traceback": [
      "\u001b[1;36m  File \u001b[1;32m\"<ipython-input-4-32882f9e448d>\"\u001b[1;36m, line \u001b[1;32m2\u001b[0m\n\u001b[1;33m    \"lr_mod_df = df_ft.replace([np.inf,-np.inf],np.nan).dropna(axis=0).reset_index(drop=True) #Reset index allows joining of signal after calc_probs_df\\n\",\u001b[0m\n\u001b[1;37m    ^\u001b[0m\n\u001b[1;31mIndentationError\u001b[0m\u001b[1;31m:\u001b[0m unexpected indent\n"
     ]
    }
   ],
   "source": [
    "#Run the lr model on the data\n",
    "lr_mod_df = df_ft.replace([np.inf,-np.inf],np.nan).dropna(axis=0).reset_index(drop=True) #Reset index allows joining of signal after calc_probs_df\n",
    "\n",
    "#Function for creating a dataframe with model probabilities and the most likely outcome\n",
    "def calc_probs_df(models,unique_classes,df_test,features):\n",
    "    modelled_probs = pd.DataFrame(columns=unique_classes)\n",
    "    for cl in unique_classes:\n",
    "        x_test = df_test[features]\n",
    "        modelled_probs[cl] = models[cl].predict_proba(x_test)[:,1] \n",
    "        #Column index 1 as predict_proba outputs 2 columns,\n",
    "            #the first is the probability that it is a negative result\n",
    "            #the second is the probability that it is a positive result\n",
    "            #that's why we want column index 1, we are looking at the positive result\n",
    "    #Determine the most probable result\n",
    "    modelled_probs['signal'] = modelled_probs.idxmax(axis=1)\n",
    "    modelled_probs['signal_prob'] = modelled_probs[unique_classes].max(axis=1)\n",
    "#     print(modelled_probs)\n",
    "    for cl in unique_classes:\n",
    "        print(len(modelled_probs.loc[modelled_probs['signal'] == cl,:]))\n",
    "    return (modelled_probs['signal'],modelled_probs['signal_prob'])\n",
    "lr_mod_df['signal'],lr_mod_df['signal_prob'] = calc_probs_df(lr_mod,['buy','sell','hold'],lr_mod_df,ft_li)\n",
    "lr_mod_df.head()"
   ]
  },
  {
   "cell_type": "code",
   "execution_count": 5,
   "metadata": {},
   "outputs": [
    {
     "ename": "IndentationError",
     "evalue": "unexpected indent (<ipython-input-5-25589bcb4019>, line 2)",
     "output_type": "error",
     "traceback": [
      "\u001b[1;36m  File \u001b[1;32m\"<ipython-input-5-25589bcb4019>\"\u001b[1;36m, line \u001b[1;32m2\u001b[0m\n\u001b[1;33m    \"df_prices = pd.read_hdf(path +\\\"\\\\\\\\all_hist_prices_w.h5\\\")\"\u001b[0m\n\u001b[1;37m    ^\u001b[0m\n\u001b[1;31mIndentationError\u001b[0m\u001b[1;31m:\u001b[0m unexpected indent\n"
     ]
    }
   ],
   "source": [
    "#Import and combine prices files\n",
    "df_prices = pd.read_hdf(path +'\\\\all_hist_prices_w.h5')"
   ]
  },
  {
   "cell_type": "code",
   "execution_count": 6,
   "metadata": {},
   "outputs": [
    {
     "ename": "IndentationError",
     "evalue": "unexpected indent (<ipython-input-6-a94dda670419>, line 2)",
     "output_type": "error",
     "traceback": [
      "\u001b[1;36m  File \u001b[1;32m\"<ipython-input-6-a94dda670419>\"\u001b[1;36m, line \u001b[1;32m2\u001b[0m\n\u001b[1;33m    \"#These allow the buying and selling to be done at a realistic price\\n\",\u001b[0m\n\u001b[1;37m    ^\u001b[0m\n\u001b[1;31mIndentationError\u001b[0m\u001b[1;31m:\u001b[0m unexpected indent\n"
     ]
    }
   ],
   "source": [
    "#Sort by ticker and date then add the open_shift_neg1 field\n",
    "#These allow the buying and selling to be done at a realistic price\n",
    "df_prices.sort_values(['Ticker','Date'],ascending=[True,True],inplace=True)\n",
    "df_prices['open_shift_neg1'] = df_prices['Open'].shift(-1)\n",
    "df_prices['Date'] = df_prices['Date'].astype('datetime64')\n",
    "print('SHAPE: {}'.format(df_prices.shape))\n",
    "print(df_prices.columns)\n",
    "df_prices.head()"
   ]
  },
  {
   "cell_type": "code",
   "execution_count": 7,
   "metadata": {},
   "outputs": [
    {
     "ename": "IndentationError",
     "evalue": "unexpected indent (<ipython-input-7-1f1b27acae3d>, line 2)",
     "output_type": "error",
     "traceback": [
      "\u001b[1;36m  File \u001b[1;32m\"<ipython-input-7-1f1b27acae3d>\"\u001b[1;36m, line \u001b[1;32m2\u001b[0m\n\u001b[1;33m    \"df_prices = pd.merge(df_prices[[\\\"Ticker\\\",\\\"Date\\\",\\\"Open\\\",\\\"Close\\\",\\\"open_shift_neg1\\\"]],lr_mod_df[[\\\"Ticker\\\",\\\"Date\\\",\\\"signal\\\",\\\"signal_prob\\\"]],left_on=[\\\"Ticker\\\",\\\"Date\\\"],right_on=[\\\"Ticker\\\",\\\"Date\\\"],how=\\\"inner\\\")\\n\",\u001b[0m\n\u001b[1;37m    ^\u001b[0m\n\u001b[1;31mIndentationError\u001b[0m\u001b[1;31m:\u001b[0m unexpected indent\n"
     ]
    }
   ],
   "source": [
    "#Join on the buy and sell signals\n",
    "df_prices = pd.merge(df_prices[['Ticker','Date','Open','Close','open_shift_neg1']],lr_mod_df[['Ticker','Date','signal','signal_prob']],left_on=['Ticker','Date'],right_on=['Ticker','Date'],how='inner')\n",
    "print('SHAPE: {}'.format(df_prices.shape))\n",
    "print(df_prices.columns)\n",
    "df_prices.head()"
   ]
  },
  {
   "cell_type": "code",
   "execution_count": 8,
   "metadata": {},
   "outputs": [
    {
     "ename": "IndentationError",
     "evalue": "unexpected indent (<ipython-input-8-345fe49852c1>, line 2)",
     "output_type": "error",
     "traceback": [
      "\u001b[1;36m  File \u001b[1;32m\"<ipython-input-8-345fe49852c1>\"\u001b[1;36m, line \u001b[1;32m2\u001b[0m\n\u001b[1;33m    \"class new_fund:\\n\",\u001b[0m\n\u001b[1;37m    ^\u001b[0m\n\u001b[1;31mIndentationError\u001b[0m\u001b[1;31m:\u001b[0m unexpected indent\n"
     ]
    }
   ],
   "source": [
    "#Create a class for maintaining the value of the fund\n",
    "class new_fund:\n",
    "    def __init__(self,init_val):\n",
    "        self.st_val = init_val\n",
    "        self.available = init_val\n",
    "        self.invested_value = 0\n",
    "        self.codb = 0\n",
    "        self.ledger = []\n",
    "        self.cur_holdings = {}\n",
    "        print('NEW FUND')\n",
    "        print('st_val:{}'.format(self.st_val))\n",
    "        print('available:{}'.format(self.available))\n",
    "    @property\n",
    "    def fund_value(self):\n",
    "        return self.invested_value + self.available\n",
    "    #Create a function to buy shares\n",
    "    def buy(self,ticker:str,price:float,spread:float,value:float,trade_cost:float,val_inc_tc:bool = True):\n",
    "#         print('')\n",
    "#         print('BUY SHARE:{}'.format(ticker))\n",
    "#         print('PRICE:{}'.format(price))\n",
    "#         print('SPREAD:{}'.format(spread))\n",
    "#         print('VALUE:{}'.format(value))\n",
    "#         print('TRADE COST:{}'.format(trade_cost))\n",
    "#         print('VALUE INC TRADE COST:{}'.format(val_inc_tc))\n",
    "#         #Check if already bought\n",
    "        if ticker in self.cur_holdings:\n",
    "#             print('{} ALREADY IN HOLDINGS, EXITING BUY METHOD'.format(ticker))\n",
    "            return\n",
    "        #Error check\n",
    "        if spread > 1 or spread < 0:\n",
    "            raise ValueError('spread should be between 0 and 1, the value expressed was -> {}'.format(spread))\n",
    "        if price < 0:\n",
    "            raise ValueError('price cannot be a negative, the value expressed was -> {}'.format(price))\n",
    "        #Calculate the trade value\n",
    "        if val_inc_tc == True:\n",
    "            trade_funds = value - trade_cost\n",
    "        else:\n",
    "            trade_funds = value\n",
    "        #Calculate the ask and bid price of each share\n",
    "        a_price = round(price * (1+spread),2)\n",
    "        b_price = round(price * (1-spread),2)\n",
    "        #Calculate the number of whole shares which can be purchased\n",
    "        share_vol = int(trade_funds/a_price)\n",
    "        trade_value = round(share_vol * a_price,2)\n",
    "        #Calc the total_spend\n",
    "        spread_cost = round(share_vol * price * spread,2)\n",
    "        total_spend = (share_vol*a_price) + trade_cost\n",
    "        #Check the fund has the money to cover this trade\n",
    "        if total_spend > self.available:\n",
    "            raise ValueError('you do not have the funds to make this trade -> this transaction will be cancelled')\n",
    "        #Create a record for the ledger\n",
    "        ledge_rec = {\n",
    "            'trade_type':'buy\\\n",
    "            ,'ticker':ticker\n",
    "            ,'spread':spread\n",
    "            ,'price':price\n",
    "            ,'ask_price':a_price\n",
    "            ,'bid_price':b_price\n",
    "            ,'share_vol':share_vol\n",
    "            ,'trade_value':trade_value\n",
    "            ,'trade_cost':trade_cost\n",
    "            ,'spread_cost':spread_cost\n",
    "            ,'holding_value':share_vol*price\n",
    "            ,'total_spend':total_spend\n",
    "            ,'invested_pre_trade':self.invested_value\n",
    "            ,'invested_post_trade':self.invested_value + (share_vol*price)\n",
    "            ,'available_pre_trade':self.available\n",
    "            ,'available_post_trade':self.available - total_spend\n",
    "        }\n",
    "        self.ledger.append(ledge_rec)\n",
    "        #Update the object\n",
    "        self.available += -round(total_spend,2)\n",
    "        self.codb += round(trade_cost + spread_cost,2)\n",
    "        self.invested_value += round(share_vol*price,2)\n",
    "        #Add to cur_holdings\n",
    "        holding_rec = {\n",
    "           'share_vol':share_vol\n",
    "            ,'cur_price':price\n",
    "            ,'value':round(share_vol*price,2)\n",
    "        }\n",
    "        #Check if key already in dict\n",
    "        if ticker in self.cur_holdings:\n",
    "#             print('{} IS IN cur_holdings'.format(ticker))\n",
    "            self.cur_holdings[ticker]['share_vol'] += share_vol\n",
    "            self.cur_holdings[ticker]['cur_price'] = round(price,2)\n",
    "            self.cur_holdings[ticker]['value'] = round(self.cur_holdings[ticker]['share_vol']*price,2)\n",
    "        else:\n",
    "#             print('{} IS NOT IN cur_holdings'.format(ticker))\n",
    "            self.cur_holdings[ticker] = holding_rec\n",
    "#         print('a_price:{}'.format(a_price))\n",
    "#         print('b_price:{}'.format(b_price))\n",
    "#         print('trade_funds:{}'.format(trade_funds))\n",
    "#         print('share_vol:{}'.format(share_vol))\n",
    "#         print('trade_value:{}'.format(trade_value))\n",
    "#         print('self.available:{}'.format(self.available))\n",
    "#         print('self.codb:{}'.format(self.codb))\n",
    "#         print('self.invested_value:{}'.format(self.invested_value))\n",
    "#         print('self.fund_value:{}'.format(self.fund_value))\n",
    "        \n",
    "    #Create a function to sell shares\n",
    "    def sell(self,ticker:str,trade_date:datetime,price:float,spread:float,trade_cost:float):\n",
    "#         print('')\n",
    "#         print('SELL SHARE:{}'.format(ticker))\n",
    "#         print('PRICE:{}'.format(price))\n",
    "#         print('SPREAD:{}'.format(spread))\n",
    "        #Check if already sold\n",
    "        if ticker not in self.cur_holdings:\n",
    "#             print('{} NOT IN HOLDINGS, EXITING SELL METHOD'.format(ticker))\n",
    "            return\n",
    "        #Round down the share_vol\n",
    "        share_vol = int(self.cur_holdings[ticker]['share_vol'])\n",
    "#         print('SHARE VOL:{}'.format(share_vol))\n",
    "#         print('TRADE COST:{}'.format(trade_cost))\n",
    "        #Error check\n",
    "        if spread > 1 or spread < 0:\n",
    "            raise ValueError('spread should be between 0 and 1, the value expressed was -> {}'.format(spread))\n",
    "        if price < 0:\n",
    "            raise ValueError('price cannot be a negative, the value expressed was -> {}'.format(price))\n",
    "        #Calculate the ask and bid price of each share\n",
    "        a_price = round(price * (1+spread),2)\n",
    "        b_price = round(price * (1-spread),2)\n",
    "        #Calculate the trade value\n",
    "        trade_value = round(share_vol*b_price,2)\n",
    "        value = round(trade_value - trade_cost,2)\n",
    "        spread_cost = round(share_vol * price * spread)\n",
    "        #Calc the total_spend\n",
    "        total_spend = round(trade_cost+spread_cost-(share_vol*price),2)\n",
    "        #Check the fund has the money to cover this trade\n",
    "        if total_spend > self.available:\n",
    "            raise ValueError('you do not have the funds to make this trade -> this transaction will be cancelled')\n",
    "        #Create a record for the ledger\n",
    "        ledge_rec = {\n",
    "           'trade_type':'sell\\\n",
    "            ,'ticker':ticker\n",
    "            ,'trade_date':ticker\n",
    "            ,'spread':spread\n",
    "            ,'price':price\n",
    "            ,'ask_price':a_price\n",
    "            ,'bid_price':b_price\n",
    "            ,'share_vol':share_vol\n",
    "            ,'trade_value':trade_value\n",
    "            ,'trade_cost':trade_cost\n",
    "            ,'spread_cost':spread_cost\n",
    "            ,'holding_value':share_vol*price\n",
    "            ,'total_spend':total_spend\n",
    "            ,'invested_pre_trade':self.invested_value\n",
    "            ,'invested_post_trade':self.invested_value - (share_vol*price)\n",
    "            ,'available_pre_trade':self.available\n",
    "            ,'available_post_trade':self.available - total_spend\n",
    "        }\n",
    "        self.ledger.append(ledge_rec)\n",
    "        #Update the object\n",
    "        self.available += -round(total_spend,2)\n",
    "        self.codb += round(trade_cost + spread_cost,2)\n",
    "        self.invested_value += -round((share_vol*price),2)\n",
    "        #Remove from cur_holdings\n",
    "        #Check if key already in dict\n",
    "        if ticker in self.cur_holdings:\n",
    "#             print('{} IS IN cur_holdings'.format(ticker))\n",
    "            if self.cur_holdings[ticker]['share_vol'] > share_vol:\n",
    "                self.cur_holdings[ticker]['share_vol'] += -share_vol\n",
    "                self.cur_holdings[ticker]['cur_price'] = price\n",
    "                self.cur_holdings[ticker]['value'] = round(self.cur_holdings[ticker]['share_vol']*price,2)\n",
    "            elif self.cur_holdings[ticker]['share_vol'] == share_vol:\n",
    "                del self.cur_holdings[ticker] #Delete from the dictionary\n",
    "            else:\n",
    "                raise ValueError('you do not have enough share to make this trade. You want to sell {} of {} however you only have {}'.format(share_vol,ticker,self.cur_holdings[ticker]['share_vol']))\n",
    "        else:\n",
    "#             print('{} IS NOT IN cur_holdings'.format(ticker))\n",
    "            return\n",
    "#         print('a_price:{}'.format(a_price))\n",
    "#         print('share_vol:{}'.format(share_vol))\n",
    "#         print('trade_value:{}'.format(trade_value))\n",
    "#         print('self.available:{}'.format(self.available))\n",
    "#         print('self.codb:{}'.format(self.codb))\n",
    "#         print('self.invested_value:{}'.format(self.invested_value))\n",
    "#         print('self.fund_value:{}'.format(self.fund_value))\n",
    "#         print('self.cur_holdings:{}'.format(self.cur_holdings))\n",
    "        \n",
    "    #Create a function to update value after a price change\n",
    "    def price_change(self,ticker:str,price:float):\n",
    "#         print('')\n",
    "#         print('PRICE CHANGE:{}'.format(ticker))\n",
    "#         print('PRICE:{}'.format(price))\n",
    "        #Check if key already in dict\n",
    "        if ticker in self.cur_holdings:\n",
    "            #Update the object\n",
    "            self.invested_value += round((self.cur_holdings[ticker]['share_vol']*price) - self.cur_holdings[ticker]['value'],2)\n",
    "#             print('{} IS IN cur_holdings'.format(ticker))\n",
    "            self.cur_holdings[ticker]['cur_price'] = price\n",
    "            self.cur_holdings[ticker]['value'] = round(self.cur_holdings[ticker]['share_vol']*price,2)\n",
    "#             print('price:{}'.format(price))\n",
    "#             print('value:{}'.format(self.cur_holdings[ticker]['value']))\n",
    "        else:\n",
    "#             print('{} NOT IN HOLDINGS, EXITING SELL METHOD'.format(ticker))\n",
    "            return\n",
    "#         print('self.invested_value:{}'.format(self.invested_value))\n",
    "#         print('self.fund_value:{}'.format(self.fund_value))"
   ]
  },
  {
   "cell_type": "code",
   "execution_count": 9,
   "metadata": {},
   "outputs": [
    {
     "ename": "IndentationError",
     "evalue": "unexpected indent (<ipython-input-9-54576cb6e343>, line 2)",
     "output_type": "error",
     "traceback": [
      "\u001b[1;36m  File \u001b[1;32m\"<ipython-input-9-54576cb6e343>\"\u001b[1;36m, line \u001b[1;32m2\u001b[0m\n\u001b[1;33m    \"signal_df = df_prices[[\\\"Ticker\\\",\\\"Date\\\",\\\"Open\\\",\\\"Close\\\",\\\"open_shift_neg1\\\",\\\"signal\\\",\\\"signal_prob\\\"]].copy()\\n\",\u001b[0m\n\u001b[1;37m    ^\u001b[0m\n\u001b[1;31mIndentationError\u001b[0m\u001b[1;31m:\u001b[0m unexpected indent\n"
     ]
    }
   ],
   "source": [
    "#Order the data by date (asc) and buy probability (desc)\n",
    "signal_df = df_prices[['Ticker','Date','Open','Close','open_shift_neg1','signal','signal_prob']].copy()\n",
    "signal_df.sort_values(['Date','signal_prob'],ascending=[True,False],inplace=True)\n",
    "signal_df.reset_index(drop=True,inplace=True)\n",
    "signal_df.head()"
   ]
  },
  {
   "cell_type": "code",
   "execution_count": 10,
   "metadata": {},
   "outputs": [
    {
     "ename": "IndentationError",
     "evalue": "unexpected indent (<ipython-input-10-140bbe0f99c8>, line 2)",
     "output_type": "error",
     "traceback": [
      "\u001b[1;36m  File \u001b[1;32m\"<ipython-input-10-140bbe0f99c8>\"\u001b[1;36m, line \u001b[1;32m2\u001b[0m\n\u001b[1;33m    \"#All figures in pence\\n\",\u001b[0m\n\u001b[1;37m    ^\u001b[0m\n\u001b[1;31mIndentationError\u001b[0m\u001b[1;31m:\u001b[0m unexpected indent\n"
     ]
    }
   ],
   "source": [
    "#Establish trading variables\n",
    "#All figures in pence\n",
    "fund_value_st = 1000000 #\\u00c2\\u00a310,000\n",
    "trade_cost = 250\n",
    "investment_limit_min_val = 100000 #\\u00c2\\u00a31,000\n",
    "investment_limit_max_per = 0.1 #10%\n",
    "spread = 0.01 #1%"
   ]
  },
  {
   "cell_type": "code",
   "execution_count": 11,
   "metadata": {},
   "outputs": [
    {
     "ename": "IndentationError",
     "evalue": "unexpected indent (<ipython-input-11-ce5af6502c90>, line 2)",
     "output_type": "error",
     "traceback": [
      "\u001b[1;36m  File \u001b[1;32m\"<ipython-input-11-ce5af6502c90>\"\u001b[1;36m, line \u001b[1;32m2\u001b[0m\n\u001b[1;33m    \"fund = new_fund(fund_value_st)\\n\",\u001b[0m\n\u001b[1;37m    ^\u001b[0m\n\u001b[1;31mIndentationError\u001b[0m\u001b[1;31m:\u001b[0m unexpected indent\n"
     ]
    }
   ],
   "source": [
    "#Run through rows and buy and sell according to signals and holdings\n",
    "fund = new_fund(fund_value_st)\n",
    "for index,row in signal_df.iterrows():\n",
    "#     print('')\n",
    "#     print('NEW ROW: {} {:%d/%m/%Y} {} {:4.4f}'.format(row['Ticker'],row['Date'],row['signal'],row['signal_prob']))\n",
    "    #Follow signal\n",
    "    if row['signal'] =='buy':\n",
    "#         print('FIRE BUY')\n",
    "        #Check for funds\n",
    "        if fund.available < investment_limit_min_val:\n",
    "#             print('NOT ENOUGH FUNDS TO BUY, EXITING -> fund.available:{}, investment_limit_min_val:{}'.format(fund.available,investment_limit_min_val))\n",
    "            continue\n",
    "        #Buy shares\n",
    "        val_to_invest = fund.available*investment_limit_max_per if fund.available*investment_limit_max_per > investment_limit_min_val else investment_limit_min_val\n",
    "        fund.buy(row['Ticker'],row['open_shift_neg1'],spread,val_to_invest,trade_cost)\n",
    "    elif row['signal'] =='sell':\n",
    "#         print('FIRE SELL')\n",
    "        #Sell shares\n",
    "        fund.sell(row['Ticker'],row['open_shift_neg1'],spread,trade_cost)\n",
    "    elif row['signal'] == 'hold':\n",
    "#         print('FIRE HOLD')\n",
    "        fund.price_change(row['Ticker'],row['Close'])\n",
    "        \n",
    "#     buy(self,ticker:str,price:float,spread:float,value:float,trade_cost:float,val_inc_tc:bool = True)\n",
    "#     sell(self,ticker:str,price:float,spread:float,trade_cost:float)\n",
    "#     price_change(self,ticker:str,price:float)\n",
    "#         self.st_val = init_val\n",
    "#         self.available = init_val\n",
    "#         self.invested_value = 0\n",
    "#         self.codb = 0\n",
    "#         self.ledger = []\n",
    "#         self.cur_holdings = {}'"
   ]
  },
  {
   "cell_type": "code",
   "execution_count": 12,
   "metadata": {},
   "outputs": [
    {
     "ename": "IndentationError",
     "evalue": "unexpected indent (<ipython-input-12-25edfe51e8c6>, line 2)",
     "output_type": "error",
     "traceback": [
      "\u001b[1;36m  File \u001b[1;32m\"<ipython-input-12-25edfe51e8c6>\"\u001b[1;36m, line \u001b[1;32m2\u001b[0m\n\u001b[1;33m    \"print(\\\"fund.st_val:\\u00c2\\u00a3{:,.2f}\\\".format(fund.st_val/100))\\n\",\u001b[0m\n\u001b[1;37m    ^\u001b[0m\n\u001b[1;31mIndentationError\u001b[0m\u001b[1;31m:\u001b[0m unexpected indent\n"
     ]
    }
   ],
   "source": [
    "#Show summary\n",
    "print('fund.st_val:\\u00c2\\u00a3{:,.2f}'.format(fund.st_val/100))\n",
    "print('fund.available:\\u00c2\\u00a3{:,.2f}'.format(fund.available/100))\n",
    "print('fund.codb:\\u00c2\\u00a3{:,.2f}'.format(fund.codb/100))\n",
    "print('fund.invested_value:\\u00c2\\u00a3{:,.2f}'.format(fund.invested_value/100))\n",
    "ledger_df = pd.DataFrame(fund.ledger)\n",
    "print('TRADE COUNT:{:,}'.format(len(ledger_df)))\n",
    "ledger_df.head(50)"
   ]
  },
  {
   "cell_type": "code",
   "execution_count": null,
   "metadata": {},
   "outputs": [],
   "source": [
    "#From the ledger create a dataframe of completed trades\n",
    "completed_trades = {}\n",
    "#Format\n",
    "#     ABC:{\n",
    "#         open_position:True/False #Bool showing if there is currently an open position\n",
    "#         ,trades:[ #List showing all trades\n",
    "#             { #Each trade has an object\n",
    "#                 share_vol:12345 #Volume of shares purchased\n",
    "#                 ,buy_spend:12345.67 #Total value spent in buying shares including costs\n",
    "#                 ,sell_spend:12345.67 #Total value spent in selling shares including costs\n",
    "#                 ,profit_loss:12345.67 #Profit/loss of ths trade\n",
    "#             }\n",
    "#         ]\n",
    "#     }\n",
    "for index,row in ledger_df.iterrows():\n",
    "    #Check if there is an open trade for this ticker\n",
    "    if row['ticker'] not in completed_trades:\n",
    "        completed_trades[row['ticker']] = {\n",
    "            'open_position':False\n",
    "            ,'trades':[]\n",
    "        }\n",
    "    #Deal with buying\n",
    "    if row['trade_type'] == 'buy':\n",
    "        #Create a trade object and add to the trades list in completed_trades\n",
    "        completed_trades[row['ticker']]['trades'].append({\n",
    "            'share_vol':row['share_vol']\n",
    "            ,'buy_spend':row['total_spend']\n",
    "            ,'sell_spend':None\n",
    "            ,'profit_loss':None\n",
    "        })\n",
    "#         if completed_trades[row['ticker']].open_position == True:\n",
    "#             #Get the last trade\n",
    "#             completed_trades[row['ticker']].trades:\n",
    "trades_li = []\n",
    "for tick in completed_trades:\n",
    "    for trade in completed_trades[tick]['trades']:\n",
    "        trades_li.append(trade)\n",
    "pd.DataFrame(trades_li)"
   ]
  }
 ],
 "metadata": {
  "kernelspec": {
   "display_name": "Python 3",
   "language": "python",
   "name": "python3"
  },
  "language_info": {
   "codemirror_mode": {
    "name": "ipython",
    "version": 3
   },
   "file_extension": ".py",
   "mimetype": "text/x-python",
   "name": "python",
   "nbconvert_exporter": "python",
   "pygments_lexer": "ipython3",
   "version": "3.7.0"
  }
 },
 "nbformat": 4,
 "nbformat_minor": 2
}
