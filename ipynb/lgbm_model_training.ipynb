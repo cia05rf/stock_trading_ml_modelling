{
 "cells": [
  {
   "cell_type": "markdown",
   "metadata": {},
   "source": [
    "# Use engineered features to train a model\n",
    "This code will use the features created to train a Light Gradient Boost Model (lgbm).\n",
    "The process is:\n",
    "1. Run a lgbm model and compare it to a base model"
   ]
  },
  {
   "cell_type": "code",
   "execution_count": 1,
   "metadata": {},
   "outputs": [],
   "source": [
    "#Import libraries\n",
    "import pandas as pd\n",
    "import numpy as np\n",
    "import re\n",
    "import datetime as dt\n",
    "from sklearn.metrics import roc_auc_score as auc_score\n",
    "import matplotlib.pyplot as plt\n",
    "from rf_modules import *\n",
    "%matplotlib inline"
   ]
  },
  {
   "cell_type": "code",
   "execution_count": 2,
   "metadata": {
    "scrolled": true
   },
   "outputs": [
    {
     "name": "stdout",
     "output_type": "stream",
     "text": [
      "SHAPE: (382706, 106)\n",
      "ticker                                       object\n",
      "date                                 datetime64[ns]\n",
      "open                                        float64\n",
      "close                                       float64\n",
      "high                                        float64\n",
      "                                          ...      \n",
      "long_prev_max_move_date_macd_line           float64\n",
      "long_prev_min_move_date_macd_line           float64\n",
      "long_max_grad_macd_line                     float64\n",
      "long_min_grad_macd_line                     float64\n",
      "signal                                       object\n",
      "Length: 106, dtype: object\n"
     ]
    },
    {
     "data": {
      "text/html": [
       "<div>\n",
       "<style scoped>\n",
       "    .dataframe tbody tr th:only-of-type {\n",
       "        vertical-align: middle;\n",
       "    }\n",
       "\n",
       "    .dataframe tbody tr th {\n",
       "        vertical-align: top;\n",
       "    }\n",
       "\n",
       "    .dataframe thead th {\n",
       "        text-align: right;\n",
       "    }\n",
       "</style>\n",
       "<table border=\"1\" class=\"dataframe\">\n",
       "  <thead>\n",
       "    <tr style=\"text-align: right;\">\n",
       "      <th></th>\n",
       "      <th>ticker</th>\n",
       "      <th>date</th>\n",
       "      <th>open</th>\n",
       "      <th>close</th>\n",
       "      <th>high</th>\n",
       "      <th>low</th>\n",
       "      <th>volume</th>\n",
       "      <th>change_price</th>\n",
       "      <th>per_change_price</th>\n",
       "      <th>ema26</th>\n",
       "      <th>...</th>\n",
       "      <th>min_change_macd_line</th>\n",
       "      <th>prev_max_grad_macd_line</th>\n",
       "      <th>prev_min_grad_macd_line</th>\n",
       "      <th>max_move_cum_macd_line</th>\n",
       "      <th>min_move_cum_macd_line</th>\n",
       "      <th>long_prev_max_move_date_macd_line</th>\n",
       "      <th>long_prev_min_move_date_macd_line</th>\n",
       "      <th>long_max_grad_macd_line</th>\n",
       "      <th>long_min_grad_macd_line</th>\n",
       "      <th>signal</th>\n",
       "    </tr>\n",
       "  </thead>\n",
       "  <tbody>\n",
       "    <tr>\n",
       "      <th>176204</th>\n",
       "      <td>III</td>\n",
       "      <td>2007-12-31</td>\n",
       "      <td>995.0</td>\n",
       "      <td>965.0</td>\n",
       "      <td>1023.0</td>\n",
       "      <td>964.0</td>\n",
       "      <td>4511565.0</td>\n",
       "      <td>-30.0</td>\n",
       "      <td>-0.031088</td>\n",
       "      <td>NaN</td>\n",
       "      <td>...</td>\n",
       "      <td>NaN</td>\n",
       "      <td>NaN</td>\n",
       "      <td>NaN</td>\n",
       "      <td>0</td>\n",
       "      <td>0</td>\n",
       "      <td>0.0</td>\n",
       "      <td>0.0</td>\n",
       "      <td>0.0</td>\n",
       "      <td>0.0</td>\n",
       "      <td>hold</td>\n",
       "    </tr>\n",
       "    <tr>\n",
       "      <th>176205</th>\n",
       "      <td>III</td>\n",
       "      <td>2007-12-31</td>\n",
       "      <td>995.0</td>\n",
       "      <td>965.0</td>\n",
       "      <td>1023.0</td>\n",
       "      <td>964.0</td>\n",
       "      <td>13534695.0</td>\n",
       "      <td>-30.0</td>\n",
       "      <td>-0.031088</td>\n",
       "      <td>NaN</td>\n",
       "      <td>...</td>\n",
       "      <td>NaN</td>\n",
       "      <td>NaN</td>\n",
       "      <td>NaN</td>\n",
       "      <td>0</td>\n",
       "      <td>0</td>\n",
       "      <td>0.0</td>\n",
       "      <td>0.0</td>\n",
       "      <td>0.0</td>\n",
       "      <td>0.0</td>\n",
       "      <td>hold</td>\n",
       "    </tr>\n",
       "    <tr>\n",
       "      <th>176206</th>\n",
       "      <td>III</td>\n",
       "      <td>2007-12-31</td>\n",
       "      <td>995.0</td>\n",
       "      <td>965.0</td>\n",
       "      <td>1023.0</td>\n",
       "      <td>964.0</td>\n",
       "      <td>27069390.0</td>\n",
       "      <td>-30.0</td>\n",
       "      <td>-0.031088</td>\n",
       "      <td>NaN</td>\n",
       "      <td>...</td>\n",
       "      <td>NaN</td>\n",
       "      <td>NaN</td>\n",
       "      <td>NaN</td>\n",
       "      <td>0</td>\n",
       "      <td>0</td>\n",
       "      <td>0.0</td>\n",
       "      <td>0.0</td>\n",
       "      <td>0.0</td>\n",
       "      <td>0.0</td>\n",
       "      <td>sell</td>\n",
       "    </tr>\n",
       "    <tr>\n",
       "      <th>176207</th>\n",
       "      <td>III</td>\n",
       "      <td>2008-01-07</td>\n",
       "      <td>967.5</td>\n",
       "      <td>924.0</td>\n",
       "      <td>989.0</td>\n",
       "      <td>917.5</td>\n",
       "      <td>16056554.0</td>\n",
       "      <td>-43.5</td>\n",
       "      <td>-0.047078</td>\n",
       "      <td>NaN</td>\n",
       "      <td>...</td>\n",
       "      <td>NaN</td>\n",
       "      <td>NaN</td>\n",
       "      <td>NaN</td>\n",
       "      <td>0</td>\n",
       "      <td>0</td>\n",
       "      <td>0.0</td>\n",
       "      <td>0.0</td>\n",
       "      <td>0.0</td>\n",
       "      <td>0.0</td>\n",
       "      <td>hold</td>\n",
       "    </tr>\n",
       "    <tr>\n",
       "      <th>176208</th>\n",
       "      <td>III</td>\n",
       "      <td>2008-01-07</td>\n",
       "      <td>967.5</td>\n",
       "      <td>924.0</td>\n",
       "      <td>989.0</td>\n",
       "      <td>917.5</td>\n",
       "      <td>48169662.0</td>\n",
       "      <td>-43.5</td>\n",
       "      <td>-0.047078</td>\n",
       "      <td>NaN</td>\n",
       "      <td>...</td>\n",
       "      <td>NaN</td>\n",
       "      <td>NaN</td>\n",
       "      <td>NaN</td>\n",
       "      <td>0</td>\n",
       "      <td>0</td>\n",
       "      <td>0.0</td>\n",
       "      <td>0.0</td>\n",
       "      <td>0.0</td>\n",
       "      <td>0.0</td>\n",
       "      <td>hold</td>\n",
       "    </tr>\n",
       "  </tbody>\n",
       "</table>\n",
       "<p>5 rows × 106 columns</p>\n",
       "</div>"
      ],
      "text/plain": [
       "       ticker       date   open  close    high    low      volume  \\\n",
       "176204    III 2007-12-31  995.0  965.0  1023.0  964.0   4511565.0   \n",
       "176205    III 2007-12-31  995.0  965.0  1023.0  964.0  13534695.0   \n",
       "176206    III 2007-12-31  995.0  965.0  1023.0  964.0  27069390.0   \n",
       "176207    III 2008-01-07  967.5  924.0   989.0  917.5  16056554.0   \n",
       "176208    III 2008-01-07  967.5  924.0   989.0  917.5  48169662.0   \n",
       "\n",
       "        change_price  per_change_price  ema26  ...  min_change_macd_line  \\\n",
       "176204         -30.0         -0.031088    NaN  ...                   NaN   \n",
       "176205         -30.0         -0.031088    NaN  ...                   NaN   \n",
       "176206         -30.0         -0.031088    NaN  ...                   NaN   \n",
       "176207         -43.5         -0.047078    NaN  ...                   NaN   \n",
       "176208         -43.5         -0.047078    NaN  ...                   NaN   \n",
       "\n",
       "        prev_max_grad_macd_line  prev_min_grad_macd_line  \\\n",
       "176204                      NaN                      NaN   \n",
       "176205                      NaN                      NaN   \n",
       "176206                      NaN                      NaN   \n",
       "176207                      NaN                      NaN   \n",
       "176208                      NaN                      NaN   \n",
       "\n",
       "        max_move_cum_macd_line  min_move_cum_macd_line  \\\n",
       "176204                       0                       0   \n",
       "176205                       0                       0   \n",
       "176206                       0                       0   \n",
       "176207                       0                       0   \n",
       "176208                       0                       0   \n",
       "\n",
       "        long_prev_max_move_date_macd_line  long_prev_min_move_date_macd_line  \\\n",
       "176204                                0.0                                0.0   \n",
       "176205                                0.0                                0.0   \n",
       "176206                                0.0                                0.0   \n",
       "176207                                0.0                                0.0   \n",
       "176208                                0.0                                0.0   \n",
       "\n",
       "        long_max_grad_macd_line  long_min_grad_macd_line  signal  \n",
       "176204                      0.0                      0.0    hold  \n",
       "176205                      0.0                      0.0    hold  \n",
       "176206                      0.0                      0.0    sell  \n",
       "176207                      0.0                      0.0    hold  \n",
       "176208                      0.0                      0.0    hold  \n",
       "\n",
       "[5 rows x 106 columns]"
      ]
     },
     "execution_count": 2,
     "metadata": {},
     "output_type": "execute_result"
    }
   ],
   "source": [
    "#Import and combine prices files\n",
    "path = r\"C:\\Users\\Robert\\Documents\\python_scripts\\stock_trading_ml_modelling\\historical_prices\"\n",
    "df_ft = pd.read_hdf(path + r\"\\all_hist_prices_w_ft_eng2.h5\")\n",
    "print(\"SHAPE: {}\".format(df_ft.shape))\n",
    "print(df_ft.dtypes)\n",
    "df_ft.head()"
   ]
  },
  {
   "cell_type": "code",
   "execution_count": 3,
   "metadata": {
    "scrolled": true
   },
   "outputs": [
    {
     "data": {
      "text/plain": [
       "Index(['ticker', 'date', 'open', 'close', 'high', 'low', 'volume',\n",
       "       'change_price', 'per_change_price', 'ema26',\n",
       "       ...\n",
       "       'min_change_macd_line', 'prev_max_grad_macd_line',\n",
       "       'prev_min_grad_macd_line', 'max_move_cum_macd_line',\n",
       "       'min_move_cum_macd_line', 'long_prev_max_move_date_macd_line',\n",
       "       'long_prev_min_move_date_macd_line', 'long_max_grad_macd_line',\n",
       "       'long_min_grad_macd_line', 'signal'],\n",
       "      dtype='object', length=106)"
      ]
     },
     "execution_count": 3,
     "metadata": {},
     "output_type": "execute_result"
    }
   ],
   "source": [
    "df_ft.columns"
   ]
  },
  {
   "cell_type": "markdown",
   "metadata": {},
   "source": [
    "# Build the LGBM model\n",
    "This model is designed to predict if a week should be buy, hold or sell.\n"
   ]
  },
  {
   "cell_type": "code",
   "execution_count": 4,
   "metadata": {
    "scrolled": true
   },
   "outputs": [
    {
     "name": "stdout",
     "output_type": "stream",
     "text": [
      "feature_cols length -> 103\n"
     ]
    },
    {
     "data": {
      "text/plain": [
       "['open',\n",
       " 'close',\n",
       " 'high',\n",
       " 'low',\n",
       " 'volume',\n",
       " 'change_price',\n",
       " 'per_change_price',\n",
       " 'ema26',\n",
       " 'macd',\n",
       " 'signal_line',\n",
       " 'macd_line',\n",
       " 'close_shift1',\n",
       " 'change_close_shift1',\n",
       " 'volume_shift1',\n",
       " 'change_volume_shift1',\n",
       " 'ema26_shift1',\n",
       " 'change_ema26_shift1',\n",
       " 'close_13_norm',\n",
       " 'close_26_norm',\n",
       " 'close_52_norm',\n",
       " 'macd_line_13_norm',\n",
       " 'macd_line_26_norm',\n",
       " 'macd_line_52_norm',\n",
       " 'close_max',\n",
       " 'close_min',\n",
       " 'prev_max_close',\n",
       " 'prev_min_close',\n",
       " 'prev_max_close_date_change',\n",
       " 'prev_min_close_date_change',\n",
       " 'max_change_close',\n",
       " 'min_change_close',\n",
       " 'prev_max_grad_close',\n",
       " 'prev_min_grad_close',\n",
       " 'max_move_cum_close',\n",
       " 'min_move_cum_close',\n",
       " 'long_prev_max_move_date_close',\n",
       " 'long_prev_min_move_date_close',\n",
       " 'long_max_grad_close',\n",
       " 'long_min_grad_close',\n",
       " 'macd_max',\n",
       " 'macd_min',\n",
       " 'prev_max_macd',\n",
       " 'prev_min_macd',\n",
       " 'prev_max_macd_date_change',\n",
       " 'prev_min_macd_date_change',\n",
       " 'max_change_macd',\n",
       " 'min_change_macd',\n",
       " 'prev_max_grad_macd',\n",
       " 'prev_min_grad_macd',\n",
       " 'max_move_cum_macd',\n",
       " 'min_move_cum_macd',\n",
       " 'long_prev_max_move_date_macd',\n",
       " 'long_prev_min_move_date_macd',\n",
       " 'long_max_grad_macd',\n",
       " 'long_min_grad_macd',\n",
       " 'ema26_max',\n",
       " 'ema26_min',\n",
       " 'prev_max_ema26',\n",
       " 'prev_min_ema26',\n",
       " 'prev_max_ema26_date_change',\n",
       " 'prev_min_ema26_date_change',\n",
       " 'max_change_ema26',\n",
       " 'min_change_ema26',\n",
       " 'prev_max_grad_ema26',\n",
       " 'prev_min_grad_ema26',\n",
       " 'max_move_cum_ema26',\n",
       " 'min_move_cum_ema26',\n",
       " 'long_prev_max_move_date_ema26',\n",
       " 'long_prev_min_move_date_ema26',\n",
       " 'long_max_grad_ema26',\n",
       " 'long_min_grad_ema26',\n",
       " 'signal_line_max',\n",
       " 'signal_line_min',\n",
       " 'prev_max_signal_line',\n",
       " 'prev_min_signal_line',\n",
       " 'prev_max_signal_line_date_change',\n",
       " 'prev_min_signal_line_date_change',\n",
       " 'max_change_signal_line',\n",
       " 'min_change_signal_line',\n",
       " 'prev_max_grad_signal_line',\n",
       " 'prev_min_grad_signal_line',\n",
       " 'max_move_cum_signal_line',\n",
       " 'min_move_cum_signal_line',\n",
       " 'long_prev_max_move_date_signal_line',\n",
       " 'long_prev_min_move_date_signal_line',\n",
       " 'long_max_grad_signal_line',\n",
       " 'long_min_grad_signal_line',\n",
       " 'macd_line_max',\n",
       " 'macd_line_min',\n",
       " 'prev_max_macd_line',\n",
       " 'prev_min_macd_line',\n",
       " 'prev_max_macd_line_date_change',\n",
       " 'prev_min_macd_line_date_change',\n",
       " 'max_change_macd_line',\n",
       " 'min_change_macd_line',\n",
       " 'prev_max_grad_macd_line',\n",
       " 'prev_min_grad_macd_line',\n",
       " 'max_move_cum_macd_line',\n",
       " 'min_move_cum_macd_line',\n",
       " 'long_prev_max_move_date_macd_line',\n",
       " 'long_prev_min_move_date_macd_line',\n",
       " 'long_max_grad_macd_line',\n",
       " 'long_min_grad_macd_line']"
      ]
     },
     "execution_count": 4,
     "metadata": {},
     "output_type": "execute_result"
    }
   ],
   "source": [
    "#Import the feature cols\n",
    "with open(path + r'\\feature_engineering_feature_list.txt','r') as f:\n",
    "    feature_cols = f.read().split(',')\n",
    "for col in ['signal','ticker']:\n",
    "    try:\n",
    "        feature_cols.remove(col)\n",
    "    except:\n",
    "        print('{} DOES NOT EXIST'.format(col))\n",
    "print('feature_cols length -> {}'.format(len(feature_cols)))\n",
    "feature_cols"
   ]
  },
  {
   "cell_type": "code",
   "execution_count": 5,
   "metadata": {
    "scrolled": true
   },
   "outputs": [
    {
     "name": "stdout",
     "output_type": "stream",
     "text": [
      "COLUMNS: Index(['open', 'close', 'high', 'low', 'volume', 'change_price',\n",
      "       'per_change_price', 'ema26', 'macd', 'signal_line',\n",
      "       ...\n",
      "       'prev_max_grad_macd_line', 'prev_min_grad_macd_line',\n",
      "       'max_move_cum_macd_line', 'min_move_cum_macd_line',\n",
      "       'long_prev_max_move_date_macd_line',\n",
      "       'long_prev_min_move_date_macd_line', 'long_max_grad_macd_line',\n",
      "       'long_min_grad_macd_line', 'signal', 'date'],\n",
      "      dtype='object', length=105)\n",
      "COLUMNS: open                                        float64\n",
      "close                                       float64\n",
      "high                                        float64\n",
      "low                                         float64\n",
      "volume                                      float64\n",
      "                                          ...      \n",
      "long_prev_min_move_date_macd_line           float64\n",
      "long_max_grad_macd_line                     float64\n",
      "long_min_grad_macd_line                     float64\n",
      "signal                                       object\n",
      "date                                 datetime64[ns]\n",
      "Length: 105, dtype: object\n",
      "SHAPE: (382706, 105)\n"
     ]
    }
   ],
   "source": [
    "target_cols = 'signal'\n",
    "df_model = df_ft[feature_cols+[target_cols]+['date']].copy()\n",
    "print(\"COLUMNS:\",df_model.columns)\n",
    "print(\"COLUMNS:\",df_model.dtypes)\n",
    "print(\"SHAPE:\",df_model.shape)"
   ]
  },
  {
   "cell_type": "code",
   "execution_count": 6,
   "metadata": {},
   "outputs": [
    {
     "name": "stdout",
     "output_type": "stream",
     "text": [
      "COLUMNS: Index(['index', 'open', 'close', 'high', 'low', 'volume', 'change_price',\n",
      "       'per_change_price', 'ema26', 'macd',\n",
      "       ...\n",
      "       'prev_max_grad_macd_line', 'prev_min_grad_macd_line',\n",
      "       'max_move_cum_macd_line', 'min_move_cum_macd_line',\n",
      "       'long_prev_max_move_date_macd_line',\n",
      "       'long_prev_min_move_date_macd_line', 'long_max_grad_macd_line',\n",
      "       'long_min_grad_macd_line', 'signal', 'date'],\n",
      "      dtype='object', length=106)\n",
      "SHAPE: (344015, 106)\n"
     ]
    }
   ],
   "source": [
    "#Remove rows with missing or infinate values\n",
    "df_model.dropna(inplace=True)\n",
    "df_model.reset_index(inplace=True)\n",
    "print(\"COLUMNS:\",df_model.columns)\n",
    "print(\"SHAPE:\",df_model.shape)"
   ]
  },
  {
   "cell_type": "code",
   "execution_count": 7,
   "metadata": {
    "scrolled": false
   },
   "outputs": [
    {
     "name": "stdout",
     "output_type": "stream",
     "text": [
      "train rows: 228,451\n",
      "valid rows: 115,564\n"
     ]
    }
   ],
   "source": [
    "#Create the train and test dataset\n",
    "#All prices pre-2014 are training, all post 2014 are testing\n",
    "#This remove the posibility that we are learning from other shares at times what is good/bad\n",
    "date_lim = dt.datetime(2014,1,1)\n",
    "\n",
    "#Separate\n",
    "df_train = df_model[df_model.date < date_lim]\n",
    "df_valid = df_model[df_model.date >= date_lim]\n",
    "\n",
    "#Reset the index and drop 'date' column\n",
    "df_train = df_train.reset_index(drop=True).drop(columns=['date'])\n",
    "df_valid = df_valid.reset_index(drop=True).drop(columns=['date'])\n",
    "\n",
    "print(\"train rows: {:,}\".format(df_train.shape[0]))\n",
    "print(\"valid rows: {:,}\".format(df_valid.shape[0]))"
   ]
  },
  {
   "cell_type": "code",
   "execution_count": 8,
   "metadata": {
    "scrolled": true
   },
   "outputs": [],
   "source": [
    "#Shuffle the datasets\n",
    "np.random.seed(0)\n",
    "rand_index = np.random.permutation(df_train.index.values)\n",
    "df_train = df_train.iloc[rand_index].reset_index(drop=True)\n",
    "rand_index = np.random.permutation(df_valid.index.values)\n",
    "df_valid = df_valid.iloc[rand_index].reset_index(drop=True)"
   ]
  },
  {
   "cell_type": "code",
   "execution_count": 9,
   "metadata": {},
   "outputs": [],
   "source": [
    "#Function to calculate the True Positive Rate for each classifier\n",
    "def calc_tpr(pred_signal_s,real_signal_s,features=[],unique_classes=['buy','sell','hold']):\n",
    "    tpr_li = []\n",
    "    for cl in unique_classes:\n",
    "        true_pos = ((real_signal_s == cl) & (pred_signal_s == cl)).sum()\n",
    "        false_pos = ((real_signal_s != cl) & (pred_signal_s == cl)).sum()\n",
    "        true_neg = ((real_signal_s != cl) & (pred_signal_s != cl)).sum()\n",
    "        false_neg = ((real_signal_s == cl) & (pred_signal_s != cl)).sum()\n",
    "        #Calc tpr\n",
    "        if sum([true_pos,false_neg]) != 0:\n",
    "            tpr = true_pos / sum([true_pos,false_neg])\n",
    "        else:\n",
    "            tpr = 0\n",
    "        #calc fpr\n",
    "        if sum([true_pos,false_neg]) != 0:\n",
    "            fpr = false_pos / sum([false_pos,true_neg])\n",
    "        else:\n",
    "            fpr = 0\n",
    "        #calc accuracy\n",
    "        if sum([true_pos,false_pos,true_neg,false_neg]) != 0:\n",
    "            acc = sum([true_pos,true_neg])/sum([true_pos,false_pos,true_neg,false_neg])\n",
    "        else:\n",
    "            acc = 0\n",
    "        if sum([true_pos,false_pos]) != 0:\n",
    "            ppv = true_pos/sum([true_pos,false_pos])\n",
    "        else:\n",
    "            ppv = 0\n",
    "        if sum([true_neg,false_neg]) != 0:\n",
    "            npv = true_neg/sum([true_neg,false_neg])\n",
    "        else:\n",
    "            npv = 0\n",
    "        #Calc the auc\n",
    "        bool_pred_s = pred_signal_s == cl\n",
    "        bool_real_s = real_signal_s == cl\n",
    "        auc = auc_score(bool_real_s,bool_pred_s)\n",
    "        tpr_li.append({\n",
    "            \"features\":features.copy()\n",
    "            ,\"feature_count\":len(features)\n",
    "            ,\"signal\":cl\n",
    "            ,\"true_pos\":true_pos\n",
    "            ,\"false_pos\":false_pos\n",
    "            ,\"true_neg\":true_neg\n",
    "            ,\"false_neg\":false_neg\n",
    "            ,\"tpr\":tpr\n",
    "            ,\"fpr\":fpr\n",
    "            ,\"acc\":acc\n",
    "            ,\"ppv\":ppv\n",
    "            ,\"npv\":npv\n",
    "            ,\"auc\":auc\n",
    "        })\n",
    "        print('{} -> true_pos:{:.4f}, false_pos:{:.4f}, acc:{:.4f},ppv:{:.4f},npv:{:.4f},auc:{:.4f}'.format(cl,true_pos,false_pos,acc,ppv,npv,auc))\n",
    "    tpr_df = pd.DataFrame(tpr_li,columns=[\"features\",\"feature_count\",\"signal\",\"true_pos\",\"false_pos\",\"true_neg\",\"false_neg\",\"tpr\",\"fpr\",\"acc\",\"ppv\",\"npv\",\"auc\"])\n",
    "    return tpr_df"
   ]
  },
  {
   "cell_type": "markdown",
   "metadata": {},
   "source": [
    "# Separate into fetaures and targets "
   ]
  },
  {
   "cell_type": "code",
   "execution_count": 10,
   "metadata": {},
   "outputs": [
    {
     "name": "stdout",
     "output_type": "stream",
     "text": [
      "X_train.shape -> (228451, 103)\n",
      "X_valid.shape -> (115564, 103)\n"
     ]
    }
   ],
   "source": [
    "#Train\n",
    "X_train = df_train[feature_cols]\n",
    "y_train = df_train[target_cols]\n",
    "print('X_train.shape -> {}'.format(X_train.shape))\n",
    "#Validation\n",
    "X_valid = df_valid[feature_cols]\n",
    "y_valid = df_valid[target_cols]\n",
    "print('X_valid.shape -> {}'.format(X_valid.shape))"
   ]
  },
  {
   "cell_type": "markdown",
   "metadata": {},
   "source": [
    "# Create a base level model\n",
    "For \"buy\", \"sell\" and \"hold\" test what the accuracy is if all signals are positive."
   ]
  },
  {
   "cell_type": "code",
   "execution_count": 11,
   "metadata": {},
   "outputs": [
    {
     "name": "stdout",
     "output_type": "stream",
     "text": [
      "hold -> true_pos:0.0000, false_pos:0.0000, acc:0.3058,ppv:0.0000,npv:0.3058,auc:0.5000\n",
      "sell -> true_pos:0.0000, false_pos:0.0000, acc:0.8128,ppv:0.0000,npv:0.8128,auc:0.5000\n",
      "buy -> true_pos:13712.0000, false_pos:101852.0000, acc:0.1187,ppv:0.1187,npv:0.0000,auc:0.5000\n"
     ]
    },
    {
     "data": {
      "text/html": [
       "<div>\n",
       "<style scoped>\n",
       "    .dataframe tbody tr th:only-of-type {\n",
       "        vertical-align: middle;\n",
       "    }\n",
       "\n",
       "    .dataframe tbody tr th {\n",
       "        vertical-align: top;\n",
       "    }\n",
       "\n",
       "    .dataframe thead th {\n",
       "        text-align: right;\n",
       "    }\n",
       "</style>\n",
       "<table border=\"1\" class=\"dataframe\">\n",
       "  <thead>\n",
       "    <tr style=\"text-align: right;\">\n",
       "      <th></th>\n",
       "      <th>features</th>\n",
       "      <th>feature_count</th>\n",
       "      <th>signal</th>\n",
       "      <th>true_pos</th>\n",
       "      <th>false_pos</th>\n",
       "      <th>true_neg</th>\n",
       "      <th>false_neg</th>\n",
       "      <th>tpr</th>\n",
       "      <th>fpr</th>\n",
       "      <th>acc</th>\n",
       "      <th>ppv</th>\n",
       "      <th>npv</th>\n",
       "      <th>auc</th>\n",
       "    </tr>\n",
       "  </thead>\n",
       "  <tbody>\n",
       "    <tr>\n",
       "      <th>0</th>\n",
       "      <td>[ALL BUY]</td>\n",
       "      <td>1</td>\n",
       "      <td>hold</td>\n",
       "      <td>0</td>\n",
       "      <td>0</td>\n",
       "      <td>35341</td>\n",
       "      <td>80223</td>\n",
       "      <td>0.0</td>\n",
       "      <td>0.0</td>\n",
       "      <td>0.305813</td>\n",
       "      <td>0.000000</td>\n",
       "      <td>0.305813</td>\n",
       "      <td>0.5</td>\n",
       "    </tr>\n",
       "    <tr>\n",
       "      <th>1</th>\n",
       "      <td>[ALL BUY]</td>\n",
       "      <td>1</td>\n",
       "      <td>sell</td>\n",
       "      <td>0</td>\n",
       "      <td>0</td>\n",
       "      <td>93935</td>\n",
       "      <td>21629</td>\n",
       "      <td>0.0</td>\n",
       "      <td>0.0</td>\n",
       "      <td>0.812840</td>\n",
       "      <td>0.000000</td>\n",
       "      <td>0.812840</td>\n",
       "      <td>0.5</td>\n",
       "    </tr>\n",
       "    <tr>\n",
       "      <th>2</th>\n",
       "      <td>[ALL BUY]</td>\n",
       "      <td>1</td>\n",
       "      <td>buy</td>\n",
       "      <td>13712</td>\n",
       "      <td>101852</td>\n",
       "      <td>0</td>\n",
       "      <td>0</td>\n",
       "      <td>1.0</td>\n",
       "      <td>1.0</td>\n",
       "      <td>0.118653</td>\n",
       "      <td>0.118653</td>\n",
       "      <td>0.000000</td>\n",
       "      <td>0.5</td>\n",
       "    </tr>\n",
       "  </tbody>\n",
       "</table>\n",
       "</div>"
      ],
      "text/plain": [
       "    features  feature_count signal  true_pos  false_pos  true_neg  false_neg  \\\n",
       "0  [ALL BUY]              1   hold         0          0     35341      80223   \n",
       "1  [ALL BUY]              1   sell         0          0     93935      21629   \n",
       "2  [ALL BUY]              1    buy     13712     101852         0          0   \n",
       "\n",
       "   tpr  fpr       acc       ppv       npv  auc  \n",
       "0  0.0  0.0  0.305813  0.000000  0.305813  0.5  \n",
       "1  0.0  0.0  0.812840  0.000000  0.812840  0.5  \n",
       "2  1.0  1.0  0.118653  0.118653  0.000000  0.5  "
      ]
     },
     "execution_count": 11,
     "metadata": {},
     "output_type": "execute_result"
    }
   ],
   "source": [
    "#Buy model\n",
    "unique_classes = y_valid.unique()\n",
    "calc_tpr(np.full((1,y_valid.shape[0]),\"buy\")[0],y_valid,[\"ALL BUY\"],unique_classes)"
   ]
  },
  {
   "cell_type": "code",
   "execution_count": 12,
   "metadata": {},
   "outputs": [
    {
     "name": "stdout",
     "output_type": "stream",
     "text": [
      "hold -> true_pos:0.0000, false_pos:0.0000, acc:0.3058,ppv:0.0000,npv:0.3058,auc:0.5000\n",
      "sell -> true_pos:21629.0000, false_pos:93935.0000, acc:0.1872,ppv:0.1872,npv:0.0000,auc:0.5000\n",
      "buy -> true_pos:0.0000, false_pos:0.0000, acc:0.8813,ppv:0.0000,npv:0.8813,auc:0.5000\n"
     ]
    },
    {
     "data": {
      "text/html": [
       "<div>\n",
       "<style scoped>\n",
       "    .dataframe tbody tr th:only-of-type {\n",
       "        vertical-align: middle;\n",
       "    }\n",
       "\n",
       "    .dataframe tbody tr th {\n",
       "        vertical-align: top;\n",
       "    }\n",
       "\n",
       "    .dataframe thead th {\n",
       "        text-align: right;\n",
       "    }\n",
       "</style>\n",
       "<table border=\"1\" class=\"dataframe\">\n",
       "  <thead>\n",
       "    <tr style=\"text-align: right;\">\n",
       "      <th></th>\n",
       "      <th>features</th>\n",
       "      <th>feature_count</th>\n",
       "      <th>signal</th>\n",
       "      <th>true_pos</th>\n",
       "      <th>false_pos</th>\n",
       "      <th>true_neg</th>\n",
       "      <th>false_neg</th>\n",
       "      <th>tpr</th>\n",
       "      <th>fpr</th>\n",
       "      <th>acc</th>\n",
       "      <th>ppv</th>\n",
       "      <th>npv</th>\n",
       "      <th>auc</th>\n",
       "    </tr>\n",
       "  </thead>\n",
       "  <tbody>\n",
       "    <tr>\n",
       "      <th>0</th>\n",
       "      <td>[ALL SELL]</td>\n",
       "      <td>1</td>\n",
       "      <td>hold</td>\n",
       "      <td>0</td>\n",
       "      <td>0</td>\n",
       "      <td>35341</td>\n",
       "      <td>80223</td>\n",
       "      <td>0.0</td>\n",
       "      <td>0.0</td>\n",
       "      <td>0.305813</td>\n",
       "      <td>0.00000</td>\n",
       "      <td>0.305813</td>\n",
       "      <td>0.5</td>\n",
       "    </tr>\n",
       "    <tr>\n",
       "      <th>1</th>\n",
       "      <td>[ALL SELL]</td>\n",
       "      <td>1</td>\n",
       "      <td>sell</td>\n",
       "      <td>21629</td>\n",
       "      <td>93935</td>\n",
       "      <td>0</td>\n",
       "      <td>0</td>\n",
       "      <td>1.0</td>\n",
       "      <td>1.0</td>\n",
       "      <td>0.187160</td>\n",
       "      <td>0.18716</td>\n",
       "      <td>0.000000</td>\n",
       "      <td>0.5</td>\n",
       "    </tr>\n",
       "    <tr>\n",
       "      <th>2</th>\n",
       "      <td>[ALL SELL]</td>\n",
       "      <td>1</td>\n",
       "      <td>buy</td>\n",
       "      <td>0</td>\n",
       "      <td>0</td>\n",
       "      <td>101852</td>\n",
       "      <td>13712</td>\n",
       "      <td>0.0</td>\n",
       "      <td>0.0</td>\n",
       "      <td>0.881347</td>\n",
       "      <td>0.00000</td>\n",
       "      <td>0.881347</td>\n",
       "      <td>0.5</td>\n",
       "    </tr>\n",
       "  </tbody>\n",
       "</table>\n",
       "</div>"
      ],
      "text/plain": [
       "     features  feature_count signal  true_pos  false_pos  true_neg  false_neg  \\\n",
       "0  [ALL SELL]              1   hold         0          0     35341      80223   \n",
       "1  [ALL SELL]              1   sell     21629      93935         0          0   \n",
       "2  [ALL SELL]              1    buy         0          0    101852      13712   \n",
       "\n",
       "   tpr  fpr       acc      ppv       npv  auc  \n",
       "0  0.0  0.0  0.305813  0.00000  0.305813  0.5  \n",
       "1  1.0  1.0  0.187160  0.18716  0.000000  0.5  \n",
       "2  0.0  0.0  0.881347  0.00000  0.881347  0.5  "
      ]
     },
     "execution_count": 12,
     "metadata": {},
     "output_type": "execute_result"
    }
   ],
   "source": [
    "#Sell model\n",
    "calc_tpr(np.full((1,y_valid.shape[0]),\"sell\")[0],y_valid,[\"ALL SELL\"],unique_classes)"
   ]
  },
  {
   "cell_type": "code",
   "execution_count": 13,
   "metadata": {},
   "outputs": [
    {
     "name": "stdout",
     "output_type": "stream",
     "text": [
      "hold -> true_pos:80223.0000, false_pos:35341.0000, acc:0.6942,ppv:0.6942,npv:0.0000,auc:0.5000\n",
      "sell -> true_pos:0.0000, false_pos:0.0000, acc:0.8128,ppv:0.0000,npv:0.8128,auc:0.5000\n",
      "buy -> true_pos:0.0000, false_pos:0.0000, acc:0.8813,ppv:0.0000,npv:0.8813,auc:0.5000\n"
     ]
    },
    {
     "data": {
      "text/html": [
       "<div>\n",
       "<style scoped>\n",
       "    .dataframe tbody tr th:only-of-type {\n",
       "        vertical-align: middle;\n",
       "    }\n",
       "\n",
       "    .dataframe tbody tr th {\n",
       "        vertical-align: top;\n",
       "    }\n",
       "\n",
       "    .dataframe thead th {\n",
       "        text-align: right;\n",
       "    }\n",
       "</style>\n",
       "<table border=\"1\" class=\"dataframe\">\n",
       "  <thead>\n",
       "    <tr style=\"text-align: right;\">\n",
       "      <th></th>\n",
       "      <th>features</th>\n",
       "      <th>feature_count</th>\n",
       "      <th>signal</th>\n",
       "      <th>true_pos</th>\n",
       "      <th>false_pos</th>\n",
       "      <th>true_neg</th>\n",
       "      <th>false_neg</th>\n",
       "      <th>tpr</th>\n",
       "      <th>fpr</th>\n",
       "      <th>acc</th>\n",
       "      <th>ppv</th>\n",
       "      <th>npv</th>\n",
       "      <th>auc</th>\n",
       "    </tr>\n",
       "  </thead>\n",
       "  <tbody>\n",
       "    <tr>\n",
       "      <th>0</th>\n",
       "      <td>[ALL HOLD]</td>\n",
       "      <td>1</td>\n",
       "      <td>hold</td>\n",
       "      <td>80223</td>\n",
       "      <td>35341</td>\n",
       "      <td>0</td>\n",
       "      <td>0</td>\n",
       "      <td>1.0</td>\n",
       "      <td>1.0</td>\n",
       "      <td>0.694187</td>\n",
       "      <td>0.694187</td>\n",
       "      <td>0.000000</td>\n",
       "      <td>0.5</td>\n",
       "    </tr>\n",
       "    <tr>\n",
       "      <th>1</th>\n",
       "      <td>[ALL HOLD]</td>\n",
       "      <td>1</td>\n",
       "      <td>sell</td>\n",
       "      <td>0</td>\n",
       "      <td>0</td>\n",
       "      <td>93935</td>\n",
       "      <td>21629</td>\n",
       "      <td>0.0</td>\n",
       "      <td>0.0</td>\n",
       "      <td>0.812840</td>\n",
       "      <td>0.000000</td>\n",
       "      <td>0.812840</td>\n",
       "      <td>0.5</td>\n",
       "    </tr>\n",
       "    <tr>\n",
       "      <th>2</th>\n",
       "      <td>[ALL HOLD]</td>\n",
       "      <td>1</td>\n",
       "      <td>buy</td>\n",
       "      <td>0</td>\n",
       "      <td>0</td>\n",
       "      <td>101852</td>\n",
       "      <td>13712</td>\n",
       "      <td>0.0</td>\n",
       "      <td>0.0</td>\n",
       "      <td>0.881347</td>\n",
       "      <td>0.000000</td>\n",
       "      <td>0.881347</td>\n",
       "      <td>0.5</td>\n",
       "    </tr>\n",
       "  </tbody>\n",
       "</table>\n",
       "</div>"
      ],
      "text/plain": [
       "     features  feature_count signal  true_pos  false_pos  true_neg  false_neg  \\\n",
       "0  [ALL HOLD]              1   hold     80223      35341         0          0   \n",
       "1  [ALL HOLD]              1   sell         0          0     93935      21629   \n",
       "2  [ALL HOLD]              1    buy         0          0    101852      13712   \n",
       "\n",
       "   tpr  fpr       acc       ppv       npv  auc  \n",
       "0  1.0  1.0  0.694187  0.694187  0.000000  0.5  \n",
       "1  0.0  0.0  0.812840  0.000000  0.812840  0.5  \n",
       "2  0.0  0.0  0.881347  0.000000  0.881347  0.5  "
      ]
     },
     "execution_count": 13,
     "metadata": {},
     "output_type": "execute_result"
    }
   ],
   "source": [
    "#Buy model\n",
    "calc_tpr(np.full((1,y_valid.shape[0]),\"hold\")[0],y_valid,[\"ALL HOLD\"],unique_classes)"
   ]
  },
  {
   "cell_type": "markdown",
   "metadata": {},
   "source": [
    "# Creating a multi-classification model - LGBM\n",
    "The model will take a one-vs-all approach (IE 1 if it is this value, 0 if it is anything else) using the variables of \"buy\", \"hold\", and \"sell\" individually and building a model to find the error rate on each one."
   ]
  },
  {
   "cell_type": "markdown",
   "metadata": {},
   "source": [
    "Error rate is determined by the four classifications:\n",
    "- True positive - correct - model is 1, actual is 1\n",
    "- True negative - correct - model is 0, actual is 0\n",
    "- False positive - error - model is 1, actual is 0\n",
    "- False negative - error - model is 0, actual is 1"
   ]
  },
  {
   "cell_type": "code",
   "execution_count": 14,
   "metadata": {},
   "outputs": [],
   "source": [
    "#Import the modules\n",
    "import lightgbm as lgb\n",
    "from sklearn.model_selection import RandomizedSearchCV\n",
    "from sklearn.model_selection import GridSearchCV"
   ]
  },
  {
   "cell_type": "code",
   "execution_count": 15,
   "metadata": {},
   "outputs": [],
   "source": [
    "# #Build a custom loss function - DIDN'T GET WORKING\n",
    "# def lgbm_custom_loss(_y_act,_y_pred):\n",
    "#     print('_y_act.shape -> {}'.format(_y_act.shape))\n",
    "#     print('_y_act -> {}'.format(_y_act))\n",
    "#     print('_y_pred.shape -> {}'.format(_y_pred.shape))\n",
    "#     print('_y_pred -> {}'.format(_y_pred))\n",
    "#     #Convert _y_pred into classes\n",
    "#     _y_pred_conv = []\n",
    "#     _n_classes = len(np.unique(_y_act))\n",
    "#     for i in range(0,_y_act.shape[0]):\n",
    "#         _tmp_li = []\n",
    "#         for j in range(0,_n_classes):\n",
    "#             _tmp_li.append(_y_pred[(_y_act.shape[0]*j) + i])\n",
    "#         _y_pred_conv.append(np.argmax(_tmp_li))\n",
    "#     _y_pred_conv = np.array(_y_pred_conv)\n",
    "#     print('_y_pred_conv.shape -> {}'.format(_y_pred_conv.shape))\n",
    "#     print('_y_pred_conv -> {}'.format(_y_pred_conv))\n",
    "#     _ppv = measure_acc(_y_pred,_y_pred_conv)['ppv']\n",
    "#     return 'lgbm_custom_loss',_ppv,True"
   ]
  },
  {
   "cell_type": "code",
   "execution_count": 16,
   "metadata": {},
   "outputs": [
    {
     "name": "stdout",
     "output_type": "stream",
     "text": [
      "mod_fixed_params -> {'boosting_type': 'gbdt', 'random_state': 0, 'silent': False, 'objective': 'multiclass', 'num_class': 3}\n",
      "search_params -> {'fixed': {'cv': 3, 'n_iter': 80, 'verbose': True}, 'variable': {'learning_rate': [0.1, 0.01, 0.005], 'num_leaves': array([  10,   20,   30,   40,   50,   60,   70,   80,   90,  100,  111,\n",
      "        121,  131,  141,  151,  161,  171,  181,  191,  201,  212,  222,\n",
      "        232,  242,  252,  262,  272,  282,  292,  302,  313,  323,  333,\n",
      "        343,  353,  363,  373,  383,  393,  403,  414,  424,  434,  444,\n",
      "        454,  464,  474,  484,  494,  504,  515,  525,  535,  545,  555,\n",
      "        565,  575,  585,  595,  605,  616,  626,  636,  646,  656,  666,\n",
      "        676,  686,  696,  706,  717,  727,  737,  747,  757,  767,  777,\n",
      "        787,  797,  807,  818,  828,  838,  848,  858,  868,  878,  888,\n",
      "        898,  908,  919,  929,  939,  949,  959,  969,  979,  989,  999,\n",
      "       1010]), 'max_depth': array([ 2,  4,  6,  8, 10, 13, 15, 17, 19, 22])}}\n",
      "fit_params -> {'verbose': True}\n"
     ]
    }
   ],
   "source": [
    "#Create parameters grid\n",
    "#Create fixed parameters\n",
    "mod_fixed_params = {\n",
    "    'boosting_type':'gbdt'\n",
    "    ,'random_state':0\n",
    "    ,'silent':False\n",
    "    ,'objective':'multiclass'\n",
    "    ,'num_class':y_train.unique().shape[0]\n",
    "}\n",
    "print('mod_fixed_params -> {}'.format(mod_fixed_params))\n",
    "search_params = {\n",
    "    'fixed':{\n",
    "#         'cv':3\n",
    "#         ,'n_iter':80\n",
    "        'cv':2\n",
    "        ,'n_iter':2\n",
    "        ,'verbose':True\n",
    "        ,'min_samples_split':200 #Should be between 0.5-1% of samples\n",
    "        ,'min_samples_leaf':50\n",
    "        ,'subsample':0.8\n",
    "    }\n",
    "    ,'variable':{\n",
    "        'learning_rate':[0.1,0.01,0.005]\n",
    "        ,'num_leaves':np.linspace(10,1010,100,dtype=int)\n",
    "        ,'max_depth':np.linspace(2,22,10,dtype=int)\n",
    "    }\n",
    "}\n",
    "print('search_params -> {}'.format(search_params))\n",
    "fit_params = {\n",
    "    'verbose':True\n",
    "#     ,'eval_set':[(X_valid,y_valid)]\n",
    "#     ,'eval_metric':lgbm_custom_loss\n",
    "}\n",
    "print('fit_params -> {}'.format(fit_params))"
   ]
  },
  {
   "cell_type": "code",
   "execution_count": null,
   "metadata": {
    "scrolled": true
   },
   "outputs": [],
   "source": [
    "run_time = process_time()\n",
    "#Setup the model\n",
    "lgb_mod = lgb.LGBMClassifier(**mod_fixed_params)\n",
    "#Add the search grid\n",
    "gbm = RandomizedSearchCV(lgb_mod,search_params['variable'],random_state=1,**search_params['fixed'])\n",
    "#Fitthe model\n",
    "gbm.fit(X_train,y_train,**fit_params)\n",
    "print('Best parameters found by grid search are: {}'.format(gbm.best_params_))\n",
    "run_time.end()"
   ]
  },
  {
   "cell_type": "markdown",
   "metadata": {},
   "source": [
    "# Train the final model"
   ]
  },
  {
   "cell_type": "code",
   "execution_count": 18,
   "metadata": {},
   "outputs": [
    {
     "data": {
      "text/plain": [
       "LGBMClassifier(boosting_type='gbdt', class_weight=None, colsample_bytree=1.0,\n",
       "        importance_type='split', learning_rate=0.1, max_depth=22,\n",
       "        min_child_samples=20, min_child_weight=0.001, min_split_gain=0.0,\n",
       "        n_estimators=100, n_jobs=-1, num_leaves=292, objective=None,\n",
       "        random_state=None, reg_alpha=0.0, reg_lambda=0.0, silent=True,\n",
       "        subsample=1.0, subsample_for_bin=200000, subsample_freq=0)"
      ]
     },
     "execution_count": 18,
     "metadata": {},
     "output_type": "execute_result"
    }
   ],
   "source": [
    "final_models = lgb.LGBMClassifier(**gbm.best_params_)\n",
    "final_models.fit(X_train,y_train)"
   ]
  },
  {
   "cell_type": "code",
   "execution_count": 19,
   "metadata": {},
   "outputs": [
    {
     "name": "stdout",
     "output_type": "stream",
     "text": [
      "classes_ -> ['buy' 'hold' 'sell']\n"
     ]
    }
   ],
   "source": [
    "print('classes_ -> {}'.format(final_models.classes_))"
   ]
  },
  {
   "cell_type": "code",
   "execution_count": 20,
   "metadata": {},
   "outputs": [
    {
     "data": {
      "text/plain": [
       "<matplotlib.axes._subplots.AxesSubplot at 0x298d1fa6160>"
      ]
     },
     "execution_count": 20,
     "metadata": {},
     "output_type": "execute_result"
    },
    {
     "data": {
      "image/png": "[encoded data removed]",
      "text/plain": [
       "<Figure size 864x2592 with 1 Axes>"
      ]
     },
     "metadata": {
      "needs_background": "light"
     },
     "output_type": "display_data"
    }
   ],
   "source": [
    "lgb.plot_importance(final_models,figsize=(12,36))"
   ]
  },
  {
   "cell_type": "code",
   "execution_count": 21,
   "metadata": {},
   "outputs": [
    {
     "name": "stderr",
     "output_type": "stream",
     "text": [
      "C:\\Users\\Robert\\Anaconda3\\lib\\site-packages\\sklearn\\preprocessing\\label.py:151: DeprecationWarning: The truth value of an empty array is ambiguous. Returning False, but in future this will result in an error. Use `array.size > 0` to check that an array is not empty.\n",
      "  if diff:\n"
     ]
    },
    {
     "name": "stdout",
     "output_type": "stream",
     "text": [
      "hold -> true_pos:70663.0000, false_pos:20484.0000, acc:0.7400,ppv:0.7753,npv:0.6085,auc:0.6506\n",
      "sell -> true_pos:10768.0000, false_pos:6044.0000, acc:0.8537,ppv:0.6405,npv:0.8900,auc:0.7168\n",
      "buy -> true_pos:3949.0000, false_pos:3656.0000, acc:0.8839,ppv:0.5193,npv:0.9096,auc:0.6261\n"
     ]
    },
    {
     "data": {
      "text/html": [
       "<div>\n",
       "<style scoped>\n",
       "    .dataframe tbody tr th:only-of-type {\n",
       "        vertical-align: middle;\n",
       "    }\n",
       "\n",
       "    .dataframe tbody tr th {\n",
       "        vertical-align: top;\n",
       "    }\n",
       "\n",
       "    .dataframe thead th {\n",
       "        text-align: right;\n",
       "    }\n",
       "</style>\n",
       "<table border=\"1\" class=\"dataframe\">\n",
       "  <thead>\n",
       "    <tr style=\"text-align: right;\">\n",
       "      <th></th>\n",
       "      <th>features</th>\n",
       "      <th>feature_count</th>\n",
       "      <th>signal</th>\n",
       "      <th>true_pos</th>\n",
       "      <th>false_pos</th>\n",
       "      <th>true_neg</th>\n",
       "      <th>false_neg</th>\n",
       "      <th>tpr</th>\n",
       "      <th>fpr</th>\n",
       "      <th>acc</th>\n",
       "      <th>ppv</th>\n",
       "      <th>npv</th>\n",
       "      <th>auc</th>\n",
       "    </tr>\n",
       "  </thead>\n",
       "  <tbody>\n",
       "    <tr>\n",
       "      <th>0</th>\n",
       "      <td>[FINAL RF MODEL - VALIDATION SET]</td>\n",
       "      <td>1</td>\n",
       "      <td>hold</td>\n",
       "      <td>70663</td>\n",
       "      <td>20484</td>\n",
       "      <td>14857</td>\n",
       "      <td>9560</td>\n",
       "      <td>0.880832</td>\n",
       "      <td>0.579610</td>\n",
       "      <td>0.740023</td>\n",
       "      <td>0.775264</td>\n",
       "      <td>0.608470</td>\n",
       "      <td>0.650611</td>\n",
       "    </tr>\n",
       "    <tr>\n",
       "      <th>1</th>\n",
       "      <td>[FINAL RF MODEL - VALIDATION SET]</td>\n",
       "      <td>1</td>\n",
       "      <td>sell</td>\n",
       "      <td>10768</td>\n",
       "      <td>6044</td>\n",
       "      <td>87891</td>\n",
       "      <td>10861</td>\n",
       "      <td>0.497850</td>\n",
       "      <td>0.064342</td>\n",
       "      <td>0.853717</td>\n",
       "      <td>0.640495</td>\n",
       "      <td>0.890017</td>\n",
       "      <td>0.716754</td>\n",
       "    </tr>\n",
       "    <tr>\n",
       "      <th>2</th>\n",
       "      <td>[FINAL RF MODEL - VALIDATION SET]</td>\n",
       "      <td>1</td>\n",
       "      <td>buy</td>\n",
       "      <td>3949</td>\n",
       "      <td>3656</td>\n",
       "      <td>98196</td>\n",
       "      <td>9763</td>\n",
       "      <td>0.287996</td>\n",
       "      <td>0.035895</td>\n",
       "      <td>0.883883</td>\n",
       "      <td>0.519264</td>\n",
       "      <td>0.909568</td>\n",
       "      <td>0.626050</td>\n",
       "    </tr>\n",
       "  </tbody>\n",
       "</table>\n",
       "</div>"
      ],
      "text/plain": [
       "                            features  feature_count signal  true_pos  \\\n",
       "0  [FINAL RF MODEL - VALIDATION SET]              1   hold     70663   \n",
       "1  [FINAL RF MODEL - VALIDATION SET]              1   sell     10768   \n",
       "2  [FINAL RF MODEL - VALIDATION SET]              1    buy      3949   \n",
       "\n",
       "   false_pos  true_neg  false_neg       tpr       fpr       acc       ppv  \\\n",
       "0      20484     14857       9560  0.880832  0.579610  0.740023  0.775264   \n",
       "1       6044     87891      10861  0.497850  0.064342  0.853717  0.640495   \n",
       "2       3656     98196       9763  0.287996  0.035895  0.883883  0.519264   \n",
       "\n",
       "        npv       auc  \n",
       "0  0.608470  0.650611  \n",
       "1  0.890017  0.716754  \n",
       "2  0.909568  0.626050  "
      ]
     },
     "execution_count": 21,
     "metadata": {},
     "output_type": "execute_result"
    }
   ],
   "source": [
    "y_pred = final_models.predict(X_valid)\n",
    "calc_tpr(y_pred,y_valid,['FINAL RF MODEL - VALIDATION SET'],y_valid.unique())    "
   ]
  },
  {
   "cell_type": "code",
   "execution_count": 22,
   "metadata": {},
   "outputs": [
    {
     "name": "stderr",
     "output_type": "stream",
     "text": [
      "C:\\Users\\Robert\\Anaconda3\\lib\\site-packages\\sklearn\\preprocessing\\label.py:151: DeprecationWarning: The truth value of an empty array is ambiguous. Returning False, but in future this will result in an error. Use `array.size > 0` to check that an array is not empty.\n",
      "  if diff:\n"
     ]
    },
    {
     "name": "stdout",
     "output_type": "stream",
     "text": [
      "hold -> true_pos:147466.0000, false_pos:18037.0000, acc:0.8908,ppv:0.8910,npv:0.8903,auc:0.8559\n",
      "sell -> true_pos:32074.0000, false_pos:4730.0000, acc:0.9427,ppv:0.8715,npv:0.9564,auc:0.8840\n",
      "buy -> true_pos:23857.0000, false_pos:2287.0000, acc:0.9472,ppv:0.9125,npv:0.9516,auc:0.8487\n"
     ]
    },
    {
     "data": {
      "text/html": [
       "<div>\n",
       "<style scoped>\n",
       "    .dataframe tbody tr th:only-of-type {\n",
       "        vertical-align: middle;\n",
       "    }\n",
       "\n",
       "    .dataframe tbody tr th {\n",
       "        vertical-align: top;\n",
       "    }\n",
       "\n",
       "    .dataframe thead th {\n",
       "        text-align: right;\n",
       "    }\n",
       "</style>\n",
       "<table border=\"1\" class=\"dataframe\">\n",
       "  <thead>\n",
       "    <tr style=\"text-align: right;\">\n",
       "      <th></th>\n",
       "      <th>features</th>\n",
       "      <th>feature_count</th>\n",
       "      <th>signal</th>\n",
       "      <th>true_pos</th>\n",
       "      <th>false_pos</th>\n",
       "      <th>true_neg</th>\n",
       "      <th>false_neg</th>\n",
       "      <th>tpr</th>\n",
       "      <th>fpr</th>\n",
       "      <th>acc</th>\n",
       "      <th>ppv</th>\n",
       "      <th>npv</th>\n",
       "      <th>auc</th>\n",
       "    </tr>\n",
       "  </thead>\n",
       "  <tbody>\n",
       "    <tr>\n",
       "      <th>0</th>\n",
       "      <td>[FINAL RF MODEL - TRAINING SET]</td>\n",
       "      <td>1</td>\n",
       "      <td>hold</td>\n",
       "      <td>147466</td>\n",
       "      <td>18037</td>\n",
       "      <td>56040</td>\n",
       "      <td>6908</td>\n",
       "      <td>0.955252</td>\n",
       "      <td>0.243490</td>\n",
       "      <td>0.890808</td>\n",
       "      <td>0.891017</td>\n",
       "      <td>0.890259</td>\n",
       "      <td>0.855881</td>\n",
       "    </tr>\n",
       "    <tr>\n",
       "      <th>1</th>\n",
       "      <td>[FINAL RF MODEL - TRAINING SET]</td>\n",
       "      <td>1</td>\n",
       "      <td>sell</td>\n",
       "      <td>32074</td>\n",
       "      <td>4730</td>\n",
       "      <td>183287</td>\n",
       "      <td>8360</td>\n",
       "      <td>0.793243</td>\n",
       "      <td>0.025157</td>\n",
       "      <td>0.942701</td>\n",
       "      <td>0.871481</td>\n",
       "      <td>0.956378</td>\n",
       "      <td>0.884043</td>\n",
       "    </tr>\n",
       "    <tr>\n",
       "      <th>2</th>\n",
       "      <td>[FINAL RF MODEL - TRAINING SET]</td>\n",
       "      <td>1</td>\n",
       "      <td>buy</td>\n",
       "      <td>23857</td>\n",
       "      <td>2287</td>\n",
       "      <td>192521</td>\n",
       "      <td>9786</td>\n",
       "      <td>0.709122</td>\n",
       "      <td>0.011740</td>\n",
       "      <td>0.947153</td>\n",
       "      <td>0.912523</td>\n",
       "      <td>0.951628</td>\n",
       "      <td>0.848691</td>\n",
       "    </tr>\n",
       "  </tbody>\n",
       "</table>\n",
       "</div>"
      ],
      "text/plain": [
       "                          features  feature_count signal  true_pos  false_pos  \\\n",
       "0  [FINAL RF MODEL - TRAINING SET]              1   hold    147466      18037   \n",
       "1  [FINAL RF MODEL - TRAINING SET]              1   sell     32074       4730   \n",
       "2  [FINAL RF MODEL - TRAINING SET]              1    buy     23857       2287   \n",
       "\n",
       "   true_neg  false_neg       tpr       fpr       acc       ppv       npv  \\\n",
       "0     56040       6908  0.955252  0.243490  0.890808  0.891017  0.890259   \n",
       "1    183287       8360  0.793243  0.025157  0.942701  0.871481  0.956378   \n",
       "2    192521       9786  0.709122  0.011740  0.947153  0.912523  0.951628   \n",
       "\n",
       "        auc  \n",
       "0  0.855881  \n",
       "1  0.884043  \n",
       "2  0.848691  "
      ]
     },
     "execution_count": 22,
     "metadata": {},
     "output_type": "execute_result"
    }
   ],
   "source": [
    "y_pred = final_models.predict(X_train)\n",
    "calc_tpr(y_pred,y_train,['FINAL RF MODEL - TRAINING SET'],y_train.unique())    "
   ]
  },
  {
   "cell_type": "markdown",
   "metadata": {},
   "source": [
    "# Exporting the model"
   ]
  },
  {
   "cell_type": "code",
   "execution_count": 23,
   "metadata": {},
   "outputs": [],
   "source": [
    "#Import the modules\n",
    "from sklearn.externals import joblib as jl"
   ]
  },
  {
   "cell_type": "code",
   "execution_count": 24,
   "metadata": {},
   "outputs": [
    {
     "data": {
      "text/plain": [
       "['C:\\\\Users\\\\Robert\\\\Documents\\\\python_scripts\\\\stock_trading_ml_modelling\\\\historical_prices\\\\lgb_model.joblib']"
      ]
     },
     "execution_count": 24,
     "metadata": {},
     "output_type": "execute_result"
    }
   ],
   "source": [
    "#Export the model\n",
    "jl.dump(final_models,path+r'\\lgb_model.joblib')"
   ]
  },
  {
   "cell_type": "code",
   "execution_count": 25,
   "metadata": {},
   "outputs": [
    {
     "data": {
      "text/plain": [
       "'open,close,high,low,volume,change_price,per_change_price,ema26,macd,signal_line,macd_line,close_shift1,change_close_shift1,volume_shift1,change_volume_shift1,ema26_shift1,change_ema26_shift1,close_13_norm,close_26_norm,close_52_norm,macd_line_13_norm,macd_line_26_norm,macd_line_52_norm,close_max,close_min,prev_max_close,prev_min_close,prev_max_close_date_change,prev_min_close_date_change,max_change_close,min_change_close,prev_max_grad_close,prev_min_grad_close,max_move_cum_close,min_move_cum_close,long_prev_max_move_date_close,long_prev_min_move_date_close,long_max_grad_close,long_min_grad_close,macd_max,macd_min,prev_max_macd,prev_min_macd,prev_max_macd_date_change,prev_min_macd_date_change,max_change_macd,min_change_macd,prev_max_grad_macd,prev_min_grad_macd,max_move_cum_macd,min_move_cum_macd,long_prev_max_move_date_macd,long_prev_min_move_date_macd,long_max_grad_macd,long_min_grad_macd,ema26_max,ema26_min,prev_max_ema26,prev_min_ema26,prev_max_ema26_date_change,prev_min_ema26_date_change,max_change_ema26,min_change_ema26,prev_max_grad_ema26,prev_min_grad_ema26,max_move_cum_ema26,min_move_cum_ema26,long_prev_max_move_date_ema26,long_prev_min_move_date_ema26,long_max_grad_ema26,long_min_grad_ema26,signal_line_max,signal_line_min,prev_max_signal_line,prev_min_signal_line,prev_max_signal_line_date_change,prev_min_signal_line_date_change,max_change_signal_line,min_change_signal_line,prev_max_grad_signal_line,prev_min_grad_signal_line,max_move_cum_signal_line,min_move_cum_signal_line,long_prev_max_move_date_signal_line,long_prev_min_move_date_signal_line,long_max_grad_signal_line,long_min_grad_signal_line,macd_line_max,macd_line_min,prev_max_macd_line,prev_min_macd_line,prev_max_macd_line_date_change,prev_min_macd_line_date_change,max_change_macd_line,min_change_macd_line,prev_max_grad_macd_line,prev_min_grad_macd_line,max_move_cum_macd_line,min_move_cum_macd_line,long_prev_max_move_date_macd_line,long_prev_min_move_date_macd_line,long_max_grad_macd_line,long_min_grad_macd_line'"
      ]
     },
     "execution_count": 25,
     "metadata": {},
     "output_type": "execute_result"
    }
   ],
   "source": [
    "#Export a list of the features for this model\n",
    "file_object = open(path+r'\\lgb_model_feature_list.txt','w')\n",
    "feature_str = ''\n",
    "for i in feature_cols:\n",
    "    feature_str += '{},'.format(i)\n",
    "feature_str = feature_str[:-1]\n",
    "file_object.write(feature_str)\n",
    "file_object.close()\n",
    "feature_str"
   ]
  }
 ],
 "metadata": {
  "kernelspec": {
   "display_name": "Python 3",
   "language": "python",
   "name": "python3"
  },
  "language_info": {
   "codemirror_mode": {
    "name": "ipython",
    "version": 3
   },
   "file_extension": ".py",
   "mimetype": "text/x-python",
   "name": "python",
   "nbconvert_exporter": "python",
   "pygments_lexer": "ipython3",
   "version": "3.7.0"
  }
 },
 "nbformat": 4,
 "nbformat_minor": 2
}
