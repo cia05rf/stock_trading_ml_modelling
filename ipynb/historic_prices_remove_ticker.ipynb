{
 "cells": [
  {
   "cell_type": "code",
   "execution_count": 1,
   "metadata": {},
   "outputs": [],
   "source": [
    "#Import libraries\n",
    "import pandas as pd\n",
    "import numpy as np\n",
    "import matplotlib.pyplot as plt\n",
    "from bs4 import BeautifulSoup as bs\n",
    "import requests as rq\n",
    "import re\n",
    "import datetime as dt\n",
    "import os\n",
    "import tables"
   ]
  },
  {
   "cell_type": "code",
   "execution_count": 2,
   "metadata": {},
   "outputs": [],
   "source": [
    "#close any open h5 files\n",
    "tables.file._open_files.close_all()"
   ]
  },
  {
   "cell_type": "code",
   "execution_count": 3,
   "metadata": {
    "scrolled": true
   },
   "outputs": [
    {
     "name": "stdout",
     "output_type": "stream",
     "text": [
      "(1222341, 13)\n"
     ]
    },
    {
     "data": {
      "text/html": [
       "<div>\n",
       "<style scoped>\n",
       "    .dataframe tbody tr th:only-of-type {\n",
       "        vertical-align: middle;\n",
       "    }\n",
       "\n",
       "    .dataframe tbody tr th {\n",
       "        vertical-align: top;\n",
       "    }\n",
       "\n",
       "    .dataframe thead th {\n",
       "        text-align: right;\n",
       "    }\n",
       "</style>\n",
       "<table border=\"1\" class=\"dataframe\">\n",
       "  <thead>\n",
       "    <tr style=\"text-align: right;\">\n",
       "      <th></th>\n",
       "      <th>ticker</th>\n",
       "      <th>date</th>\n",
       "      <th>open</th>\n",
       "      <th>close</th>\n",
       "      <th>high</th>\n",
       "      <th>low</th>\n",
       "      <th>change</th>\n",
       "      <th>volume</th>\n",
       "      <th>ema12</th>\n",
       "      <th>ema26</th>\n",
       "      <th>macd_line</th>\n",
       "      <th>signal</th>\n",
       "      <th>macd</th>\n",
       "    </tr>\n",
       "  </thead>\n",
       "  <tbody>\n",
       "    <tr>\n",
       "      <th>0</th>\n",
       "      <td>III</td>\n",
       "      <td>2008-01-02</td>\n",
       "      <td>995.0</td>\n",
       "      <td>1005.0</td>\n",
       "      <td>1023.0</td>\n",
       "      <td>995.0</td>\n",
       "      <td>10.0</td>\n",
       "      <td>785944.0</td>\n",
       "      <td>NaN</td>\n",
       "      <td>NaN</td>\n",
       "      <td>NaN</td>\n",
       "      <td>NaN</td>\n",
       "      <td>NaN</td>\n",
       "    </tr>\n",
       "    <tr>\n",
       "      <th>1</th>\n",
       "      <td>III</td>\n",
       "      <td>2008-01-03</td>\n",
       "      <td>1005.0</td>\n",
       "      <td>988.0</td>\n",
       "      <td>1020.0</td>\n",
       "      <td>981.0</td>\n",
       "      <td>-17.0</td>\n",
       "      <td>1805560.0</td>\n",
       "      <td>NaN</td>\n",
       "      <td>NaN</td>\n",
       "      <td>NaN</td>\n",
       "      <td>NaN</td>\n",
       "      <td>NaN</td>\n",
       "    </tr>\n",
       "    <tr>\n",
       "      <th>2</th>\n",
       "      <td>III</td>\n",
       "      <td>2008-01-04</td>\n",
       "      <td>985.5</td>\n",
       "      <td>965.0</td>\n",
       "      <td>1000.0</td>\n",
       "      <td>964.0</td>\n",
       "      <td>-20.5</td>\n",
       "      <td>1920061.0</td>\n",
       "      <td>NaN</td>\n",
       "      <td>NaN</td>\n",
       "      <td>NaN</td>\n",
       "      <td>NaN</td>\n",
       "      <td>NaN</td>\n",
       "    </tr>\n",
       "    <tr>\n",
       "      <th>3</th>\n",
       "      <td>III</td>\n",
       "      <td>2008-01-07</td>\n",
       "      <td>967.5</td>\n",
       "      <td>971.5</td>\n",
       "      <td>974.0</td>\n",
       "      <td>953.0</td>\n",
       "      <td>4.0</td>\n",
       "      <td>3167216.0</td>\n",
       "      <td>NaN</td>\n",
       "      <td>NaN</td>\n",
       "      <td>NaN</td>\n",
       "      <td>NaN</td>\n",
       "      <td>NaN</td>\n",
       "    </tr>\n",
       "    <tr>\n",
       "      <th>4</th>\n",
       "      <td>III</td>\n",
       "      <td>2008-01-08</td>\n",
       "      <td>975.0</td>\n",
       "      <td>978.5</td>\n",
       "      <td>989.0</td>\n",
       "      <td>971.5</td>\n",
       "      <td>3.5</td>\n",
       "      <td>2297118.0</td>\n",
       "      <td>NaN</td>\n",
       "      <td>NaN</td>\n",
       "      <td>NaN</td>\n",
       "      <td>NaN</td>\n",
       "      <td>NaN</td>\n",
       "    </tr>\n",
       "  </tbody>\n",
       "</table>\n",
       "</div>"
      ],
      "text/plain": [
       "  ticker       date    open   close    high    low  change     volume  ema12  \\\n",
       "0    III 2008-01-02   995.0  1005.0  1023.0  995.0    10.0   785944.0    NaN   \n",
       "1    III 2008-01-03  1005.0   988.0  1020.0  981.0   -17.0  1805560.0    NaN   \n",
       "2    III 2008-01-04   985.5   965.0  1000.0  964.0   -20.5  1920061.0    NaN   \n",
       "3    III 2008-01-07   967.5   971.5   974.0  953.0     4.0  3167216.0    NaN   \n",
       "4    III 2008-01-08   975.0   978.5   989.0  971.5     3.5  2297118.0    NaN   \n",
       "\n",
       "   ema26  macd_line  signal  macd  \n",
       "0    NaN        NaN     NaN   NaN  \n",
       "1    NaN        NaN     NaN   NaN  \n",
       "2    NaN        NaN     NaN   NaN  \n",
       "3    NaN        NaN     NaN   NaN  \n",
       "4    NaN        NaN     NaN   NaN  "
      ]
     },
     "execution_count": 3,
     "metadata": {},
     "output_type": "execute_result"
    }
   ],
   "source": [
    "#open the price file\n",
    "src_fldr_pth = r'C:\\\\Users\\\\Robert\\\\Documents\\\\python_scripts\\\\stock_trading_ml_modelling\\\\historical_prices\\\\'\n",
    "hist_prices_d_df = pd.read_hdf(src_fldr_pth + r'all_hist_prices_d.h5')\n",
    "print(hist_prices_d_df.shape)\n",
    "hist_prices_d_df.head()"
   ]
  },
  {
   "cell_type": "code",
   "execution_count": 4,
   "metadata": {},
   "outputs": [
    {
     "name": "stdout",
     "output_type": "stream",
     "text": [
      "(1222341, 13)\n"
     ]
    }
   ],
   "source": [
    "new_hist_prices_d_df = hist_prices_d_df[hist_prices_d_df.ticker != 'AGT']\n",
    "print(new_hist_prices_d_df.shape)"
   ]
  },
  {
   "cell_type": "code",
   "execution_count": 5,
   "metadata": {},
   "outputs": [
    {
     "name": "stdout",
     "output_type": "stream",
     "text": [
      "(257332, 13)\n"
     ]
    },
    {
     "data": {
      "text/html": [
       "<div>\n",
       "<style scoped>\n",
       "    .dataframe tbody tr th:only-of-type {\n",
       "        vertical-align: middle;\n",
       "    }\n",
       "\n",
       "    .dataframe tbody tr th {\n",
       "        vertical-align: top;\n",
       "    }\n",
       "\n",
       "    .dataframe thead th {\n",
       "        text-align: right;\n",
       "    }\n",
       "</style>\n",
       "<table border=\"1\" class=\"dataframe\">\n",
       "  <thead>\n",
       "    <tr style=\"text-align: right;\">\n",
       "      <th></th>\n",
       "      <th>ticker</th>\n",
       "      <th>date</th>\n",
       "      <th>high</th>\n",
       "      <th>low</th>\n",
       "      <th>volume</th>\n",
       "      <th>open</th>\n",
       "      <th>close</th>\n",
       "      <th>change</th>\n",
       "      <th>ema12</th>\n",
       "      <th>ema26</th>\n",
       "      <th>macd_line</th>\n",
       "      <th>signal</th>\n",
       "      <th>macd</th>\n",
       "    </tr>\n",
       "  </thead>\n",
       "  <tbody>\n",
       "    <tr>\n",
       "      <th>0</th>\n",
       "      <td>III</td>\n",
       "      <td>2007-12-31</td>\n",
       "      <td>1023.0</td>\n",
       "      <td>964.0</td>\n",
       "      <td>4511565.0</td>\n",
       "      <td>995.0</td>\n",
       "      <td>965.0</td>\n",
       "      <td>-30.0</td>\n",
       "      <td>NaN</td>\n",
       "      <td>NaN</td>\n",
       "      <td>NaN</td>\n",
       "      <td>NaN</td>\n",
       "      <td>NaN</td>\n",
       "    </tr>\n",
       "    <tr>\n",
       "      <th>1</th>\n",
       "      <td>III</td>\n",
       "      <td>2008-01-07</td>\n",
       "      <td>989.0</td>\n",
       "      <td>917.5</td>\n",
       "      <td>16056554.0</td>\n",
       "      <td>967.5</td>\n",
       "      <td>924.0</td>\n",
       "      <td>-43.5</td>\n",
       "      <td>NaN</td>\n",
       "      <td>NaN</td>\n",
       "      <td>NaN</td>\n",
       "      <td>NaN</td>\n",
       "      <td>NaN</td>\n",
       "    </tr>\n",
       "    <tr>\n",
       "      <th>2</th>\n",
       "      <td>III</td>\n",
       "      <td>2008-01-14</td>\n",
       "      <td>936.0</td>\n",
       "      <td>881.0</td>\n",
       "      <td>21691287.0</td>\n",
       "      <td>917.0</td>\n",
       "      <td>901.0</td>\n",
       "      <td>-16.0</td>\n",
       "      <td>NaN</td>\n",
       "      <td>NaN</td>\n",
       "      <td>NaN</td>\n",
       "      <td>NaN</td>\n",
       "      <td>NaN</td>\n",
       "    </tr>\n",
       "    <tr>\n",
       "      <th>3</th>\n",
       "      <td>III</td>\n",
       "      <td>2008-01-21</td>\n",
       "      <td>965.0</td>\n",
       "      <td>847.0</td>\n",
       "      <td>17850580.0</td>\n",
       "      <td>891.0</td>\n",
       "      <td>917.5</td>\n",
       "      <td>26.5</td>\n",
       "      <td>NaN</td>\n",
       "      <td>NaN</td>\n",
       "      <td>NaN</td>\n",
       "      <td>NaN</td>\n",
       "      <td>NaN</td>\n",
       "    </tr>\n",
       "    <tr>\n",
       "      <th>4</th>\n",
       "      <td>III</td>\n",
       "      <td>2008-01-28</td>\n",
       "      <td>971.0</td>\n",
       "      <td>903.0</td>\n",
       "      <td>12079245.0</td>\n",
       "      <td>911.0</td>\n",
       "      <td>961.0</td>\n",
       "      <td>50.0</td>\n",
       "      <td>NaN</td>\n",
       "      <td>NaN</td>\n",
       "      <td>NaN</td>\n",
       "      <td>NaN</td>\n",
       "      <td>NaN</td>\n",
       "    </tr>\n",
       "  </tbody>\n",
       "</table>\n",
       "</div>"
      ],
      "text/plain": [
       "  ticker       date    high    low      volume   open  close  change  ema12  \\\n",
       "0    III 2007-12-31  1023.0  964.0   4511565.0  995.0  965.0   -30.0    NaN   \n",
       "1    III 2008-01-07   989.0  917.5  16056554.0  967.5  924.0   -43.5    NaN   \n",
       "2    III 2008-01-14   936.0  881.0  21691287.0  917.0  901.0   -16.0    NaN   \n",
       "3    III 2008-01-21   965.0  847.0  17850580.0  891.0  917.5    26.5    NaN   \n",
       "4    III 2008-01-28   971.0  903.0  12079245.0  911.0  961.0    50.0    NaN   \n",
       "\n",
       "   ema26  macd_line  signal  macd  \n",
       "0    NaN        NaN     NaN   NaN  \n",
       "1    NaN        NaN     NaN   NaN  \n",
       "2    NaN        NaN     NaN   NaN  \n",
       "3    NaN        NaN     NaN   NaN  \n",
       "4    NaN        NaN     NaN   NaN  "
      ]
     },
     "execution_count": 5,
     "metadata": {},
     "output_type": "execute_result"
    }
   ],
   "source": [
    "hist_prices_w_df = pd.read_hdf(src_fldr_pth + r'all_hist_prices_w.h5')\n",
    "print(hist_prices_w_df.shape)\n",
    "hist_prices_w_df.head()"
   ]
  },
  {
   "cell_type": "code",
   "execution_count": 6,
   "metadata": {},
   "outputs": [
    {
     "name": "stdout",
     "output_type": "stream",
     "text": [
      "(257332, 13)\n"
     ]
    }
   ],
   "source": [
    "new_hist_prices_w_df = hist_prices_w_df[hist_prices_w_df.ticker != 'AGT']\n",
    "print(new_hist_prices_w_df.shape)"
   ]
  },
  {
   "cell_type": "code",
   "execution_count": 7,
   "metadata": {},
   "outputs": [],
   "source": [
    "col_lens = {'ticker': 4,\n",
    " 'date': 19,\n",
    " 'open': 7,\n",
    " 'close': 7,\n",
    " 'high': 7,\n",
    " 'low': 7,\n",
    " 'change': 21,\n",
    " 'volume': 12,\n",
    " 'ema12': 18,\n",
    " 'ema26': 18,\n",
    " 'macd_line': 23,\n",
    " 'signal': 23,\n",
    " 'macd': 23}\n",
    "hf_store_name_d = src_fldr_pth + r'all_hist_prices_d_TMP.h5'\n",
    "hf_d = pd.HDFStore(hf_store_name_d)\n",
    "group_name_d = r'daily_data'\n",
    "hf_store_name_w = src_fldr_pth + r'all_hist_prices_w_TMP.h5'\n",
    "hf_w = pd.HDFStore(hf_store_name_w)\n",
    "group_name_w = r'weekly_data'"
   ]
  },
  {
   "cell_type": "code",
   "execution_count": 8,
   "metadata": {},
   "outputs": [],
   "source": [
    "\n",
    "new_hist_prices_d_df.to_hdf(hf_store_name_d,key=group_name_d,min_itemsize=col_lens)\n",
    "new_hist_prices_w_df.to_hdf(hf_store_name_w,key=group_name_w,min_itemsize=col_lens)"
   ]
  },
  {
   "cell_type": "code",
   "execution_count": 9,
   "metadata": {},
   "outputs": [
    {
     "name": "stderr",
     "output_type": "stream",
     "text": [
      "Closing remaining open files:C:\\\\Users\\\\Robert\\\\Documents\\\\python_scripts\\\\stock_trading_ml_modelling\\\\historical_prices\\\\all_hist_prices_d_TMP.h5...doneC:\\\\Users\\\\Robert\\\\Documents\\\\python_scripts\\\\stock_trading_ml_modelling\\\\historical_prices\\\\all_hist_prices_w_TMP.h5...done\n"
     ]
    }
   ],
   "source": [
    "#close any open h5 files\n",
    "tables.file._open_files.close_all()"
   ]
  },
  {
   "cell_type": "code",
   "execution_count": 10,
   "metadata": {},
   "outputs": [
    {
     "name": "stdout",
     "output_type": "stream",
     "text": [
      "\n",
      "SUCCESSFULLY REMOVED C:\\\\Users\\\\Robert\\\\Documents\\\\python_scripts\\\\stock_trading_ml_modelling\\\\historical_prices\\\\all_hist_prices_d.h5\n",
      "\n",
      "SUCCESSFULLY RENAMED C:\\\\Users\\\\Robert\\\\Documents\\\\python_scripts\\\\stock_trading_ml_modelling\\\\historical_prices\\\\all_hist_prices_d_TMP.h5 TO C:\\\\Users\\\\Robert\\\\Documents\\\\python_scripts\\\\stock_trading_ml_modelling\\\\historical_prices\\\\all_hist_prices_d.h5\n"
     ]
    }
   ],
   "source": [
    "# #Delete the old h5 file and rename the TMP\n",
    "try:\n",
    "    os.remove(src_fldr_pth + r'all_hist_prices_d.h5')\n",
    "    print('\\nSUCCESSFULLY REMOVED {}'.format(src_fldr_pth + r'all_hist_prices_d.h5'))\n",
    "except Exception as e:\n",
    "    print('\\nERROR - REMOVING:{}'.format(e))\n",
    "try:\n",
    "    os.rename(src_fldr_pth + r'all_hist_prices_d_TMP.h5',src_fldr_pth + r'all_hist_prices_d.h5')\n",
    "    print('\\nSUCCESSFULLY RENAMED {} TO {}'.format(src_fldr_pth + r'all_hist_prices_d_TMP.h5',src_fldr_pth + r'all_hist_prices_d.h5'))\n",
    "except Exception as e:\n",
    "    print('\\nERROR - RENAMING:{}'.format(e))"
   ]
  },
  {
   "cell_type": "code",
   "execution_count": 11,
   "metadata": {},
   "outputs": [
    {
     "name": "stdout",
     "output_type": "stream",
     "text": [
      "\n",
      "SUCCESSFULLY REMOVED C:\\\\Users\\\\Robert\\\\Documents\\\\python_scripts\\\\stock_trading_ml_modelling\\\\historical_prices\\\\all_hist_prices_w.h5\n",
      "\n",
      "SUCCESSFULLY RENAMED C:\\\\Users\\\\Robert\\\\Documents\\\\python_scripts\\\\stock_trading_ml_modelling\\\\historical_prices\\\\all_hist_prices_w_TMP.h5 TO C:\\\\Users\\\\Robert\\\\Documents\\\\python_scripts\\\\stock_trading_ml_modelling\\\\historical_prices\\\\all_hist_prices_w.h5\n"
     ]
    }
   ],
   "source": [
    "\n",
    "try:\n",
    "    os.remove(src_fldr_pth + r'all_hist_prices_w.h5')\n",
    "    print('\\nSUCCESSFULLY REMOVED {}'.format(src_fldr_pth + r'all_hist_prices_w.h5'))\n",
    "except Exception as e:\n",
    "    print('\\nERROR - REMOVING:{}'.format(e))\n",
    "try:\n",
    "    os.rename(src_fldr_pth + r'all_hist_prices_w_TMP.h5',src_fldr_pth + r'all_hist_prices_w.h5')\n",
    "    print('\\nSUCCESSFULLY RENAMED {} TO {}'.format(src_fldr_pth + r'all_hist_prices_w_TMP.h5',src_fldr_pth + r'all_hist_prices_w.h5'))\n",
    "except Exception as e:\n",
    "    print('\\nERROR - RENAMING:{}'.format(e))"
   ]
  },
  {
   "cell_type": "code",
   "execution_count": null,
   "metadata": {},
   "outputs": [],
   "source": []
  }
 ],
 "metadata": {
  "kernelspec": {
   "display_name": "Python 3",
   "language": "python",
   "name": "python3"
  },
  "language_info": {
   "codemirror_mode": {
    "name": "ipython",
    "version": 3
   },
   "file_extension": ".py",
   "mimetype": "text/x-python",
   "name": "python",
   "nbconvert_exporter": "python",
   "pygments_lexer": "ipython3",
   "version": "3.7.0"
  }
 },
 "nbformat": 4,
 "nbformat_minor": 2
}
