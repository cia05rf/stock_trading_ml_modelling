{
 "cells": [
  {
   "cell_type": "markdown",
   "metadata": {},
   "source": [
    "# Evaluating signals\n",
    "This script will pull in the price and signals data and then plot them to evaluate if I believe signals are being generated under the correct cicumstances.\n",
    "\n",
    "This is done in two stages:\n",
    "1. A chart representation of signals\n",
    "2. Charted correllations of signals and variables"
   ]
  },
  {
   "cell_type": "code",
   "execution_count": 1,
   "metadata": {},
   "outputs": [],
   "source": [
    "#import modules\n",
    "import numpy as np\n",
    "import pandas as pd\n",
    "import plotly.express as px\n",
    "import plotly.graph_objects as go\n",
    "from plotly.subplots import make_subplots\n",
    "from rf_modules import process_time"
   ]
  },
  {
   "cell_type": "code",
   "execution_count": 7,
   "metadata": {
    "scrolled": true
   },
   "outputs": [
    {
     "data": {
      "text/html": [
       "<div>\n",
       "<style scoped>\n",
       "    .dataframe tbody tr th:only-of-type {\n",
       "        vertical-align: middle;\n",
       "    }\n",
       "\n",
       "    .dataframe tbody tr th {\n",
       "        vertical-align: top;\n",
       "    }\n",
       "\n",
       "    .dataframe thead th {\n",
       "        text-align: right;\n",
       "    }\n",
       "</style>\n",
       "<table border=\"1\" class=\"dataframe\">\n",
       "  <thead>\n",
       "    <tr style=\"text-align: right;\">\n",
       "      <th></th>\n",
       "      <th>ticker</th>\n",
       "      <th>date</th>\n",
       "      <th>open</th>\n",
       "      <th>close</th>\n",
       "      <th>high</th>\n",
       "      <th>low</th>\n",
       "      <th>volume</th>\n",
       "      <th>change_price</th>\n",
       "      <th>per_change_price</th>\n",
       "      <th>ema26</th>\n",
       "      <th>...</th>\n",
       "      <th>max_move_cum_macd_line</th>\n",
       "      <th>min_move_cum_macd_line</th>\n",
       "      <th>long_prev_max_move_date_macd_line</th>\n",
       "      <th>long_prev_min_move_date_macd_line</th>\n",
       "      <th>long_max_grad_macd_line</th>\n",
       "      <th>long_min_grad_macd_line</th>\n",
       "      <th>signal</th>\n",
       "      <th>change</th>\n",
       "      <th>ema12</th>\n",
       "      <th>signal_model</th>\n",
       "    </tr>\n",
       "  </thead>\n",
       "  <tbody>\n",
       "    <tr>\n",
       "      <th>66486</th>\n",
       "      <td>SBRY</td>\n",
       "      <td>2018-10-22</td>\n",
       "      <td>304.70</td>\n",
       "      <td>304.80</td>\n",
       "      <td>311.50</td>\n",
       "      <td>298.80</td>\n",
       "      <td>32342771.0</td>\n",
       "      <td>0.10</td>\n",
       "      <td>0.000328</td>\n",
       "      <td>308.212195</td>\n",
       "      <td>...</td>\n",
       "      <td>2</td>\n",
       "      <td>0</td>\n",
       "      <td>23.0</td>\n",
       "      <td>0.0</td>\n",
       "      <td>0.827586</td>\n",
       "      <td>0.000000</td>\n",
       "      <td>hold</td>\n",
       "      <td>0.10</td>\n",
       "      <td>314.109772</td>\n",
       "      <td>hold</td>\n",
       "    </tr>\n",
       "    <tr>\n",
       "      <th>66487</th>\n",
       "      <td>SBRY</td>\n",
       "      <td>2018-10-29</td>\n",
       "      <td>304.80</td>\n",
       "      <td>318.70</td>\n",
       "      <td>319.00</td>\n",
       "      <td>304.40</td>\n",
       "      <td>37431447.0</td>\n",
       "      <td>13.90</td>\n",
       "      <td>0.043615</td>\n",
       "      <td>308.989069</td>\n",
       "      <td>...</td>\n",
       "      <td>2</td>\n",
       "      <td>0</td>\n",
       "      <td>23.0</td>\n",
       "      <td>0.0</td>\n",
       "      <td>0.827586</td>\n",
       "      <td>0.000000</td>\n",
       "      <td>hold</td>\n",
       "      <td>13.90</td>\n",
       "      <td>314.815961</td>\n",
       "      <td>hold</td>\n",
       "    </tr>\n",
       "    <tr>\n",
       "      <th>66488</th>\n",
       "      <td>SBRY</td>\n",
       "      <td>2018-11-05</td>\n",
       "      <td>316.90</td>\n",
       "      <td>322.00</td>\n",
       "      <td>327.20</td>\n",
       "      <td>310.00</td>\n",
       "      <td>45028208.0</td>\n",
       "      <td>5.10</td>\n",
       "      <td>0.015839</td>\n",
       "      <td>309.952842</td>\n",
       "      <td>...</td>\n",
       "      <td>2</td>\n",
       "      <td>0</td>\n",
       "      <td>23.0</td>\n",
       "      <td>0.0</td>\n",
       "      <td>0.827586</td>\n",
       "      <td>0.000000</td>\n",
       "      <td>sell</td>\n",
       "      <td>5.10</td>\n",
       "      <td>315.921198</td>\n",
       "      <td>sell</td>\n",
       "    </tr>\n",
       "    <tr>\n",
       "      <th>66489</th>\n",
       "      <td>SBRY</td>\n",
       "      <td>2018-11-12</td>\n",
       "      <td>324.50</td>\n",
       "      <td>305.30</td>\n",
       "      <td>324.50</td>\n",
       "      <td>302.30</td>\n",
       "      <td>49974837.0</td>\n",
       "      <td>-19.20</td>\n",
       "      <td>-0.062889</td>\n",
       "      <td>309.608187</td>\n",
       "      <td>...</td>\n",
       "      <td>2</td>\n",
       "      <td>0</td>\n",
       "      <td>23.0</td>\n",
       "      <td>0.0</td>\n",
       "      <td>0.827586</td>\n",
       "      <td>0.000000</td>\n",
       "      <td>hold</td>\n",
       "      <td>-19.20</td>\n",
       "      <td>314.287168</td>\n",
       "      <td>buy</td>\n",
       "    </tr>\n",
       "    <tr>\n",
       "      <th>66490</th>\n",
       "      <td>SBRY</td>\n",
       "      <td>2018-11-19</td>\n",
       "      <td>305.00</td>\n",
       "      <td>310.30</td>\n",
       "      <td>313.20</td>\n",
       "      <td>304.10</td>\n",
       "      <td>36190436.0</td>\n",
       "      <td>5.30</td>\n",
       "      <td>0.017080</td>\n",
       "      <td>309.659432</td>\n",
       "      <td>...</td>\n",
       "      <td>0</td>\n",
       "      <td>0</td>\n",
       "      <td>0.0</td>\n",
       "      <td>0.0</td>\n",
       "      <td>0.000000</td>\n",
       "      <td>0.000000</td>\n",
       "      <td>sell</td>\n",
       "      <td>5.30</td>\n",
       "      <td>313.673757</td>\n",
       "      <td>hold</td>\n",
       "    </tr>\n",
       "    <tr>\n",
       "      <th>66491</th>\n",
       "      <td>SBRY</td>\n",
       "      <td>2018-11-26</td>\n",
       "      <td>313.10</td>\n",
       "      <td>305.00</td>\n",
       "      <td>320.70</td>\n",
       "      <td>305.00</td>\n",
       "      <td>49868858.0</td>\n",
       "      <td>-8.10</td>\n",
       "      <td>-0.026557</td>\n",
       "      <td>309.314289</td>\n",
       "      <td>...</td>\n",
       "      <td>0</td>\n",
       "      <td>0</td>\n",
       "      <td>0.0</td>\n",
       "      <td>0.0</td>\n",
       "      <td>0.000000</td>\n",
       "      <td>0.000000</td>\n",
       "      <td>sell</td>\n",
       "      <td>-8.10</td>\n",
       "      <td>312.339333</td>\n",
       "      <td>hold</td>\n",
       "    </tr>\n",
       "    <tr>\n",
       "      <th>66492</th>\n",
       "      <td>SBRY</td>\n",
       "      <td>2018-12-03</td>\n",
       "      <td>306.90</td>\n",
       "      <td>300.00</td>\n",
       "      <td>310.70</td>\n",
       "      <td>298.80</td>\n",
       "      <td>37306575.0</td>\n",
       "      <td>-6.90</td>\n",
       "      <td>-0.023000</td>\n",
       "      <td>308.624342</td>\n",
       "      <td>...</td>\n",
       "      <td>0</td>\n",
       "      <td>0</td>\n",
       "      <td>0.0</td>\n",
       "      <td>0.0</td>\n",
       "      <td>0.000000</td>\n",
       "      <td>0.000000</td>\n",
       "      <td>sell</td>\n",
       "      <td>-6.90</td>\n",
       "      <td>310.440974</td>\n",
       "      <td>hold</td>\n",
       "    </tr>\n",
       "    <tr>\n",
       "      <th>66493</th>\n",
       "      <td>SBRY</td>\n",
       "      <td>2018-12-10</td>\n",
       "      <td>301.00</td>\n",
       "      <td>275.50</td>\n",
       "      <td>303.10</td>\n",
       "      <td>274.30</td>\n",
       "      <td>79778907.0</td>\n",
       "      <td>-25.50</td>\n",
       "      <td>-0.092559</td>\n",
       "      <td>306.170687</td>\n",
       "      <td>...</td>\n",
       "      <td>0</td>\n",
       "      <td>0</td>\n",
       "      <td>0.0</td>\n",
       "      <td>0.0</td>\n",
       "      <td>0.000000</td>\n",
       "      <td>0.000000</td>\n",
       "      <td>sell</td>\n",
       "      <td>-25.50</td>\n",
       "      <td>305.065440</td>\n",
       "      <td>hold</td>\n",
       "    </tr>\n",
       "    <tr>\n",
       "      <th>66494</th>\n",
       "      <td>SBRY</td>\n",
       "      <td>2018-12-17</td>\n",
       "      <td>276.00</td>\n",
       "      <td>270.00</td>\n",
       "      <td>276.70</td>\n",
       "      <td>262.50</td>\n",
       "      <td>61622007.0</td>\n",
       "      <td>-6.00</td>\n",
       "      <td>-0.022222</td>\n",
       "      <td>303.491377</td>\n",
       "      <td>...</td>\n",
       "      <td>0</td>\n",
       "      <td>0</td>\n",
       "      <td>0.0</td>\n",
       "      <td>0.0</td>\n",
       "      <td>0.000000</td>\n",
       "      <td>0.000000</td>\n",
       "      <td>sell</td>\n",
       "      <td>-6.00</td>\n",
       "      <td>299.670757</td>\n",
       "      <td>sell</td>\n",
       "    </tr>\n",
       "    <tr>\n",
       "      <th>66495</th>\n",
       "      <td>SBRY</td>\n",
       "      <td>2018-12-24</td>\n",
       "      <td>267.10</td>\n",
       "      <td>264.90</td>\n",
       "      <td>269.40</td>\n",
       "      <td>259.40</td>\n",
       "      <td>12569725.0</td>\n",
       "      <td>-2.20</td>\n",
       "      <td>-0.008305</td>\n",
       "      <td>300.632756</td>\n",
       "      <td>...</td>\n",
       "      <td>0</td>\n",
       "      <td>0</td>\n",
       "      <td>0.0</td>\n",
       "      <td>0.0</td>\n",
       "      <td>0.000000</td>\n",
       "      <td>0.000000</td>\n",
       "      <td>hold</td>\n",
       "      <td>-2.20</td>\n",
       "      <td>294.321409</td>\n",
       "      <td>sell</td>\n",
       "    </tr>\n",
       "    <tr>\n",
       "      <th>66496</th>\n",
       "      <td>SBRY</td>\n",
       "      <td>2018-12-31</td>\n",
       "      <td>264.20</td>\n",
       "      <td>260.00</td>\n",
       "      <td>266.30</td>\n",
       "      <td>257.40</td>\n",
       "      <td>19774656.0</td>\n",
       "      <td>-4.20</td>\n",
       "      <td>-0.016154</td>\n",
       "      <td>297.622923</td>\n",
       "      <td>...</td>\n",
       "      <td>0</td>\n",
       "      <td>0</td>\n",
       "      <td>0.0</td>\n",
       "      <td>0.0</td>\n",
       "      <td>0.000000</td>\n",
       "      <td>0.000000</td>\n",
       "      <td>hold</td>\n",
       "      <td>-4.20</td>\n",
       "      <td>289.041193</td>\n",
       "      <td>buy</td>\n",
       "    </tr>\n",
       "    <tr>\n",
       "      <th>66497</th>\n",
       "      <td>SBRY</td>\n",
       "      <td>2019-01-07</td>\n",
       "      <td>261.70</td>\n",
       "      <td>275.80</td>\n",
       "      <td>281.40</td>\n",
       "      <td>259.00</td>\n",
       "      <td>56579582.0</td>\n",
       "      <td>14.10</td>\n",
       "      <td>0.051124</td>\n",
       "      <td>296.006410</td>\n",
       "      <td>...</td>\n",
       "      <td>0</td>\n",
       "      <td>0</td>\n",
       "      <td>0.0</td>\n",
       "      <td>0.0</td>\n",
       "      <td>0.000000</td>\n",
       "      <td>0.000000</td>\n",
       "      <td>hold</td>\n",
       "      <td>14.10</td>\n",
       "      <td>287.004086</td>\n",
       "      <td>hold</td>\n",
       "    </tr>\n",
       "    <tr>\n",
       "      <th>66498</th>\n",
       "      <td>SBRY</td>\n",
       "      <td>2019-01-14</td>\n",
       "      <td>274.60</td>\n",
       "      <td>277.90</td>\n",
       "      <td>279.50</td>\n",
       "      <td>268.10</td>\n",
       "      <td>29586342.0</td>\n",
       "      <td>3.30</td>\n",
       "      <td>0.011875</td>\n",
       "      <td>294.665194</td>\n",
       "      <td>...</td>\n",
       "      <td>0</td>\n",
       "      <td>0</td>\n",
       "      <td>0.0</td>\n",
       "      <td>0.0</td>\n",
       "      <td>0.000000</td>\n",
       "      <td>0.000000</td>\n",
       "      <td>hold</td>\n",
       "      <td>3.30</td>\n",
       "      <td>285.603457</td>\n",
       "      <td>hold</td>\n",
       "    </tr>\n",
       "    <tr>\n",
       "      <th>66499</th>\n",
       "      <td>SBRY</td>\n",
       "      <td>2019-01-21</td>\n",
       "      <td>276.10</td>\n",
       "      <td>282.70</td>\n",
       "      <td>283.20</td>\n",
       "      <td>271.30</td>\n",
       "      <td>28618340.0</td>\n",
       "      <td>6.60</td>\n",
       "      <td>0.023346</td>\n",
       "      <td>293.778884</td>\n",
       "      <td>...</td>\n",
       "      <td>0</td>\n",
       "      <td>0</td>\n",
       "      <td>0.0</td>\n",
       "      <td>0.0</td>\n",
       "      <td>0.000000</td>\n",
       "      <td>0.000000</td>\n",
       "      <td>hold</td>\n",
       "      <td>6.60</td>\n",
       "      <td>285.156772</td>\n",
       "      <td>hold</td>\n",
       "    </tr>\n",
       "    <tr>\n",
       "      <th>66500</th>\n",
       "      <td>SBRY</td>\n",
       "      <td>2019-01-28</td>\n",
       "      <td>280.30</td>\n",
       "      <td>286.90</td>\n",
       "      <td>289.80</td>\n",
       "      <td>276.20</td>\n",
       "      <td>38600871.0</td>\n",
       "      <td>6.60</td>\n",
       "      <td>0.023005</td>\n",
       "      <td>293.269337</td>\n",
       "      <td>...</td>\n",
       "      <td>0</td>\n",
       "      <td>0</td>\n",
       "      <td>0.0</td>\n",
       "      <td>0.0</td>\n",
       "      <td>0.000000</td>\n",
       "      <td>0.000000</td>\n",
       "      <td>hold</td>\n",
       "      <td>6.60</td>\n",
       "      <td>285.424961</td>\n",
       "      <td>hold</td>\n",
       "    </tr>\n",
       "    <tr>\n",
       "      <th>66501</th>\n",
       "      <td>SBRY</td>\n",
       "      <td>2019-02-04</td>\n",
       "      <td>288.10</td>\n",
       "      <td>291.90</td>\n",
       "      <td>296.20</td>\n",
       "      <td>286.40</td>\n",
       "      <td>35261232.0</td>\n",
       "      <td>3.80</td>\n",
       "      <td>0.013018</td>\n",
       "      <td>293.167904</td>\n",
       "      <td>...</td>\n",
       "      <td>0</td>\n",
       "      <td>0</td>\n",
       "      <td>0.0</td>\n",
       "      <td>0.0</td>\n",
       "      <td>0.000000</td>\n",
       "      <td>0.000000</td>\n",
       "      <td>sell</td>\n",
       "      <td>3.80</td>\n",
       "      <td>286.421121</td>\n",
       "      <td>sell</td>\n",
       "    </tr>\n",
       "    <tr>\n",
       "      <th>66502</th>\n",
       "      <td>SBRY</td>\n",
       "      <td>2019-02-11</td>\n",
       "      <td>295.40</td>\n",
       "      <td>286.20</td>\n",
       "      <td>296.10</td>\n",
       "      <td>281.00</td>\n",
       "      <td>35494884.0</td>\n",
       "      <td>-9.20</td>\n",
       "      <td>-0.032145</td>\n",
       "      <td>292.651763</td>\n",
       "      <td>...</td>\n",
       "      <td>0</td>\n",
       "      <td>0</td>\n",
       "      <td>0.0</td>\n",
       "      <td>0.0</td>\n",
       "      <td>0.000000</td>\n",
       "      <td>0.000000</td>\n",
       "      <td>sell</td>\n",
       "      <td>-9.20</td>\n",
       "      <td>286.387102</td>\n",
       "      <td>sell</td>\n",
       "    </tr>\n",
       "    <tr>\n",
       "      <th>66503</th>\n",
       "      <td>SBRY</td>\n",
       "      <td>2019-02-18</td>\n",
       "      <td>287.00</td>\n",
       "      <td>233.60</td>\n",
       "      <td>288.70</td>\n",
       "      <td>230.50</td>\n",
       "      <td>108235793.0</td>\n",
       "      <td>-53.40</td>\n",
       "      <td>-0.228596</td>\n",
       "      <td>288.277559</td>\n",
       "      <td>...</td>\n",
       "      <td>0</td>\n",
       "      <td>0</td>\n",
       "      <td>0.0</td>\n",
       "      <td>0.0</td>\n",
       "      <td>0.000000</td>\n",
       "      <td>0.000000</td>\n",
       "      <td>sell</td>\n",
       "      <td>-53.40</td>\n",
       "      <td>278.266009</td>\n",
       "      <td>hold</td>\n",
       "    </tr>\n",
       "    <tr>\n",
       "      <th>66504</th>\n",
       "      <td>SBRY</td>\n",
       "      <td>2019-02-25</td>\n",
       "      <td>233.00</td>\n",
       "      <td>231.80</td>\n",
       "      <td>236.40</td>\n",
       "      <td>227.10</td>\n",
       "      <td>61661077.0</td>\n",
       "      <td>-1.20</td>\n",
       "      <td>-0.005177</td>\n",
       "      <td>284.094036</td>\n",
       "      <td>...</td>\n",
       "      <td>-1</td>\n",
       "      <td>0</td>\n",
       "      <td>14.0</td>\n",
       "      <td>0.0</td>\n",
       "      <td>-0.873787</td>\n",
       "      <td>0.000000</td>\n",
       "      <td>sell</td>\n",
       "      <td>-1.20</td>\n",
       "      <td>271.117393</td>\n",
       "      <td>hold</td>\n",
       "    </tr>\n",
       "    <tr>\n",
       "      <th>66505</th>\n",
       "      <td>SBRY</td>\n",
       "      <td>2019-03-04</td>\n",
       "      <td>231.30</td>\n",
       "      <td>223.80</td>\n",
       "      <td>235.30</td>\n",
       "      <td>223.20</td>\n",
       "      <td>64890814.0</td>\n",
       "      <td>-7.50</td>\n",
       "      <td>-0.033512</td>\n",
       "      <td>279.627811</td>\n",
       "      <td>...</td>\n",
       "      <td>-1</td>\n",
       "      <td>0</td>\n",
       "      <td>14.0</td>\n",
       "      <td>0.0</td>\n",
       "      <td>-0.873787</td>\n",
       "      <td>0.000000</td>\n",
       "      <td>hold</td>\n",
       "      <td>-7.50</td>\n",
       "      <td>263.837794</td>\n",
       "      <td>buy</td>\n",
       "    </tr>\n",
       "    <tr>\n",
       "      <th>66506</th>\n",
       "      <td>SBRY</td>\n",
       "      <td>2019-03-11</td>\n",
       "      <td>226.60</td>\n",
       "      <td>223.80</td>\n",
       "      <td>231.00</td>\n",
       "      <td>221.90</td>\n",
       "      <td>67937776.0</td>\n",
       "      <td>-2.80</td>\n",
       "      <td>-0.012511</td>\n",
       "      <td>275.492417</td>\n",
       "      <td>...</td>\n",
       "      <td>-1</td>\n",
       "      <td>0</td>\n",
       "      <td>14.0</td>\n",
       "      <td>0.0</td>\n",
       "      <td>-0.873787</td>\n",
       "      <td>0.000000</td>\n",
       "      <td>hold</td>\n",
       "      <td>-2.80</td>\n",
       "      <td>257.678133</td>\n",
       "      <td>buy</td>\n",
       "    </tr>\n",
       "    <tr>\n",
       "      <th>66507</th>\n",
       "      <td>SBRY</td>\n",
       "      <td>2019-03-18</td>\n",
       "      <td>224.20</td>\n",
       "      <td>236.80</td>\n",
       "      <td>242.40</td>\n",
       "      <td>223.30</td>\n",
       "      <td>55331947.0</td>\n",
       "      <td>12.60</td>\n",
       "      <td>0.053209</td>\n",
       "      <td>272.626312</td>\n",
       "      <td>...</td>\n",
       "      <td>-1</td>\n",
       "      <td>0</td>\n",
       "      <td>14.0</td>\n",
       "      <td>0.0</td>\n",
       "      <td>-0.873787</td>\n",
       "      <td>0.000000</td>\n",
       "      <td>sell</td>\n",
       "      <td>12.60</td>\n",
       "      <td>254.466113</td>\n",
       "      <td>hold</td>\n",
       "    </tr>\n",
       "    <tr>\n",
       "      <th>66508</th>\n",
       "      <td>SBRY</td>\n",
       "      <td>2019-03-25</td>\n",
       "      <td>235.00</td>\n",
       "      <td>235.70</td>\n",
       "      <td>239.30</td>\n",
       "      <td>232.60</td>\n",
       "      <td>35154944.0</td>\n",
       "      <td>0.70</td>\n",
       "      <td>0.002970</td>\n",
       "      <td>269.891030</td>\n",
       "      <td>...</td>\n",
       "      <td>-1</td>\n",
       "      <td>0</td>\n",
       "      <td>14.0</td>\n",
       "      <td>0.0</td>\n",
       "      <td>-0.873787</td>\n",
       "      <td>0.000000</td>\n",
       "      <td>hold</td>\n",
       "      <td>0.70</td>\n",
       "      <td>251.579018</td>\n",
       "      <td>hold</td>\n",
       "    </tr>\n",
       "    <tr>\n",
       "      <th>66509</th>\n",
       "      <td>SBRY</td>\n",
       "      <td>2019-04-01</td>\n",
       "      <td>234.70</td>\n",
       "      <td>238.80</td>\n",
       "      <td>241.00</td>\n",
       "      <td>230.00</td>\n",
       "      <td>41954095.0</td>\n",
       "      <td>4.10</td>\n",
       "      <td>0.017169</td>\n",
       "      <td>267.587991</td>\n",
       "      <td>...</td>\n",
       "      <td>-1</td>\n",
       "      <td>0</td>\n",
       "      <td>14.0</td>\n",
       "      <td>0.0</td>\n",
       "      <td>-0.873787</td>\n",
       "      <td>0.000000</td>\n",
       "      <td>sell</td>\n",
       "      <td>4.10</td>\n",
       "      <td>249.613016</td>\n",
       "      <td>sell</td>\n",
       "    </tr>\n",
       "    <tr>\n",
       "      <th>66510</th>\n",
       "      <td>SBRY</td>\n",
       "      <td>2019-04-08</td>\n",
       "      <td>237.50</td>\n",
       "      <td>235.00</td>\n",
       "      <td>239.60</td>\n",
       "      <td>230.90</td>\n",
       "      <td>36125612.0</td>\n",
       "      <td>-2.50</td>\n",
       "      <td>-0.010638</td>\n",
       "      <td>265.174066</td>\n",
       "      <td>...</td>\n",
       "      <td>-1</td>\n",
       "      <td>-1</td>\n",
       "      <td>14.0</td>\n",
       "      <td>10.0</td>\n",
       "      <td>-0.873787</td>\n",
       "      <td>-0.925027</td>\n",
       "      <td>sell</td>\n",
       "      <td>-2.50</td>\n",
       "      <td>247.364859</td>\n",
       "      <td>sell</td>\n",
       "    </tr>\n",
       "    <tr>\n",
       "      <th>66511</th>\n",
       "      <td>SBRY</td>\n",
       "      <td>2019-04-15</td>\n",
       "      <td>235.80</td>\n",
       "      <td>227.70</td>\n",
       "      <td>236.20</td>\n",
       "      <td>226.30</td>\n",
       "      <td>31960976.0</td>\n",
       "      <td>-8.10</td>\n",
       "      <td>-0.035573</td>\n",
       "      <td>262.398209</td>\n",
       "      <td>...</td>\n",
       "      <td>-1</td>\n",
       "      <td>-1</td>\n",
       "      <td>14.0</td>\n",
       "      <td>10.0</td>\n",
       "      <td>-0.873787</td>\n",
       "      <td>-0.925027</td>\n",
       "      <td>sell</td>\n",
       "      <td>-8.10</td>\n",
       "      <td>244.339496</td>\n",
       "      <td>sell</td>\n",
       "    </tr>\n",
       "    <tr>\n",
       "      <th>66512</th>\n",
       "      <td>SBRY</td>\n",
       "      <td>2019-04-22</td>\n",
       "      <td>229.00</td>\n",
       "      <td>220.20</td>\n",
       "      <td>232.00</td>\n",
       "      <td>212.10</td>\n",
       "      <td>73340819.0</td>\n",
       "      <td>-8.80</td>\n",
       "      <td>-0.039964</td>\n",
       "      <td>259.272416</td>\n",
       "      <td>...</td>\n",
       "      <td>-2</td>\n",
       "      <td>-1</td>\n",
       "      <td>22.0</td>\n",
       "      <td>10.0</td>\n",
       "      <td>-1.080798</td>\n",
       "      <td>-0.925027</td>\n",
       "      <td>hold</td>\n",
       "      <td>-8.80</td>\n",
       "      <td>240.625728</td>\n",
       "      <td>hold</td>\n",
       "    </tr>\n",
       "    <tr>\n",
       "      <th>66513</th>\n",
       "      <td>SBRY</td>\n",
       "      <td>2019-04-29</td>\n",
       "      <td>219.70</td>\n",
       "      <td>220.30</td>\n",
       "      <td>236.70</td>\n",
       "      <td>219.00</td>\n",
       "      <td>71630074.0</td>\n",
       "      <td>0.60</td>\n",
       "      <td>0.002724</td>\n",
       "      <td>256.385570</td>\n",
       "      <td>...</td>\n",
       "      <td>-2</td>\n",
       "      <td>-1</td>\n",
       "      <td>22.0</td>\n",
       "      <td>10.0</td>\n",
       "      <td>-1.080798</td>\n",
       "      <td>-0.925027</td>\n",
       "      <td>sell</td>\n",
       "      <td>0.60</td>\n",
       "      <td>237.498693</td>\n",
       "      <td>sell</td>\n",
       "    </tr>\n",
       "    <tr>\n",
       "      <th>66514</th>\n",
       "      <td>SBRY</td>\n",
       "      <td>2019-05-06</td>\n",
       "      <td>219.30</td>\n",
       "      <td>211.70</td>\n",
       "      <td>222.00</td>\n",
       "      <td>208.10</td>\n",
       "      <td>56053255.0</td>\n",
       "      <td>-7.60</td>\n",
       "      <td>-0.035900</td>\n",
       "      <td>253.075528</td>\n",
       "      <td>...</td>\n",
       "      <td>-2</td>\n",
       "      <td>-1</td>\n",
       "      <td>22.0</td>\n",
       "      <td>10.0</td>\n",
       "      <td>-1.080798</td>\n",
       "      <td>-0.925027</td>\n",
       "      <td>sell</td>\n",
       "      <td>-7.60</td>\n",
       "      <td>233.529663</td>\n",
       "      <td>sell</td>\n",
       "    </tr>\n",
       "    <tr>\n",
       "      <th>66515</th>\n",
       "      <td>SBRY</td>\n",
       "      <td>2019-05-13</td>\n",
       "      <td>211.80</td>\n",
       "      <td>201.20</td>\n",
       "      <td>213.00</td>\n",
       "      <td>199.30</td>\n",
       "      <td>48201824.0</td>\n",
       "      <td>-10.60</td>\n",
       "      <td>-0.052684</td>\n",
       "      <td>249.232896</td>\n",
       "      <td>...</td>\n",
       "      <td>-2</td>\n",
       "      <td>-1</td>\n",
       "      <td>22.0</td>\n",
       "      <td>10.0</td>\n",
       "      <td>-1.080798</td>\n",
       "      <td>-0.925027</td>\n",
       "      <td>hold</td>\n",
       "      <td>-10.60</td>\n",
       "      <td>228.555869</td>\n",
       "      <td>sell</td>\n",
       "    </tr>\n",
       "    <tr>\n",
       "      <th>66516</th>\n",
       "      <td>SBRY</td>\n",
       "      <td>2019-05-20</td>\n",
       "      <td>200.80</td>\n",
       "      <td>195.30</td>\n",
       "      <td>208.30</td>\n",
       "      <td>193.20</td>\n",
       "      <td>60870494.0</td>\n",
       "      <td>-5.50</td>\n",
       "      <td>-0.028162</td>\n",
       "      <td>245.237867</td>\n",
       "      <td>...</td>\n",
       "      <td>-2</td>\n",
       "      <td>-1</td>\n",
       "      <td>22.0</td>\n",
       "      <td>10.0</td>\n",
       "      <td>-1.080798</td>\n",
       "      <td>-0.925027</td>\n",
       "      <td>hold</td>\n",
       "      <td>-5.50</td>\n",
       "      <td>223.439581</td>\n",
       "      <td>hold</td>\n",
       "    </tr>\n",
       "    <tr>\n",
       "      <th>66517</th>\n",
       "      <td>SBRY</td>\n",
       "      <td>2019-05-27</td>\n",
       "      <td>196.00</td>\n",
       "      <td>200.10</td>\n",
       "      <td>200.60</td>\n",
       "      <td>195.35</td>\n",
       "      <td>41928477.0</td>\n",
       "      <td>4.10</td>\n",
       "      <td>0.020490</td>\n",
       "      <td>241.894321</td>\n",
       "      <td>...</td>\n",
       "      <td>-2</td>\n",
       "      <td>-1</td>\n",
       "      <td>22.0</td>\n",
       "      <td>10.0</td>\n",
       "      <td>-1.080798</td>\n",
       "      <td>-0.925027</td>\n",
       "      <td>sell</td>\n",
       "      <td>4.10</td>\n",
       "      <td>219.848876</td>\n",
       "      <td>sell</td>\n",
       "    </tr>\n",
       "    <tr>\n",
       "      <th>66518</th>\n",
       "      <td>SBRY</td>\n",
       "      <td>2019-06-03</td>\n",
       "      <td>199.65</td>\n",
       "      <td>197.40</td>\n",
       "      <td>205.80</td>\n",
       "      <td>193.55</td>\n",
       "      <td>60801658.0</td>\n",
       "      <td>-2.25</td>\n",
       "      <td>-0.011398</td>\n",
       "      <td>238.598445</td>\n",
       "      <td>...</td>\n",
       "      <td>-2</td>\n",
       "      <td>-1</td>\n",
       "      <td>22.0</td>\n",
       "      <td>10.0</td>\n",
       "      <td>-1.080798</td>\n",
       "      <td>-0.925027</td>\n",
       "      <td>sell</td>\n",
       "      <td>-2.25</td>\n",
       "      <td>216.395203</td>\n",
       "      <td>hold</td>\n",
       "    </tr>\n",
       "    <tr>\n",
       "      <th>66519</th>\n",
       "      <td>SBRY</td>\n",
       "      <td>2019-06-10</td>\n",
       "      <td>198.05</td>\n",
       "      <td>193.90</td>\n",
       "      <td>199.45</td>\n",
       "      <td>192.70</td>\n",
       "      <td>55494872.0</td>\n",
       "      <td>-4.15</td>\n",
       "      <td>-0.021403</td>\n",
       "      <td>235.287449</td>\n",
       "      <td>...</td>\n",
       "      <td>-2</td>\n",
       "      <td>-1</td>\n",
       "      <td>22.0</td>\n",
       "      <td>10.0</td>\n",
       "      <td>-1.080798</td>\n",
       "      <td>-0.925027</td>\n",
       "      <td>hold</td>\n",
       "      <td>-4.15</td>\n",
       "      <td>212.934403</td>\n",
       "      <td>buy</td>\n",
       "    </tr>\n",
       "    <tr>\n",
       "      <th>66520</th>\n",
       "      <td>SBRY</td>\n",
       "      <td>2019-06-17</td>\n",
       "      <td>193.55</td>\n",
       "      <td>195.85</td>\n",
       "      <td>199.20</td>\n",
       "      <td>192.40</td>\n",
       "      <td>74413609.0</td>\n",
       "      <td>2.30</td>\n",
       "      <td>0.011744</td>\n",
       "      <td>232.366157</td>\n",
       "      <td>...</td>\n",
       "      <td>-2</td>\n",
       "      <td>-1</td>\n",
       "      <td>22.0</td>\n",
       "      <td>10.0</td>\n",
       "      <td>-1.080798</td>\n",
       "      <td>-0.925027</td>\n",
       "      <td>hold</td>\n",
       "      <td>2.30</td>\n",
       "      <td>210.306033</td>\n",
       "      <td>hold</td>\n",
       "    </tr>\n",
       "    <tr>\n",
       "      <th>66521</th>\n",
       "      <td>SBRY</td>\n",
       "      <td>2019-06-24</td>\n",
       "      <td>195.60</td>\n",
       "      <td>195.95</td>\n",
       "      <td>197.35</td>\n",
       "      <td>185.30</td>\n",
       "      <td>69472325.0</td>\n",
       "      <td>0.35</td>\n",
       "      <td>0.001786</td>\n",
       "      <td>229.668664</td>\n",
       "      <td>...</td>\n",
       "      <td>-2</td>\n",
       "      <td>-2</td>\n",
       "      <td>22.0</td>\n",
       "      <td>21.0</td>\n",
       "      <td>-1.080798</td>\n",
       "      <td>-0.632920</td>\n",
       "      <td>hold</td>\n",
       "      <td>0.35</td>\n",
       "      <td>208.097413</td>\n",
       "      <td>hold</td>\n",
       "    </tr>\n",
       "    <tr>\n",
       "      <th>66522</th>\n",
       "      <td>SBRY</td>\n",
       "      <td>2019-07-01</td>\n",
       "      <td>196.05</td>\n",
       "      <td>205.30</td>\n",
       "      <td>207.60</td>\n",
       "      <td>194.00</td>\n",
       "      <td>57558994.0</td>\n",
       "      <td>9.25</td>\n",
       "      <td>0.045056</td>\n",
       "      <td>227.863578</td>\n",
       "      <td>...</td>\n",
       "      <td>-2</td>\n",
       "      <td>-2</td>\n",
       "      <td>22.0</td>\n",
       "      <td>21.0</td>\n",
       "      <td>-1.080798</td>\n",
       "      <td>-0.632920</td>\n",
       "      <td>sell</td>\n",
       "      <td>9.25</td>\n",
       "      <td>207.667041</td>\n",
       "      <td>hold</td>\n",
       "    </tr>\n",
       "    <tr>\n",
       "      <th>66523</th>\n",
       "      <td>SBRY</td>\n",
       "      <td>2019-07-08</td>\n",
       "      <td>205.40</td>\n",
       "      <td>199.60</td>\n",
       "      <td>208.20</td>\n",
       "      <td>199.25</td>\n",
       "      <td>51734484.0</td>\n",
       "      <td>-5.80</td>\n",
       "      <td>-0.029058</td>\n",
       "      <td>225.769979</td>\n",
       "      <td>...</td>\n",
       "      <td>-2</td>\n",
       "      <td>-2</td>\n",
       "      <td>22.0</td>\n",
       "      <td>21.0</td>\n",
       "      <td>-1.080798</td>\n",
       "      <td>-0.632920</td>\n",
       "      <td>hold</td>\n",
       "      <td>-5.80</td>\n",
       "      <td>206.425958</td>\n",
       "      <td>hold</td>\n",
       "    </tr>\n",
       "    <tr>\n",
       "      <th>66524</th>\n",
       "      <td>SBRY</td>\n",
       "      <td>2019-07-15</td>\n",
       "      <td>199.80</td>\n",
       "      <td>205.90</td>\n",
       "      <td>206.20</td>\n",
       "      <td>197.15</td>\n",
       "      <td>42226822.0</td>\n",
       "      <td>6.10</td>\n",
       "      <td>0.029626</td>\n",
       "      <td>224.298129</td>\n",
       "      <td>...</td>\n",
       "      <td>-2</td>\n",
       "      <td>-2</td>\n",
       "      <td>22.0</td>\n",
       "      <td>21.0</td>\n",
       "      <td>-1.080798</td>\n",
       "      <td>-0.632920</td>\n",
       "      <td>hold</td>\n",
       "      <td>6.10</td>\n",
       "      <td>206.345041</td>\n",
       "      <td>sell</td>\n",
       "    </tr>\n",
       "    <tr>\n",
       "      <th>66525</th>\n",
       "      <td>SBRY</td>\n",
       "      <td>2019-07-22</td>\n",
       "      <td>209.10</td>\n",
       "      <td>198.80</td>\n",
       "      <td>210.90</td>\n",
       "      <td>198.75</td>\n",
       "      <td>41495006.0</td>\n",
       "      <td>-10.30</td>\n",
       "      <td>-0.051811</td>\n",
       "      <td>222.409379</td>\n",
       "      <td>...</td>\n",
       "      <td>-2</td>\n",
       "      <td>-2</td>\n",
       "      <td>22.0</td>\n",
       "      <td>21.0</td>\n",
       "      <td>-1.080798</td>\n",
       "      <td>-0.632920</td>\n",
       "      <td>hold</td>\n",
       "      <td>-10.30</td>\n",
       "      <td>205.184266</td>\n",
       "      <td>hold</td>\n",
       "    </tr>\n",
       "    <tr>\n",
       "      <th>66526</th>\n",
       "      <td>SBRY</td>\n",
       "      <td>2019-07-29</td>\n",
       "      <td>199.00</td>\n",
       "      <td>195.35</td>\n",
       "      <td>202.30</td>\n",
       "      <td>192.10</td>\n",
       "      <td>40810287.0</td>\n",
       "      <td>-3.65</td>\n",
       "      <td>-0.018684</td>\n",
       "      <td>220.404980</td>\n",
       "      <td>...</td>\n",
       "      <td>-2</td>\n",
       "      <td>-2</td>\n",
       "      <td>22.0</td>\n",
       "      <td>21.0</td>\n",
       "      <td>-1.080798</td>\n",
       "      <td>-0.632920</td>\n",
       "      <td>hold</td>\n",
       "      <td>-3.65</td>\n",
       "      <td>203.671302</td>\n",
       "      <td>hold</td>\n",
       "    </tr>\n",
       "    <tr>\n",
       "      <th>66527</th>\n",
       "      <td>SBRY</td>\n",
       "      <td>2019-08-05</td>\n",
       "      <td>192.85</td>\n",
       "      <td>191.30</td>\n",
       "      <td>193.35</td>\n",
       "      <td>186.70</td>\n",
       "      <td>47983332.0</td>\n",
       "      <td>-1.55</td>\n",
       "      <td>-0.008102</td>\n",
       "      <td>218.249056</td>\n",
       "      <td>...</td>\n",
       "      <td>-2</td>\n",
       "      <td>-2</td>\n",
       "      <td>22.0</td>\n",
       "      <td>21.0</td>\n",
       "      <td>-1.080798</td>\n",
       "      <td>-0.632920</td>\n",
       "      <td>hold</td>\n",
       "      <td>-1.55</td>\n",
       "      <td>201.768025</td>\n",
       "      <td>sell</td>\n",
       "    </tr>\n",
       "    <tr>\n",
       "      <th>66528</th>\n",
       "      <td>SBRY</td>\n",
       "      <td>2019-08-12</td>\n",
       "      <td>192.00</td>\n",
       "      <td>182.50</td>\n",
       "      <td>193.70</td>\n",
       "      <td>177.05</td>\n",
       "      <td>44117729.0</td>\n",
       "      <td>-9.50</td>\n",
       "      <td>-0.052055</td>\n",
       "      <td>215.600978</td>\n",
       "      <td>...</td>\n",
       "      <td>-2</td>\n",
       "      <td>-2</td>\n",
       "      <td>22.0</td>\n",
       "      <td>21.0</td>\n",
       "      <td>-1.080798</td>\n",
       "      <td>-0.632920</td>\n",
       "      <td>buy</td>\n",
       "      <td>-9.50</td>\n",
       "      <td>198.803713</td>\n",
       "      <td>buy</td>\n",
       "    </tr>\n",
       "    <tr>\n",
       "      <th>66529</th>\n",
       "      <td>SBRY</td>\n",
       "      <td>2019-08-19</td>\n",
       "      <td>182.90</td>\n",
       "      <td>196.80</td>\n",
       "      <td>199.80</td>\n",
       "      <td>181.42</td>\n",
       "      <td>55367710.0</td>\n",
       "      <td>13.90</td>\n",
       "      <td>0.070630</td>\n",
       "      <td>214.208313</td>\n",
       "      <td>...</td>\n",
       "      <td>0</td>\n",
       "      <td>-2</td>\n",
       "      <td>0.0</td>\n",
       "      <td>21.0</td>\n",
       "      <td>0.000000</td>\n",
       "      <td>-0.632920</td>\n",
       "      <td>hold</td>\n",
       "      <td>13.90</td>\n",
       "      <td>198.495450</td>\n",
       "      <td>hold</td>\n",
       "    </tr>\n",
       "    <tr>\n",
       "      <th>66530</th>\n",
       "      <td>SBRY</td>\n",
       "      <td>2019-08-26</td>\n",
       "      <td>196.35</td>\n",
       "      <td>196.10</td>\n",
       "      <td>200.20</td>\n",
       "      <td>191.12</td>\n",
       "      <td>39117800.0</td>\n",
       "      <td>-0.25</td>\n",
       "      <td>-0.001275</td>\n",
       "      <td>212.866956</td>\n",
       "      <td>...</td>\n",
       "      <td>0</td>\n",
       "      <td>0</td>\n",
       "      <td>0.0</td>\n",
       "      <td>0.0</td>\n",
       "      <td>0.000000</td>\n",
       "      <td>0.000000</td>\n",
       "      <td>buy</td>\n",
       "      <td>-0.25</td>\n",
       "      <td>198.126919</td>\n",
       "      <td>hold</td>\n",
       "    </tr>\n",
       "    <tr>\n",
       "      <th>66531</th>\n",
       "      <td>SBRY</td>\n",
       "      <td>2019-09-02</td>\n",
       "      <td>196.10</td>\n",
       "      <td>201.60</td>\n",
       "      <td>203.00</td>\n",
       "      <td>194.20</td>\n",
       "      <td>37468487.0</td>\n",
       "      <td>5.50</td>\n",
       "      <td>0.027282</td>\n",
       "      <td>212.032367</td>\n",
       "      <td>...</td>\n",
       "      <td>0</td>\n",
       "      <td>0</td>\n",
       "      <td>0.0</td>\n",
       "      <td>0.0</td>\n",
       "      <td>0.000000</td>\n",
       "      <td>0.000000</td>\n",
       "      <td>buy</td>\n",
       "      <td>5.50</td>\n",
       "      <td>198.661239</td>\n",
       "      <td>hold</td>\n",
       "    </tr>\n",
       "    <tr>\n",
       "      <th>66532</th>\n",
       "      <td>SBRY</td>\n",
       "      <td>2019-09-09</td>\n",
       "      <td>202.60</td>\n",
       "      <td>221.40</td>\n",
       "      <td>222.40</td>\n",
       "      <td>199.85</td>\n",
       "      <td>61436062.0</td>\n",
       "      <td>18.80</td>\n",
       "      <td>0.084914</td>\n",
       "      <td>212.726265</td>\n",
       "      <td>...</td>\n",
       "      <td>0</td>\n",
       "      <td>0</td>\n",
       "      <td>0.0</td>\n",
       "      <td>0.0</td>\n",
       "      <td>0.000000</td>\n",
       "      <td>0.000000</td>\n",
       "      <td>hold</td>\n",
       "      <td>18.80</td>\n",
       "      <td>202.159510</td>\n",
       "      <td>hold</td>\n",
       "    </tr>\n",
       "    <tr>\n",
       "      <th>66533</th>\n",
       "      <td>SBRY</td>\n",
       "      <td>2019-09-16</td>\n",
       "      <td>220.00</td>\n",
       "      <td>215.90</td>\n",
       "      <td>224.50</td>\n",
       "      <td>212.80</td>\n",
       "      <td>40962295.0</td>\n",
       "      <td>-4.10</td>\n",
       "      <td>-0.018990</td>\n",
       "      <td>212.961357</td>\n",
       "      <td>...</td>\n",
       "      <td>0</td>\n",
       "      <td>0</td>\n",
       "      <td>0.0</td>\n",
       "      <td>0.0</td>\n",
       "      <td>0.000000</td>\n",
       "      <td>0.000000</td>\n",
       "      <td>buy</td>\n",
       "      <td>-4.10</td>\n",
       "      <td>204.273432</td>\n",
       "      <td>hold</td>\n",
       "    </tr>\n",
       "    <tr>\n",
       "      <th>66534</th>\n",
       "      <td>SBRY</td>\n",
       "      <td>2019-09-23</td>\n",
       "      <td>218.90</td>\n",
       "      <td>222.50</td>\n",
       "      <td>222.80</td>\n",
       "      <td>212.31</td>\n",
       "      <td>45313711.0</td>\n",
       "      <td>3.60</td>\n",
       "      <td>0.016180</td>\n",
       "      <td>213.667923</td>\n",
       "      <td>...</td>\n",
       "      <td>0</td>\n",
       "      <td>0</td>\n",
       "      <td>0.0</td>\n",
       "      <td>0.0</td>\n",
       "      <td>0.000000</td>\n",
       "      <td>0.000000</td>\n",
       "      <td>hold</td>\n",
       "      <td>3.60</td>\n",
       "      <td>207.077519</td>\n",
       "      <td>sell</td>\n",
       "    </tr>\n",
       "    <tr>\n",
       "      <th>66535</th>\n",
       "      <td>SBRY</td>\n",
       "      <td>2019-09-30</td>\n",
       "      <td>221.90</td>\n",
       "      <td>210.10</td>\n",
       "      <td>223.23</td>\n",
       "      <td>205.70</td>\n",
       "      <td>33549408.0</td>\n",
       "      <td>-11.80</td>\n",
       "      <td>-0.056164</td>\n",
       "      <td>213.403632</td>\n",
       "      <td>...</td>\n",
       "      <td>0</td>\n",
       "      <td>0</td>\n",
       "      <td>0.0</td>\n",
       "      <td>0.0</td>\n",
       "      <td>0.000000</td>\n",
       "      <td>0.000000</td>\n",
       "      <td>buy</td>\n",
       "      <td>-11.80</td>\n",
       "      <td>207.542516</td>\n",
       "      <td>hold</td>\n",
       "    </tr>\n",
       "  </tbody>\n",
       "</table>\n",
       "<p>50 rows × 109 columns</p>\n",
       "</div>"
      ],
      "text/plain": [
       "      ticker       date    open   close    high     low       volume  \\\n",
       "66486   SBRY 2018-10-22  304.70  304.80  311.50  298.80   32342771.0   \n",
       "66487   SBRY 2018-10-29  304.80  318.70  319.00  304.40   37431447.0   \n",
       "66488   SBRY 2018-11-05  316.90  322.00  327.20  310.00   45028208.0   \n",
       "66489   SBRY 2018-11-12  324.50  305.30  324.50  302.30   49974837.0   \n",
       "66490   SBRY 2018-11-19  305.00  310.30  313.20  304.10   36190436.0   \n",
       "66491   SBRY 2018-11-26  313.10  305.00  320.70  305.00   49868858.0   \n",
       "66492   SBRY 2018-12-03  306.90  300.00  310.70  298.80   37306575.0   \n",
       "66493   SBRY 2018-12-10  301.00  275.50  303.10  274.30   79778907.0   \n",
       "66494   SBRY 2018-12-17  276.00  270.00  276.70  262.50   61622007.0   \n",
       "66495   SBRY 2018-12-24  267.10  264.90  269.40  259.40   12569725.0   \n",
       "66496   SBRY 2018-12-31  264.20  260.00  266.30  257.40   19774656.0   \n",
       "66497   SBRY 2019-01-07  261.70  275.80  281.40  259.00   56579582.0   \n",
       "66498   SBRY 2019-01-14  274.60  277.90  279.50  268.10   29586342.0   \n",
       "66499   SBRY 2019-01-21  276.10  282.70  283.20  271.30   28618340.0   \n",
       "66500   SBRY 2019-01-28  280.30  286.90  289.80  276.20   38600871.0   \n",
       "66501   SBRY 2019-02-04  288.10  291.90  296.20  286.40   35261232.0   \n",
       "66502   SBRY 2019-02-11  295.40  286.20  296.10  281.00   35494884.0   \n",
       "66503   SBRY 2019-02-18  287.00  233.60  288.70  230.50  108235793.0   \n",
       "66504   SBRY 2019-02-25  233.00  231.80  236.40  227.10   61661077.0   \n",
       "66505   SBRY 2019-03-04  231.30  223.80  235.30  223.20   64890814.0   \n",
       "66506   SBRY 2019-03-11  226.60  223.80  231.00  221.90   67937776.0   \n",
       "66507   SBRY 2019-03-18  224.20  236.80  242.40  223.30   55331947.0   \n",
       "66508   SBRY 2019-03-25  235.00  235.70  239.30  232.60   35154944.0   \n",
       "66509   SBRY 2019-04-01  234.70  238.80  241.00  230.00   41954095.0   \n",
       "66510   SBRY 2019-04-08  237.50  235.00  239.60  230.90   36125612.0   \n",
       "66511   SBRY 2019-04-15  235.80  227.70  236.20  226.30   31960976.0   \n",
       "66512   SBRY 2019-04-22  229.00  220.20  232.00  212.10   73340819.0   \n",
       "66513   SBRY 2019-04-29  219.70  220.30  236.70  219.00   71630074.0   \n",
       "66514   SBRY 2019-05-06  219.30  211.70  222.00  208.10   56053255.0   \n",
       "66515   SBRY 2019-05-13  211.80  201.20  213.00  199.30   48201824.0   \n",
       "66516   SBRY 2019-05-20  200.80  195.30  208.30  193.20   60870494.0   \n",
       "66517   SBRY 2019-05-27  196.00  200.10  200.60  195.35   41928477.0   \n",
       "66518   SBRY 2019-06-03  199.65  197.40  205.80  193.55   60801658.0   \n",
       "66519   SBRY 2019-06-10  198.05  193.90  199.45  192.70   55494872.0   \n",
       "66520   SBRY 2019-06-17  193.55  195.85  199.20  192.40   74413609.0   \n",
       "66521   SBRY 2019-06-24  195.60  195.95  197.35  185.30   69472325.0   \n",
       "66522   SBRY 2019-07-01  196.05  205.30  207.60  194.00   57558994.0   \n",
       "66523   SBRY 2019-07-08  205.40  199.60  208.20  199.25   51734484.0   \n",
       "66524   SBRY 2019-07-15  199.80  205.90  206.20  197.15   42226822.0   \n",
       "66525   SBRY 2019-07-22  209.10  198.80  210.90  198.75   41495006.0   \n",
       "66526   SBRY 2019-07-29  199.00  195.35  202.30  192.10   40810287.0   \n",
       "66527   SBRY 2019-08-05  192.85  191.30  193.35  186.70   47983332.0   \n",
       "66528   SBRY 2019-08-12  192.00  182.50  193.70  177.05   44117729.0   \n",
       "66529   SBRY 2019-08-19  182.90  196.80  199.80  181.42   55367710.0   \n",
       "66530   SBRY 2019-08-26  196.35  196.10  200.20  191.12   39117800.0   \n",
       "66531   SBRY 2019-09-02  196.10  201.60  203.00  194.20   37468487.0   \n",
       "66532   SBRY 2019-09-09  202.60  221.40  222.40  199.85   61436062.0   \n",
       "66533   SBRY 2019-09-16  220.00  215.90  224.50  212.80   40962295.0   \n",
       "66534   SBRY 2019-09-23  218.90  222.50  222.80  212.31   45313711.0   \n",
       "66535   SBRY 2019-09-30  221.90  210.10  223.23  205.70   33549408.0   \n",
       "\n",
       "       change_price  per_change_price       ema26  ...  \\\n",
       "66486          0.10          0.000328  308.212195  ...   \n",
       "66487         13.90          0.043615  308.989069  ...   \n",
       "66488          5.10          0.015839  309.952842  ...   \n",
       "66489        -19.20         -0.062889  309.608187  ...   \n",
       "66490          5.30          0.017080  309.659432  ...   \n",
       "66491         -8.10         -0.026557  309.314289  ...   \n",
       "66492         -6.90         -0.023000  308.624342  ...   \n",
       "66493        -25.50         -0.092559  306.170687  ...   \n",
       "66494         -6.00         -0.022222  303.491377  ...   \n",
       "66495         -2.20         -0.008305  300.632756  ...   \n",
       "66496         -4.20         -0.016154  297.622923  ...   \n",
       "66497         14.10          0.051124  296.006410  ...   \n",
       "66498          3.30          0.011875  294.665194  ...   \n",
       "66499          6.60          0.023346  293.778884  ...   \n",
       "66500          6.60          0.023005  293.269337  ...   \n",
       "66501          3.80          0.013018  293.167904  ...   \n",
       "66502         -9.20         -0.032145  292.651763  ...   \n",
       "66503        -53.40         -0.228596  288.277559  ...   \n",
       "66504         -1.20         -0.005177  284.094036  ...   \n",
       "66505         -7.50         -0.033512  279.627811  ...   \n",
       "66506         -2.80         -0.012511  275.492417  ...   \n",
       "66507         12.60          0.053209  272.626312  ...   \n",
       "66508          0.70          0.002970  269.891030  ...   \n",
       "66509          4.10          0.017169  267.587991  ...   \n",
       "66510         -2.50         -0.010638  265.174066  ...   \n",
       "66511         -8.10         -0.035573  262.398209  ...   \n",
       "66512         -8.80         -0.039964  259.272416  ...   \n",
       "66513          0.60          0.002724  256.385570  ...   \n",
       "66514         -7.60         -0.035900  253.075528  ...   \n",
       "66515        -10.60         -0.052684  249.232896  ...   \n",
       "66516         -5.50         -0.028162  245.237867  ...   \n",
       "66517          4.10          0.020490  241.894321  ...   \n",
       "66518         -2.25         -0.011398  238.598445  ...   \n",
       "66519         -4.15         -0.021403  235.287449  ...   \n",
       "66520          2.30          0.011744  232.366157  ...   \n",
       "66521          0.35          0.001786  229.668664  ...   \n",
       "66522          9.25          0.045056  227.863578  ...   \n",
       "66523         -5.80         -0.029058  225.769979  ...   \n",
       "66524          6.10          0.029626  224.298129  ...   \n",
       "66525        -10.30         -0.051811  222.409379  ...   \n",
       "66526         -3.65         -0.018684  220.404980  ...   \n",
       "66527         -1.55         -0.008102  218.249056  ...   \n",
       "66528         -9.50         -0.052055  215.600978  ...   \n",
       "66529         13.90          0.070630  214.208313  ...   \n",
       "66530         -0.25         -0.001275  212.866956  ...   \n",
       "66531          5.50          0.027282  212.032367  ...   \n",
       "66532         18.80          0.084914  212.726265  ...   \n",
       "66533         -4.10         -0.018990  212.961357  ...   \n",
       "66534          3.60          0.016180  213.667923  ...   \n",
       "66535        -11.80         -0.056164  213.403632  ...   \n",
       "\n",
       "       max_move_cum_macd_line  min_move_cum_macd_line  \\\n",
       "66486                       2                       0   \n",
       "66487                       2                       0   \n",
       "66488                       2                       0   \n",
       "66489                       2                       0   \n",
       "66490                       0                       0   \n",
       "66491                       0                       0   \n",
       "66492                       0                       0   \n",
       "66493                       0                       0   \n",
       "66494                       0                       0   \n",
       "66495                       0                       0   \n",
       "66496                       0                       0   \n",
       "66497                       0                       0   \n",
       "66498                       0                       0   \n",
       "66499                       0                       0   \n",
       "66500                       0                       0   \n",
       "66501                       0                       0   \n",
       "66502                       0                       0   \n",
       "66503                       0                       0   \n",
       "66504                      -1                       0   \n",
       "66505                      -1                       0   \n",
       "66506                      -1                       0   \n",
       "66507                      -1                       0   \n",
       "66508                      -1                       0   \n",
       "66509                      -1                       0   \n",
       "66510                      -1                      -1   \n",
       "66511                      -1                      -1   \n",
       "66512                      -2                      -1   \n",
       "66513                      -2                      -1   \n",
       "66514                      -2                      -1   \n",
       "66515                      -2                      -1   \n",
       "66516                      -2                      -1   \n",
       "66517                      -2                      -1   \n",
       "66518                      -2                      -1   \n",
       "66519                      -2                      -1   \n",
       "66520                      -2                      -1   \n",
       "66521                      -2                      -2   \n",
       "66522                      -2                      -2   \n",
       "66523                      -2                      -2   \n",
       "66524                      -2                      -2   \n",
       "66525                      -2                      -2   \n",
       "66526                      -2                      -2   \n",
       "66527                      -2                      -2   \n",
       "66528                      -2                      -2   \n",
       "66529                       0                      -2   \n",
       "66530                       0                       0   \n",
       "66531                       0                       0   \n",
       "66532                       0                       0   \n",
       "66533                       0                       0   \n",
       "66534                       0                       0   \n",
       "66535                       0                       0   \n",
       "\n",
       "       long_prev_max_move_date_macd_line  long_prev_min_move_date_macd_line  \\\n",
       "66486                               23.0                                0.0   \n",
       "66487                               23.0                                0.0   \n",
       "66488                               23.0                                0.0   \n",
       "66489                               23.0                                0.0   \n",
       "66490                                0.0                                0.0   \n",
       "66491                                0.0                                0.0   \n",
       "66492                                0.0                                0.0   \n",
       "66493                                0.0                                0.0   \n",
       "66494                                0.0                                0.0   \n",
       "66495                                0.0                                0.0   \n",
       "66496                                0.0                                0.0   \n",
       "66497                                0.0                                0.0   \n",
       "66498                                0.0                                0.0   \n",
       "66499                                0.0                                0.0   \n",
       "66500                                0.0                                0.0   \n",
       "66501                                0.0                                0.0   \n",
       "66502                                0.0                                0.0   \n",
       "66503                                0.0                                0.0   \n",
       "66504                               14.0                                0.0   \n",
       "66505                               14.0                                0.0   \n",
       "66506                               14.0                                0.0   \n",
       "66507                               14.0                                0.0   \n",
       "66508                               14.0                                0.0   \n",
       "66509                               14.0                                0.0   \n",
       "66510                               14.0                               10.0   \n",
       "66511                               14.0                               10.0   \n",
       "66512                               22.0                               10.0   \n",
       "66513                               22.0                               10.0   \n",
       "66514                               22.0                               10.0   \n",
       "66515                               22.0                               10.0   \n",
       "66516                               22.0                               10.0   \n",
       "66517                               22.0                               10.0   \n",
       "66518                               22.0                               10.0   \n",
       "66519                               22.0                               10.0   \n",
       "66520                               22.0                               10.0   \n",
       "66521                               22.0                               21.0   \n",
       "66522                               22.0                               21.0   \n",
       "66523                               22.0                               21.0   \n",
       "66524                               22.0                               21.0   \n",
       "66525                               22.0                               21.0   \n",
       "66526                               22.0                               21.0   \n",
       "66527                               22.0                               21.0   \n",
       "66528                               22.0                               21.0   \n",
       "66529                                0.0                               21.0   \n",
       "66530                                0.0                                0.0   \n",
       "66531                                0.0                                0.0   \n",
       "66532                                0.0                                0.0   \n",
       "66533                                0.0                                0.0   \n",
       "66534                                0.0                                0.0   \n",
       "66535                                0.0                                0.0   \n",
       "\n",
       "       long_max_grad_macd_line  long_min_grad_macd_line  signal  change  \\\n",
       "66486                 0.827586                 0.000000    hold    0.10   \n",
       "66487                 0.827586                 0.000000    hold   13.90   \n",
       "66488                 0.827586                 0.000000    sell    5.10   \n",
       "66489                 0.827586                 0.000000    hold  -19.20   \n",
       "66490                 0.000000                 0.000000    sell    5.30   \n",
       "66491                 0.000000                 0.000000    sell   -8.10   \n",
       "66492                 0.000000                 0.000000    sell   -6.90   \n",
       "66493                 0.000000                 0.000000    sell  -25.50   \n",
       "66494                 0.000000                 0.000000    sell   -6.00   \n",
       "66495                 0.000000                 0.000000    hold   -2.20   \n",
       "66496                 0.000000                 0.000000    hold   -4.20   \n",
       "66497                 0.000000                 0.000000    hold   14.10   \n",
       "66498                 0.000000                 0.000000    hold    3.30   \n",
       "66499                 0.000000                 0.000000    hold    6.60   \n",
       "66500                 0.000000                 0.000000    hold    6.60   \n",
       "66501                 0.000000                 0.000000    sell    3.80   \n",
       "66502                 0.000000                 0.000000    sell   -9.20   \n",
       "66503                 0.000000                 0.000000    sell  -53.40   \n",
       "66504                -0.873787                 0.000000    sell   -1.20   \n",
       "66505                -0.873787                 0.000000    hold   -7.50   \n",
       "66506                -0.873787                 0.000000    hold   -2.80   \n",
       "66507                -0.873787                 0.000000    sell   12.60   \n",
       "66508                -0.873787                 0.000000    hold    0.70   \n",
       "66509                -0.873787                 0.000000    sell    4.10   \n",
       "66510                -0.873787                -0.925027    sell   -2.50   \n",
       "66511                -0.873787                -0.925027    sell   -8.10   \n",
       "66512                -1.080798                -0.925027    hold   -8.80   \n",
       "66513                -1.080798                -0.925027    sell    0.60   \n",
       "66514                -1.080798                -0.925027    sell   -7.60   \n",
       "66515                -1.080798                -0.925027    hold  -10.60   \n",
       "66516                -1.080798                -0.925027    hold   -5.50   \n",
       "66517                -1.080798                -0.925027    sell    4.10   \n",
       "66518                -1.080798                -0.925027    sell   -2.25   \n",
       "66519                -1.080798                -0.925027    hold   -4.15   \n",
       "66520                -1.080798                -0.925027    hold    2.30   \n",
       "66521                -1.080798                -0.632920    hold    0.35   \n",
       "66522                -1.080798                -0.632920    sell    9.25   \n",
       "66523                -1.080798                -0.632920    hold   -5.80   \n",
       "66524                -1.080798                -0.632920    hold    6.10   \n",
       "66525                -1.080798                -0.632920    hold  -10.30   \n",
       "66526                -1.080798                -0.632920    hold   -3.65   \n",
       "66527                -1.080798                -0.632920    hold   -1.55   \n",
       "66528                -1.080798                -0.632920     buy   -9.50   \n",
       "66529                 0.000000                -0.632920    hold   13.90   \n",
       "66530                 0.000000                 0.000000     buy   -0.25   \n",
       "66531                 0.000000                 0.000000     buy    5.50   \n",
       "66532                 0.000000                 0.000000    hold   18.80   \n",
       "66533                 0.000000                 0.000000     buy   -4.10   \n",
       "66534                 0.000000                 0.000000    hold    3.60   \n",
       "66535                 0.000000                 0.000000     buy  -11.80   \n",
       "\n",
       "            ema12  signal_model  \n",
       "66486  314.109772          hold  \n",
       "66487  314.815961          hold  \n",
       "66488  315.921198          sell  \n",
       "66489  314.287168           buy  \n",
       "66490  313.673757          hold  \n",
       "66491  312.339333          hold  \n",
       "66492  310.440974          hold  \n",
       "66493  305.065440          hold  \n",
       "66494  299.670757          sell  \n",
       "66495  294.321409          sell  \n",
       "66496  289.041193           buy  \n",
       "66497  287.004086          hold  \n",
       "66498  285.603457          hold  \n",
       "66499  285.156772          hold  \n",
       "66500  285.424961          hold  \n",
       "66501  286.421121          sell  \n",
       "66502  286.387102          sell  \n",
       "66503  278.266009          hold  \n",
       "66504  271.117393          hold  \n",
       "66505  263.837794           buy  \n",
       "66506  257.678133           buy  \n",
       "66507  254.466113          hold  \n",
       "66508  251.579018          hold  \n",
       "66509  249.613016          sell  \n",
       "66510  247.364859          sell  \n",
       "66511  244.339496          sell  \n",
       "66512  240.625728          hold  \n",
       "66513  237.498693          sell  \n",
       "66514  233.529663          sell  \n",
       "66515  228.555869          sell  \n",
       "66516  223.439581          hold  \n",
       "66517  219.848876          sell  \n",
       "66518  216.395203          hold  \n",
       "66519  212.934403           buy  \n",
       "66520  210.306033          hold  \n",
       "66521  208.097413          hold  \n",
       "66522  207.667041          hold  \n",
       "66523  206.425958          hold  \n",
       "66524  206.345041          sell  \n",
       "66525  205.184266          hold  \n",
       "66526  203.671302          hold  \n",
       "66527  201.768025          sell  \n",
       "66528  198.803713           buy  \n",
       "66529  198.495450          hold  \n",
       "66530  198.126919          hold  \n",
       "66531  198.661239          hold  \n",
       "66532  202.159510          hold  \n",
       "66533  204.273432          hold  \n",
       "66534  207.077519          sell  \n",
       "66535  207.542516          hold  \n",
       "\n",
       "[50 rows x 109 columns]"
      ]
     },
     "execution_count": 7,
     "metadata": {},
     "output_type": "execute_result"
    }
   ],
   "source": [
    "#import the file\n",
    "ft_eng_df = pd.read_hdf(r'C:\\Users\\Robert\\Documents\\python_scripts\\stock_trading_ml_modelling\\historical_prices\\all_hist_prices_w_ft_eng2.h5')\n",
    "#Import and combine prices files\n",
    "prices_df = pd.read_hdf(r'C:\\Users\\Robert\\Documents\\python_scripts\\stock_trading_ml_modelling\\historical_prices\\all_hist_prices_w.h5')\n",
    "# prices_df.rename(columns={'signal':'signal_line'},inplace=True)\n",
    "#Import model results\n",
    "model_df = pd.read_hdf(r'C:\\Users\\Robert\\Documents\\python_scripts\\stock_trading_ml_modelling\\historical_prices\\historic_lgb_bsh_signals.h5')\n",
    "model_df = model_df[[\n",
    "    'ticker'\n",
    "    ,'date'\n",
    "    ,'signal'\n",
    "]]\n",
    "model_df.rename(columns={'signal':'signal_model'},inplace=True)\n",
    "ft_eng_cols = ['ticker','date','signal'\n",
    "    ,'close_max','close_min'\n",
    "    ,'macd_max','macd_min'\n",
    "    ,'ema26_max','ema26_min'\n",
    "    ,'signal_line_max','signal_line_min'\n",
    "    ,'macd_line_max','macd_line_min'\n",
    "    ,'change_close_shift1'\n",
    "    ,'prev_max_grad_close'\n",
    "              ]\n",
    "prices_df = prices_df.drop(columns=['open','close','high','low','volume','ema26','macd','macd_line','signal_line'])\n",
    "#Merge\n",
    "data_df = pd.merge(ft_eng_df,prices_df,left_on=['ticker','date'],right_on=['ticker','date'],how='left')\n",
    "data_df = pd.merge(data_df,model_df,left_on=['ticker','date'],right_on=['ticker','date'],how='left')\n",
    "\n",
    "#Limit to test dataset\n",
    "data_df = data_df.loc[data_df.date >= '2014-01-01']\n",
    "\n",
    "data_df[data_df.ticker == 'SBRY'].iloc[-50:]"
   ]
  },
  {
   "cell_type": "code",
   "execution_count": 9,
   "metadata": {
    "scrolled": false
   },
   "outputs": [
    {
     "name": "stdout",
     "output_type": "stream",
     "text": [
      "TOTAL ELAPSED TIME -> 0:0:3\n"
     ]
    },
    {
     "data": {
      "application/vnd.plotly.v1+json": {
       "config": {
        "plotlyServerURL": "https://plot.ly"
       },
       "data": [
        {
         "close": [
          343.7,
          346.1,
          326.1,
          322.8,
          316.8,
          316.7,
          321.6,
          315.1,
          324.7,
          320.2,
          310.9,
          302.4,
          311.7,
          306.5,
          290.3,
          292,
          287.1,
          284.3,
          250.1,
          227.4,
          228.8,
          244.8,
          238.2,
          245.5,
          261.6,
          270.1,
          259.7,
          233.4,
          238.3,
          227.5,
          239.8,
          244.7,
          243.4,
          241.8,
          256.8,
          267.9,
          255.4,
          269.8,
          266.8,
          271.6,
          271.9,
          276.6,
          259.1,
          272.1,
          262.5,
          260.4,
          277.4,
          275.2,
          268.1,
          271.7,
          278,
          265.9,
          261.3,
          251.6,
          247.2,
          261.8,
          262.9,
          276.3,
          263.3,
          258.8,
          266.6,
          262.5,
          264.9,
          267.7,
          254.9,
          239.6,
          242.7,
          237.4,
          233.4,
          228.3,
          226.6,
          259.3,
          275.7,
          264.9,
          269.2,
          266.4,
          274.6,
          241.1,
          253.7,
          256.1,
          245,
          235,
          255.2,
          266.4,
          258.8,
          241.9,
          243.9,
          233.6,
          245.1,
          250.9,
          239.3,
          261.1,
          252.8,
          267.2,
          273.3,
          273.2,
          275.6,
          276.6,
          288.5,
          284.9,
          292.4,
          288.9,
          266.5,
          255.2,
          260.6,
          269.3,
          246.2,
          241.8,
          231.6,
          227.2,
          236.1,
          223.9,
          229.2,
          225.1,
          224.3,
          229.9,
          237.6,
          242.1,
          241.5,
          246.1,
          241,
          240.3,
          253.9,
          245.8,
          232,
          232.9,
          240.9,
          254,
          254.8,
          235.2,
          238.9,
          236,
          229,
          247,
          250,
          248.7,
          249.3,
          252,
          264.6,
          262.7,
          254.5,
          264.8,
          264.6,
          268.4,
          265.6,
          261.4,
          266.4,
          269.7,
          266.6,
          264.3,
          261.8,
          258.4,
          266,
          275.4,
          265,
          264.8,
          274.3,
          281.7,
          275.1,
          265,
          252.3,
          253.4,
          251.7,
          246.4,
          245.7,
          247,
          246.7,
          252.5,
          241.6,
          237.1,
          236.1,
          236.1,
          234.9,
          237.7,
          233.3,
          237.9,
          242,
          241.7,
          247.7,
          243,
          235.1,
          232.2,
          227.6,
          227.4,
          233,
          244.7,
          236.1,
          238,
          241.4,
          241,
          252.7,
          258,
          261.1,
          249.1,
          244.9,
          250.9,
          255.5,
          253,
          243,
          236.1,
          227.5,
          238.8,
          246,
          255.9,
          263.9,
          269.8,
          301.3,
          306.5,
          305.5,
          317.9,
          315.6,
          304.8,
          310.4,
          317.5,
          321.2,
          325.9,
          329.4,
          326.1,
          326.3,
          329,
          333.8,
          334.6,
          336.4,
          324.2,
          318.9,
          321.2,
          314.2,
          321.8,
          315.1,
          305,
          304.1,
          304.8,
          318.7,
          322,
          305.3,
          310.3,
          305,
          300,
          275.5,
          270,
          264.9,
          260,
          275.8,
          277.9,
          282.7,
          286.9,
          291.9,
          286.2,
          233.6,
          231.8,
          223.8,
          223.8,
          236.8,
          235.7,
          238.8,
          235,
          227.7,
          220.2,
          220.3,
          211.7,
          201.2,
          195.3,
          200.1,
          197.4,
          193.9,
          195.85,
          195.95,
          205.3,
          199.6,
          205.9,
          198.8,
          195.35,
          191.3,
          182.5,
          196.8,
          196.1,
          201.6,
          221.4,
          215.9,
          222.5,
          210.1
         ],
         "high": [
          346.3,
          348.6,
          346.7,
          344.9,
          331.84,
          319.8,
          322.4,
          322.6,
          327.8,
          332.4,
          324.49,
          312.84,
          312.7,
          314.64,
          313.7,
          299.9,
          295.1,
          288.7,
          281.7,
          256,
          235.6,
          245.79,
          250.3,
          253.5,
          275.9,
          282.4,
          269.14,
          260.8,
          246.1,
          247.1,
          240.58,
          246.76,
          247.3,
          256.1,
          259.6,
          271.4,
          273.5,
          274.8,
          269.3,
          272.6,
          276.3,
          280.4,
          277.9,
          275.5,
          273.8,
          265.5,
          277.8,
          288.4,
          278.3,
          274.1,
          279.6,
          285.99,
          269.8,
          261.4,
          254.04,
          267.7,
          267.4,
          281.7,
          277,
          267,
          269.1,
          277.3,
          264.9,
          268.26,
          268.8,
          256.8,
          242.7,
          245.8,
          246.5,
          236.1,
          234.2,
          264,
          276.01,
          275.85,
          269.9,
          274.5,
          279.9,
          279,
          256.76,
          258.4,
          256.4,
          253.1,
          261.11,
          267.6,
          267.2,
          276,
          254.7,
          245.4,
          245.9,
          252.9,
          253.3,
          268.03,
          261.1,
          269.9,
          274.2,
          284,
          284.9,
          280.9,
          289.4,
          292.4,
          294.4,
          292.8,
          290.6,
          268.6,
          261.3,
          269.8,
          270.4,
          254.4,
          244.5,
          248.5,
          237.7,
          237.5,
          233.8,
          232.23,
          229.8,
          231.33,
          238.6,
          242.7,
          246.5,
          247.7,
          248.1,
          241.88,
          253.9,
          254.5,
          257.7,
          239.33,
          243.8,
          255.3,
          263.2,
          259,
          245,
          240.1,
          237.1,
          247.3,
          252.1,
          250.6,
          250,
          254.38,
          277.1,
          268,
          262.25,
          264.8,
          270.2,
          268.5,
          269.8,
          270,
          266.8,
          274.4,
          274.6,
          270,
          265,
          265.2,
          270.1,
          275.6,
          282.3,
          273.6,
          275.1,
          283.6,
          282.8,
          279.3,
          270.2,
          259.75,
          260.2,
          255.8,
          248.8,
          250.2,
          250.03,
          254,
          253.5,
          245.56,
          238.9,
          237.3,
          238.1,
          241.4,
          245.88,
          239.9,
          249.4,
          242.5,
          250.4,
          248,
          244.08,
          236.72,
          232.65,
          231.7,
          236.6,
          246,
          246,
          241.5,
          244.8,
          245.2,
          255.4,
          258.2,
          261.7,
          262.2,
          248.4,
          251.6,
          256.1,
          260.5,
          256.4,
          246.8,
          237.5,
          241.1,
          247,
          256.4,
          267.8,
          269.8,
          327.1,
          308.4,
          310.8,
          322.1,
          323.5,
          319.9,
          315.2,
          318.3,
          324.7,
          329.5,
          333.4,
          331.9,
          330,
          330.3,
          338.3,
          339.3,
          341.8,
          339.6,
          328.4,
          324.8,
          323.5,
          323.5,
          325.1,
          317.3,
          307.7,
          311.5,
          319,
          327.2,
          324.5,
          313.2,
          320.7,
          310.7,
          303.1,
          276.7,
          269.4,
          266.3,
          281.4,
          279.5,
          283.2,
          289.8,
          296.2,
          296.1,
          288.7,
          236.4,
          235.3,
          231,
          242.4,
          239.3,
          241,
          239.6,
          236.2,
          232,
          236.7,
          222,
          213,
          208.3,
          200.6,
          205.8,
          199.45,
          199.2,
          197.35,
          207.6,
          208.2,
          206.2,
          210.9,
          202.3,
          193.35,
          193.7,
          199.8,
          200.2,
          203,
          222.4,
          224.5,
          222.8,
          223.23
         ],
         "low": [
          334.7,
          331,
          324.16,
          320.3,
          316.3,
          310.7,
          311.4,
          307,
          315.44,
          310.7,
          310.3,
          291.88,
          300.34,
          304.7,
          284.6,
          285.3,
          209.5,
          276.98,
          249.9,
          223.6,
          225.24,
          223.33,
          232.1,
          237,
          240.5,
          251.7,
          255.3,
          226.1,
          229.6,
          221.1,
          224.7,
          238.1,
          241.4,
          227.8,
          236.7,
          250.26,
          254.3,
          260.7,
          261.5,
          264.7,
          266.4,
          267.1,
          256.9,
          255.4,
          258.9,
          253.8,
          260.8,
          271.7,
          261.1,
          261.8,
          259.6,
          264.5,
          259.67,
          251.4,
          241.6,
          244.6,
          256.61,
          261.99,
          260.8,
          249.7,
          259.41,
          262.2,
          258.3,
          260.5,
          250.8,
          239.6,
          230.1,
          234.7,
          232.9,
          221.3,
          223.2,
          223.4,
          262.2,
          260.5,
          261.8,
          264.96,
          264.6,
          240.4,
          236.3,
          247.4,
          243.5,
          234.4,
          235.1,
          253.5,
          253.5,
          234.7,
          239.8,
          229.5,
          227,
          241.4,
          233.83,
          242.67,
          245.96,
          249.2,
          264.5,
          270.4,
          269.4,
          269,
          273.5,
          281.4,
          280.2,
          283.8,
          261.8,
          250.6,
          250.4,
          257.6,
          244.5,
          241.3,
          223,
          211.5,
          214.8,
          212.6,
          218.6,
          224.6,
          221.7,
          220.14,
          228.9,
          231.9,
          240,
          238.35,
          239.98,
          234.54,
          239,
          237.51,
          232,
          228.82,
          228.4,
          239,
          248.9,
          228.7,
          233.23,
          232.3,
          224.1,
          228.2,
          240,
          246.1,
          246.3,
          249.3,
          251.3,
          260.7,
          252.5,
          252.6,
          257.8,
          263.17,
          264.6,
          260.98,
          259.3,
          263,
          262.7,
          263.5,
          251.6,
          255.9,
          254.05,
          266.31,
          257.2,
          260.99,
          264.8,
          274,
          274.4,
          258.6,
          249.9,
          249.8,
          251.4,
          243.89,
          242.8,
          245.3,
          242.5,
          244.42,
          238.6,
          236,
          231.77,
          229.8,
          233.8,
          235.8,
          232.4,
          232.4,
          237.6,
          237.2,
          242.12,
          242.6,
          235.02,
          224.9,
          224.8,
          223.6,
          225.5,
          231.7,
          232.6,
          234.8,
          239.3,
          239.4,
          238.4,
          250.5,
          255.4,
          248.4,
          234.1,
          242.7,
          249.6,
          252.2,
          239.6,
          235.8,
          225.3,
          224.7,
          233.9,
          244.3,
          253.1,
          262,
          300,
          294.5,
          299.7,
          305.2,
          313,
          301.7,
          304.1,
          306.3,
          305.3,
          316.2,
          323.5,
          322.6,
          321.6,
          322.4,
          327.8,
          328.1,
          331.1,
          323.8,
          316.8,
          315,
          312.6,
          312.3,
          314,
          304.6,
          297.7,
          298.8,
          304.4,
          310,
          302.3,
          304.1,
          305,
          298.8,
          274.3,
          262.5,
          259.4,
          257.4,
          259,
          268.1,
          271.3,
          276.2,
          286.4,
          281,
          230.5,
          227.1,
          223.2,
          221.9,
          223.3,
          232.6,
          230,
          230.9,
          226.3,
          212.1,
          219,
          208.1,
          199.3,
          193.2,
          195.35,
          193.55,
          192.7,
          192.4,
          185.3,
          194,
          199.25,
          197.15,
          198.75,
          192.1,
          186.7,
          177.05,
          181.42,
          191.12,
          194.2,
          199.85,
          212.8,
          212.31,
          205.7
         ],
         "name": "HLOC",
         "open": [
          345.5,
          345.9,
          346.7,
          327.2,
          322.8,
          318.3,
          317.3,
          320.9,
          315.9,
          320,
          321.9,
          312,
          303.5,
          313.6,
          309.1,
          290.7,
          292.5,
          287,
          280,
          250,
          229.6,
          227.5,
          245.8,
          240.8,
          244.9,
          263,
          268,
          260.3,
          229.9,
          243,
          226.7,
          242.3,
          245.3,
          241.4,
          243,
          258.3,
          267.9,
          264.7,
          267,
          266.2,
          272.6,
          272,
          276.2,
          259.8,
          272.4,
          264.7,
          260.8,
          277.1,
          275.3,
          267.7,
          270,
          279,
          266,
          260.6,
          252,
          247.3,
          262.1,
          267.6,
          269,
          260.2,
          261.2,
          267.3,
          261,
          263.7,
          267.7,
          256.8,
          232.5,
          240.1,
          239.3,
          233.5,
          227.8,
          226.6,
          263.4,
          274.8,
          264.3,
          269,
          265.9,
          273.9,
          239.9,
          252.6,
          255.5,
          245.2,
          235.1,
          254.1,
          264.3,
          256.9,
          241.9,
          242.5,
          235.2,
          245.9,
          251.1,
          243.3,
          260,
          251.5,
          267,
          273.2,
          274.9,
          276.3,
          276.4,
          287.8,
          285.6,
          292,
          287.6,
          268,
          253.5,
          261.2,
          268.8,
          246.2,
          241,
          236,
          222.9,
          237.5,
          224.9,
          229.6,
          225.8,
          225.6,
          230,
          238.2,
          240.9,
          240.8,
          246,
          238.5,
          242,
          252.5,
          244.5,
          232.1,
          233.9,
          241.2,
          252.7,
          257.3,
          237.1,
          240.1,
          235,
          228.4,
          247.6,
          250.6,
          247.7,
          250.3,
          253,
          265,
          261.6,
          253.7,
          264.3,
          264.3,
          268.6,
          267.1,
          261.7,
          265.4,
          268.5,
          265.6,
          265,
          262,
          258.3,
          268,
          275.7,
          264.9,
          266.2,
          275.7,
          280,
          275.8,
          264.3,
          255.6,
          255.1,
          251.7,
          246.4,
          245.3,
          247.4,
          246.3,
          252.6,
          241.1,
          236.1,
          233.9,
          234,
          236.4,
          238.6,
          232.8,
          237.8,
          241.9,
          242.8,
          247.1,
          242.7,
          234.3,
          232.5,
          224.6,
          227.2,
          235,
          244.8,
          236,
          239.4,
          242.8,
          240.7,
          251.8,
          255.4,
          261.1,
          247.5,
          246.2,
          250.8,
          256.2,
          254.4,
          243.6,
          236,
          228,
          236.9,
          246.3,
          256.4,
          263.3,
          322,
          300,
          307,
          305.2,
          318.3,
          317.6,
          307.2,
          312.3,
          316.2,
          317.9,
          325.9,
          329.4,
          324.6,
          324.4,
          328.9,
          332.1,
          335.7,
          337.5,
          323.2,
          315.5,
          320.7,
          314.1,
          322.1,
          313.8,
          304.6,
          304.7,
          304.8,
          316.9,
          324.5,
          305,
          313.1,
          306.9,
          301,
          276,
          267.1,
          264.2,
          261.7,
          274.6,
          276.1,
          280.3,
          288.1,
          295.4,
          287,
          233,
          231.3,
          226.6,
          224.2,
          235,
          234.7,
          237.5,
          235.8,
          229,
          219.7,
          219.3,
          211.8,
          200.8,
          196,
          199.65,
          198.05,
          193.55,
          195.6,
          196.05,
          205.4,
          199.8,
          209.1,
          199,
          192.85,
          192,
          182.9,
          196.35,
          196.1,
          202.6,
          220,
          218.9,
          221.9
         ],
         "type": "candlestick",
         "x": [
          "2014-05-19T00:00:00",
          "2014-05-26T00:00:00",
          "2014-06-02T00:00:00",
          "2014-06-09T00:00:00",
          "2014-06-16T00:00:00",
          "2014-06-23T00:00:00",
          "2014-06-30T00:00:00",
          "2014-07-07T00:00:00",
          "2014-07-14T00:00:00",
          "2014-07-21T00:00:00",
          "2014-07-28T00:00:00",
          "2014-08-04T00:00:00",
          "2014-08-11T00:00:00",
          "2014-08-18T00:00:00",
          "2014-08-25T00:00:00",
          "2014-09-01T00:00:00",
          "2014-09-08T00:00:00",
          "2014-09-15T00:00:00",
          "2014-09-22T00:00:00",
          "2014-09-29T00:00:00",
          "2014-10-06T00:00:00",
          "2014-10-13T00:00:00",
          "2014-10-20T00:00:00",
          "2014-10-27T00:00:00",
          "2014-11-03T00:00:00",
          "2014-11-10T00:00:00",
          "2014-11-17T00:00:00",
          "2014-11-24T00:00:00",
          "2014-12-01T00:00:00",
          "2014-12-08T00:00:00",
          "2014-12-15T00:00:00",
          "2014-12-22T00:00:00",
          "2014-12-29T00:00:00",
          "2015-01-05T00:00:00",
          "2015-01-12T00:00:00",
          "2015-01-19T00:00:00",
          "2015-01-26T00:00:00",
          "2015-02-02T00:00:00",
          "2015-02-09T00:00:00",
          "2015-02-16T00:00:00",
          "2015-02-23T00:00:00",
          "2015-03-02T00:00:00",
          "2015-03-09T00:00:00",
          "2015-03-16T00:00:00",
          "2015-03-23T00:00:00",
          "2015-03-30T00:00:00",
          "2015-04-06T00:00:00",
          "2015-04-13T00:00:00",
          "2015-04-20T00:00:00",
          "2015-04-27T00:00:00",
          "2015-05-04T00:00:00",
          "2015-05-11T00:00:00",
          "2015-05-18T00:00:00",
          "2015-05-25T00:00:00",
          "2015-06-01T00:00:00",
          "2015-06-08T00:00:00",
          "2015-06-15T00:00:00",
          "2015-06-22T00:00:00",
          "2015-06-29T00:00:00",
          "2015-07-06T00:00:00",
          "2015-07-13T00:00:00",
          "2015-07-20T00:00:00",
          "2015-07-27T00:00:00",
          "2015-08-03T00:00:00",
          "2015-08-10T00:00:00",
          "2015-08-17T00:00:00",
          "2015-08-24T00:00:00",
          "2015-08-31T00:00:00",
          "2015-09-07T00:00:00",
          "2015-09-14T00:00:00",
          "2015-09-21T00:00:00",
          "2015-09-28T00:00:00",
          "2015-10-05T00:00:00",
          "2015-10-12T00:00:00",
          "2015-10-19T00:00:00",
          "2015-10-26T00:00:00",
          "2015-11-02T00:00:00",
          "2015-11-09T00:00:00",
          "2015-11-16T00:00:00",
          "2015-11-23T00:00:00",
          "2015-11-30T00:00:00",
          "2015-12-07T00:00:00",
          "2015-12-14T00:00:00",
          "2015-12-21T00:00:00",
          "2015-12-28T00:00:00",
          "2016-01-04T00:00:00",
          "2016-01-11T00:00:00",
          "2016-01-18T00:00:00",
          "2016-01-25T00:00:00",
          "2016-02-01T00:00:00",
          "2016-02-08T00:00:00",
          "2016-02-15T00:00:00",
          "2016-02-22T00:00:00",
          "2016-02-29T00:00:00",
          "2016-03-07T00:00:00",
          "2016-03-14T00:00:00",
          "2016-03-21T00:00:00",
          "2016-03-28T00:00:00",
          "2016-04-04T00:00:00",
          "2016-04-11T00:00:00",
          "2016-04-18T00:00:00",
          "2016-04-25T00:00:00",
          "2016-05-02T00:00:00",
          "2016-05-09T00:00:00",
          "2016-05-16T00:00:00",
          "2016-05-23T00:00:00",
          "2016-05-30T00:00:00",
          "2016-06-06T00:00:00",
          "2016-06-13T00:00:00",
          "2016-06-20T00:00:00",
          "2016-06-27T00:00:00",
          "2016-07-04T00:00:00",
          "2016-07-11T00:00:00",
          "2016-07-18T00:00:00",
          "2016-07-25T00:00:00",
          "2016-08-01T00:00:00",
          "2016-08-08T00:00:00",
          "2016-08-15T00:00:00",
          "2016-08-22T00:00:00",
          "2016-08-29T00:00:00",
          "2016-09-05T00:00:00",
          "2016-09-12T00:00:00",
          "2016-09-19T00:00:00",
          "2016-09-26T00:00:00",
          "2016-10-03T00:00:00",
          "2016-10-10T00:00:00",
          "2016-10-17T00:00:00",
          "2016-10-24T00:00:00",
          "2016-10-31T00:00:00",
          "2016-11-07T00:00:00",
          "2016-11-14T00:00:00",
          "2016-11-21T00:00:00",
          "2016-11-28T00:00:00",
          "2016-12-05T00:00:00",
          "2016-12-12T00:00:00",
          "2016-12-19T00:00:00",
          "2016-12-26T00:00:00",
          "2017-01-02T00:00:00",
          "2017-01-09T00:00:00",
          "2017-01-16T00:00:00",
          "2017-01-23T00:00:00",
          "2017-01-30T00:00:00",
          "2017-02-06T00:00:00",
          "2017-02-13T00:00:00",
          "2017-02-20T00:00:00",
          "2017-02-27T00:00:00",
          "2017-03-06T00:00:00",
          "2017-03-13T00:00:00",
          "2017-03-20T00:00:00",
          "2017-03-27T00:00:00",
          "2017-04-03T00:00:00",
          "2017-04-10T00:00:00",
          "2017-04-17T00:00:00",
          "2017-04-24T00:00:00",
          "2017-05-01T00:00:00",
          "2017-05-08T00:00:00",
          "2017-05-15T00:00:00",
          "2017-05-22T00:00:00",
          "2017-05-29T00:00:00",
          "2017-06-05T00:00:00",
          "2017-06-12T00:00:00",
          "2017-06-19T00:00:00",
          "2017-06-26T00:00:00",
          "2017-07-03T00:00:00",
          "2017-07-10T00:00:00",
          "2017-07-17T00:00:00",
          "2017-07-24T00:00:00",
          "2017-07-31T00:00:00",
          "2017-08-07T00:00:00",
          "2017-08-14T00:00:00",
          "2017-08-21T00:00:00",
          "2017-08-28T00:00:00",
          "2017-09-04T00:00:00",
          "2017-09-11T00:00:00",
          "2017-09-18T00:00:00",
          "2017-09-25T00:00:00",
          "2017-10-02T00:00:00",
          "2017-10-09T00:00:00",
          "2017-10-16T00:00:00",
          "2017-10-23T00:00:00",
          "2017-10-30T00:00:00",
          "2017-11-06T00:00:00",
          "2017-11-13T00:00:00",
          "2017-11-20T00:00:00",
          "2017-11-27T00:00:00",
          "2017-12-04T00:00:00",
          "2017-12-11T00:00:00",
          "2017-12-18T00:00:00",
          "2017-12-25T00:00:00",
          "2018-01-01T00:00:00",
          "2018-01-08T00:00:00",
          "2018-01-15T00:00:00",
          "2018-01-22T00:00:00",
          "2018-01-29T00:00:00",
          "2018-02-05T00:00:00",
          "2018-02-12T00:00:00",
          "2018-02-19T00:00:00",
          "2018-02-26T00:00:00",
          "2018-03-05T00:00:00",
          "2018-03-12T00:00:00",
          "2018-03-19T00:00:00",
          "2018-03-26T00:00:00",
          "2018-04-02T00:00:00",
          "2018-04-09T00:00:00",
          "2018-04-16T00:00:00",
          "2018-04-23T00:00:00",
          "2018-04-30T00:00:00",
          "2018-05-07T00:00:00",
          "2018-05-14T00:00:00",
          "2018-05-21T00:00:00",
          "2018-05-28T00:00:00",
          "2018-06-04T00:00:00",
          "2018-06-11T00:00:00",
          "2018-06-18T00:00:00",
          "2018-06-25T00:00:00",
          "2018-07-02T00:00:00",
          "2018-07-09T00:00:00",
          "2018-07-16T00:00:00",
          "2018-07-23T00:00:00",
          "2018-07-30T00:00:00",
          "2018-08-06T00:00:00",
          "2018-08-13T00:00:00",
          "2018-08-20T00:00:00",
          "2018-08-27T00:00:00",
          "2018-09-03T00:00:00",
          "2018-09-10T00:00:00",
          "2018-09-17T00:00:00",
          "2018-09-24T00:00:00",
          "2018-10-01T00:00:00",
          "2018-10-08T00:00:00",
          "2018-10-15T00:00:00",
          "2018-10-22T00:00:00",
          "2018-10-29T00:00:00",
          "2018-11-05T00:00:00",
          "2018-11-12T00:00:00",
          "2018-11-19T00:00:00",
          "2018-11-26T00:00:00",
          "2018-12-03T00:00:00",
          "2018-12-10T00:00:00",
          "2018-12-17T00:00:00",
          "2018-12-24T00:00:00",
          "2018-12-31T00:00:00",
          "2019-01-07T00:00:00",
          "2019-01-14T00:00:00",
          "2019-01-21T00:00:00",
          "2019-01-28T00:00:00",
          "2019-02-04T00:00:00",
          "2019-02-11T00:00:00",
          "2019-02-18T00:00:00",
          "2019-02-25T00:00:00",
          "2019-03-04T00:00:00",
          "2019-03-11T00:00:00",
          "2019-03-18T00:00:00",
          "2019-03-25T00:00:00",
          "2019-04-01T00:00:00",
          "2019-04-08T00:00:00",
          "2019-04-15T00:00:00",
          "2019-04-22T00:00:00",
          "2019-04-29T00:00:00",
          "2019-05-06T00:00:00",
          "2019-05-13T00:00:00",
          "2019-05-20T00:00:00",
          "2019-05-27T00:00:00",
          "2019-06-03T00:00:00",
          "2019-06-10T00:00:00",
          "2019-06-17T00:00:00",
          "2019-06-24T00:00:00",
          "2019-07-01T00:00:00",
          "2019-07-08T00:00:00",
          "2019-07-15T00:00:00",
          "2019-07-22T00:00:00",
          "2019-07-29T00:00:00",
          "2019-08-05T00:00:00",
          "2019-08-12T00:00:00",
          "2019-08-19T00:00:00",
          "2019-08-26T00:00:00",
          "2019-09-02T00:00:00",
          "2019-09-09T00:00:00",
          "2019-09-16T00:00:00",
          "2019-09-23T00:00:00",
          "2019-09-30T00:00:00"
         ],
         "xaxis": "x2",
         "yaxis": "y2"
        },
        {
         "line": {
          "color": "firebrick",
          "width": 1
         },
         "name": "EMA12",
         "type": "scatter",
         "x": [
          "2014-05-19T00:00:00",
          "2014-05-26T00:00:00",
          "2014-06-02T00:00:00",
          "2014-06-09T00:00:00",
          "2014-06-16T00:00:00",
          "2014-06-23T00:00:00",
          "2014-06-30T00:00:00",
          "2014-07-07T00:00:00",
          "2014-07-14T00:00:00",
          "2014-07-21T00:00:00",
          "2014-07-28T00:00:00",
          "2014-08-04T00:00:00",
          "2014-08-11T00:00:00",
          "2014-08-18T00:00:00",
          "2014-08-25T00:00:00",
          "2014-09-01T00:00:00",
          "2014-09-08T00:00:00",
          "2014-09-15T00:00:00",
          "2014-09-22T00:00:00",
          "2014-09-29T00:00:00",
          "2014-10-06T00:00:00",
          "2014-10-13T00:00:00",
          "2014-10-20T00:00:00",
          "2014-10-27T00:00:00",
          "2014-11-03T00:00:00",
          "2014-11-10T00:00:00",
          "2014-11-17T00:00:00",
          "2014-11-24T00:00:00",
          "2014-12-01T00:00:00",
          "2014-12-08T00:00:00",
          "2014-12-15T00:00:00",
          "2014-12-22T00:00:00",
          "2014-12-29T00:00:00",
          "2015-01-05T00:00:00",
          "2015-01-12T00:00:00",
          "2015-01-19T00:00:00",
          "2015-01-26T00:00:00",
          "2015-02-02T00:00:00",
          "2015-02-09T00:00:00",
          "2015-02-16T00:00:00",
          "2015-02-23T00:00:00",
          "2015-03-02T00:00:00",
          "2015-03-09T00:00:00",
          "2015-03-16T00:00:00",
          "2015-03-23T00:00:00",
          "2015-03-30T00:00:00",
          "2015-04-06T00:00:00",
          "2015-04-13T00:00:00",
          "2015-04-20T00:00:00",
          "2015-04-27T00:00:00",
          "2015-05-04T00:00:00",
          "2015-05-11T00:00:00",
          "2015-05-18T00:00:00",
          "2015-05-25T00:00:00",
          "2015-06-01T00:00:00",
          "2015-06-08T00:00:00",
          "2015-06-15T00:00:00",
          "2015-06-22T00:00:00",
          "2015-06-29T00:00:00",
          "2015-07-06T00:00:00",
          "2015-07-13T00:00:00",
          "2015-07-20T00:00:00",
          "2015-07-27T00:00:00",
          "2015-08-03T00:00:00",
          "2015-08-10T00:00:00",
          "2015-08-17T00:00:00",
          "2015-08-24T00:00:00",
          "2015-08-31T00:00:00",
          "2015-09-07T00:00:00",
          "2015-09-14T00:00:00",
          "2015-09-21T00:00:00",
          "2015-09-28T00:00:00",
          "2015-10-05T00:00:00",
          "2015-10-12T00:00:00",
          "2015-10-19T00:00:00",
          "2015-10-26T00:00:00",
          "2015-11-02T00:00:00",
          "2015-11-09T00:00:00",
          "2015-11-16T00:00:00",
          "2015-11-23T00:00:00",
          "2015-11-30T00:00:00",
          "2015-12-07T00:00:00",
          "2015-12-14T00:00:00",
          "2015-12-21T00:00:00",
          "2015-12-28T00:00:00",
          "2016-01-04T00:00:00",
          "2016-01-11T00:00:00",
          "2016-01-18T00:00:00",
          "2016-01-25T00:00:00",
          "2016-02-01T00:00:00",
          "2016-02-08T00:00:00",
          "2016-02-15T00:00:00",
          "2016-02-22T00:00:00",
          "2016-02-29T00:00:00",
          "2016-03-07T00:00:00",
          "2016-03-14T00:00:00",
          "2016-03-21T00:00:00",
          "2016-03-28T00:00:00",
          "2016-04-04T00:00:00",
          "2016-04-11T00:00:00",
          "2016-04-18T00:00:00",
          "2016-04-25T00:00:00",
          "2016-05-02T00:00:00",
          "2016-05-09T00:00:00",
          "2016-05-16T00:00:00",
          "2016-05-23T00:00:00",
          "2016-05-30T00:00:00",
          "2016-06-06T00:00:00",
          "2016-06-13T00:00:00",
          "2016-06-20T00:00:00",
          "2016-06-27T00:00:00",
          "2016-07-04T00:00:00",
          "2016-07-11T00:00:00",
          "2016-07-18T00:00:00",
          "2016-07-25T00:00:00",
          "2016-08-01T00:00:00",
          "2016-08-08T00:00:00",
          "2016-08-15T00:00:00",
          "2016-08-22T00:00:00",
          "2016-08-29T00:00:00",
          "2016-09-05T00:00:00",
          "2016-09-12T00:00:00",
          "2016-09-19T00:00:00",
          "2016-09-26T00:00:00",
          "2016-10-03T00:00:00",
          "2016-10-10T00:00:00",
          "2016-10-17T00:00:00",
          "2016-10-24T00:00:00",
          "2016-10-31T00:00:00",
          "2016-11-07T00:00:00",
          "2016-11-14T00:00:00",
          "2016-11-21T00:00:00",
          "2016-11-28T00:00:00",
          "2016-12-05T00:00:00",
          "2016-12-12T00:00:00",
          "2016-12-19T00:00:00",
          "2016-12-26T00:00:00",
          "2017-01-02T00:00:00",
          "2017-01-09T00:00:00",
          "2017-01-16T00:00:00",
          "2017-01-23T00:00:00",
          "2017-01-30T00:00:00",
          "2017-02-06T00:00:00",
          "2017-02-13T00:00:00",
          "2017-02-20T00:00:00",
          "2017-02-27T00:00:00",
          "2017-03-06T00:00:00",
          "2017-03-13T00:00:00",
          "2017-03-20T00:00:00",
          "2017-03-27T00:00:00",
          "2017-04-03T00:00:00",
          "2017-04-10T00:00:00",
          "2017-04-17T00:00:00",
          "2017-04-24T00:00:00",
          "2017-05-01T00:00:00",
          "2017-05-08T00:00:00",
          "2017-05-15T00:00:00",
          "2017-05-22T00:00:00",
          "2017-05-29T00:00:00",
          "2017-06-05T00:00:00",
          "2017-06-12T00:00:00",
          "2017-06-19T00:00:00",
          "2017-06-26T00:00:00",
          "2017-07-03T00:00:00",
          "2017-07-10T00:00:00",
          "2017-07-17T00:00:00",
          "2017-07-24T00:00:00",
          "2017-07-31T00:00:00",
          "2017-08-07T00:00:00",
          "2017-08-14T00:00:00",
          "2017-08-21T00:00:00",
          "2017-08-28T00:00:00",
          "2017-09-04T00:00:00",
          "2017-09-11T00:00:00",
          "2017-09-18T00:00:00",
          "2017-09-25T00:00:00",
          "2017-10-02T00:00:00",
          "2017-10-09T00:00:00",
          "2017-10-16T00:00:00",
          "2017-10-23T00:00:00",
          "2017-10-30T00:00:00",
          "2017-11-06T00:00:00",
          "2017-11-13T00:00:00",
          "2017-11-20T00:00:00",
          "2017-11-27T00:00:00",
          "2017-12-04T00:00:00",
          "2017-12-11T00:00:00",
          "2017-12-18T00:00:00",
          "2017-12-25T00:00:00",
          "2018-01-01T00:00:00",
          "2018-01-08T00:00:00",
          "2018-01-15T00:00:00",
          "2018-01-22T00:00:00",
          "2018-01-29T00:00:00",
          "2018-02-05T00:00:00",
          "2018-02-12T00:00:00",
          "2018-02-19T00:00:00",
          "2018-02-26T00:00:00",
          "2018-03-05T00:00:00",
          "2018-03-12T00:00:00",
          "2018-03-19T00:00:00",
          "2018-03-26T00:00:00",
          "2018-04-02T00:00:00",
          "2018-04-09T00:00:00",
          "2018-04-16T00:00:00",
          "2018-04-23T00:00:00",
          "2018-04-30T00:00:00",
          "2018-05-07T00:00:00",
          "2018-05-14T00:00:00",
          "2018-05-21T00:00:00",
          "2018-05-28T00:00:00",
          "2018-06-04T00:00:00",
          "2018-06-11T00:00:00",
          "2018-06-18T00:00:00",
          "2018-06-25T00:00:00",
          "2018-07-02T00:00:00",
          "2018-07-09T00:00:00",
          "2018-07-16T00:00:00",
          "2018-07-23T00:00:00",
          "2018-07-30T00:00:00",
          "2018-08-06T00:00:00",
          "2018-08-13T00:00:00",
          "2018-08-20T00:00:00",
          "2018-08-27T00:00:00",
          "2018-09-03T00:00:00",
          "2018-09-10T00:00:00",
          "2018-09-17T00:00:00",
          "2018-09-24T00:00:00",
          "2018-10-01T00:00:00",
          "2018-10-08T00:00:00",
          "2018-10-15T00:00:00",
          "2018-10-22T00:00:00",
          "2018-10-29T00:00:00",
          "2018-11-05T00:00:00",
          "2018-11-12T00:00:00",
          "2018-11-19T00:00:00",
          "2018-11-26T00:00:00",
          "2018-12-03T00:00:00",
          "2018-12-10T00:00:00",
          "2018-12-17T00:00:00",
          "2018-12-24T00:00:00",
          "2018-12-31T00:00:00",
          "2019-01-07T00:00:00",
          "2019-01-14T00:00:00",
          "2019-01-21T00:00:00",
          "2019-01-28T00:00:00",
          "2019-02-04T00:00:00",
          "2019-02-11T00:00:00",
          "2019-02-18T00:00:00",
          "2019-02-25T00:00:00",
          "2019-03-04T00:00:00",
          "2019-03-11T00:00:00",
          "2019-03-18T00:00:00",
          "2019-03-25T00:00:00",
          "2019-04-01T00:00:00",
          "2019-04-08T00:00:00",
          "2019-04-15T00:00:00",
          "2019-04-22T00:00:00",
          "2019-04-29T00:00:00",
          "2019-05-06T00:00:00",
          "2019-05-13T00:00:00",
          "2019-05-20T00:00:00",
          "2019-05-27T00:00:00",
          "2019-06-03T00:00:00",
          "2019-06-10T00:00:00",
          "2019-06-17T00:00:00",
          "2019-06-24T00:00:00",
          "2019-07-01T00:00:00",
          "2019-07-08T00:00:00",
          "2019-07-15T00:00:00",
          "2019-07-22T00:00:00",
          "2019-07-29T00:00:00",
          "2019-08-05T00:00:00",
          "2019-08-12T00:00:00",
          "2019-08-19T00:00:00",
          "2019-08-26T00:00:00",
          "2019-09-02T00:00:00",
          "2019-09-09T00:00:00",
          "2019-09-16T00:00:00",
          "2019-09-23T00:00:00",
          "2019-09-30T00:00:00"
         ],
         "xaxis": "x2",
         "y": [
          379.3101396974637,
          374.20088743631544,
          366.80075090765155,
          360.0314046141667,
          353.3804192889103,
          347.73727785984715,
          343.71615818910146,
          339.3136723138551,
          337.0654150348004,
          334.47073579867725,
          330.8444687527269,
          326.46839663692276,
          324.1963356158577,
          321.4738224441873,
          316.6778497604662,
          312.8812574896252,
          308.91491018352906,
          305.1280009245246,
          296.6621546284439,
          286.00643853176024,
          277.2054479884125,
          272.21999445173367,
          266.986149151467,
          263.680587743549,
          263.36049732146455,
          264.3973438873931,
          263.67467559702493,
          259.01703319748265,
          255.82979732094685,
          251.4713669638781,
          249.6757720463584,
          248.91026865461095,
          248.06253501544003,
          247.09906808998772,
          248.59151915306654,
          251.56205466797937,
          252.15250779598253,
          254.8675065966006,
          256.7032748125082,
          258.9950786875069,
          260.9804511971212,
          263.38345870525643,
          262.7244650582939,
          264.1668550493256,
          263.91041581096783,
          263.3703518400497,
          265.5287592492728,
          267.0166424416924,
          267.1833128352782,
          267.8781877836969,
          269.43538966312815,
          268.89148356110843,
          267.7235630132456,
          265.2430148573617,
          262.4671664177676,
          262.3645254304187,
          262.44690613343124,
          264.5781513436726,
          264.38151267541525,
          263.52281841765904,
          263.99623096878844,
          263.7660415889748,
          263.9404967291325,
          264.5188818477275,
          263.03905387115407,
          259.4330455832842,
          256.85873087816356,
          253.8650799738307,
          250.7166061317029,
          247.2678974960563,
          244.08822095820148,
          246.4284946569397,
          250.93180317125666,
          253.08075652952488,
          255.5606401403672,
          257.2282339649261,
          259.9008133549375,
          257.00838053110095,
          256.4993989109316,
          256.43795292463443,
          254.67826785930606,
          251.65084203479745,
          252.1968663371363,
          254.3819638237307,
          255.0616616970029,
          253.03679066669477,
          251.63113056412635,
          248.85711047733767,
          248.27909348082417,
          248.6823098683897,
          247.23887758094511,
          249.3713579531074,
          249.89884134493704,
          252.56055806110058,
          255.75124143631587,
          258.4356658307288,
          261.0763326260013,
          263.46458914507804,
          267.316190815066,
          270.0213922281328,
          273.46425496226624,
          275.83898496807143,
          274.4022180499066,
          271.4480306576133,
          269.7791028641343,
          269.70539473119055,
          266.08918015716125,
          262.35238320990567,
          257.6212473314586,
          252.94105543431112,
          250.3501238290325,
          246.28087400918133,
          243.65304723853805,
          240.79873227876297,
          238.2604657743379,
          236.9742402705936,
          237.0705109981946,
          237.8442785369339,
          238.40669722355946,
          239.59028226608876,
          239.80716191745972,
          239.88298316092747,
          242.03944729001554,
          242.61799386078238,
          240.98445634373894,
          239.74069382931756,
          239.91904862480717,
          242.0853488363753,
          244.04144901539448,
          242.68122608994918,
          242.09949899918777,
          241.16111453777427,
          239.29017383965515,
          240.47630094124668,
          241.94148541182412,
          242.9812568869281,
          243.9533712120161,
          245.19131410247516,
          248.17726577901746,
          250.41153258224554,
          251.04052756959237,
          253.15736948196277,
          254.91777417704543,
          256.9919627651923,
          258.31627618593194,
          258.7906952342501,
          259.96135750590395,
          261.45961019730333,
          262.2504393977182,
          262.56575641345387,
          262.44794773446097,
          261.8251865445439,
          262.467465537691,
          264.45708622420005,
          264.540611420477,
          264.58051735578823,
          266.07582237797465,
          268.4795420121324,
          269.4980740102659,
          268.80606262407116,
          266.2666683742141,
          264.2871809320273,
          262.35069155786925,
          259.89673901050475,
          257.71262531658095,
          256.06452911403005,
          254.6238323272562,
          254.29708889229371,
          252.3436906011716,
          249.99850743176057,
          247.860275519182,
          246.05100236238476,
          244.3354635374025,
          243.31462299318673,
          241.7739117634657,
          241.17792533831712,
          241.3043983631914,
          241.36526015346965,
          242.33983551447432,
          242.44139928147825,
          241.3119532381739,
          239.91011427845484,
          238.01625054330793,
          236.38298122895287,
          235.86252257834474,
          237.2221344893686,
          237.04949841408114,
          237.19572942729943,
          237.84254028463798,
          238.3283033177706,
          240.53933357657513,
          243.22558994940974,
          245.9754991879621,
          246.45619162058333,
          246.21677752510897,
          246.9372732904768,
          248.25461586117268,
          248.9846749594538,
          248.06395573492244,
          246.22334716031898,
          243.3428322125776,
          242.64393494910414,
          243.16025264924195,
          245.1202137801278,
          248.00941166010816,
          251.36180986624535,
          259.04460834836146,
          266.3454378332289,
          272.36921662811676,
          279.3739525314834,
          284.9471906035629,
          288.0014689722455,
          291.44739682266925,
          295.45548961918166,
          299.41618352392294,
          303.4906168279348,
          307.47667577748325,
          310.3418025809474,
          312.79690987618625,
          315.2896929721576,
          318.13743251490257,
          320.6701352049176,
          323.09011440416106,
          323.26086603429013,
          322.5899635674763,
          322.3761230186338,
          321.11825793884395,
          321.22314133286795,
          320.2811195893498,
          317.93017811406526,
          315.80245840420906,
          314.1097724958692,
          314.81596134265857,
          315.92119805917264,
          314.2871675885307,
          313.6737571902952,
          312.33933300717285,
          310.4409740829924,
          305.0654396086859,
          299.67075659196496,
          294.32140942397035,
          289.0411925895134,
          287.00408603728056,
          285.6034574161605,
          285.1567716598281,
          285.4249606352392,
          286.4211205375101,
          286.3871019932778,
          278.2660093789274,
          271.1173925514001,
          263.83779369733855,
          257.67813312851723,
          254.4661126472069,
          251.57901839379045,
          249.61301556397655,
          247.36485932336478,
          244.33949635053943,
          240.62572768122567,
          237.4986926533448,
          233.52966301436868,
          228.5558687044658,
          223.43958121147108,
          219.8488764097063,
          216.39520311590533,
          212.93440263653528,
          210.30603300014525,
          208.09741253858445,
          207.66704137880222,
          206.42595808975574,
          206.34504146056256,
          205.18426585124524,
          203.6713018741306,
          201.76802466272588,
          198.80371317615266,
          198.4954496105907,
          198.12691890126905,
          198.6612390703046,
          202.15950998256542,
          204.2734315237092,
          207.0775189816001,
          207.54251606135392
         ],
         "yaxis": "y2"
        },
        {
         "line": {
          "color": "royalblue",
          "width": 1
         },
         "name": "EMA26",
         "type": "scatter",
         "x": [
          "2014-05-19T00:00:00",
          "2014-05-26T00:00:00",
          "2014-06-02T00:00:00",
          "2014-06-09T00:00:00",
          "2014-06-16T00:00:00",
          "2014-06-23T00:00:00",
          "2014-06-30T00:00:00",
          "2014-07-07T00:00:00",
          "2014-07-14T00:00:00",
          "2014-07-21T00:00:00",
          "2014-07-28T00:00:00",
          "2014-08-04T00:00:00",
          "2014-08-11T00:00:00",
          "2014-08-18T00:00:00",
          "2014-08-25T00:00:00",
          "2014-09-01T00:00:00",
          "2014-09-08T00:00:00",
          "2014-09-15T00:00:00",
          "2014-09-22T00:00:00",
          "2014-09-29T00:00:00",
          "2014-10-06T00:00:00",
          "2014-10-13T00:00:00",
          "2014-10-20T00:00:00",
          "2014-10-27T00:00:00",
          "2014-11-03T00:00:00",
          "2014-11-10T00:00:00",
          "2014-11-17T00:00:00",
          "2014-11-24T00:00:00",
          "2014-12-01T00:00:00",
          "2014-12-08T00:00:00",
          "2014-12-15T00:00:00",
          "2014-12-22T00:00:00",
          "2014-12-29T00:00:00",
          "2015-01-05T00:00:00",
          "2015-01-12T00:00:00",
          "2015-01-19T00:00:00",
          "2015-01-26T00:00:00",
          "2015-02-02T00:00:00",
          "2015-02-09T00:00:00",
          "2015-02-16T00:00:00",
          "2015-02-23T00:00:00",
          "2015-03-02T00:00:00",
          "2015-03-09T00:00:00",
          "2015-03-16T00:00:00",
          "2015-03-23T00:00:00",
          "2015-03-30T00:00:00",
          "2015-04-06T00:00:00",
          "2015-04-13T00:00:00",
          "2015-04-20T00:00:00",
          "2015-04-27T00:00:00",
          "2015-05-04T00:00:00",
          "2015-05-11T00:00:00",
          "2015-05-18T00:00:00",
          "2015-05-25T00:00:00",
          "2015-06-01T00:00:00",
          "2015-06-08T00:00:00",
          "2015-06-15T00:00:00",
          "2015-06-22T00:00:00",
          "2015-06-29T00:00:00",
          "2015-07-06T00:00:00",
          "2015-07-13T00:00:00",
          "2015-07-20T00:00:00",
          "2015-07-27T00:00:00",
          "2015-08-03T00:00:00",
          "2015-08-10T00:00:00",
          "2015-08-17T00:00:00",
          "2015-08-24T00:00:00",
          "2015-08-31T00:00:00",
          "2015-09-07T00:00:00",
          "2015-09-14T00:00:00",
          "2015-09-21T00:00:00",
          "2015-09-28T00:00:00",
          "2015-10-05T00:00:00",
          "2015-10-12T00:00:00",
          "2015-10-19T00:00:00",
          "2015-10-26T00:00:00",
          "2015-11-02T00:00:00",
          "2015-11-09T00:00:00",
          "2015-11-16T00:00:00",
          "2015-11-23T00:00:00",
          "2015-11-30T00:00:00",
          "2015-12-07T00:00:00",
          "2015-12-14T00:00:00",
          "2015-12-21T00:00:00",
          "2015-12-28T00:00:00",
          "2016-01-04T00:00:00",
          "2016-01-11T00:00:00",
          "2016-01-18T00:00:00",
          "2016-01-25T00:00:00",
          "2016-02-01T00:00:00",
          "2016-02-08T00:00:00",
          "2016-02-15T00:00:00",
          "2016-02-22T00:00:00",
          "2016-02-29T00:00:00",
          "2016-03-07T00:00:00",
          "2016-03-14T00:00:00",
          "2016-03-21T00:00:00",
          "2016-03-28T00:00:00",
          "2016-04-04T00:00:00",
          "2016-04-11T00:00:00",
          "2016-04-18T00:00:00",
          "2016-04-25T00:00:00",
          "2016-05-02T00:00:00",
          "2016-05-09T00:00:00",
          "2016-05-16T00:00:00",
          "2016-05-23T00:00:00",
          "2016-05-30T00:00:00",
          "2016-06-06T00:00:00",
          "2016-06-13T00:00:00",
          "2016-06-20T00:00:00",
          "2016-06-27T00:00:00",
          "2016-07-04T00:00:00",
          "2016-07-11T00:00:00",
          "2016-07-18T00:00:00",
          "2016-07-25T00:00:00",
          "2016-08-01T00:00:00",
          "2016-08-08T00:00:00",
          "2016-08-15T00:00:00",
          "2016-08-22T00:00:00",
          "2016-08-29T00:00:00",
          "2016-09-05T00:00:00",
          "2016-09-12T00:00:00",
          "2016-09-19T00:00:00",
          "2016-09-26T00:00:00",
          "2016-10-03T00:00:00",
          "2016-10-10T00:00:00",
          "2016-10-17T00:00:00",
          "2016-10-24T00:00:00",
          "2016-10-31T00:00:00",
          "2016-11-07T00:00:00",
          "2016-11-14T00:00:00",
          "2016-11-21T00:00:00",
          "2016-11-28T00:00:00",
          "2016-12-05T00:00:00",
          "2016-12-12T00:00:00",
          "2016-12-19T00:00:00",
          "2016-12-26T00:00:00",
          "2017-01-02T00:00:00",
          "2017-01-09T00:00:00",
          "2017-01-16T00:00:00",
          "2017-01-23T00:00:00",
          "2017-01-30T00:00:00",
          "2017-02-06T00:00:00",
          "2017-02-13T00:00:00",
          "2017-02-20T00:00:00",
          "2017-02-27T00:00:00",
          "2017-03-06T00:00:00",
          "2017-03-13T00:00:00",
          "2017-03-20T00:00:00",
          "2017-03-27T00:00:00",
          "2017-04-03T00:00:00",
          "2017-04-10T00:00:00",
          "2017-04-17T00:00:00",
          "2017-04-24T00:00:00",
          "2017-05-01T00:00:00",
          "2017-05-08T00:00:00",
          "2017-05-15T00:00:00",
          "2017-05-22T00:00:00",
          "2017-05-29T00:00:00",
          "2017-06-05T00:00:00",
          "2017-06-12T00:00:00",
          "2017-06-19T00:00:00",
          "2017-06-26T00:00:00",
          "2017-07-03T00:00:00",
          "2017-07-10T00:00:00",
          "2017-07-17T00:00:00",
          "2017-07-24T00:00:00",
          "2017-07-31T00:00:00",
          "2017-08-07T00:00:00",
          "2017-08-14T00:00:00",
          "2017-08-21T00:00:00",
          "2017-08-28T00:00:00",
          "2017-09-04T00:00:00",
          "2017-09-11T00:00:00",
          "2017-09-18T00:00:00",
          "2017-09-25T00:00:00",
          "2017-10-02T00:00:00",
          "2017-10-09T00:00:00",
          "2017-10-16T00:00:00",
          "2017-10-23T00:00:00",
          "2017-10-30T00:00:00",
          "2017-11-06T00:00:00",
          "2017-11-13T00:00:00",
          "2017-11-20T00:00:00",
          "2017-11-27T00:00:00",
          "2017-12-04T00:00:00",
          "2017-12-11T00:00:00",
          "2017-12-18T00:00:00",
          "2017-12-25T00:00:00",
          "2018-01-01T00:00:00",
          "2018-01-08T00:00:00",
          "2018-01-15T00:00:00",
          "2018-01-22T00:00:00",
          "2018-01-29T00:00:00",
          "2018-02-05T00:00:00",
          "2018-02-12T00:00:00",
          "2018-02-19T00:00:00",
          "2018-02-26T00:00:00",
          "2018-03-05T00:00:00",
          "2018-03-12T00:00:00",
          "2018-03-19T00:00:00",
          "2018-03-26T00:00:00",
          "2018-04-02T00:00:00",
          "2018-04-09T00:00:00",
          "2018-04-16T00:00:00",
          "2018-04-23T00:00:00",
          "2018-04-30T00:00:00",
          "2018-05-07T00:00:00",
          "2018-05-14T00:00:00",
          "2018-05-21T00:00:00",
          "2018-05-28T00:00:00",
          "2018-06-04T00:00:00",
          "2018-06-11T00:00:00",
          "2018-06-18T00:00:00",
          "2018-06-25T00:00:00",
          "2018-07-02T00:00:00",
          "2018-07-09T00:00:00",
          "2018-07-16T00:00:00",
          "2018-07-23T00:00:00",
          "2018-07-30T00:00:00",
          "2018-08-06T00:00:00",
          "2018-08-13T00:00:00",
          "2018-08-20T00:00:00",
          "2018-08-27T00:00:00",
          "2018-09-03T00:00:00",
          "2018-09-10T00:00:00",
          "2018-09-17T00:00:00",
          "2018-09-24T00:00:00",
          "2018-10-01T00:00:00",
          "2018-10-08T00:00:00",
          "2018-10-15T00:00:00",
          "2018-10-22T00:00:00",
          "2018-10-29T00:00:00",
          "2018-11-05T00:00:00",
          "2018-11-12T00:00:00",
          "2018-11-19T00:00:00",
          "2018-11-26T00:00:00",
          "2018-12-03T00:00:00",
          "2018-12-10T00:00:00",
          "2018-12-17T00:00:00",
          "2018-12-24T00:00:00",
          "2018-12-31T00:00:00",
          "2019-01-07T00:00:00",
          "2019-01-14T00:00:00",
          "2019-01-21T00:00:00",
          "2019-01-28T00:00:00",
          "2019-02-04T00:00:00",
          "2019-02-11T00:00:00",
          "2019-02-18T00:00:00",
          "2019-02-25T00:00:00",
          "2019-03-04T00:00:00",
          "2019-03-11T00:00:00",
          "2019-03-18T00:00:00",
          "2019-03-25T00:00:00",
          "2019-04-01T00:00:00",
          "2019-04-08T00:00:00",
          "2019-04-15T00:00:00",
          "2019-04-22T00:00:00",
          "2019-04-29T00:00:00",
          "2019-05-06T00:00:00",
          "2019-05-13T00:00:00",
          "2019-05-20T00:00:00",
          "2019-05-27T00:00:00",
          "2019-06-03T00:00:00",
          "2019-06-10T00:00:00",
          "2019-06-17T00:00:00",
          "2019-06-24T00:00:00",
          "2019-07-01T00:00:00",
          "2019-07-08T00:00:00",
          "2019-07-15T00:00:00",
          "2019-07-22T00:00:00",
          "2019-07-29T00:00:00",
          "2019-08-05T00:00:00",
          "2019-08-12T00:00:00",
          "2019-08-19T00:00:00",
          "2019-08-26T00:00:00",
          "2019-09-02T00:00:00",
          "2019-09-09T00:00:00",
          "2019-09-16T00:00:00",
          "2019-09-23T00:00:00",
          "2019-09-30T00:00:00"
         ],
         "xaxis": "x2",
         "y": [
          382.7366126178569,
          380.02278946097863,
          376.0285087601654,
          372.0856562594124,
          367.9904224624189,
          364.19113190964714,
          361.0362332496733,
          357.63354930525304,
          355.1940271344936,
          352.6018769763829,
          349.51284905220643,
          346.02300838167264,
          343.48056331636354,
          340.7412623299662,
          337.0048725277465,
          333.6711782664319,
          330.22146135780736,
          326.8198716275994,
          321.1369181737032,
          314.1934427534289,
          307.8680025494712,
          303.1962986569178,
          298.3817580156646,
          294.464590755245,
          292.0301766252269,
          290.4057190974323,
          288.1312213865114,
          284.0770568393624,
          280.6861637401504,
          276.74644790754667,
          274.00967398846916,
          271.83858702636036,
          269.73202502440773,
          267.6629861337109,
          266.8583204941767,
          266.9354819390525,
          266.081001795419,
          266.3564831439065,
          266.3893362443578,
          266.77531133736835,
          267.1549179049707,
          267.85455361571366,
          267.2060681626978,
          267.56858163212763,
          267.1931311408589,
          266.68993624153603,
          267.48327429771854,
          268.05488360899864,
          268.0582255638876,
          268.3279866332293,
          269.0444320678049,
          268.81151117389345,
          268.25510293879023,
          267.0213916099909,
          265.55314037962125,
          265.2751299811308,
          265.099194426973,
          265.92888372867867,
          265.7341516006284,
          265.22051074132264,
          265.3226951308543,
          265.11360660264285,
          265.09778389133595,
          265.29054064012587,
          264.5208709630795,
          262.6748805213699,
          261.19525974200917,
          259.43264790926776,
          257.5043036196924,
          255.34102187008554,
          253.21205728711624,
          253.66301600658912,
          255.29538519128621,
          256.0068381400798,
          256.9841093889628,
          257.68158276755815,
          258.9347988588502,
          257.61370264708347,
          257.3237987472995,
          257.2331469882403,
          256.3269879520744,
          254.74721106673553,
          254.78075098771808,
          255.64143609973897,
          255.8754037960546,
          254.84018870005056,
          254.02980435189866,
          252.51648551101727,
          251.9671162139049,
          251.88807056843046,
          250.95562089669488,
          251.7070563858286,
          251.78801517206352,
          252.9296436778366,
          254.43855896095982,
          255.82829533422205,
          257.2928660502056,
          258.72302412056075,
          260.92872603755626,
          262.70437596070025,
          264.90405181546316,
          266.6815294587622,
          266.6680828321872,
          265.8185952149882,
          265.43203260647056,
          265.71854870969497,
          264.2727302867546,
          262.60808359884686,
          260.3111885174508,
          257.8585078865285,
          256.24676656160045,
          253.8507097792597,
          252.02473127709231,
          250.03030673804844,
          248.1243580907856,
          246.77440563961628,
          246.09482003668174,
          245.79890744137197,
          245.4804698531222,
          245.52636097511314,
          245.1910749769566,
          244.82877312681165,
          245.50071585815894,
          245.52288505385087,
          244.52118986467673,
          243.6603609858118,
          243.45588980167759,
          244.23693500155332,
          245.0193842606975,
          244.2920224636088,
          243.89261339223037,
          243.30797536317627,
          242.2481253362743,
          242.60011605210585,
          243.14825560380172,
          243.55949592944603,
          243.98471845319077,
          244.57844301221368,
          246.06152130760526,
          247.29400121074562,
          247.82777889883855,
          249.08498046188754,
          250.2342411684144,
          251.57985293371704,
          252.61838234603428,
          253.26887254262434,
          254.2415486505781,
          255.38661912090564,
          256.2172399267645,
          256.81596289515227,
          257.1851508288447,
          257.27513965633767,
          257.92142560772004,
          259.216134821963,
          259.6445692795954,
          260.02645303666236,
          261.0837528117244,
          262.61088223307814,
          263.5360020676649,
          263.644446358949,
          262.80411699902686,
          262.1075157398397,
          261.33658864799975,
          260.23017467407385,
          259.15386543895727,
          258.2535791101456,
          257.39775843532,
          257.03496151418517,
          255.89163103165293,
          254.4996583626416,
          253.13672070614965,
          251.874741394583,
          250.61735314313242,
          249.66051216956706,
          248.44862237922877,
          247.66724294373034,
          247.2474471701207,
          246.83652515751916,
          246.90048625696218,
          246.61156134903905,
          245.75885310096209,
          244.75449361200194,
          243.4837903814833,
          242.2923985013734,
          241.60407268645687,
          241.83340063560823,
          241.40870429222983,
          241.15620767799058,
          241.1742663685098,
          241.1613577486202,
          242.01607198946314,
          243.2000666569103,
          244.52598764528733,
          244.86480337526604,
          244.86741053265374,
          245.31426901171642,
          246.06876760344113,
          246.58219222540845,
          246.31684465315598,
          245.5600413455148,
          244.2222605051063,
          243.82061157880213,
          243.98204775815012,
          244.86485903532417,
          246.274869477152,
          248.01747173810372,
          251.96432568342937,
          256.0040052624346,
          259.67037524299496,
          263.9836807805509,
          267.80711183384346,
          270.5473257720773,
          273.49937571488636,
          276.7586812174874,
          280.0506307569328,
          283.4468803304933,
          286.8508151208271,
          289.758162148914,
          292.46496495269815,
          295.1712638450909,
          298.0326517084175,
          300.74134417446066,
          303.3827260874636,
          304.9247463772811,
          305.95995034933435,
          307.08884291605034,
          307.6155952926392,
          308.6662919376289,
          309.1428629052119,
          308.8359841714925,
          308.48517052915975,
          308.2121949344072,
          308.9890693837104,
          309.95284202195404,
          309.60818705736483,
          309.65943246052296,
          309.31428931529905,
          308.6243419586102,
          306.17068699871317,
          303.49137685066034,
          300.632756343204,
          297.6229225400037,
          296.0064097592627,
          294.66519422153954,
          293.77888353846254,
          293.2693366096875,
          293.16790426822917,
          292.6517632113233,
          288.2775585290031,
          284.0940356750029,
          279.62781081018784,
          275.49241741684057,
          272.6263124230005,
          269.8910300212968,
          267.58799076046,
          265.1740655189445,
          262.39820881383747,
          259.27241556836805,
          256.3855699707112,
          253.0755277506585,
          249.23289606542454,
          245.23786672724495,
          241.89432104374532,
          238.59844541087529,
          235.28744945451416,
          232.36615690232793,
          229.66866379845177,
          227.86357759115904,
          225.76997925107318,
          224.29812893617887,
          222.40937864461006,
          220.4049802264908,
          218.24905576526928,
          215.6009775604345,
          214.20831255595786,
          212.86695607033136,
          212.0323667317883,
          212.72626549239658,
          212.96135693740425,
          213.6679230901891,
          213.40363249091584
         ],
         "yaxis": "y2"
        },
        {
         "line": {
          "color": "firebrick",
          "width": 1
         },
         "name": "MACD line",
         "type": "scatter",
         "x": [
          "2014-05-19T00:00:00",
          "2014-05-26T00:00:00",
          "2014-06-02T00:00:00",
          "2014-06-09T00:00:00",
          "2014-06-16T00:00:00",
          "2014-06-23T00:00:00",
          "2014-06-30T00:00:00",
          "2014-07-07T00:00:00",
          "2014-07-14T00:00:00",
          "2014-07-21T00:00:00",
          "2014-07-28T00:00:00",
          "2014-08-04T00:00:00",
          "2014-08-11T00:00:00",
          "2014-08-18T00:00:00",
          "2014-08-25T00:00:00",
          "2014-09-01T00:00:00",
          "2014-09-08T00:00:00",
          "2014-09-15T00:00:00",
          "2014-09-22T00:00:00",
          "2014-09-29T00:00:00",
          "2014-10-06T00:00:00",
          "2014-10-13T00:00:00",
          "2014-10-20T00:00:00",
          "2014-10-27T00:00:00",
          "2014-11-03T00:00:00",
          "2014-11-10T00:00:00",
          "2014-11-17T00:00:00",
          "2014-11-24T00:00:00",
          "2014-12-01T00:00:00",
          "2014-12-08T00:00:00",
          "2014-12-15T00:00:00",
          "2014-12-22T00:00:00",
          "2014-12-29T00:00:00",
          "2015-01-05T00:00:00",
          "2015-01-12T00:00:00",
          "2015-01-19T00:00:00",
          "2015-01-26T00:00:00",
          "2015-02-02T00:00:00",
          "2015-02-09T00:00:00",
          "2015-02-16T00:00:00",
          "2015-02-23T00:00:00",
          "2015-03-02T00:00:00",
          "2015-03-09T00:00:00",
          "2015-03-16T00:00:00",
          "2015-03-23T00:00:00",
          "2015-03-30T00:00:00",
          "2015-04-06T00:00:00",
          "2015-04-13T00:00:00",
          "2015-04-20T00:00:00",
          "2015-04-27T00:00:00",
          "2015-05-04T00:00:00",
          "2015-05-11T00:00:00",
          "2015-05-18T00:00:00",
          "2015-05-25T00:00:00",
          "2015-06-01T00:00:00",
          "2015-06-08T00:00:00",
          "2015-06-15T00:00:00",
          "2015-06-22T00:00:00",
          "2015-06-29T00:00:00",
          "2015-07-06T00:00:00",
          "2015-07-13T00:00:00",
          "2015-07-20T00:00:00",
          "2015-07-27T00:00:00",
          "2015-08-03T00:00:00",
          "2015-08-10T00:00:00",
          "2015-08-17T00:00:00",
          "2015-08-24T00:00:00",
          "2015-08-31T00:00:00",
          "2015-09-07T00:00:00",
          "2015-09-14T00:00:00",
          "2015-09-21T00:00:00",
          "2015-09-28T00:00:00",
          "2015-10-05T00:00:00",
          "2015-10-12T00:00:00",
          "2015-10-19T00:00:00",
          "2015-10-26T00:00:00",
          "2015-11-02T00:00:00",
          "2015-11-09T00:00:00",
          "2015-11-16T00:00:00",
          "2015-11-23T00:00:00",
          "2015-11-30T00:00:00",
          "2015-12-07T00:00:00",
          "2015-12-14T00:00:00",
          "2015-12-21T00:00:00",
          "2015-12-28T00:00:00",
          "2016-01-04T00:00:00",
          "2016-01-11T00:00:00",
          "2016-01-18T00:00:00",
          "2016-01-25T00:00:00",
          "2016-02-01T00:00:00",
          "2016-02-08T00:00:00",
          "2016-02-15T00:00:00",
          "2016-02-22T00:00:00",
          "2016-02-29T00:00:00",
          "2016-03-07T00:00:00",
          "2016-03-14T00:00:00",
          "2016-03-21T00:00:00",
          "2016-03-28T00:00:00",
          "2016-04-04T00:00:00",
          "2016-04-11T00:00:00",
          "2016-04-18T00:00:00",
          "2016-04-25T00:00:00",
          "2016-05-02T00:00:00",
          "2016-05-09T00:00:00",
          "2016-05-16T00:00:00",
          "2016-05-23T00:00:00",
          "2016-05-30T00:00:00",
          "2016-06-06T00:00:00",
          "2016-06-13T00:00:00",
          "2016-06-20T00:00:00",
          "2016-06-27T00:00:00",
          "2016-07-04T00:00:00",
          "2016-07-11T00:00:00",
          "2016-07-18T00:00:00",
          "2016-07-25T00:00:00",
          "2016-08-01T00:00:00",
          "2016-08-08T00:00:00",
          "2016-08-15T00:00:00",
          "2016-08-22T00:00:00",
          "2016-08-29T00:00:00",
          "2016-09-05T00:00:00",
          "2016-09-12T00:00:00",
          "2016-09-19T00:00:00",
          "2016-09-26T00:00:00",
          "2016-10-03T00:00:00",
          "2016-10-10T00:00:00",
          "2016-10-17T00:00:00",
          "2016-10-24T00:00:00",
          "2016-10-31T00:00:00",
          "2016-11-07T00:00:00",
          "2016-11-14T00:00:00",
          "2016-11-21T00:00:00",
          "2016-11-28T00:00:00",
          "2016-12-05T00:00:00",
          "2016-12-12T00:00:00",
          "2016-12-19T00:00:00",
          "2016-12-26T00:00:00",
          "2017-01-02T00:00:00",
          "2017-01-09T00:00:00",
          "2017-01-16T00:00:00",
          "2017-01-23T00:00:00",
          "2017-01-30T00:00:00",
          "2017-02-06T00:00:00",
          "2017-02-13T00:00:00",
          "2017-02-20T00:00:00",
          "2017-02-27T00:00:00",
          "2017-03-06T00:00:00",
          "2017-03-13T00:00:00",
          "2017-03-20T00:00:00",
          "2017-03-27T00:00:00",
          "2017-04-03T00:00:00",
          "2017-04-10T00:00:00",
          "2017-04-17T00:00:00",
          "2017-04-24T00:00:00",
          "2017-05-01T00:00:00",
          "2017-05-08T00:00:00",
          "2017-05-15T00:00:00",
          "2017-05-22T00:00:00",
          "2017-05-29T00:00:00",
          "2017-06-05T00:00:00",
          "2017-06-12T00:00:00",
          "2017-06-19T00:00:00",
          "2017-06-26T00:00:00",
          "2017-07-03T00:00:00",
          "2017-07-10T00:00:00",
          "2017-07-17T00:00:00",
          "2017-07-24T00:00:00",
          "2017-07-31T00:00:00",
          "2017-08-07T00:00:00",
          "2017-08-14T00:00:00",
          "2017-08-21T00:00:00",
          "2017-08-28T00:00:00",
          "2017-09-04T00:00:00",
          "2017-09-11T00:00:00",
          "2017-09-18T00:00:00",
          "2017-09-25T00:00:00",
          "2017-10-02T00:00:00",
          "2017-10-09T00:00:00",
          "2017-10-16T00:00:00",
          "2017-10-23T00:00:00",
          "2017-10-30T00:00:00",
          "2017-11-06T00:00:00",
          "2017-11-13T00:00:00",
          "2017-11-20T00:00:00",
          "2017-11-27T00:00:00",
          "2017-12-04T00:00:00",
          "2017-12-11T00:00:00",
          "2017-12-18T00:00:00",
          "2017-12-25T00:00:00",
          "2018-01-01T00:00:00",
          "2018-01-08T00:00:00",
          "2018-01-15T00:00:00",
          "2018-01-22T00:00:00",
          "2018-01-29T00:00:00",
          "2018-02-05T00:00:00",
          "2018-02-12T00:00:00",
          "2018-02-19T00:00:00",
          "2018-02-26T00:00:00",
          "2018-03-05T00:00:00",
          "2018-03-12T00:00:00",
          "2018-03-19T00:00:00",
          "2018-03-26T00:00:00",
          "2018-04-02T00:00:00",
          "2018-04-09T00:00:00",
          "2018-04-16T00:00:00",
          "2018-04-23T00:00:00",
          "2018-04-30T00:00:00",
          "2018-05-07T00:00:00",
          "2018-05-14T00:00:00",
          "2018-05-21T00:00:00",
          "2018-05-28T00:00:00",
          "2018-06-04T00:00:00",
          "2018-06-11T00:00:00",
          "2018-06-18T00:00:00",
          "2018-06-25T00:00:00",
          "2018-07-02T00:00:00",
          "2018-07-09T00:00:00",
          "2018-07-16T00:00:00",
          "2018-07-23T00:00:00",
          "2018-07-30T00:00:00",
          "2018-08-06T00:00:00",
          "2018-08-13T00:00:00",
          "2018-08-20T00:00:00",
          "2018-08-27T00:00:00",
          "2018-09-03T00:00:00",
          "2018-09-10T00:00:00",
          "2018-09-17T00:00:00",
          "2018-09-24T00:00:00",
          "2018-10-01T00:00:00",
          "2018-10-08T00:00:00",
          "2018-10-15T00:00:00",
          "2018-10-22T00:00:00",
          "2018-10-29T00:00:00",
          "2018-11-05T00:00:00",
          "2018-11-12T00:00:00",
          "2018-11-19T00:00:00",
          "2018-11-26T00:00:00",
          "2018-12-03T00:00:00",
          "2018-12-10T00:00:00",
          "2018-12-17T00:00:00",
          "2018-12-24T00:00:00",
          "2018-12-31T00:00:00",
          "2019-01-07T00:00:00",
          "2019-01-14T00:00:00",
          "2019-01-21T00:00:00",
          "2019-01-28T00:00:00",
          "2019-02-04T00:00:00",
          "2019-02-11T00:00:00",
          "2019-02-18T00:00:00",
          "2019-02-25T00:00:00",
          "2019-03-04T00:00:00",
          "2019-03-11T00:00:00",
          "2019-03-18T00:00:00",
          "2019-03-25T00:00:00",
          "2019-04-01T00:00:00",
          "2019-04-08T00:00:00",
          "2019-04-15T00:00:00",
          "2019-04-22T00:00:00",
          "2019-04-29T00:00:00",
          "2019-05-06T00:00:00",
          "2019-05-13T00:00:00",
          "2019-05-20T00:00:00",
          "2019-05-27T00:00:00",
          "2019-06-03T00:00:00",
          "2019-06-10T00:00:00",
          "2019-06-17T00:00:00",
          "2019-06-24T00:00:00",
          "2019-07-01T00:00:00",
          "2019-07-08T00:00:00",
          "2019-07-15T00:00:00",
          "2019-07-22T00:00:00",
          "2019-07-29T00:00:00",
          "2019-08-05T00:00:00",
          "2019-08-12T00:00:00",
          "2019-08-19T00:00:00",
          "2019-08-26T00:00:00",
          "2019-09-02T00:00:00",
          "2019-09-09T00:00:00",
          "2019-09-16T00:00:00",
          "2019-09-23T00:00:00",
          "2019-09-30T00:00:00"
         ],
         "xaxis": "x",
         "y": [
          -3.4264729203932234,
          -5.8219020246631885,
          -9.227757852513832,
          -12.0542516452457,
          -14.61000317350863,
          -16.453854049799986,
          -17.32007506057181,
          -18.31987699139796,
          -18.128612099693157,
          -18.131141177705672,
          -18.66838029947951,
          -19.554611744749877,
          -19.284227700505824,
          -19.267439885778913,
          -20.32702276728031,
          -20.789920776806696,
          -21.306551174278297,
          -21.691870703074812,
          -24.474763545259293,
          -28.187004221668644,
          -30.6625545610587,
          -30.976304205184135,
          -31.39560886419764,
          -30.78400301169603,
          -28.669679303762337,
          -26.00837521003922,
          -24.456545789486483,
          -25.060023641879752,
          -24.85636641920354,
          -25.27508094366857,
          -24.33390194211077,
          -22.928318371749413,
          -21.6694900089677,
          -20.563918043723163,
          -18.26680134111018,
          -15.373427271073155,
          -13.928493999436483,
          -11.488976547305867,
          -9.686061431849623,
          -7.780232649861432,
          -6.17446670784949,
          -4.471094910457225,
          -4.481603104403916,
          -3.4017265828020413,
          -3.2827153298910616,
          -3.3195844014863383,
          -1.954515048445728,
          -1.0382411673062393,
          -0.8749127286094449,
          -0.44979884953238525,
          0.39095759532324337,
          0.07997238721497979,
          -0.5315399255446209,
          -1.7783767526292422,
          -3.0859739618536537,
          -2.910604550712094,
          -2.6522882935417442,
          -1.350732385006097,
          -1.3526389252131708,
          -1.6976923236636026,
          -1.3264641620658608,
          -1.3475650136680315,
          -1.1572871622034313,
          -0.7716587923983411,
          -1.4818170919254499,
          -3.2418349380857308,
          -4.336528863845615,
          -5.567567935437069,
          -6.7876974879895045,
          -8.073124374029248,
          -9.123836328914763,
          -7.2345213496494125,
          -4.363582020029554,
          -2.926081610554945,
          -1.4234692485955804,
          -0.4533488026320356,
          0.9660144960873254,
          -0.6053221159825171,
          -0.8243998363679452,
          -0.7951940636058907,
          -1.6487200927683148,
          -3.0963690319380817,
          -2.58388465058178,
          -1.2594722760082675,
          -0.8137420990516944,
          -1.8033980333557906,
          -2.39867378777231,
          -3.659375033679595,
          -3.6880227330807145,
          -3.20576070004077,
          -3.716743315749767,
          -2.3356984327211876,
          -1.8891738271264842,
          -0.36908561673601525,
          1.3126824753560413,
          2.6073704965067463,
          3.783466575795728,
          4.741565024517286,
          6.387464777509763,
          7.317016267432564,
          8.560203146803076,
          9.157455509309216,
          7.73413521771937,
          5.629435442625095,
          4.347070257663745,
          3.9868460214955803,
          1.8164498704066432,
          -0.25570038894119307,
          -2.6899411859921543,
          -4.91745245221739,
          -5.896642732567955,
          -7.569835770078356,
          -8.371684038554264,
          -9.231574459285468,
          -9.863892316447703,
          -9.800165369022665,
          -9.024309038487132,
          -7.954628904438067,
          -7.07377262956274,
          -5.936078709024372,
          -5.3839130594968765,
          -4.945789965884188,
          -3.461268568143396,
          -2.9048911930684937,
          -3.536733520937787,
          -3.919667156494228,
          -3.5368411768704107,
          -2.1515861651780313,
          -0.9779352453030299,
          -1.6107963736596105,
          -1.7931143930426003,
          -2.146860825402001,
          -2.9579514966191596,
          -2.1238151108591694,
          -1.206770191977597,
          -0.5782390425179358,
          -0.03134724117467158,
          0.6128710902614785,
          2.1157444714121993,
          3.117531371499922,
          3.2127486707538253,
          4.072389020075235,
          4.683533008631031,
          5.412109831475249,
          5.6978938398976595,
          5.521822691625772,
          5.7198088553258515,
          6.072991076397699,
          6.0331994709537184,
          5.749793518301601,
          5.262796905616256,
          4.550046888206225,
          4.546039929970959,
          5.2409514022370445,
          4.896042140881605,
          4.554064319125871,
          4.992069566250223,
          5.868659779054269,
          5.962071942600971,
          5.161616265122177,
          3.4625513751872177,
          2.179665192187599,
          1.0141029098695071,
          -0.33343566356910515,
          -1.441240122376314,
          -2.189049996115557,
          -2.7739261080637903,
          -2.737872621891455,
          -3.547940430481333,
          -4.501150930881039,
          -5.276445186967635,
          -5.823739032198233,
          -6.28188960572993,
          -6.345889176380325,
          -6.674710615763075,
          -6.48931760541322,
          -5.9430488069292835,
          -5.471265004049513,
          -4.560650742487866,
          -4.1701620675607955,
          -4.446899862788172,
          -4.844379333547096,
          -5.467539838175355,
          -5.909417272420541,
          -5.741550108112136,
          -4.611266146239615,
          -4.3592058781486855,
          -3.9604782506911533,
          -3.331726083871814,
          -2.833054430849586,
          -1.476738412888011,
          0.025523292499428862,
          1.4495115426747702,
          1.5913882453172903,
          1.3493669924552307,
          1.6230042787603907,
          2.18584825773155,
          2.40248273404535,
          1.7471110817664623,
          0.6633058148041755,
          -0.8794282925287007,
          -1.1766766296979938,
          -0.8217951089081623,
          0.25535474480363973,
          1.7345421829561474,
          3.3443381281416293,
          7.080282664932099,
          10.341432570794325,
          12.698841385121796,
          15.39027175093247,
          17.140078769719423,
          17.454143200168232,
          17.948021107782893,
          18.696808401694284,
          19.365552766990163,
          20.0437364974415,
          20.62586065665613,
          20.583640432033405,
          20.331944923488095,
          20.11842912706669,
          20.104780806485053,
          19.92879103045692,
          19.70738831669746,
          18.33611965700902,
          16.630013218141926,
          15.287280102583452,
          13.502662646204726,
          12.556849395239055,
          11.1382566841379,
          9.094193942572758,
          7.317287875049317,
          5.897577561462015,
          5.826891958948181,
          5.968356037218598,
          4.678980531165848,
          4.014324729772227,
          3.0250436918738046,
          1.8166321243821812,
          -1.105247390027273,
          -3.820620258695385,
          -6.311346919233642,
          -8.581729950490285,
          -9.002323721982123,
          -9.061736805379041,
          -8.622111878634428,
          -7.844375974448326,
          -6.7467837307190734,
          -6.264661218045546,
          -10.011549150075723,
          -12.976643123602798,
          -15.790017112849284,
          -17.814284288323336,
          -18.160199775793615,
          -18.312011627506337,
          -17.974975196483456,
          -17.80920619557969,
          -18.058712463298036,
          -18.646687887142377,
          -18.886877317366384,
          -19.545864736289815,
          -20.677027360958732,
          -21.79828551577387,
          -22.04544463403903,
          -22.203242294969954,
          -22.35304681797888,
          -22.06012390218268,
          -21.571251259867324,
          -20.19653621235682,
          -19.344021161317443,
          -17.953087475616314,
          -17.225112793364815,
          -16.733678352360215,
          -16.481031102543398,
          -16.797264384281846,
          -15.712862945367164,
          -14.740037169062305,
          -13.371127661483712,
          -10.566755509831154,
          -8.68792541369504,
          -6.590404108589013,
          -5.861116429561918
         ],
         "yaxis": "y"
        },
        {
         "line": {
          "color": "royalblue",
          "width": 1
         },
         "name": "Signal line",
         "type": "scatter",
         "x": [
          "2014-05-19T00:00:00",
          "2014-05-26T00:00:00",
          "2014-06-02T00:00:00",
          "2014-06-09T00:00:00",
          "2014-06-16T00:00:00",
          "2014-06-23T00:00:00",
          "2014-06-30T00:00:00",
          "2014-07-07T00:00:00",
          "2014-07-14T00:00:00",
          "2014-07-21T00:00:00",
          "2014-07-28T00:00:00",
          "2014-08-04T00:00:00",
          "2014-08-11T00:00:00",
          "2014-08-18T00:00:00",
          "2014-08-25T00:00:00",
          "2014-09-01T00:00:00",
          "2014-09-08T00:00:00",
          "2014-09-15T00:00:00",
          "2014-09-22T00:00:00",
          "2014-09-29T00:00:00",
          "2014-10-06T00:00:00",
          "2014-10-13T00:00:00",
          "2014-10-20T00:00:00",
          "2014-10-27T00:00:00",
          "2014-11-03T00:00:00",
          "2014-11-10T00:00:00",
          "2014-11-17T00:00:00",
          "2014-11-24T00:00:00",
          "2014-12-01T00:00:00",
          "2014-12-08T00:00:00",
          "2014-12-15T00:00:00",
          "2014-12-22T00:00:00",
          "2014-12-29T00:00:00",
          "2015-01-05T00:00:00",
          "2015-01-12T00:00:00",
          "2015-01-19T00:00:00",
          "2015-01-26T00:00:00",
          "2015-02-02T00:00:00",
          "2015-02-09T00:00:00",
          "2015-02-16T00:00:00",
          "2015-02-23T00:00:00",
          "2015-03-02T00:00:00",
          "2015-03-09T00:00:00",
          "2015-03-16T00:00:00",
          "2015-03-23T00:00:00",
          "2015-03-30T00:00:00",
          "2015-04-06T00:00:00",
          "2015-04-13T00:00:00",
          "2015-04-20T00:00:00",
          "2015-04-27T00:00:00",
          "2015-05-04T00:00:00",
          "2015-05-11T00:00:00",
          "2015-05-18T00:00:00",
          "2015-05-25T00:00:00",
          "2015-06-01T00:00:00",
          "2015-06-08T00:00:00",
          "2015-06-15T00:00:00",
          "2015-06-22T00:00:00",
          "2015-06-29T00:00:00",
          "2015-07-06T00:00:00",
          "2015-07-13T00:00:00",
          "2015-07-20T00:00:00",
          "2015-07-27T00:00:00",
          "2015-08-03T00:00:00",
          "2015-08-10T00:00:00",
          "2015-08-17T00:00:00",
          "2015-08-24T00:00:00",
          "2015-08-31T00:00:00",
          "2015-09-07T00:00:00",
          "2015-09-14T00:00:00",
          "2015-09-21T00:00:00",
          "2015-09-28T00:00:00",
          "2015-10-05T00:00:00",
          "2015-10-12T00:00:00",
          "2015-10-19T00:00:00",
          "2015-10-26T00:00:00",
          "2015-11-02T00:00:00",
          "2015-11-09T00:00:00",
          "2015-11-16T00:00:00",
          "2015-11-23T00:00:00",
          "2015-11-30T00:00:00",
          "2015-12-07T00:00:00",
          "2015-12-14T00:00:00",
          "2015-12-21T00:00:00",
          "2015-12-28T00:00:00",
          "2016-01-04T00:00:00",
          "2016-01-11T00:00:00",
          "2016-01-18T00:00:00",
          "2016-01-25T00:00:00",
          "2016-02-01T00:00:00",
          "2016-02-08T00:00:00",
          "2016-02-15T00:00:00",
          "2016-02-22T00:00:00",
          "2016-02-29T00:00:00",
          "2016-03-07T00:00:00",
          "2016-03-14T00:00:00",
          "2016-03-21T00:00:00",
          "2016-03-28T00:00:00",
          "2016-04-04T00:00:00",
          "2016-04-11T00:00:00",
          "2016-04-18T00:00:00",
          "2016-04-25T00:00:00",
          "2016-05-02T00:00:00",
          "2016-05-09T00:00:00",
          "2016-05-16T00:00:00",
          "2016-05-23T00:00:00",
          "2016-05-30T00:00:00",
          "2016-06-06T00:00:00",
          "2016-06-13T00:00:00",
          "2016-06-20T00:00:00",
          "2016-06-27T00:00:00",
          "2016-07-04T00:00:00",
          "2016-07-11T00:00:00",
          "2016-07-18T00:00:00",
          "2016-07-25T00:00:00",
          "2016-08-01T00:00:00",
          "2016-08-08T00:00:00",
          "2016-08-15T00:00:00",
          "2016-08-22T00:00:00",
          "2016-08-29T00:00:00",
          "2016-09-05T00:00:00",
          "2016-09-12T00:00:00",
          "2016-09-19T00:00:00",
          "2016-09-26T00:00:00",
          "2016-10-03T00:00:00",
          "2016-10-10T00:00:00",
          "2016-10-17T00:00:00",
          "2016-10-24T00:00:00",
          "2016-10-31T00:00:00",
          "2016-11-07T00:00:00",
          "2016-11-14T00:00:00",
          "2016-11-21T00:00:00",
          "2016-11-28T00:00:00",
          "2016-12-05T00:00:00",
          "2016-12-12T00:00:00",
          "2016-12-19T00:00:00",
          "2016-12-26T00:00:00",
          "2017-01-02T00:00:00",
          "2017-01-09T00:00:00",
          "2017-01-16T00:00:00",
          "2017-01-23T00:00:00",
          "2017-01-30T00:00:00",
          "2017-02-06T00:00:00",
          "2017-02-13T00:00:00",
          "2017-02-20T00:00:00",
          "2017-02-27T00:00:00",
          "2017-03-06T00:00:00",
          "2017-03-13T00:00:00",
          "2017-03-20T00:00:00",
          "2017-03-27T00:00:00",
          "2017-04-03T00:00:00",
          "2017-04-10T00:00:00",
          "2017-04-17T00:00:00",
          "2017-04-24T00:00:00",
          "2017-05-01T00:00:00",
          "2017-05-08T00:00:00",
          "2017-05-15T00:00:00",
          "2017-05-22T00:00:00",
          "2017-05-29T00:00:00",
          "2017-06-05T00:00:00",
          "2017-06-12T00:00:00",
          "2017-06-19T00:00:00",
          "2017-06-26T00:00:00",
          "2017-07-03T00:00:00",
          "2017-07-10T00:00:00",
          "2017-07-17T00:00:00",
          "2017-07-24T00:00:00",
          "2017-07-31T00:00:00",
          "2017-08-07T00:00:00",
          "2017-08-14T00:00:00",
          "2017-08-21T00:00:00",
          "2017-08-28T00:00:00",
          "2017-09-04T00:00:00",
          "2017-09-11T00:00:00",
          "2017-09-18T00:00:00",
          "2017-09-25T00:00:00",
          "2017-10-02T00:00:00",
          "2017-10-09T00:00:00",
          "2017-10-16T00:00:00",
          "2017-10-23T00:00:00",
          "2017-10-30T00:00:00",
          "2017-11-06T00:00:00",
          "2017-11-13T00:00:00",
          "2017-11-20T00:00:00",
          "2017-11-27T00:00:00",
          "2017-12-04T00:00:00",
          "2017-12-11T00:00:00",
          "2017-12-18T00:00:00",
          "2017-12-25T00:00:00",
          "2018-01-01T00:00:00",
          "2018-01-08T00:00:00",
          "2018-01-15T00:00:00",
          "2018-01-22T00:00:00",
          "2018-01-29T00:00:00",
          "2018-02-05T00:00:00",
          "2018-02-12T00:00:00",
          "2018-02-19T00:00:00",
          "2018-02-26T00:00:00",
          "2018-03-05T00:00:00",
          "2018-03-12T00:00:00",
          "2018-03-19T00:00:00",
          "2018-03-26T00:00:00",
          "2018-04-02T00:00:00",
          "2018-04-09T00:00:00",
          "2018-04-16T00:00:00",
          "2018-04-23T00:00:00",
          "2018-04-30T00:00:00",
          "2018-05-07T00:00:00",
          "2018-05-14T00:00:00",
          "2018-05-21T00:00:00",
          "2018-05-28T00:00:00",
          "2018-06-04T00:00:00",
          "2018-06-11T00:00:00",
          "2018-06-18T00:00:00",
          "2018-06-25T00:00:00",
          "2018-07-02T00:00:00",
          "2018-07-09T00:00:00",
          "2018-07-16T00:00:00",
          "2018-07-23T00:00:00",
          "2018-07-30T00:00:00",
          "2018-08-06T00:00:00",
          "2018-08-13T00:00:00",
          "2018-08-20T00:00:00",
          "2018-08-27T00:00:00",
          "2018-09-03T00:00:00",
          "2018-09-10T00:00:00",
          "2018-09-17T00:00:00",
          "2018-09-24T00:00:00",
          "2018-10-01T00:00:00",
          "2018-10-08T00:00:00",
          "2018-10-15T00:00:00",
          "2018-10-22T00:00:00",
          "2018-10-29T00:00:00",
          "2018-11-05T00:00:00",
          "2018-11-12T00:00:00",
          "2018-11-19T00:00:00",
          "2018-11-26T00:00:00",
          "2018-12-03T00:00:00",
          "2018-12-10T00:00:00",
          "2018-12-17T00:00:00",
          "2018-12-24T00:00:00",
          "2018-12-31T00:00:00",
          "2019-01-07T00:00:00",
          "2019-01-14T00:00:00",
          "2019-01-21T00:00:00",
          "2019-01-28T00:00:00",
          "2019-02-04T00:00:00",
          "2019-02-11T00:00:00",
          "2019-02-18T00:00:00",
          "2019-02-25T00:00:00",
          "2019-03-04T00:00:00",
          "2019-03-11T00:00:00",
          "2019-03-18T00:00:00",
          "2019-03-25T00:00:00",
          "2019-04-01T00:00:00",
          "2019-04-08T00:00:00",
          "2019-04-15T00:00:00",
          "2019-04-22T00:00:00",
          "2019-04-29T00:00:00",
          "2019-05-06T00:00:00",
          "2019-05-13T00:00:00",
          "2019-05-20T00:00:00",
          "2019-05-27T00:00:00",
          "2019-06-03T00:00:00",
          "2019-06-10T00:00:00",
          "2019-06-17T00:00:00",
          "2019-06-24T00:00:00",
          "2019-07-01T00:00:00",
          "2019-07-08T00:00:00",
          "2019-07-15T00:00:00",
          "2019-07-22T00:00:00",
          "2019-07-29T00:00:00",
          "2019-08-05T00:00:00",
          "2019-08-12T00:00:00",
          "2019-08-19T00:00:00",
          "2019-08-26T00:00:00",
          "2019-09-02T00:00:00",
          "2019-09-09T00:00:00",
          "2019-09-16T00:00:00",
          "2019-09-23T00:00:00",
          "2019-09-30T00:00:00"
         ],
         "xaxis": "x",
         "y": [
          2.9231516172244465,
          1.1741408888469194,
          -0.9062388594252309,
          -3.135841416589325,
          -5.430673767973186,
          -7.635309824338546,
          -9.572262871585199,
          -11.321785695547751,
          -12.683150976376833,
          -13.772749016642601,
          -14.751875273209983,
          -15.712422567517962,
          -16.426783594115534,
          -16.99491485244821,
          -17.661336435414633,
          -18.287053303693046,
          -18.890952877810097,
          -19.45113644286304,
          -20.45586186334229,
          -22.00209033500756,
          -23.734183180217787,
          -25.182607385211057,
          -26.425207681008374,
          -27.296966747145905,
          -27.57150925846919,
          -27.258882448783197,
          -26.698415116923854,
          -26.370736821915035,
          -26.067862741372736,
          -25.909306381831904,
          -25.594225493887677,
          -25.061044069460024,
          -24.382733257361558,
          -23.61897021463388,
          -22.54853643992914,
          -21.113514606157942,
          -19.67651048481365,
          -18.039003697312094,
          -16.368415244219598,
          -14.650778725347966,
          -12.95551632184827,
          -11.258632039570061,
          -9.903226252536832,
          -8.602926318589875,
          -7.538884120850112,
          -6.695024176977357,
          -5.7469223512710315,
          -4.805186114478073,
          -4.019131437304347,
          -3.3052649197499546,
          -2.566020416735315,
          -2.036821855945256,
          -1.7357654698651293,
          -1.744287726417952,
          -2.0126249735050923,
          -2.1922208889464927,
          -2.284234369865543,
          -2.097533972893654,
          -1.9485549633575574,
          -1.8983824354187664,
          -1.7839987807481852,
          -1.6967120273321545,
          -1.5888270543064098,
          -1.425393401924796,
          -1.4366781399249269,
          -1.7977094995570877,
          -2.3054733724147933,
          -2.9578922850192484,
          -3.7238533256132995,
          -4.593707535296489,
          -5.499733294020144,
          -5.846690905145998,
          -5.5500691281227095,
          -5.025271624609156,
          -4.304911149406442,
          -3.5345986800515603,
          -2.634476044823783,
          -2.22864525905553,
          -1.9477961745180132,
          -1.7172757523355888,
          -1.703564620422134,
          -1.9821255027253235,
          -2.1024773322966146,
          -1.9338763210389451,
          -1.709849476641495,
          -1.728559187984354,
          -1.8625821079419453,
          -2.221940693089475,
          -2.515157101087723,
          -2.6532778208783325,
          -2.8659709198526193,
          -2.759916422426333,
          -2.585767903366363,
          -2.142431446040294,
          -1.4514086617610267,
          -0.639652830107472,
          0.2449710510731682,
          1.1442898457619917,
          2.192924832111546,
          3.2177431191757497,
          4.286235124701215,
          5.2604792016228155,
          5.755210404842126,
          5.73005541239872,
          5.453458381451725,
          5.160135909460496,
          4.491398701649725,
          3.5419788835315416,
          2.295594869626802,
          0.8529854052579635,
          -0.4969402223072201,
          -1.9115193318614474,
          -3.203552273200011,
          -4.409156710417102,
          -5.500103831623223,
          -6.360116139103111,
          -6.892954718979915,
          -7.105289556071545,
          -7.098986170769784,
          -6.866404678420702,
          -6.569906354635937,
          -6.245083076885587,
          -5.688320175137148,
          -5.131634378723417,
          -4.812654207166291,
          -4.634056797031879,
          -4.414613672999585,
          -3.9620081714352744,
          -3.3651935862088256,
          -3.0143141436989827,
          -2.770074193567706,
          -2.645431519934565,
          -2.707935515271484,
          -2.5911114343890214,
          -2.3142431859067365,
          -1.9670423572289764,
          -1.5799033340181154,
          -1.1413484491621966,
          -0.4899298650473174,
          0.23156238226213055,
          0.8277996399604695,
          1.4767175159834227,
          2.1180806145129445,
          2.7768864579054053,
          3.361087934303856,
          3.793234885768239,
          4.178549679679762,
          4.557437959023349,
          4.852590261409423,
          5.032030912787858,
          5.078184111353538,
          4.972556666724076,
          4.887253319373452,
          4.957992935946171,
          4.945602776933258,
          4.867295085371781,
          4.89224998154747,
          5.087531941048829,
          5.262439941359258,
          5.242275206111842,
          4.886330439926917,
          4.344997390379054,
          3.6788184942771442,
          2.8763676627078945,
          2.012846105691053,
          1.1724668853297309,
          0.38318828665102656,
          -0.2410238950574698,
          -0.9024072021422425,
          -1.6221559478900018,
          -2.3530137957055284,
          -3.0471588430040693,
          -3.6941049955492415,
          -4.224461831715458,
          -4.7145115885249815,
          -5.069472791902629,
          -5.24418799490796,
          -5.28960339673627,
          -5.14381286588659,
          -4.94908270622143,
          -4.848646137534779,
          -4.847792776737242,
          -4.971742189024864,
          -5.159277205703999,
          -5.275731786185626,
          -5.142838658196424,
          -4.986112102186876,
          -4.780985331887732,
          -4.491133482284548,
          -4.1595176719975555,
          -3.6229618201756466,
          -2.8932647976406316,
          -2.0247095295775512,
          -1.3014899745985828,
          -0.7713185811878202,
          -0.292454009198178,
          0.20320644418776762,
          0.6430617021592842,
          0.8638715780807198,
          0.8237584254254109,
          0.4831210818345886,
          0.1511615395280721,
          -0.04342979015917481,
          0.016327116833388104,
          0.35997013005794,
          0.9568437296746779,
          2.181531516726162,
          3.8135117275397947,
          5.590577659056195,
          7.550516477431451,
          9.468428935889046,
          11.065571788744883,
          12.442061652552486,
          13.693011002380846,
          14.827519355302709,
          15.870762783730466,
          16.8217823583156,
          17.57415397305916,
          18.125712163144946,
          18.524255555929294,
          18.840360606040445,
          19.05804669092374,
          19.187915016078485,
          19.017555944264593,
          18.54004739904006,
          17.88949393974874,
          17.012127681039935,
          16.12107202387976,
          15.124508955931386,
          13.91844595325966,
          12.598214337617591,
          11.258086982386477,
          10.171847977698818,
          9.331149589602774,
          8.400715777915389,
          7.523437568286757,
          6.623758793004166,
          5.662333459279769,
          4.308817289418361,
          2.6829297797956118,
          0.8840744399897611,
          -1.009086438106248,
          -2.607733894881423,
          -3.898534476980947,
          -4.843249957311643,
          -5.44347516073898,
          -5.704136874734998,
          -5.816241743397108,
          -6.655303224732831,
          -7.919571204506825,
          -9.493660386175318,
          -11.15778516660492,
          -12.55826808844266,
          -13.709016796255394,
          -14.562208476301006,
          -15.211608020156742,
          -15.781028908785,
          -16.354160704456476,
          -16.86070402703846,
          -17.39773616888873,
          -18.053594407302732,
          -18.80253262899696,
          -19.451115030005376,
          -20.00154048299829,
          -20.471841749994407,
          -20.789498180432062,
          -20.945848796319115,
          -20.795986279526655,
          -20.50559325588481,
          -19.995092099831112,
          -19.441096238537853,
          -18.899612661302324,
          -18.41589634955054,
          -18.0921699564968,
          -17.616308554270873,
          -17.041054277229158,
          -16.30706895408007,
          -15.159006265230285,
          -13.864790094923237,
          -12.409912897656392,
          -11.100153604037498
         ],
         "yaxis": "y"
        },
        {
         "marker": {
          "color": "green"
         },
         "opacity": 1,
         "type": "bar",
         "x": [
          "2014-11-10T00:00:00",
          "2014-11-17T00:00:00",
          "2014-11-24T00:00:00",
          "2014-12-01T00:00:00",
          "2014-12-08T00:00:00",
          "2014-12-15T00:00:00",
          "2014-12-22T00:00:00",
          "2014-12-29T00:00:00",
          "2015-01-05T00:00:00",
          "2015-01-12T00:00:00",
          "2015-01-19T00:00:00",
          "2015-01-26T00:00:00",
          "2015-02-02T00:00:00",
          "2015-02-09T00:00:00",
          "2015-02-16T00:00:00",
          "2015-02-23T00:00:00",
          "2015-03-02T00:00:00",
          "2015-03-09T00:00:00",
          "2015-03-16T00:00:00",
          "2015-03-23T00:00:00",
          "2015-03-30T00:00:00",
          "2015-04-06T00:00:00",
          "2015-04-13T00:00:00",
          "2015-04-20T00:00:00",
          "2015-04-27T00:00:00",
          "2015-05-04T00:00:00",
          "2015-05-11T00:00:00",
          "2015-05-18T00:00:00",
          "2015-06-22T00:00:00",
          "2015-06-29T00:00:00",
          "2015-07-06T00:00:00",
          "2015-07-13T00:00:00",
          "2015-07-20T00:00:00",
          "2015-07-27T00:00:00",
          "2015-08-03T00:00:00",
          "2015-10-05T00:00:00",
          "2015-10-12T00:00:00",
          "2015-10-19T00:00:00",
          "2015-10-26T00:00:00",
          "2015-11-02T00:00:00",
          "2015-11-09T00:00:00",
          "2015-11-16T00:00:00",
          "2015-11-23T00:00:00",
          "2015-11-30T00:00:00",
          "2015-12-21T00:00:00",
          "2015-12-28T00:00:00",
          "2016-02-15T00:00:00",
          "2016-02-22T00:00:00",
          "2016-02-29T00:00:00",
          "2016-03-07T00:00:00",
          "2016-03-14T00:00:00",
          "2016-03-21T00:00:00",
          "2016-03-28T00:00:00",
          "2016-04-04T00:00:00",
          "2016-04-11T00:00:00",
          "2016-04-18T00:00:00",
          "2016-04-25T00:00:00",
          "2016-05-02T00:00:00",
          "2016-08-22T00:00:00",
          "2016-08-29T00:00:00",
          "2016-09-05T00:00:00",
          "2016-09-12T00:00:00",
          "2016-09-19T00:00:00",
          "2016-09-26T00:00:00",
          "2016-10-03T00:00:00",
          "2016-10-10T00:00:00",
          "2016-10-17T00:00:00",
          "2016-10-24T00:00:00",
          "2016-10-31T00:00:00",
          "2016-11-07T00:00:00",
          "2016-11-14T00:00:00",
          "2016-11-21T00:00:00",
          "2016-12-05T00:00:00",
          "2016-12-12T00:00:00",
          "2016-12-19T00:00:00",
          "2016-12-26T00:00:00",
          "2017-01-02T00:00:00",
          "2017-01-09T00:00:00",
          "2017-01-16T00:00:00",
          "2017-01-23T00:00:00",
          "2017-01-30T00:00:00",
          "2017-02-06T00:00:00",
          "2017-02-13T00:00:00",
          "2017-02-20T00:00:00",
          "2017-02-27T00:00:00",
          "2017-03-06T00:00:00",
          "2017-03-13T00:00:00",
          "2017-03-20T00:00:00",
          "2017-03-27T00:00:00",
          "2017-04-03T00:00:00",
          "2017-04-24T00:00:00",
          "2017-05-15T00:00:00",
          "2017-05-22T00:00:00",
          "2017-05-29T00:00:00",
          "2017-10-16T00:00:00",
          "2017-10-23T00:00:00",
          "2017-10-30T00:00:00",
          "2017-11-06T00:00:00",
          "2017-12-04T00:00:00",
          "2017-12-11T00:00:00",
          "2017-12-18T00:00:00",
          "2017-12-25T00:00:00",
          "2018-01-01T00:00:00",
          "2018-01-08T00:00:00",
          "2018-01-15T00:00:00",
          "2018-01-22T00:00:00",
          "2018-01-29T00:00:00",
          "2018-02-05T00:00:00",
          "2018-02-12T00:00:00",
          "2018-02-19T00:00:00",
          "2018-02-26T00:00:00",
          "2018-03-05T00:00:00",
          "2018-04-09T00:00:00",
          "2018-04-16T00:00:00",
          "2018-04-23T00:00:00",
          "2018-04-30T00:00:00",
          "2018-05-07T00:00:00",
          "2018-05-14T00:00:00",
          "2018-05-21T00:00:00",
          "2018-05-28T00:00:00",
          "2018-06-04T00:00:00",
          "2018-06-11T00:00:00",
          "2018-06-18T00:00:00",
          "2018-06-25T00:00:00",
          "2018-07-02T00:00:00",
          "2018-07-09T00:00:00",
          "2018-07-16T00:00:00",
          "2018-07-23T00:00:00",
          "2018-07-30T00:00:00",
          "2018-08-06T00:00:00",
          "2018-08-13T00:00:00",
          "2018-08-20T00:00:00",
          "2019-07-01T00:00:00",
          "2019-07-08T00:00:00",
          "2019-07-15T00:00:00",
          "2019-07-22T00:00:00",
          "2019-07-29T00:00:00",
          "2019-08-05T00:00:00",
          "2019-08-12T00:00:00",
          "2019-08-19T00:00:00",
          "2019-08-26T00:00:00",
          "2019-09-02T00:00:00",
          "2019-09-09T00:00:00",
          "2019-09-16T00:00:00",
          "2019-09-23T00:00:00",
          "2019-09-30T00:00:00"
         ],
         "xaxis": "x",
         "y": [
          1.2505072387439782,
          2.241869327437371,
          1.3107131800352825,
          1.2114963221691966,
          0.6342254381633339,
          1.2603235517769065,
          2.1327256977106117,
          2.7132432483938587,
          3.0550521709107166,
          4.2817350988189595,
          5.740087335084787,
          5.748016485377168,
          6.550027150006226,
          6.682353812369975,
          6.8705460754865335,
          6.78104961399878,
          6.787537129112836,
          5.421623148132916,
          5.201199735787833,
          4.25616879095905,
          3.375439775491019,
          3.7924073028253034,
          3.766944947171834,
          3.1442187086949023,
          2.8554660702175694,
          2.9569780120585585,
          2.116794243160236,
          1.2042255443205083,
          0.7468015878875569,
          0.5959160381443867,
          0.20069011175516382,
          0.45753461868232437,
          0.34914701366412304,
          0.4315398921029785,
          0.6537346095264549,
          1.1864871080931554,
          2.0991900140542112,
          2.881441900810861,
          3.0812498774195247,
          3.6004905409111085,
          1.623323143073013,
          1.123396338150068,
          0.9220816887296981,
          0.0548445276538192,
          0.6744040450306776,
          0.8961073775898005,
          0.42421798970514546,
          0.696594076239879,
          1.7733458293042785,
          2.764091137117068,
          3.2470233266142183,
          3.53849552472256,
          3.597275178755294,
          4.194539945398217,
          4.099273148256814,
          4.273968022101861,
          3.8969763076864004,
          1.9789248128772439,
          0.025213541207044443,
          0.9303259693963302,
          1.1859932951390606,
          1.2992931110013988,
          2.2270516069937525,
          2.2267431856549234,
          1.2759206862285044,
          0.7143896405376511,
          0.8777724961291744,
          1.8104220062572431,
          2.3872583409057957,
          1.4035177700393722,
          0.9769598005251057,
          0.49857069453256386,
          0.46729632352985195,
          1.1074729939291394,
          1.3888033147110406,
          1.5485560928434439,
          1.754219539423675,
          2.6056743364595167,
          2.8859689892377913,
          2.384949030793356,
          2.595671504091812,
          2.5654523941180862,
          2.6352233735698434,
          2.3368059055938035,
          1.7285878058575328,
          1.5412591756460898,
          1.51555311737435,
          1.1806092095442953,
          0.7177626055137427,
          0.18461279426271737,
          0.2829584662908733,
          0.09981958470275298,
          0.7811278380054398,
          0.6996320012417137,
          0.5831621233987239,
          0.7789206386606349,
          0.40174627474660696,
          0.003413443190146026,
          0.5315725119568091,
          0.6269062240381906,
          0.8205070811965784,
          1.1594073984127338,
          1.3264632411479695,
          2.1462234072876356,
          2.9187880901400605,
          3.4742210722523215,
          2.892878219915873,
          2.1206855736430508,
          1.9154582879585687,
          1.9826418135437822,
          1.7594210318860657,
          0.8832395036857426,
          0.23902762797025162,
          1.3745720528982073,
          2.387494398466951,
          4.898751148205937,
          6.52792084325453,
          7.1082637260656005,
          7.839755273501019,
          7.671649833830378,
          6.388571411423349,
          5.505959455230407,
          5.003797399313438,
          4.538033411687454,
          4.172973713711034,
          3.8040782983405315,
          3.0094864589742443,
          2.2062327603431484,
          1.5941735711373966,
          1.264420200444608,
          0.8707443395331822,
          0.5194733006189765,
          0.5994500671698368,
          1.1615720945673687,
          2.0420046242147976,
          2.2159834451730376,
          2.1659343089421093,
          1.9348652470071421,
          1.2949055722149545,
          1.9034456089037093,
          2.301017108166853,
          2.9359412925963575,
          4.592250755399132,
          5.176864681228196,
          5.819508789067379,
          5.23903717447558
         ],
         "yaxis": "y"
        },
        {
         "marker": {
          "color": "red"
         },
         "opacity": 1,
         "type": "bar",
         "x": [
          "2014-05-19T00:00:00",
          "2014-05-26T00:00:00",
          "2014-06-02T00:00:00",
          "2014-06-09T00:00:00",
          "2014-06-16T00:00:00",
          "2014-06-23T00:00:00",
          "2014-06-30T00:00:00",
          "2014-07-07T00:00:00",
          "2014-07-14T00:00:00",
          "2014-07-21T00:00:00",
          "2014-07-28T00:00:00",
          "2014-08-04T00:00:00",
          "2014-08-11T00:00:00",
          "2014-08-18T00:00:00",
          "2014-08-25T00:00:00",
          "2014-09-01T00:00:00",
          "2014-09-08T00:00:00",
          "2014-09-15T00:00:00",
          "2014-09-22T00:00:00",
          "2014-09-29T00:00:00",
          "2014-10-06T00:00:00",
          "2014-10-13T00:00:00",
          "2014-10-20T00:00:00",
          "2014-10-27T00:00:00",
          "2014-11-03T00:00:00",
          "2015-05-25T00:00:00",
          "2015-06-01T00:00:00",
          "2015-06-08T00:00:00",
          "2015-06-15T00:00:00",
          "2015-08-10T00:00:00",
          "2015-08-17T00:00:00",
          "2015-08-24T00:00:00",
          "2015-08-31T00:00:00",
          "2015-09-07T00:00:00",
          "2015-09-14T00:00:00",
          "2015-09-21T00:00:00",
          "2015-09-28T00:00:00",
          "2015-12-07T00:00:00",
          "2015-12-14T00:00:00",
          "2016-01-04T00:00:00",
          "2016-01-11T00:00:00",
          "2016-01-18T00:00:00",
          "2016-01-25T00:00:00",
          "2016-02-01T00:00:00",
          "2016-02-08T00:00:00",
          "2016-05-09T00:00:00",
          "2016-05-16T00:00:00",
          "2016-05-23T00:00:00",
          "2016-05-30T00:00:00",
          "2016-06-06T00:00:00",
          "2016-06-13T00:00:00",
          "2016-06-20T00:00:00",
          "2016-06-27T00:00:00",
          "2016-07-04T00:00:00",
          "2016-07-11T00:00:00",
          "2016-07-18T00:00:00",
          "2016-07-25T00:00:00",
          "2016-08-01T00:00:00",
          "2016-08-08T00:00:00",
          "2016-08-15T00:00:00",
          "2016-11-28T00:00:00",
          "2017-04-10T00:00:00",
          "2017-04-17T00:00:00",
          "2017-05-01T00:00:00",
          "2017-05-08T00:00:00",
          "2017-06-05T00:00:00",
          "2017-06-12T00:00:00",
          "2017-06-19T00:00:00",
          "2017-06-26T00:00:00",
          "2017-07-03T00:00:00",
          "2017-07-10T00:00:00",
          "2017-07-17T00:00:00",
          "2017-07-24T00:00:00",
          "2017-07-31T00:00:00",
          "2017-08-07T00:00:00",
          "2017-08-14T00:00:00",
          "2017-08-21T00:00:00",
          "2017-08-28T00:00:00",
          "2017-09-04T00:00:00",
          "2017-09-11T00:00:00",
          "2017-09-18T00:00:00",
          "2017-09-25T00:00:00",
          "2017-10-02T00:00:00",
          "2017-10-09T00:00:00",
          "2017-11-13T00:00:00",
          "2017-11-20T00:00:00",
          "2017-11-27T00:00:00",
          "2018-03-12T00:00:00",
          "2018-03-19T00:00:00",
          "2018-03-26T00:00:00",
          "2018-04-02T00:00:00",
          "2018-08-27T00:00:00",
          "2018-09-03T00:00:00",
          "2018-09-10T00:00:00",
          "2018-09-17T00:00:00",
          "2018-09-24T00:00:00",
          "2018-10-01T00:00:00",
          "2018-10-08T00:00:00",
          "2018-10-15T00:00:00",
          "2018-10-22T00:00:00",
          "2018-10-29T00:00:00",
          "2018-11-05T00:00:00",
          "2018-11-12T00:00:00",
          "2018-11-19T00:00:00",
          "2018-11-26T00:00:00",
          "2018-12-03T00:00:00",
          "2018-12-10T00:00:00",
          "2018-12-17T00:00:00",
          "2018-12-24T00:00:00",
          "2018-12-31T00:00:00",
          "2019-01-07T00:00:00",
          "2019-01-14T00:00:00",
          "2019-01-21T00:00:00",
          "2019-01-28T00:00:00",
          "2019-02-04T00:00:00",
          "2019-02-11T00:00:00",
          "2019-02-18T00:00:00",
          "2019-02-25T00:00:00",
          "2019-03-04T00:00:00",
          "2019-03-11T00:00:00",
          "2019-03-18T00:00:00",
          "2019-03-25T00:00:00",
          "2019-04-01T00:00:00",
          "2019-04-08T00:00:00",
          "2019-04-15T00:00:00",
          "2019-04-22T00:00:00",
          "2019-04-29T00:00:00",
          "2019-05-06T00:00:00",
          "2019-05-13T00:00:00",
          "2019-05-20T00:00:00",
          "2019-05-27T00:00:00",
          "2019-06-03T00:00:00",
          "2019-06-10T00:00:00",
          "2019-06-17T00:00:00",
          "2019-06-24T00:00:00"
         ],
         "xaxis": "x",
         "y": [
          -6.34962453761767,
          -6.996042913510108,
          -8.3215189930886,
          -8.918410228656374,
          -9.179329405535444,
          -8.81854422546144,
          -7.747812188986611,
          -6.998091295850211,
          -5.445461123316324,
          -4.358392161063071,
          -3.916505026269526,
          -3.8421891772319157,
          -2.8574441063902896,
          -2.2725250333307017,
          -2.665686331865679,
          -2.5028674731136498,
          -2.4155982964682003,
          -2.2407342602117737,
          -4.018901681917004,
          -6.184913886661086,
          -6.928371380840911,
          -5.7936968199730785,
          -4.970401183189267,
          -3.487036264550124,
          -1.0981700452931449,
          -0.034089026211290285,
          -1.0733489883485614,
          -0.7183836617656012,
          -0.36805392367620104,
          -0.04513895200052298,
          -1.444125438528643,
          -2.0310554914308216,
          -2.6096756504178202,
          -3.063844162376205,
          -3.4794168387327593,
          -3.6241030348946186,
          -1.3878304445034146,
          -1.1142435292127582,
          -0.48140731828516525,
          -0.07483884537143659,
          -0.5360916798303648,
          -1.4374343405901198,
          -1.1728656319929915,
          -0.5524828791624374,
          -0.8507723958971476,
          -0.10061996977362497,
          -1.1063881237879798,
          -1.1732898879649154,
          -2.674948831243082,
          -3.7976792724727346,
          -4.985536055618956,
          -5.770437857475353,
          -5.399702510260735,
          -5.658316438216909,
          -5.168131765354254,
          -4.822417748868366,
          -4.363788484824481,
          -3.4400492299195538,
          -2.131354319507217,
          -0.8493393483665219,
          -0.25001598134767544,
          -0.4225097785178509,
          -0.34121338940249313,
          -0.04956063605165362,
          -0.3132307662459102,
          -0.08065894098966453,
          -1.4237790647396995,
          -2.1653321981914546,
          -2.664715584407637,
          -3.2098033262769996,
          -3.454086228067367,
          -3.361516881445288,
          -3.157114394714817,
          -2.4968487268339854,
          -2.64553322833909,
          -2.878994982991037,
          -2.9234313912621066,
          -2.776580189194164,
          -2.5877846101806883,
          -2.121427344664867,
          -1.9601990272380938,
          -1.4198448135105908,
          -0.6988608120213238,
          -0.18166160731324332,
          -0.4957976491504912,
          -0.7501400667165417,
          -0.46581832192650996,
          -0.1604526106212354,
          -1.3625493743632893,
          -1.327838169226066,
          -0.7783653187489875,
          -0.6814362872555719,
          -1.9100341808981334,
          -2.602213837165287,
          -3.509465034835209,
          -3.564222628640703,
          -3.986252271793486,
          -4.824252010686902,
          -5.280926462568274,
          -5.360509420924462,
          -4.344956018750636,
          -3.3627935523841757,
          -3.7217352467495406,
          -3.50911283851453,
          -3.5987151011303613,
          -3.845701334897588,
          -5.414064679445634,
          -6.503550038490997,
          -7.1954213592234035,
          -7.572643512384037,
          -6.3945898271007,
          -5.163202328398095,
          -3.7788619213227843,
          -2.400900813709346,
          -1.0426468559840751,
          -0.44841947464843823,
          -3.3562459253428916,
          -5.057071919095973,
          -6.296356726673967,
          -6.656499121718415,
          -5.601931687350955,
          -4.6029948312509426,
          -3.41276672018245,
          -2.5975981754229487,
          -2.277683554513036,
          -2.2925271826859017,
          -2.0261732903279253,
          -2.148128567401084,
          -2.6234329536559997,
          -2.995752886776909,
          -2.5943296040336534,
          -2.201701811971663,
          -1.881205067984471,
          -1.2706257217506192,
          -0.6254024635482089
         ],
         "yaxis": "y"
        },
        {
         "line": {
          "color": "red",
          "dash": "solid",
          "width": 0.5
         },
         "mode": "lines",
         "name": "Sell signal",
         "showlegend": false,
         "type": "scatter",
         "x": [
          "2014-05-26T00:00:00",
          "2014-05-26T00:00:00"
         ],
         "xaxis": "x2",
         "y": [
          177.05,
          348.6
         ],
         "yaxis": "y2"
        },
        {
         "line": {
          "color": "red",
          "dash": "solid",
          "width": 0.5
         },
         "mode": "lines",
         "name": "Sell signal",
         "showlegend": false,
         "type": "scatter",
         "x": [
          "2014-06-02T00:00:00",
          "2014-06-02T00:00:00"
         ],
         "xaxis": "x2",
         "y": [
          177.05,
          348.6
         ],
         "yaxis": "y2"
        },
        {
         "line": {
          "color": "red",
          "dash": "solid",
          "width": 0.5
         },
         "mode": "lines",
         "name": "Sell signal",
         "showlegend": false,
         "type": "scatter",
         "x": [
          "2014-06-09T00:00:00",
          "2014-06-09T00:00:00"
         ],
         "xaxis": "x2",
         "y": [
          177.05,
          348.6
         ],
         "yaxis": "y2"
        },
        {
         "line": {
          "color": "red",
          "dash": "solid",
          "width": 0.5
         },
         "mode": "lines",
         "name": "Sell signal",
         "showlegend": false,
         "type": "scatter",
         "x": [
          "2014-06-16T00:00:00",
          "2014-06-16T00:00:00"
         ],
         "xaxis": "x2",
         "y": [
          177.05,
          348.6
         ],
         "yaxis": "y2"
        },
        {
         "line": {
          "color": "red",
          "dash": "solid",
          "width": 0.5
         },
         "mode": "lines",
         "name": "Sell signal",
         "showlegend": false,
         "type": "scatter",
         "x": [
          "2014-06-30T00:00:00",
          "2014-06-30T00:00:00"
         ],
         "xaxis": "x2",
         "y": [
          177.05,
          348.6
         ],
         "yaxis": "y2"
        },
        {
         "line": {
          "color": "red",
          "dash": "solid",
          "width": 0.5
         },
         "mode": "lines",
         "name": "Sell signal",
         "showlegend": false,
         "type": "scatter",
         "x": [
          "2014-07-14T00:00:00",
          "2014-07-14T00:00:00"
         ],
         "xaxis": "x2",
         "y": [
          177.05,
          348.6
         ],
         "yaxis": "y2"
        },
        {
         "line": {
          "color": "red",
          "dash": "dash",
          "width": 1
         },
         "mode": "lines",
         "name": "Sell signal",
         "showlegend": false,
         "type": "scatter",
         "x": [
          "2014-07-14T00:00:00",
          "2014-07-14T00:00:00"
         ],
         "xaxis": "x2",
         "y": [
          177.05,
          348.6
         ],
         "yaxis": "y2"
        },
        {
         "line": {
          "color": "red",
          "dash": "solid",
          "width": 0.5
         },
         "mode": "lines",
         "name": "Sell signal",
         "showlegend": false,
         "type": "scatter",
         "x": [
          "2014-07-21T00:00:00",
          "2014-07-21T00:00:00"
         ],
         "xaxis": "x2",
         "y": [
          177.05,
          348.6
         ],
         "yaxis": "y2"
        },
        {
         "line": {
          "color": "red",
          "dash": "solid",
          "width": 0.5
         },
         "mode": "lines",
         "name": "Sell signal",
         "showlegend": false,
         "type": "scatter",
         "x": [
          "2014-07-28T00:00:00",
          "2014-07-28T00:00:00"
         ],
         "xaxis": "x2",
         "y": [
          177.05,
          348.6
         ],
         "yaxis": "y2"
        },
        {
         "line": {
          "color": "red",
          "dash": "solid",
          "width": 0.5
         },
         "mode": "lines",
         "name": "Sell signal",
         "showlegend": false,
         "type": "scatter",
         "x": [
          "2014-08-11T00:00:00",
          "2014-08-11T00:00:00"
         ],
         "xaxis": "x2",
         "y": [
          177.05,
          348.6
         ],
         "yaxis": "y2"
        },
        {
         "line": {
          "color": "red",
          "dash": "solid",
          "width": 0.5
         },
         "mode": "lines",
         "name": "Sell signal",
         "showlegend": false,
         "type": "scatter",
         "x": [
          "2014-08-18T00:00:00",
          "2014-08-18T00:00:00"
         ],
         "xaxis": "x2",
         "y": [
          177.05,
          348.6
         ],
         "yaxis": "y2"
        },
        {
         "line": {
          "color": "red",
          "dash": "dash",
          "width": 1
         },
         "mode": "lines",
         "name": "Sell signal",
         "showlegend": false,
         "type": "scatter",
         "x": [
          "2014-08-18T00:00:00",
          "2014-08-18T00:00:00"
         ],
         "xaxis": "x2",
         "y": [
          177.05,
          348.6
         ],
         "yaxis": "y2"
        },
        {
         "line": {
          "color": "red",
          "dash": "solid",
          "width": 0.5
         },
         "mode": "lines",
         "name": "Sell signal",
         "showlegend": false,
         "type": "scatter",
         "x": [
          "2014-09-01T00:00:00",
          "2014-09-01T00:00:00"
         ],
         "xaxis": "x2",
         "y": [
          177.05,
          348.6
         ],
         "yaxis": "y2"
        },
        {
         "line": {
          "color": "red",
          "dash": "solid",
          "width": 0.5
         },
         "mode": "lines",
         "name": "Sell signal",
         "showlegend": false,
         "type": "scatter",
         "x": [
          "2014-09-08T00:00:00",
          "2014-09-08T00:00:00"
         ],
         "xaxis": "x2",
         "y": [
          177.05,
          348.6
         ],
         "yaxis": "y2"
        },
        {
         "line": {
          "color": "red",
          "dash": "solid",
          "width": 0.5
         },
         "mode": "lines",
         "name": "Sell signal",
         "showlegend": false,
         "type": "scatter",
         "x": [
          "2014-09-15T00:00:00",
          "2014-09-15T00:00:00"
         ],
         "xaxis": "x2",
         "y": [
          177.05,
          348.6
         ],
         "yaxis": "y2"
        },
        {
         "line": {
          "color": "red",
          "dash": "dash",
          "width": 1
         },
         "mode": "lines",
         "name": "Sell signal",
         "showlegend": false,
         "type": "scatter",
         "x": [
          "2014-09-15T00:00:00",
          "2014-09-15T00:00:00"
         ],
         "xaxis": "x2",
         "y": [
          177.05,
          348.6
         ],
         "yaxis": "y2"
        },
        {
         "line": {
          "color": "red",
          "dash": "solid",
          "width": 0.5
         },
         "mode": "lines",
         "name": "Sell signal",
         "showlegend": false,
         "type": "scatter",
         "x": [
          "2014-09-22T00:00:00",
          "2014-09-22T00:00:00"
         ],
         "xaxis": "x2",
         "y": [
          177.05,
          348.6
         ],
         "yaxis": "y2"
        },
        {
         "line": {
          "color": "green",
          "dash": "solid",
          "width": 0.5
         },
         "mode": "lines",
         "name": "Buy signal",
         "showlegend": false,
         "type": "scatter",
         "x": [
          "2014-09-29T00:00:00",
          "2014-09-29T00:00:00"
         ],
         "xaxis": "x2",
         "y": [
          177.05,
          348.6
         ],
         "yaxis": "y2"
        },
        {
         "line": {
          "color": "green",
          "dash": "dash",
          "width": 1
         },
         "mode": "lines",
         "name": "Buy signal",
         "showlegend": false,
         "type": "scatter",
         "x": [
          "2014-09-29T00:00:00",
          "2014-09-29T00:00:00"
         ],
         "xaxis": "x2",
         "y": [
          177.05,
          348.6
         ],
         "yaxis": "y2"
        },
        {
         "line": {
          "color": "green",
          "dash": "solid",
          "width": 0.5
         },
         "mode": "lines",
         "name": "Buy signal",
         "showlegend": false,
         "type": "scatter",
         "x": [
          "2014-10-06T00:00:00",
          "2014-10-06T00:00:00"
         ],
         "xaxis": "x2",
         "y": [
          177.05,
          348.6
         ],
         "yaxis": "y2"
        },
        {
         "line": {
          "color": "green",
          "dash": "solid",
          "width": 0.5
         },
         "mode": "lines",
         "name": "Buy signal",
         "showlegend": false,
         "type": "scatter",
         "x": [
          "2014-10-20T00:00:00",
          "2014-10-20T00:00:00"
         ],
         "xaxis": "x2",
         "y": [
          177.05,
          348.6
         ],
         "yaxis": "y2"
        },
        {
         "line": {
          "color": "red",
          "dash": "solid",
          "width": 0.5
         },
         "mode": "lines",
         "name": "Sell signal",
         "showlegend": false,
         "type": "scatter",
         "x": [
          "2014-11-10T00:00:00",
          "2014-11-10T00:00:00"
         ],
         "xaxis": "x2",
         "y": [
          177.05,
          348.6
         ],
         "yaxis": "y2"
        },
        {
         "line": {
          "color": "red",
          "dash": "dash",
          "width": 1
         },
         "mode": "lines",
         "name": "Sell signal",
         "showlegend": false,
         "type": "scatter",
         "x": [
          "2014-11-10T00:00:00",
          "2014-11-10T00:00:00"
         ],
         "xaxis": "x2",
         "y": [
          177.05,
          348.6
         ],
         "yaxis": "y2"
        },
        {
         "line": {
          "color": "red",
          "dash": "solid",
          "width": 0.5
         },
         "mode": "lines",
         "name": "Sell signal",
         "showlegend": false,
         "type": "scatter",
         "x": [
          "2014-11-17T00:00:00",
          "2014-11-17T00:00:00"
         ],
         "xaxis": "x2",
         "y": [
          177.05,
          348.6
         ],
         "yaxis": "y2"
        },
        {
         "line": {
          "color": "red",
          "dash": "dash",
          "width": 1
         },
         "mode": "lines",
         "name": "Sell signal",
         "showlegend": false,
         "type": "scatter",
         "x": [
          "2014-11-17T00:00:00",
          "2014-11-17T00:00:00"
         ],
         "xaxis": "x2",
         "y": [
          177.05,
          348.6
         ],
         "yaxis": "y2"
        },
        {
         "line": {
          "color": "green",
          "dash": "solid",
          "width": 0.5
         },
         "mode": "lines",
         "name": "Buy signal",
         "showlegend": false,
         "type": "scatter",
         "x": [
          "2014-11-24T00:00:00",
          "2014-11-24T00:00:00"
         ],
         "xaxis": "x2",
         "y": [
          177.05,
          348.6
         ],
         "yaxis": "y2"
        },
        {
         "line": {
          "color": "green",
          "dash": "solid",
          "width": 0.5
         },
         "mode": "lines",
         "name": "Buy signal",
         "showlegend": false,
         "type": "scatter",
         "x": [
          "2014-12-08T00:00:00",
          "2014-12-08T00:00:00"
         ],
         "xaxis": "x2",
         "y": [
          177.05,
          348.6
         ],
         "yaxis": "y2"
        },
        {
         "line": {
          "color": "green",
          "dash": "dash",
          "width": 1
         },
         "mode": "lines",
         "name": "Buy signal",
         "showlegend": false,
         "type": "scatter",
         "x": [
          "2014-12-08T00:00:00",
          "2014-12-08T00:00:00"
         ],
         "xaxis": "x2",
         "y": [
          177.05,
          348.6
         ],
         "yaxis": "y2"
        },
        {
         "line": {
          "color": "green",
          "dash": "solid",
          "width": 0.5
         },
         "mode": "lines",
         "name": "Buy signal",
         "showlegend": false,
         "type": "scatter",
         "x": [
          "2014-12-15T00:00:00",
          "2014-12-15T00:00:00"
         ],
         "xaxis": "x2",
         "y": [
          177.05,
          348.6
         ],
         "yaxis": "y2"
        },
        {
         "line": {
          "color": "green",
          "dash": "solid",
          "width": 0.5
         },
         "mode": "lines",
         "name": "Buy signal",
         "showlegend": false,
         "type": "scatter",
         "x": [
          "2015-01-05T00:00:00",
          "2015-01-05T00:00:00"
         ],
         "xaxis": "x2",
         "y": [
          177.05,
          348.6
         ],
         "yaxis": "y2"
        },
        {
         "line": {
          "color": "red",
          "dash": "solid",
          "width": 0.5
         },
         "mode": "lines",
         "name": "Sell signal",
         "showlegend": false,
         "type": "scatter",
         "x": [
          "2015-03-02T00:00:00",
          "2015-03-02T00:00:00"
         ],
         "xaxis": "x2",
         "y": [
          177.05,
          348.6
         ],
         "yaxis": "y2"
        },
        {
         "line": {
          "color": "red",
          "dash": "dash",
          "width": 1
         },
         "mode": "lines",
         "name": "Sell signal",
         "showlegend": false,
         "type": "scatter",
         "x": [
          "2015-03-02T00:00:00",
          "2015-03-02T00:00:00"
         ],
         "xaxis": "x2",
         "y": [
          177.05,
          348.6
         ],
         "yaxis": "y2"
        },
        {
         "line": {
          "color": "red",
          "dash": "solid",
          "width": 0.5
         },
         "mode": "lines",
         "name": "Sell signal",
         "showlegend": false,
         "type": "scatter",
         "x": [
          "2015-03-16T00:00:00",
          "2015-03-16T00:00:00"
         ],
         "xaxis": "x2",
         "y": [
          177.05,
          348.6
         ],
         "yaxis": "y2"
        },
        {
         "line": {
          "color": "red",
          "dash": "dash",
          "width": 1
         },
         "mode": "lines",
         "name": "Sell signal",
         "showlegend": false,
         "type": "scatter",
         "x": [
          "2015-03-16T00:00:00",
          "2015-03-16T00:00:00"
         ],
         "xaxis": "x2",
         "y": [
          177.05,
          348.6
         ],
         "yaxis": "y2"
        },
        {
         "line": {
          "color": "red",
          "dash": "solid",
          "width": 0.5
         },
         "mode": "lines",
         "name": "Sell signal",
         "showlegend": false,
         "type": "scatter",
         "x": [
          "2015-03-23T00:00:00",
          "2015-03-23T00:00:00"
         ],
         "xaxis": "x2",
         "y": [
          177.05,
          348.6
         ],
         "yaxis": "y2"
        },
        {
         "line": {
          "color": "red",
          "dash": "dash",
          "width": 1
         },
         "mode": "lines",
         "name": "Sell signal",
         "showlegend": false,
         "type": "scatter",
         "x": [
          "2015-03-23T00:00:00",
          "2015-03-23T00:00:00"
         ],
         "xaxis": "x2",
         "y": [
          177.05,
          348.6
         ],
         "yaxis": "y2"
        },
        {
         "line": {
          "color": "red",
          "dash": "solid",
          "width": 0.5
         },
         "mode": "lines",
         "name": "Sell signal",
         "showlegend": false,
         "type": "scatter",
         "x": [
          "2015-04-06T00:00:00",
          "2015-04-06T00:00:00"
         ],
         "xaxis": "x2",
         "y": [
          177.05,
          348.6
         ],
         "yaxis": "y2"
        },
        {
         "line": {
          "color": "red",
          "dash": "solid",
          "width": 0.5
         },
         "mode": "lines",
         "name": "Sell signal",
         "showlegend": false,
         "type": "scatter",
         "x": [
          "2015-04-13T00:00:00",
          "2015-04-13T00:00:00"
         ],
         "xaxis": "x2",
         "y": [
          177.05,
          348.6
         ],
         "yaxis": "y2"
        },
        {
         "line": {
          "color": "red",
          "dash": "solid",
          "width": 0.5
         },
         "mode": "lines",
         "name": "Sell signal",
         "showlegend": false,
         "type": "scatter",
         "x": [
          "2015-05-04T00:00:00",
          "2015-05-04T00:00:00"
         ],
         "xaxis": "x2",
         "y": [
          177.05,
          348.6
         ],
         "yaxis": "y2"
        },
        {
         "line": {
          "color": "red",
          "dash": "dash",
          "width": 1
         },
         "mode": "lines",
         "name": "Sell signal",
         "showlegend": false,
         "type": "scatter",
         "x": [
          "2015-05-04T00:00:00",
          "2015-05-04T00:00:00"
         ],
         "xaxis": "x2",
         "y": [
          177.05,
          348.6
         ],
         "yaxis": "y2"
        },
        {
         "line": {
          "color": "red",
          "dash": "solid",
          "width": 0.5
         },
         "mode": "lines",
         "name": "Sell signal",
         "showlegend": false,
         "type": "scatter",
         "x": [
          "2015-05-11T00:00:00",
          "2015-05-11T00:00:00"
         ],
         "xaxis": "x2",
         "y": [
          177.05,
          348.6
         ],
         "yaxis": "y2"
        },
        {
         "line": {
          "color": "red",
          "dash": "solid",
          "width": 0.5
         },
         "mode": "lines",
         "name": "Sell signal",
         "showlegend": false,
         "type": "scatter",
         "x": [
          "2015-05-18T00:00:00",
          "2015-05-18T00:00:00"
         ],
         "xaxis": "x2",
         "y": [
          177.05,
          348.6
         ],
         "yaxis": "y2"
        },
        {
         "line": {
          "color": "red",
          "dash": "dash",
          "width": 1
         },
         "mode": "lines",
         "name": "Sell signal",
         "showlegend": false,
         "type": "scatter",
         "x": [
          "2015-05-18T00:00:00",
          "2015-05-18T00:00:00"
         ],
         "xaxis": "x2",
         "y": [
          177.05,
          348.6
         ],
         "yaxis": "y2"
        },
        {
         "line": {
          "color": "green",
          "dash": "solid",
          "width": 0.5
         },
         "mode": "lines",
         "name": "Buy signal",
         "showlegend": false,
         "type": "scatter",
         "x": [
          "2015-06-01T00:00:00",
          "2015-06-01T00:00:00"
         ],
         "xaxis": "x2",
         "y": [
          177.05,
          348.6
         ],
         "yaxis": "y2"
        },
        {
         "line": {
          "color": "green",
          "dash": "dash",
          "width": 1
         },
         "mode": "lines",
         "name": "Buy signal",
         "showlegend": false,
         "type": "scatter",
         "x": [
          "2015-06-01T00:00:00",
          "2015-06-01T00:00:00"
         ],
         "xaxis": "x2",
         "y": [
          177.05,
          348.6
         ],
         "yaxis": "y2"
        },
        {
         "line": {
          "color": "red",
          "dash": "solid",
          "width": 0.5
         },
         "mode": "lines",
         "name": "Sell signal",
         "showlegend": false,
         "type": "scatter",
         "x": [
          "2015-06-22T00:00:00",
          "2015-06-22T00:00:00"
         ],
         "xaxis": "x2",
         "y": [
          177.05,
          348.6
         ],
         "yaxis": "y2"
        },
        {
         "line": {
          "color": "red",
          "dash": "dash",
          "width": 1
         },
         "mode": "lines",
         "name": "Sell signal",
         "showlegend": false,
         "type": "scatter",
         "x": [
          "2015-06-22T00:00:00",
          "2015-06-22T00:00:00"
         ],
         "xaxis": "x2",
         "y": [
          177.05,
          348.6
         ],
         "yaxis": "y2"
        },
        {
         "line": {
          "color": "red",
          "dash": "solid",
          "width": 0.5
         },
         "mode": "lines",
         "name": "Sell signal",
         "showlegend": false,
         "type": "scatter",
         "x": [
          "2015-06-29T00:00:00",
          "2015-06-29T00:00:00"
         ],
         "xaxis": "x2",
         "y": [
          177.05,
          348.6
         ],
         "yaxis": "y2"
        },
        {
         "line": {
          "color": "green",
          "dash": "dash",
          "width": 1
         },
         "mode": "lines",
         "name": "Buy signal",
         "showlegend": false,
         "type": "scatter",
         "x": [
          "2015-07-06T00:00:00",
          "2015-07-06T00:00:00"
         ],
         "xaxis": "x2",
         "y": [
          177.05,
          348.6
         ],
         "yaxis": "y2"
        },
        {
         "line": {
          "color": "red",
          "dash": "solid",
          "width": 0.5
         },
         "mode": "lines",
         "name": "Sell signal",
         "showlegend": false,
         "type": "scatter",
         "x": [
          "2015-07-13T00:00:00",
          "2015-07-13T00:00:00"
         ],
         "xaxis": "x2",
         "y": [
          177.05,
          348.6
         ],
         "yaxis": "y2"
        },
        {
         "line": {
          "color": "red",
          "dash": "dash",
          "width": 1
         },
         "mode": "lines",
         "name": "Sell signal",
         "showlegend": false,
         "type": "scatter",
         "x": [
          "2015-07-13T00:00:00",
          "2015-07-13T00:00:00"
         ],
         "xaxis": "x2",
         "y": [
          177.05,
          348.6
         ],
         "yaxis": "y2"
        },
        {
         "line": {
          "color": "red",
          "dash": "solid",
          "width": 0.5
         },
         "mode": "lines",
         "name": "Sell signal",
         "showlegend": false,
         "type": "scatter",
         "x": [
          "2015-08-03T00:00:00",
          "2015-08-03T00:00:00"
         ],
         "xaxis": "x2",
         "y": [
          177.05,
          348.6
         ],
         "yaxis": "y2"
        },
        {
         "line": {
          "color": "red",
          "dash": "dash",
          "width": 1
         },
         "mode": "lines",
         "name": "Sell signal",
         "showlegend": false,
         "type": "scatter",
         "x": [
          "2015-08-03T00:00:00",
          "2015-08-03T00:00:00"
         ],
         "xaxis": "x2",
         "y": [
          177.05,
          348.6
         ],
         "yaxis": "y2"
        },
        {
         "line": {
          "color": "red",
          "dash": "solid",
          "width": 0.5
         },
         "mode": "lines",
         "name": "Sell signal",
         "showlegend": false,
         "type": "scatter",
         "x": [
          "2015-08-10T00:00:00",
          "2015-08-10T00:00:00"
         ],
         "xaxis": "x2",
         "y": [
          177.05,
          348.6
         ],
         "yaxis": "y2"
        },
        {
         "line": {
          "color": "red",
          "dash": "dash",
          "width": 1
         },
         "mode": "lines",
         "name": "Sell signal",
         "showlegend": false,
         "type": "scatter",
         "x": [
          "2015-08-24T00:00:00",
          "2015-08-24T00:00:00"
         ],
         "xaxis": "x2",
         "y": [
          177.05,
          348.6
         ],
         "yaxis": "y2"
        },
        {
         "line": {
          "color": "red",
          "dash": "dash",
          "width": 1
         },
         "mode": "lines",
         "name": "Sell signal",
         "showlegend": false,
         "type": "scatter",
         "x": [
          "2015-09-07T00:00:00",
          "2015-09-07T00:00:00"
         ],
         "xaxis": "x2",
         "y": [
          177.05,
          348.6
         ],
         "yaxis": "y2"
        },
        {
         "line": {
          "color": "green",
          "dash": "solid",
          "width": 0.5
         },
         "mode": "lines",
         "name": "Buy signal",
         "showlegend": false,
         "type": "scatter",
         "x": [
          "2015-09-21T00:00:00",
          "2015-09-21T00:00:00"
         ],
         "xaxis": "x2",
         "y": [
          177.05,
          348.6
         ],
         "yaxis": "y2"
        },
        {
         "line": {
          "color": "green",
          "dash": "dash",
          "width": 1
         },
         "mode": "lines",
         "name": "Buy signal",
         "showlegend": false,
         "type": "scatter",
         "x": [
          "2015-09-21T00:00:00",
          "2015-09-21T00:00:00"
         ],
         "xaxis": "x2",
         "y": [
          177.05,
          348.6
         ],
         "yaxis": "y2"
        },
        {
         "line": {
          "color": "red",
          "dash": "solid",
          "width": 0.5
         },
         "mode": "lines",
         "name": "Sell signal",
         "showlegend": false,
         "type": "scatter",
         "x": [
          "2015-10-05T00:00:00",
          "2015-10-05T00:00:00"
         ],
         "xaxis": "x2",
         "y": [
          177.05,
          348.6
         ],
         "yaxis": "y2"
        },
        {
         "line": {
          "color": "red",
          "dash": "dash",
          "width": 1
         },
         "mode": "lines",
         "name": "Sell signal",
         "showlegend": false,
         "type": "scatter",
         "x": [
          "2015-10-05T00:00:00",
          "2015-10-05T00:00:00"
         ],
         "xaxis": "x2",
         "y": [
          177.05,
          348.6
         ],
         "yaxis": "y2"
        },
        {
         "line": {
          "color": "red",
          "dash": "solid",
          "width": 0.5
         },
         "mode": "lines",
         "name": "Sell signal",
         "showlegend": false,
         "type": "scatter",
         "x": [
          "2015-10-19T00:00:00",
          "2015-10-19T00:00:00"
         ],
         "xaxis": "x2",
         "y": [
          177.05,
          348.6
         ],
         "yaxis": "y2"
        },
        {
         "line": {
          "color": "red",
          "dash": "solid",
          "width": 0.5
         },
         "mode": "lines",
         "name": "Sell signal",
         "showlegend": false,
         "type": "scatter",
         "x": [
          "2015-11-02T00:00:00",
          "2015-11-02T00:00:00"
         ],
         "xaxis": "x2",
         "y": [
          177.05,
          348.6
         ],
         "yaxis": "y2"
        },
        {
         "line": {
          "color": "red",
          "dash": "dash",
          "width": 1
         },
         "mode": "lines",
         "name": "Sell signal",
         "showlegend": false,
         "type": "scatter",
         "x": [
          "2015-11-02T00:00:00",
          "2015-11-02T00:00:00"
         ],
         "xaxis": "x2",
         "y": [
          177.05,
          348.6
         ],
         "yaxis": "y2"
        },
        {
         "line": {
          "color": "green",
          "dash": "solid",
          "width": 0.5
         },
         "mode": "lines",
         "name": "Buy signal",
         "showlegend": false,
         "type": "scatter",
         "x": [
          "2015-11-09T00:00:00",
          "2015-11-09T00:00:00"
         ],
         "xaxis": "x2",
         "y": [
          177.05,
          348.6
         ],
         "yaxis": "y2"
        },
        {
         "line": {
          "color": "red",
          "dash": "solid",
          "width": 0.5
         },
         "mode": "lines",
         "name": "Sell signal",
         "showlegend": false,
         "type": "scatter",
         "x": [
          "2015-11-23T00:00:00",
          "2015-11-23T00:00:00"
         ],
         "xaxis": "x2",
         "y": [
          177.05,
          348.6
         ],
         "yaxis": "y2"
        },
        {
         "line": {
          "color": "red",
          "dash": "dash",
          "width": 1
         },
         "mode": "lines",
         "name": "Sell signal",
         "showlegend": false,
         "type": "scatter",
         "x": [
          "2015-11-30T00:00:00",
          "2015-11-30T00:00:00"
         ],
         "xaxis": "x2",
         "y": [
          177.05,
          348.6
         ],
         "yaxis": "y2"
        },
        {
         "line": {
          "color": "green",
          "dash": "solid",
          "width": 0.5
         },
         "mode": "lines",
         "name": "Buy signal",
         "showlegend": false,
         "type": "scatter",
         "x": [
          "2015-12-07T00:00:00",
          "2015-12-07T00:00:00"
         ],
         "xaxis": "x2",
         "y": [
          177.05,
          348.6
         ],
         "yaxis": "y2"
        },
        {
         "line": {
          "color": "green",
          "dash": "dash",
          "width": 1
         },
         "mode": "lines",
         "name": "Buy signal",
         "showlegend": false,
         "type": "scatter",
         "x": [
          "2015-12-07T00:00:00",
          "2015-12-07T00:00:00"
         ],
         "xaxis": "x2",
         "y": [
          177.05,
          348.6
         ],
         "yaxis": "y2"
        },
        {
         "line": {
          "color": "red",
          "dash": "solid",
          "width": 0.5
         },
         "mode": "lines",
         "name": "Sell signal",
         "showlegend": false,
         "type": "scatter",
         "x": [
          "2015-12-21T00:00:00",
          "2015-12-21T00:00:00"
         ],
         "xaxis": "x2",
         "y": [
          177.05,
          348.6
         ],
         "yaxis": "y2"
        },
        {
         "line": {
          "color": "red",
          "dash": "dash",
          "width": 1
         },
         "mode": "lines",
         "name": "Sell signal",
         "showlegend": false,
         "type": "scatter",
         "x": [
          "2015-12-21T00:00:00",
          "2015-12-21T00:00:00"
         ],
         "xaxis": "x2",
         "y": [
          177.05,
          348.6
         ],
         "yaxis": "y2"
        },
        {
         "line": {
          "color": "red",
          "dash": "solid",
          "width": 0.5
         },
         "mode": "lines",
         "name": "Sell signal",
         "showlegend": false,
         "type": "scatter",
         "x": [
          "2015-12-28T00:00:00",
          "2015-12-28T00:00:00"
         ],
         "xaxis": "x2",
         "y": [
          177.05,
          348.6
         ],
         "yaxis": "y2"
        },
        {
         "line": {
          "color": "red",
          "dash": "dash",
          "width": 1
         },
         "mode": "lines",
         "name": "Sell signal",
         "showlegend": false,
         "type": "scatter",
         "x": [
          "2015-12-28T00:00:00",
          "2015-12-28T00:00:00"
         ],
         "xaxis": "x2",
         "y": [
          177.05,
          348.6
         ],
         "yaxis": "y2"
        },
        {
         "line": {
          "color": "green",
          "dash": "solid",
          "width": 0.5
         },
         "mode": "lines",
         "name": "Buy signal",
         "showlegend": false,
         "type": "scatter",
         "x": [
          "2016-01-04T00:00:00",
          "2016-01-04T00:00:00"
         ],
         "xaxis": "x2",
         "y": [
          177.05,
          348.6
         ],
         "yaxis": "y2"
        },
        {
         "line": {
          "color": "green",
          "dash": "solid",
          "width": 0.5
         },
         "mode": "lines",
         "name": "Buy signal",
         "showlegend": false,
         "type": "scatter",
         "x": [
          "2016-01-18T00:00:00",
          "2016-01-18T00:00:00"
         ],
         "xaxis": "x2",
         "y": [
          177.05,
          348.6
         ],
         "yaxis": "y2"
        },
        {
         "line": {
          "color": "green",
          "dash": "dash",
          "width": 1
         },
         "mode": "lines",
         "name": "Buy signal",
         "showlegend": false,
         "type": "scatter",
         "x": [
          "2016-01-18T00:00:00",
          "2016-01-18T00:00:00"
         ],
         "xaxis": "x2",
         "y": [
          177.05,
          348.6
         ],
         "yaxis": "y2"
        },
        {
         "line": {
          "color": "green",
          "dash": "solid",
          "width": 0.5
         },
         "mode": "lines",
         "name": "Buy signal",
         "showlegend": false,
         "type": "scatter",
         "x": [
          "2016-01-25T00:00:00",
          "2016-01-25T00:00:00"
         ],
         "xaxis": "x2",
         "y": [
          177.05,
          348.6
         ],
         "yaxis": "y2"
        },
        {
         "line": {
          "color": "green",
          "dash": "dash",
          "width": 1
         },
         "mode": "lines",
         "name": "Buy signal",
         "showlegend": false,
         "type": "scatter",
         "x": [
          "2016-01-25T00:00:00",
          "2016-01-25T00:00:00"
         ],
         "xaxis": "x2",
         "y": [
          177.05,
          348.6
         ],
         "yaxis": "y2"
        },
        {
         "line": {
          "color": "red",
          "dash": "dash",
          "width": 1
         },
         "mode": "lines",
         "name": "Sell signal",
         "showlegend": false,
         "type": "scatter",
         "x": [
          "2016-02-01T00:00:00",
          "2016-02-01T00:00:00"
         ],
         "xaxis": "x2",
         "y": [
          177.05,
          348.6
         ],
         "yaxis": "y2"
        },
        {
         "line": {
          "color": "green",
          "dash": "solid",
          "width": 0.5
         },
         "mode": "lines",
         "name": "Buy signal",
         "showlegend": false,
         "type": "scatter",
         "x": [
          "2016-02-08T00:00:00",
          "2016-02-08T00:00:00"
         ],
         "xaxis": "x2",
         "y": [
          177.05,
          348.6
         ],
         "yaxis": "y2"
        },
        {
         "line": {
          "color": "green",
          "dash": "dash",
          "width": 1
         },
         "mode": "lines",
         "name": "Buy signal",
         "showlegend": false,
         "type": "scatter",
         "x": [
          "2016-02-08T00:00:00",
          "2016-02-08T00:00:00"
         ],
         "xaxis": "x2",
         "y": [
          177.05,
          348.6
         ],
         "yaxis": "y2"
        },
        {
         "line": {
          "color": "green",
          "dash": "solid",
          "width": 0.5
         },
         "mode": "lines",
         "name": "Buy signal",
         "showlegend": false,
         "type": "scatter",
         "x": [
          "2016-02-22T00:00:00",
          "2016-02-22T00:00:00"
         ],
         "xaxis": "x2",
         "y": [
          177.05,
          348.6
         ],
         "yaxis": "y2"
        },
        {
         "line": {
          "color": "red",
          "dash": "solid",
          "width": 0.5
         },
         "mode": "lines",
         "name": "Sell signal",
         "showlegend": false,
         "type": "scatter",
         "x": [
          "2016-03-07T00:00:00",
          "2016-03-07T00:00:00"
         ],
         "xaxis": "x2",
         "y": [
          177.05,
          348.6
         ],
         "yaxis": "y2"
        },
        {
         "line": {
          "color": "red",
          "dash": "solid",
          "width": 0.5
         },
         "mode": "lines",
         "name": "Sell signal",
         "showlegend": false,
         "type": "scatter",
         "x": [
          "2016-04-04T00:00:00",
          "2016-04-04T00:00:00"
         ],
         "xaxis": "x2",
         "y": [
          177.05,
          348.6
         ],
         "yaxis": "y2"
        },
        {
         "line": {
          "color": "red",
          "dash": "solid",
          "width": 0.5
         },
         "mode": "lines",
         "name": "Sell signal",
         "showlegend": false,
         "type": "scatter",
         "x": [
          "2016-04-18T00:00:00",
          "2016-04-18T00:00:00"
         ],
         "xaxis": "x2",
         "y": [
          177.05,
          348.6
         ],
         "yaxis": "y2"
        },
        {
         "line": {
          "color": "red",
          "dash": "dash",
          "width": 1
         },
         "mode": "lines",
         "name": "Sell signal",
         "showlegend": false,
         "type": "scatter",
         "x": [
          "2016-04-18T00:00:00",
          "2016-04-18T00:00:00"
         ],
         "xaxis": "x2",
         "y": [
          177.05,
          348.6
         ],
         "yaxis": "y2"
        },
        {
         "line": {
          "color": "red",
          "dash": "solid",
          "width": 0.5
         },
         "mode": "lines",
         "name": "Sell signal",
         "showlegend": false,
         "type": "scatter",
         "x": [
          "2016-04-25T00:00:00",
          "2016-04-25T00:00:00"
         ],
         "xaxis": "x2",
         "y": [
          177.05,
          348.6
         ],
         "yaxis": "y2"
        },
        {
         "line": {
          "color": "red",
          "dash": "dash",
          "width": 1
         },
         "mode": "lines",
         "name": "Sell signal",
         "showlegend": false,
         "type": "scatter",
         "x": [
          "2016-04-25T00:00:00",
          "2016-04-25T00:00:00"
         ],
         "xaxis": "x2",
         "y": [
          177.05,
          348.6
         ],
         "yaxis": "y2"
        },
        {
         "line": {
          "color": "red",
          "dash": "solid",
          "width": 0.5
         },
         "mode": "lines",
         "name": "Sell signal",
         "showlegend": false,
         "type": "scatter",
         "x": [
          "2016-05-02T00:00:00",
          "2016-05-02T00:00:00"
         ],
         "xaxis": "x2",
         "y": [
          177.05,
          348.6
         ],
         "yaxis": "y2"
        },
        {
         "line": {
          "color": "red",
          "dash": "dash",
          "width": 1
         },
         "mode": "lines",
         "name": "Sell signal",
         "showlegend": false,
         "type": "scatter",
         "x": [
          "2016-05-02T00:00:00",
          "2016-05-02T00:00:00"
         ],
         "xaxis": "x2",
         "y": [
          177.05,
          348.6
         ],
         "yaxis": "y2"
        },
        {
         "line": {
          "color": "red",
          "dash": "solid",
          "width": 0.5
         },
         "mode": "lines",
         "name": "Sell signal",
         "showlegend": false,
         "type": "scatter",
         "x": [
          "2016-05-23T00:00:00",
          "2016-05-23T00:00:00"
         ],
         "xaxis": "x2",
         "y": [
          177.05,
          348.6
         ],
         "yaxis": "y2"
        },
        {
         "line": {
          "color": "red",
          "dash": "dash",
          "width": 1
         },
         "mode": "lines",
         "name": "Sell signal",
         "showlegend": false,
         "type": "scatter",
         "x": [
          "2016-05-23T00:00:00",
          "2016-05-23T00:00:00"
         ],
         "xaxis": "x2",
         "y": [
          177.05,
          348.6
         ],
         "yaxis": "y2"
        },
        {
         "line": {
          "color": "red",
          "dash": "solid",
          "width": 0.5
         },
         "mode": "lines",
         "name": "Sell signal",
         "showlegend": false,
         "type": "scatter",
         "x": [
          "2016-05-30T00:00:00",
          "2016-05-30T00:00:00"
         ],
         "xaxis": "x2",
         "y": [
          177.05,
          348.6
         ],
         "yaxis": "y2"
        },
        {
         "line": {
          "color": "red",
          "dash": "solid",
          "width": 0.5
         },
         "mode": "lines",
         "name": "Sell signal",
         "showlegend": false,
         "type": "scatter",
         "x": [
          "2016-06-06T00:00:00",
          "2016-06-06T00:00:00"
         ],
         "xaxis": "x2",
         "y": [
          177.05,
          348.6
         ],
         "yaxis": "y2"
        },
        {
         "line": {
          "color": "red",
          "dash": "solid",
          "width": 0.5
         },
         "mode": "lines",
         "name": "Sell signal",
         "showlegend": false,
         "type": "scatter",
         "x": [
          "2016-06-27T00:00:00",
          "2016-06-27T00:00:00"
         ],
         "xaxis": "x2",
         "y": [
          177.05,
          348.6
         ],
         "yaxis": "y2"
        },
        {
         "line": {
          "color": "red",
          "dash": "dash",
          "width": 1
         },
         "mode": "lines",
         "name": "Sell signal",
         "showlegend": false,
         "type": "scatter",
         "x": [
          "2016-06-27T00:00:00",
          "2016-06-27T00:00:00"
         ],
         "xaxis": "x2",
         "y": [
          177.05,
          348.6
         ],
         "yaxis": "y2"
        },
        {
         "line": {
          "color": "green",
          "dash": "solid",
          "width": 0.5
         },
         "mode": "lines",
         "name": "Buy signal",
         "showlegend": false,
         "type": "scatter",
         "x": [
          "2016-07-04T00:00:00",
          "2016-07-04T00:00:00"
         ],
         "xaxis": "x2",
         "y": [
          177.05,
          348.6
         ],
         "yaxis": "y2"
        },
        {
         "line": {
          "color": "green",
          "dash": "dash",
          "width": 1
         },
         "mode": "lines",
         "name": "Buy signal",
         "showlegend": false,
         "type": "scatter",
         "x": [
          "2016-07-04T00:00:00",
          "2016-07-04T00:00:00"
         ],
         "xaxis": "x2",
         "y": [
          177.05,
          348.6
         ],
         "yaxis": "y2"
        },
        {
         "line": {
          "color": "green",
          "dash": "solid",
          "width": 0.5
         },
         "mode": "lines",
         "name": "Buy signal",
         "showlegend": false,
         "type": "scatter",
         "x": [
          "2016-07-25T00:00:00",
          "2016-07-25T00:00:00"
         ],
         "xaxis": "x2",
         "y": [
          177.05,
          348.6
         ],
         "yaxis": "y2"
        },
        {
         "line": {
          "color": "green",
          "dash": "solid",
          "width": 0.5
         },
         "mode": "lines",
         "name": "Buy signal",
         "showlegend": false,
         "type": "scatter",
         "x": [
          "2016-08-01T00:00:00",
          "2016-08-01T00:00:00"
         ],
         "xaxis": "x2",
         "y": [
          177.05,
          348.6
         ],
         "yaxis": "y2"
        },
        {
         "line": {
          "color": "red",
          "dash": "solid",
          "width": 0.5
         },
         "mode": "lines",
         "name": "Sell signal",
         "showlegend": false,
         "type": "scatter",
         "x": [
          "2016-08-29T00:00:00",
          "2016-08-29T00:00:00"
         ],
         "xaxis": "x2",
         "y": [
          177.05,
          348.6
         ],
         "yaxis": "y2"
        },
        {
         "line": {
          "color": "red",
          "dash": "solid",
          "width": 0.5
         },
         "mode": "lines",
         "name": "Sell signal",
         "showlegend": false,
         "type": "scatter",
         "x": [
          "2016-09-19T00:00:00",
          "2016-09-19T00:00:00"
         ],
         "xaxis": "x2",
         "y": [
          177.05,
          348.6
         ],
         "yaxis": "y2"
        },
        {
         "line": {
          "color": "red",
          "dash": "dash",
          "width": 1
         },
         "mode": "lines",
         "name": "Sell signal",
         "showlegend": false,
         "type": "scatter",
         "x": [
          "2016-09-19T00:00:00",
          "2016-09-19T00:00:00"
         ],
         "xaxis": "x2",
         "y": [
          177.05,
          348.6
         ],
         "yaxis": "y2"
        },
        {
         "line": {
          "color": "red",
          "dash": "solid",
          "width": 0.5
         },
         "mode": "lines",
         "name": "Sell signal",
         "showlegend": false,
         "type": "scatter",
         "x": [
          "2016-09-26T00:00:00",
          "2016-09-26T00:00:00"
         ],
         "xaxis": "x2",
         "y": [
          177.05,
          348.6
         ],
         "yaxis": "y2"
        },
        {
         "line": {
          "color": "red",
          "dash": "dash",
          "width": 1
         },
         "mode": "lines",
         "name": "Sell signal",
         "showlegend": false,
         "type": "scatter",
         "x": [
          "2016-09-26T00:00:00",
          "2016-09-26T00:00:00"
         ],
         "xaxis": "x2",
         "y": [
          177.05,
          348.6
         ],
         "yaxis": "y2"
        },
        {
         "line": {
          "color": "green",
          "dash": "dash",
          "width": 1
         },
         "mode": "lines",
         "name": "Buy signal",
         "showlegend": false,
         "type": "scatter",
         "x": [
          "2016-10-03T00:00:00",
          "2016-10-03T00:00:00"
         ],
         "xaxis": "x2",
         "y": [
          177.05,
          348.6
         ],
         "yaxis": "y2"
        },
        {
         "line": {
          "color": "green",
          "dash": "dash",
          "width": 1
         },
         "mode": "lines",
         "name": "Buy signal",
         "showlegend": false,
         "type": "scatter",
         "x": [
          "2016-10-10T00:00:00",
          "2016-10-10T00:00:00"
         ],
         "xaxis": "x2",
         "y": [
          177.05,
          348.6
         ],
         "yaxis": "y2"
        },
        {
         "line": {
          "color": "red",
          "dash": "solid",
          "width": 0.5
         },
         "mode": "lines",
         "name": "Sell signal",
         "showlegend": false,
         "type": "scatter",
         "x": [
          "2016-10-31T00:00:00",
          "2016-10-31T00:00:00"
         ],
         "xaxis": "x2",
         "y": [
          177.05,
          348.6
         ],
         "yaxis": "y2"
        },
        {
         "line": {
          "color": "red",
          "dash": "dash",
          "width": 1
         },
         "mode": "lines",
         "name": "Sell signal",
         "showlegend": false,
         "type": "scatter",
         "x": [
          "2016-10-31T00:00:00",
          "2016-10-31T00:00:00"
         ],
         "xaxis": "x2",
         "y": [
          177.05,
          348.6
         ],
         "yaxis": "y2"
        },
        {
         "line": {
          "color": "green",
          "dash": "solid",
          "width": 0.5
         },
         "mode": "lines",
         "name": "Buy signal",
         "showlegend": false,
         "type": "scatter",
         "x": [
          "2016-11-07T00:00:00",
          "2016-11-07T00:00:00"
         ],
         "xaxis": "x2",
         "y": [
          177.05,
          348.6
         ],
         "yaxis": "y2"
        },
        {
         "line": {
          "color": "green",
          "dash": "solid",
          "width": 0.5
         },
         "mode": "lines",
         "name": "Buy signal",
         "showlegend": false,
         "type": "scatter",
         "x": [
          "2016-11-28T00:00:00",
          "2016-11-28T00:00:00"
         ],
         "xaxis": "x2",
         "y": [
          177.05,
          348.6
         ],
         "yaxis": "y2"
        },
        {
         "line": {
          "color": "green",
          "dash": "dash",
          "width": 1
         },
         "mode": "lines",
         "name": "Buy signal",
         "showlegend": false,
         "type": "scatter",
         "x": [
          "2016-11-28T00:00:00",
          "2016-11-28T00:00:00"
         ],
         "xaxis": "x2",
         "y": [
          177.05,
          348.6
         ],
         "yaxis": "y2"
        },
        {
         "line": {
          "color": "red",
          "dash": "dash",
          "width": 1
         },
         "mode": "lines",
         "name": "Sell signal",
         "showlegend": false,
         "type": "scatter",
         "x": [
          "2017-01-16T00:00:00",
          "2017-01-16T00:00:00"
         ],
         "xaxis": "x2",
         "y": [
          177.05,
          348.6
         ],
         "yaxis": "y2"
        },
        {
         "line": {
          "color": "red",
          "dash": "dash",
          "width": 1
         },
         "mode": "lines",
         "name": "Sell signal",
         "showlegend": false,
         "type": "scatter",
         "x": [
          "2017-02-20T00:00:00",
          "2017-02-20T00:00:00"
         ],
         "xaxis": "x2",
         "y": [
          177.05,
          348.6
         ],
         "yaxis": "y2"
        },
        {
         "line": {
          "color": "green",
          "dash": "dash",
          "width": 1
         },
         "mode": "lines",
         "name": "Buy signal",
         "showlegend": false,
         "type": "scatter",
         "x": [
          "2017-02-27T00:00:00",
          "2017-02-27T00:00:00"
         ],
         "xaxis": "x2",
         "y": [
          177.05,
          348.6
         ],
         "yaxis": "y2"
        },
        {
         "line": {
          "color": "red",
          "dash": "dash",
          "width": 1
         },
         "mode": "lines",
         "name": "Sell signal",
         "showlegend": false,
         "type": "scatter",
         "x": [
          "2017-03-13T00:00:00",
          "2017-03-13T00:00:00"
         ],
         "xaxis": "x2",
         "y": [
          177.05,
          348.6
         ],
         "yaxis": "y2"
        },
        {
         "line": {
          "color": "red",
          "dash": "solid",
          "width": 0.5
         },
         "mode": "lines",
         "name": "Sell signal",
         "showlegend": false,
         "type": "scatter",
         "x": [
          "2017-03-20T00:00:00",
          "2017-03-20T00:00:00"
         ],
         "xaxis": "x2",
         "y": [
          177.05,
          348.6
         ],
         "yaxis": "y2"
        },
        {
         "line": {
          "color": "red",
          "dash": "dash",
          "width": 1
         },
         "mode": "lines",
         "name": "Sell signal",
         "showlegend": false,
         "type": "scatter",
         "x": [
          "2017-03-20T00:00:00",
          "2017-03-20T00:00:00"
         ],
         "xaxis": "x2",
         "y": [
          177.05,
          348.6
         ],
         "yaxis": "y2"
        },
        {
         "line": {
          "color": "green",
          "dash": "dash",
          "width": 1
         },
         "mode": "lines",
         "name": "Buy signal",
         "showlegend": false,
         "type": "scatter",
         "x": [
          "2017-04-10T00:00:00",
          "2017-04-10T00:00:00"
         ],
         "xaxis": "x2",
         "y": [
          177.05,
          348.6
         ],
         "yaxis": "y2"
        },
        {
         "line": {
          "color": "red",
          "dash": "solid",
          "width": 0.5
         },
         "mode": "lines",
         "name": "Sell signal",
         "showlegend": false,
         "type": "scatter",
         "x": [
          "2017-04-24T00:00:00",
          "2017-04-24T00:00:00"
         ],
         "xaxis": "x2",
         "y": [
          177.05,
          348.6
         ],
         "yaxis": "y2"
        },
        {
         "line": {
          "color": "red",
          "dash": "solid",
          "width": 0.5
         },
         "mode": "lines",
         "name": "Sell signal",
         "showlegend": false,
         "type": "scatter",
         "x": [
          "2017-05-01T00:00:00",
          "2017-05-01T00:00:00"
         ],
         "xaxis": "x2",
         "y": [
          177.05,
          348.6
         ],
         "yaxis": "y2"
        },
        {
         "line": {
          "color": "green",
          "dash": "dash",
          "width": 1
         },
         "mode": "lines",
         "name": "Buy signal",
         "showlegend": false,
         "type": "scatter",
         "x": [
          "2017-05-08T00:00:00",
          "2017-05-08T00:00:00"
         ],
         "xaxis": "x2",
         "y": [
          177.05,
          348.6
         ],
         "yaxis": "y2"
        },
        {
         "line": {
          "color": "red",
          "dash": "solid",
          "width": 0.5
         },
         "mode": "lines",
         "name": "Sell signal",
         "showlegend": false,
         "type": "scatter",
         "x": [
          "2017-05-22T00:00:00",
          "2017-05-22T00:00:00"
         ],
         "xaxis": "x2",
         "y": [
          177.05,
          348.6
         ],
         "yaxis": "y2"
        },
        {
         "line": {
          "color": "red",
          "dash": "dash",
          "width": 1
         },
         "mode": "lines",
         "name": "Sell signal",
         "showlegend": false,
         "type": "scatter",
         "x": [
          "2017-05-22T00:00:00",
          "2017-05-22T00:00:00"
         ],
         "xaxis": "x2",
         "y": [
          177.05,
          348.6
         ],
         "yaxis": "y2"
        },
        {
         "line": {
          "color": "red",
          "dash": "solid",
          "width": 0.5
         },
         "mode": "lines",
         "name": "Sell signal",
         "showlegend": false,
         "type": "scatter",
         "x": [
          "2017-05-29T00:00:00",
          "2017-05-29T00:00:00"
         ],
         "xaxis": "x2",
         "y": [
          177.05,
          348.6
         ],
         "yaxis": "y2"
        },
        {
         "line": {
          "color": "red",
          "dash": "dash",
          "width": 1
         },
         "mode": "lines",
         "name": "Sell signal",
         "showlegend": false,
         "type": "scatter",
         "x": [
          "2017-05-29T00:00:00",
          "2017-05-29T00:00:00"
         ],
         "xaxis": "x2",
         "y": [
          177.05,
          348.6
         ],
         "yaxis": "y2"
        },
        {
         "line": {
          "color": "red",
          "dash": "solid",
          "width": 0.5
         },
         "mode": "lines",
         "name": "Sell signal",
         "showlegend": false,
         "type": "scatter",
         "x": [
          "2017-06-05T00:00:00",
          "2017-06-05T00:00:00"
         ],
         "xaxis": "x2",
         "y": [
          177.05,
          348.6
         ],
         "yaxis": "y2"
        },
        {
         "line": {
          "color": "red",
          "dash": "dash",
          "width": 1
         },
         "mode": "lines",
         "name": "Sell signal",
         "showlegend": false,
         "type": "scatter",
         "x": [
          "2017-06-05T00:00:00",
          "2017-06-05T00:00:00"
         ],
         "xaxis": "x2",
         "y": [
          177.05,
          348.6
         ],
         "yaxis": "y2"
        },
        {
         "line": {
          "color": "red",
          "dash": "solid",
          "width": 0.5
         },
         "mode": "lines",
         "name": "Sell signal",
         "showlegend": false,
         "type": "scatter",
         "x": [
          "2017-06-19T00:00:00",
          "2017-06-19T00:00:00"
         ],
         "xaxis": "x2",
         "y": [
          177.05,
          348.6
         ],
         "yaxis": "y2"
        },
        {
         "line": {
          "color": "red",
          "dash": "dash",
          "width": 1
         },
         "mode": "lines",
         "name": "Sell signal",
         "showlegend": false,
         "type": "scatter",
         "x": [
          "2017-06-19T00:00:00",
          "2017-06-19T00:00:00"
         ],
         "xaxis": "x2",
         "y": [
          177.05,
          348.6
         ],
         "yaxis": "y2"
        },
        {
         "line": {
          "color": "red",
          "dash": "solid",
          "width": 0.5
         },
         "mode": "lines",
         "name": "Sell signal",
         "showlegend": false,
         "type": "scatter",
         "x": [
          "2017-06-26T00:00:00",
          "2017-06-26T00:00:00"
         ],
         "xaxis": "x2",
         "y": [
          177.05,
          348.6
         ],
         "yaxis": "y2"
        },
        {
         "line": {
          "color": "red",
          "dash": "solid",
          "width": 0.5
         },
         "mode": "lines",
         "name": "Sell signal",
         "showlegend": false,
         "type": "scatter",
         "x": [
          "2017-07-03T00:00:00",
          "2017-07-03T00:00:00"
         ],
         "xaxis": "x2",
         "y": [
          177.05,
          348.6
         ],
         "yaxis": "y2"
        },
        {
         "line": {
          "color": "red",
          "dash": "solid",
          "width": 0.5
         },
         "mode": "lines",
         "name": "Sell signal",
         "showlegend": false,
         "type": "scatter",
         "x": [
          "2017-07-17T00:00:00",
          "2017-07-17T00:00:00"
         ],
         "xaxis": "x2",
         "y": [
          177.05,
          348.6
         ],
         "yaxis": "y2"
        },
        {
         "line": {
          "color": "red",
          "dash": "solid",
          "width": 0.5
         },
         "mode": "lines",
         "name": "Sell signal",
         "showlegend": false,
         "type": "scatter",
         "x": [
          "2017-07-31T00:00:00",
          "2017-07-31T00:00:00"
         ],
         "xaxis": "x2",
         "y": [
          177.05,
          348.6
         ],
         "yaxis": "y2"
        },
        {
         "line": {
          "color": "red",
          "dash": "dash",
          "width": 1
         },
         "mode": "lines",
         "name": "Sell signal",
         "showlegend": false,
         "type": "scatter",
         "x": [
          "2017-07-31T00:00:00",
          "2017-07-31T00:00:00"
         ],
         "xaxis": "x2",
         "y": [
          177.05,
          348.6
         ],
         "yaxis": "y2"
        },
        {
         "line": {
          "color": "green",
          "dash": "dash",
          "width": 1
         },
         "mode": "lines",
         "name": "Buy signal",
         "showlegend": false,
         "type": "scatter",
         "x": [
          "2017-09-18T00:00:00",
          "2017-09-18T00:00:00"
         ],
         "xaxis": "x2",
         "y": [
          177.05,
          348.6
         ],
         "yaxis": "y2"
        },
        {
         "line": {
          "color": "red",
          "dash": "solid",
          "width": 0.5
         },
         "mode": "lines",
         "name": "Sell signal",
         "showlegend": false,
         "type": "scatter",
         "x": [
          "2017-10-02T00:00:00",
          "2017-10-02T00:00:00"
         ],
         "xaxis": "x2",
         "y": [
          177.05,
          348.6
         ],
         "yaxis": "y2"
        },
        {
         "line": {
          "color": "red",
          "dash": "solid",
          "width": 0.5
         },
         "mode": "lines",
         "name": "Sell signal",
         "showlegend": false,
         "type": "scatter",
         "x": [
          "2017-10-16T00:00:00",
          "2017-10-16T00:00:00"
         ],
         "xaxis": "x2",
         "y": [
          177.05,
          348.6
         ],
         "yaxis": "y2"
        },
        {
         "line": {
          "color": "red",
          "dash": "dash",
          "width": 1
         },
         "mode": "lines",
         "name": "Sell signal",
         "showlegend": false,
         "type": "scatter",
         "x": [
          "2017-10-16T00:00:00",
          "2017-10-16T00:00:00"
         ],
         "xaxis": "x2",
         "y": [
          177.05,
          348.6
         ],
         "yaxis": "y2"
        },
        {
         "line": {
          "color": "red",
          "dash": "solid",
          "width": 0.5
         },
         "mode": "lines",
         "name": "Sell signal",
         "showlegend": false,
         "type": "scatter",
         "x": [
          "2017-10-23T00:00:00",
          "2017-10-23T00:00:00"
         ],
         "xaxis": "x2",
         "y": [
          177.05,
          348.6
         ],
         "yaxis": "y2"
        },
        {
         "line": {
          "color": "red",
          "dash": "dash",
          "width": 1
         },
         "mode": "lines",
         "name": "Sell signal",
         "showlegend": false,
         "type": "scatter",
         "x": [
          "2017-10-23T00:00:00",
          "2017-10-23T00:00:00"
         ],
         "xaxis": "x2",
         "y": [
          177.05,
          348.6
         ],
         "yaxis": "y2"
        },
        {
         "line": {
          "color": "red",
          "dash": "dash",
          "width": 1
         },
         "mode": "lines",
         "name": "Sell signal",
         "showlegend": false,
         "type": "scatter",
         "x": [
          "2017-11-06T00:00:00",
          "2017-11-06T00:00:00"
         ],
         "xaxis": "x2",
         "y": [
          177.05,
          348.6
         ],
         "yaxis": "y2"
        },
        {
         "line": {
          "color": "green",
          "dash": "solid",
          "width": 0.5
         },
         "mode": "lines",
         "name": "Buy signal",
         "showlegend": false,
         "type": "scatter",
         "x": [
          "2017-11-20T00:00:00",
          "2017-11-20T00:00:00"
         ],
         "xaxis": "x2",
         "y": [
          177.05,
          348.6
         ],
         "yaxis": "y2"
        },
        {
         "line": {
          "color": "green",
          "dash": "dash",
          "width": 1
         },
         "mode": "lines",
         "name": "Buy signal",
         "showlegend": false,
         "type": "scatter",
         "x": [
          "2017-11-20T00:00:00",
          "2017-11-20T00:00:00"
         ],
         "xaxis": "x2",
         "y": [
          177.05,
          348.6
         ],
         "yaxis": "y2"
        },
        {
         "line": {
          "color": "green",
          "dash": "solid",
          "width": 0.5
         },
         "mode": "lines",
         "name": "Buy signal",
         "showlegend": false,
         "type": "scatter",
         "x": [
          "2017-11-27T00:00:00",
          "2017-11-27T00:00:00"
         ],
         "xaxis": "x2",
         "y": [
          177.05,
          348.6
         ],
         "yaxis": "y2"
        },
        {
         "line": {
          "color": "green",
          "dash": "dash",
          "width": 1
         },
         "mode": "lines",
         "name": "Buy signal",
         "showlegend": false,
         "type": "scatter",
         "x": [
          "2017-11-27T00:00:00",
          "2017-11-27T00:00:00"
         ],
         "xaxis": "x2",
         "y": [
          177.05,
          348.6
         ],
         "yaxis": "y2"
        },
        {
         "line": {
          "color": "red",
          "dash": "dash",
          "width": 1
         },
         "mode": "lines",
         "name": "Sell signal",
         "showlegend": false,
         "type": "scatter",
         "x": [
          "2017-12-04T00:00:00",
          "2017-12-04T00:00:00"
         ],
         "xaxis": "x2",
         "y": [
          177.05,
          348.6
         ],
         "yaxis": "y2"
        },
        {
         "line": {
          "color": "green",
          "dash": "solid",
          "width": 0.5
         },
         "mode": "lines",
         "name": "Buy signal",
         "showlegend": false,
         "type": "scatter",
         "x": [
          "2017-12-11T00:00:00",
          "2017-12-11T00:00:00"
         ],
         "xaxis": "x2",
         "y": [
          177.05,
          348.6
         ],
         "yaxis": "y2"
        },
        {
         "line": {
          "color": "red",
          "dash": "solid",
          "width": 0.5
         },
         "mode": "lines",
         "name": "Sell signal",
         "showlegend": false,
         "type": "scatter",
         "x": [
          "2017-12-25T00:00:00",
          "2017-12-25T00:00:00"
         ],
         "xaxis": "x2",
         "y": [
          177.05,
          348.6
         ],
         "yaxis": "y2"
        },
        {
         "line": {
          "color": "red",
          "dash": "solid",
          "width": 0.5
         },
         "mode": "lines",
         "name": "Sell signal",
         "showlegend": false,
         "type": "scatter",
         "x": [
          "2018-01-22T00:00:00",
          "2018-01-22T00:00:00"
         ],
         "xaxis": "x2",
         "y": [
          177.05,
          348.6
         ],
         "yaxis": "y2"
        },
        {
         "line": {
          "color": "red",
          "dash": "dash",
          "width": 1
         },
         "mode": "lines",
         "name": "Sell signal",
         "showlegend": false,
         "type": "scatter",
         "x": [
          "2018-01-22T00:00:00",
          "2018-01-22T00:00:00"
         ],
         "xaxis": "x2",
         "y": [
          177.05,
          348.6
         ],
         "yaxis": "y2"
        },
        {
         "line": {
          "color": "red",
          "dash": "solid",
          "width": 0.5
         },
         "mode": "lines",
         "name": "Sell signal",
         "showlegend": false,
         "type": "scatter",
         "x": [
          "2018-01-29T00:00:00",
          "2018-01-29T00:00:00"
         ],
         "xaxis": "x2",
         "y": [
          177.05,
          348.6
         ],
         "yaxis": "y2"
        },
        {
         "line": {
          "color": "red",
          "dash": "dash",
          "width": 1
         },
         "mode": "lines",
         "name": "Sell signal",
         "showlegend": false,
         "type": "scatter",
         "x": [
          "2018-01-29T00:00:00",
          "2018-01-29T00:00:00"
         ],
         "xaxis": "x2",
         "y": [
          177.05,
          348.6
         ],
         "yaxis": "y2"
        },
        {
         "line": {
          "color": "red",
          "dash": "dash",
          "width": 1
         },
         "mode": "lines",
         "name": "Sell signal",
         "showlegend": false,
         "type": "scatter",
         "x": [
          "2018-02-19T00:00:00",
          "2018-02-19T00:00:00"
         ],
         "xaxis": "x2",
         "y": [
          177.05,
          348.6
         ],
         "yaxis": "y2"
        },
        {
         "line": {
          "color": "red",
          "dash": "dash",
          "width": 1
         },
         "mode": "lines",
         "name": "Sell signal",
         "showlegend": false,
         "type": "scatter",
         "x": [
          "2018-02-26T00:00:00",
          "2018-02-26T00:00:00"
         ],
         "xaxis": "x2",
         "y": [
          177.05,
          348.6
         ],
         "yaxis": "y2"
        },
        {
         "line": {
          "color": "red",
          "dash": "dash",
          "width": 1
         },
         "mode": "lines",
         "name": "Sell signal",
         "showlegend": false,
         "type": "scatter",
         "x": [
          "2018-03-05T00:00:00",
          "2018-03-05T00:00:00"
         ],
         "xaxis": "x2",
         "y": [
          177.05,
          348.6
         ],
         "yaxis": "y2"
        },
        {
         "line": {
          "color": "green",
          "dash": "solid",
          "width": 0.5
         },
         "mode": "lines",
         "name": "Buy signal",
         "showlegend": false,
         "type": "scatter",
         "x": [
          "2018-03-19T00:00:00",
          "2018-03-19T00:00:00"
         ],
         "xaxis": "x2",
         "y": [
          177.05,
          348.6
         ],
         "yaxis": "y2"
        },
        {
         "line": {
          "color": "green",
          "dash": "dash",
          "width": 1
         },
         "mode": "lines",
         "name": "Buy signal",
         "showlegend": false,
         "type": "scatter",
         "x": [
          "2018-03-19T00:00:00",
          "2018-03-19T00:00:00"
         ],
         "xaxis": "x2",
         "y": [
          177.05,
          348.6
         ],
         "yaxis": "y2"
        },
        {
         "line": {
          "color": "green",
          "dash": "solid",
          "width": 0.5
         },
         "mode": "lines",
         "name": "Buy signal",
         "showlegend": false,
         "type": "scatter",
         "x": [
          "2018-03-26T00:00:00",
          "2018-03-26T00:00:00"
         ],
         "xaxis": "x2",
         "y": [
          177.05,
          348.6
         ],
         "yaxis": "y2"
        },
        {
         "line": {
          "color": "green",
          "dash": "dash",
          "width": 1
         },
         "mode": "lines",
         "name": "Buy signal",
         "showlegend": false,
         "type": "scatter",
         "x": [
          "2018-03-26T00:00:00",
          "2018-03-26T00:00:00"
         ],
         "xaxis": "x2",
         "y": [
          177.05,
          348.6
         ],
         "yaxis": "y2"
        },
        {
         "line": {
          "color": "green",
          "dash": "solid",
          "width": 0.5
         },
         "mode": "lines",
         "name": "Buy signal",
         "showlegend": false,
         "type": "scatter",
         "x": [
          "2018-04-02T00:00:00",
          "2018-04-02T00:00:00"
         ],
         "xaxis": "x2",
         "y": [
          177.05,
          348.6
         ],
         "yaxis": "y2"
        },
        {
         "line": {
          "color": "green",
          "dash": "dash",
          "width": 1
         },
         "mode": "lines",
         "name": "Buy signal",
         "showlegend": false,
         "type": "scatter",
         "x": [
          "2018-04-02T00:00:00",
          "2018-04-02T00:00:00"
         ],
         "xaxis": "x2",
         "y": [
          177.05,
          348.6
         ],
         "yaxis": "y2"
        },
        {
         "line": {
          "color": "green",
          "dash": "solid",
          "width": 0.5
         },
         "mode": "lines",
         "name": "Buy signal",
         "showlegend": false,
         "type": "scatter",
         "x": [
          "2018-04-09T00:00:00",
          "2018-04-09T00:00:00"
         ],
         "xaxis": "x2",
         "y": [
          177.05,
          348.6
         ],
         "yaxis": "y2"
        },
        {
         "line": {
          "color": "green",
          "dash": "solid",
          "width": 0.5
         },
         "mode": "lines",
         "name": "Buy signal",
         "showlegend": false,
         "type": "scatter",
         "x": [
          "2018-04-16T00:00:00",
          "2018-04-16T00:00:00"
         ],
         "xaxis": "x2",
         "y": [
          177.05,
          348.6
         ],
         "yaxis": "y2"
        },
        {
         "line": {
          "color": "green",
          "dash": "solid",
          "width": 0.5
         },
         "mode": "lines",
         "name": "Buy signal",
         "showlegend": false,
         "type": "scatter",
         "x": [
          "2018-04-23T00:00:00",
          "2018-04-23T00:00:00"
         ],
         "xaxis": "x2",
         "y": [
          177.05,
          348.6
         ],
         "yaxis": "y2"
        },
        {
         "line": {
          "color": "red",
          "dash": "dash",
          "width": 1
         },
         "mode": "lines",
         "name": "Sell signal",
         "showlegend": false,
         "type": "scatter",
         "x": [
          "2018-05-21T00:00:00",
          "2018-05-21T00:00:00"
         ],
         "xaxis": "x2",
         "y": [
          177.05,
          348.6
         ],
         "yaxis": "y2"
        },
        {
         "line": {
          "color": "green",
          "dash": "solid",
          "width": 0.5
         },
         "mode": "lines",
         "name": "Buy signal",
         "showlegend": false,
         "type": "scatter",
         "x": [
          "2018-06-04T00:00:00",
          "2018-06-04T00:00:00"
         ],
         "xaxis": "x2",
         "y": [
          177.05,
          348.6
         ],
         "yaxis": "y2"
        },
        {
         "line": {
          "color": "green",
          "dash": "dash",
          "width": 1
         },
         "mode": "lines",
         "name": "Buy signal",
         "showlegend": false,
         "type": "scatter",
         "x": [
          "2018-06-04T00:00:00",
          "2018-06-04T00:00:00"
         ],
         "xaxis": "x2",
         "y": [
          177.05,
          348.6
         ],
         "yaxis": "y2"
        },
        {
         "line": {
          "color": "red",
          "dash": "solid",
          "width": 0.5
         },
         "mode": "lines",
         "name": "Sell signal",
         "showlegend": false,
         "type": "scatter",
         "x": [
          "2018-08-20T00:00:00",
          "2018-08-20T00:00:00"
         ],
         "xaxis": "x2",
         "y": [
          177.05,
          348.6
         ],
         "yaxis": "y2"
        },
        {
         "line": {
          "color": "red",
          "dash": "dash",
          "width": 1
         },
         "mode": "lines",
         "name": "Sell signal",
         "showlegend": false,
         "type": "scatter",
         "x": [
          "2018-08-20T00:00:00",
          "2018-08-20T00:00:00"
         ],
         "xaxis": "x2",
         "y": [
          177.05,
          348.6
         ],
         "yaxis": "y2"
        },
        {
         "line": {
          "color": "red",
          "dash": "solid",
          "width": 0.5
         },
         "mode": "lines",
         "name": "Sell signal",
         "showlegend": false,
         "type": "scatter",
         "x": [
          "2018-08-27T00:00:00",
          "2018-08-27T00:00:00"
         ],
         "xaxis": "x2",
         "y": [
          177.05,
          348.6
         ],
         "yaxis": "y2"
        },
        {
         "line": {
          "color": "red",
          "dash": "solid",
          "width": 0.5
         },
         "mode": "lines",
         "name": "Sell signal",
         "showlegend": false,
         "type": "scatter",
         "x": [
          "2018-09-10T00:00:00",
          "2018-09-10T00:00:00"
         ],
         "xaxis": "x2",
         "y": [
          177.05,
          348.6
         ],
         "yaxis": "y2"
        },
        {
         "line": {
          "color": "red",
          "dash": "solid",
          "width": 0.5
         },
         "mode": "lines",
         "name": "Sell signal",
         "showlegend": false,
         "type": "scatter",
         "x": [
          "2018-09-24T00:00:00",
          "2018-09-24T00:00:00"
         ],
         "xaxis": "x2",
         "y": [
          177.05,
          348.6
         ],
         "yaxis": "y2"
        },
        {
         "line": {
          "color": "red",
          "dash": "solid",
          "width": 0.5
         },
         "mode": "lines",
         "name": "Sell signal",
         "showlegend": false,
         "type": "scatter",
         "x": [
          "2018-10-01T00:00:00",
          "2018-10-01T00:00:00"
         ],
         "xaxis": "x2",
         "y": [
          177.05,
          348.6
         ],
         "yaxis": "y2"
        },
        {
         "line": {
          "color": "red",
          "dash": "dash",
          "width": 1
         },
         "mode": "lines",
         "name": "Sell signal",
         "showlegend": false,
         "type": "scatter",
         "x": [
          "2018-10-01T00:00:00",
          "2018-10-01T00:00:00"
         ],
         "xaxis": "x2",
         "y": [
          177.05,
          348.6
         ],
         "yaxis": "y2"
        },
        {
         "line": {
          "color": "red",
          "dash": "solid",
          "width": 0.5
         },
         "mode": "lines",
         "name": "Sell signal",
         "showlegend": false,
         "type": "scatter",
         "x": [
          "2018-10-08T00:00:00",
          "2018-10-08T00:00:00"
         ],
         "xaxis": "x2",
         "y": [
          177.05,
          348.6
         ],
         "yaxis": "y2"
        },
        {
         "line": {
          "color": "red",
          "dash": "solid",
          "width": 0.5
         },
         "mode": "lines",
         "name": "Sell signal",
         "showlegend": false,
         "type": "scatter",
         "x": [
          "2018-11-05T00:00:00",
          "2018-11-05T00:00:00"
         ],
         "xaxis": "x2",
         "y": [
          177.05,
          348.6
         ],
         "yaxis": "y2"
        },
        {
         "line": {
          "color": "red",
          "dash": "dash",
          "width": 1
         },
         "mode": "lines",
         "name": "Sell signal",
         "showlegend": false,
         "type": "scatter",
         "x": [
          "2018-11-05T00:00:00",
          "2018-11-05T00:00:00"
         ],
         "xaxis": "x2",
         "y": [
          177.05,
          348.6
         ],
         "yaxis": "y2"
        },
        {
         "line": {
          "color": "green",
          "dash": "dash",
          "width": 1
         },
         "mode": "lines",
         "name": "Buy signal",
         "showlegend": false,
         "type": "scatter",
         "x": [
          "2018-11-12T00:00:00",
          "2018-11-12T00:00:00"
         ],
         "xaxis": "x2",
         "y": [
          177.05,
          348.6
         ],
         "yaxis": "y2"
        },
        {
         "line": {
          "color": "red",
          "dash": "solid",
          "width": 0.5
         },
         "mode": "lines",
         "name": "Sell signal",
         "showlegend": false,
         "type": "scatter",
         "x": [
          "2018-11-19T00:00:00",
          "2018-11-19T00:00:00"
         ],
         "xaxis": "x2",
         "y": [
          177.05,
          348.6
         ],
         "yaxis": "y2"
        },
        {
         "line": {
          "color": "red",
          "dash": "solid",
          "width": 0.5
         },
         "mode": "lines",
         "name": "Sell signal",
         "showlegend": false,
         "type": "scatter",
         "x": [
          "2018-11-26T00:00:00",
          "2018-11-26T00:00:00"
         ],
         "xaxis": "x2",
         "y": [
          177.05,
          348.6
         ],
         "yaxis": "y2"
        },
        {
         "line": {
          "color": "red",
          "dash": "solid",
          "width": 0.5
         },
         "mode": "lines",
         "name": "Sell signal",
         "showlegend": false,
         "type": "scatter",
         "x": [
          "2018-12-03T00:00:00",
          "2018-12-03T00:00:00"
         ],
         "xaxis": "x2",
         "y": [
          177.05,
          348.6
         ],
         "yaxis": "y2"
        },
        {
         "line": {
          "color": "red",
          "dash": "solid",
          "width": 0.5
         },
         "mode": "lines",
         "name": "Sell signal",
         "showlegend": false,
         "type": "scatter",
         "x": [
          "2018-12-10T00:00:00",
          "2018-12-10T00:00:00"
         ],
         "xaxis": "x2",
         "y": [
          177.05,
          348.6
         ],
         "yaxis": "y2"
        },
        {
         "line": {
          "color": "red",
          "dash": "solid",
          "width": 0.5
         },
         "mode": "lines",
         "name": "Sell signal",
         "showlegend": false,
         "type": "scatter",
         "x": [
          "2018-12-17T00:00:00",
          "2018-12-17T00:00:00"
         ],
         "xaxis": "x2",
         "y": [
          177.05,
          348.6
         ],
         "yaxis": "y2"
        },
        {
         "line": {
          "color": "red",
          "dash": "dash",
          "width": 1
         },
         "mode": "lines",
         "name": "Sell signal",
         "showlegend": false,
         "type": "scatter",
         "x": [
          "2018-12-17T00:00:00",
          "2018-12-17T00:00:00"
         ],
         "xaxis": "x2",
         "y": [
          177.05,
          348.6
         ],
         "yaxis": "y2"
        },
        {
         "line": {
          "color": "red",
          "dash": "dash",
          "width": 1
         },
         "mode": "lines",
         "name": "Sell signal",
         "showlegend": false,
         "type": "scatter",
         "x": [
          "2018-12-24T00:00:00",
          "2018-12-24T00:00:00"
         ],
         "xaxis": "x2",
         "y": [
          177.05,
          348.6
         ],
         "yaxis": "y2"
        },
        {
         "line": {
          "color": "green",
          "dash": "dash",
          "width": 1
         },
         "mode": "lines",
         "name": "Buy signal",
         "showlegend": false,
         "type": "scatter",
         "x": [
          "2018-12-31T00:00:00",
          "2018-12-31T00:00:00"
         ],
         "xaxis": "x2",
         "y": [
          177.05,
          348.6
         ],
         "yaxis": "y2"
        },
        {
         "line": {
          "color": "red",
          "dash": "solid",
          "width": 0.5
         },
         "mode": "lines",
         "name": "Sell signal",
         "showlegend": false,
         "type": "scatter",
         "x": [
          "2019-02-04T00:00:00",
          "2019-02-04T00:00:00"
         ],
         "xaxis": "x2",
         "y": [
          177.05,
          348.6
         ],
         "yaxis": "y2"
        },
        {
         "line": {
          "color": "red",
          "dash": "dash",
          "width": 1
         },
         "mode": "lines",
         "name": "Sell signal",
         "showlegend": false,
         "type": "scatter",
         "x": [
          "2019-02-04T00:00:00",
          "2019-02-04T00:00:00"
         ],
         "xaxis": "x2",
         "y": [
          177.05,
          348.6
         ],
         "yaxis": "y2"
        },
        {
         "line": {
          "color": "red",
          "dash": "solid",
          "width": 0.5
         },
         "mode": "lines",
         "name": "Sell signal",
         "showlegend": false,
         "type": "scatter",
         "x": [
          "2019-02-11T00:00:00",
          "2019-02-11T00:00:00"
         ],
         "xaxis": "x2",
         "y": [
          177.05,
          348.6
         ],
         "yaxis": "y2"
        },
        {
         "line": {
          "color": "red",
          "dash": "dash",
          "width": 1
         },
         "mode": "lines",
         "name": "Sell signal",
         "showlegend": false,
         "type": "scatter",
         "x": [
          "2019-02-11T00:00:00",
          "2019-02-11T00:00:00"
         ],
         "xaxis": "x2",
         "y": [
          177.05,
          348.6
         ],
         "yaxis": "y2"
        },
        {
         "line": {
          "color": "red",
          "dash": "solid",
          "width": 0.5
         },
         "mode": "lines",
         "name": "Sell signal",
         "showlegend": false,
         "type": "scatter",
         "x": [
          "2019-02-18T00:00:00",
          "2019-02-18T00:00:00"
         ],
         "xaxis": "x2",
         "y": [
          177.05,
          348.6
         ],
         "yaxis": "y2"
        },
        {
         "line": {
          "color": "red",
          "dash": "solid",
          "width": 0.5
         },
         "mode": "lines",
         "name": "Sell signal",
         "showlegend": false,
         "type": "scatter",
         "x": [
          "2019-02-25T00:00:00",
          "2019-02-25T00:00:00"
         ],
         "xaxis": "x2",
         "y": [
          177.05,
          348.6
         ],
         "yaxis": "y2"
        },
        {
         "line": {
          "color": "green",
          "dash": "dash",
          "width": 1
         },
         "mode": "lines",
         "name": "Buy signal",
         "showlegend": false,
         "type": "scatter",
         "x": [
          "2019-03-04T00:00:00",
          "2019-03-04T00:00:00"
         ],
         "xaxis": "x2",
         "y": [
          177.05,
          348.6
         ],
         "yaxis": "y2"
        },
        {
         "line": {
          "color": "green",
          "dash": "dash",
          "width": 1
         },
         "mode": "lines",
         "name": "Buy signal",
         "showlegend": false,
         "type": "scatter",
         "x": [
          "2019-03-11T00:00:00",
          "2019-03-11T00:00:00"
         ],
         "xaxis": "x2",
         "y": [
          177.05,
          348.6
         ],
         "yaxis": "y2"
        },
        {
         "line": {
          "color": "red",
          "dash": "solid",
          "width": 0.5
         },
         "mode": "lines",
         "name": "Sell signal",
         "showlegend": false,
         "type": "scatter",
         "x": [
          "2019-03-18T00:00:00",
          "2019-03-18T00:00:00"
         ],
         "xaxis": "x2",
         "y": [
          177.05,
          348.6
         ],
         "yaxis": "y2"
        },
        {
         "line": {
          "color": "red",
          "dash": "solid",
          "width": 0.5
         },
         "mode": "lines",
         "name": "Sell signal",
         "showlegend": false,
         "type": "scatter",
         "x": [
          "2019-04-01T00:00:00",
          "2019-04-01T00:00:00"
         ],
         "xaxis": "x2",
         "y": [
          177.05,
          348.6
         ],
         "yaxis": "y2"
        },
        {
         "line": {
          "color": "red",
          "dash": "dash",
          "width": 1
         },
         "mode": "lines",
         "name": "Sell signal",
         "showlegend": false,
         "type": "scatter",
         "x": [
          "2019-04-01T00:00:00",
          "2019-04-01T00:00:00"
         ],
         "xaxis": "x2",
         "y": [
          177.05,
          348.6
         ],
         "yaxis": "y2"
        },
        {
         "line": {
          "color": "red",
          "dash": "solid",
          "width": 0.5
         },
         "mode": "lines",
         "name": "Sell signal",
         "showlegend": false,
         "type": "scatter",
         "x": [
          "2019-04-08T00:00:00",
          "2019-04-08T00:00:00"
         ],
         "xaxis": "x2",
         "y": [
          177.05,
          348.6
         ],
         "yaxis": "y2"
        },
        {
         "line": {
          "color": "red",
          "dash": "dash",
          "width": 1
         },
         "mode": "lines",
         "name": "Sell signal",
         "showlegend": false,
         "type": "scatter",
         "x": [
          "2019-04-08T00:00:00",
          "2019-04-08T00:00:00"
         ],
         "xaxis": "x2",
         "y": [
          177.05,
          348.6
         ],
         "yaxis": "y2"
        },
        {
         "line": {
          "color": "red",
          "dash": "solid",
          "width": 0.5
         },
         "mode": "lines",
         "name": "Sell signal",
         "showlegend": false,
         "type": "scatter",
         "x": [
          "2019-04-15T00:00:00",
          "2019-04-15T00:00:00"
         ],
         "xaxis": "x2",
         "y": [
          177.05,
          348.6
         ],
         "yaxis": "y2"
        },
        {
         "line": {
          "color": "red",
          "dash": "dash",
          "width": 1
         },
         "mode": "lines",
         "name": "Sell signal",
         "showlegend": false,
         "type": "scatter",
         "x": [
          "2019-04-15T00:00:00",
          "2019-04-15T00:00:00"
         ],
         "xaxis": "x2",
         "y": [
          177.05,
          348.6
         ],
         "yaxis": "y2"
        },
        {
         "line": {
          "color": "red",
          "dash": "solid",
          "width": 0.5
         },
         "mode": "lines",
         "name": "Sell signal",
         "showlegend": false,
         "type": "scatter",
         "x": [
          "2019-04-29T00:00:00",
          "2019-04-29T00:00:00"
         ],
         "xaxis": "x2",
         "y": [
          177.05,
          348.6
         ],
         "yaxis": "y2"
        },
        {
         "line": {
          "color": "red",
          "dash": "dash",
          "width": 1
         },
         "mode": "lines",
         "name": "Sell signal",
         "showlegend": false,
         "type": "scatter",
         "x": [
          "2019-04-29T00:00:00",
          "2019-04-29T00:00:00"
         ],
         "xaxis": "x2",
         "y": [
          177.05,
          348.6
         ],
         "yaxis": "y2"
        },
        {
         "line": {
          "color": "red",
          "dash": "solid",
          "width": 0.5
         },
         "mode": "lines",
         "name": "Sell signal",
         "showlegend": false,
         "type": "scatter",
         "x": [
          "2019-05-06T00:00:00",
          "2019-05-06T00:00:00"
         ],
         "xaxis": "x2",
         "y": [
          177.05,
          348.6
         ],
         "yaxis": "y2"
        },
        {
         "line": {
          "color": "red",
          "dash": "dash",
          "width": 1
         },
         "mode": "lines",
         "name": "Sell signal",
         "showlegend": false,
         "type": "scatter",
         "x": [
          "2019-05-06T00:00:00",
          "2019-05-06T00:00:00"
         ],
         "xaxis": "x2",
         "y": [
          177.05,
          348.6
         ],
         "yaxis": "y2"
        },
        {
         "line": {
          "color": "red",
          "dash": "dash",
          "width": 1
         },
         "mode": "lines",
         "name": "Sell signal",
         "showlegend": false,
         "type": "scatter",
         "x": [
          "2019-05-13T00:00:00",
          "2019-05-13T00:00:00"
         ],
         "xaxis": "x2",
         "y": [
          177.05,
          348.6
         ],
         "yaxis": "y2"
        },
        {
         "line": {
          "color": "red",
          "dash": "solid",
          "width": 0.5
         },
         "mode": "lines",
         "name": "Sell signal",
         "showlegend": false,
         "type": "scatter",
         "x": [
          "2019-05-27T00:00:00",
          "2019-05-27T00:00:00"
         ],
         "xaxis": "x2",
         "y": [
          177.05,
          348.6
         ],
         "yaxis": "y2"
        },
        {
         "line": {
          "color": "red",
          "dash": "dash",
          "width": 1
         },
         "mode": "lines",
         "name": "Sell signal",
         "showlegend": false,
         "type": "scatter",
         "x": [
          "2019-05-27T00:00:00",
          "2019-05-27T00:00:00"
         ],
         "xaxis": "x2",
         "y": [
          177.05,
          348.6
         ],
         "yaxis": "y2"
        },
        {
         "line": {
          "color": "red",
          "dash": "solid",
          "width": 0.5
         },
         "mode": "lines",
         "name": "Sell signal",
         "showlegend": false,
         "type": "scatter",
         "x": [
          "2019-06-03T00:00:00",
          "2019-06-03T00:00:00"
         ],
         "xaxis": "x2",
         "y": [
          177.05,
          348.6
         ],
         "yaxis": "y2"
        },
        {
         "line": {
          "color": "green",
          "dash": "dash",
          "width": 1
         },
         "mode": "lines",
         "name": "Buy signal",
         "showlegend": false,
         "type": "scatter",
         "x": [
          "2019-06-10T00:00:00",
          "2019-06-10T00:00:00"
         ],
         "xaxis": "x2",
         "y": [
          177.05,
          348.6
         ],
         "yaxis": "y2"
        },
        {
         "line": {
          "color": "red",
          "dash": "solid",
          "width": 0.5
         },
         "mode": "lines",
         "name": "Sell signal",
         "showlegend": false,
         "type": "scatter",
         "x": [
          "2019-07-01T00:00:00",
          "2019-07-01T00:00:00"
         ],
         "xaxis": "x2",
         "y": [
          177.05,
          348.6
         ],
         "yaxis": "y2"
        },
        {
         "line": {
          "color": "red",
          "dash": "dash",
          "width": 1
         },
         "mode": "lines",
         "name": "Sell signal",
         "showlegend": false,
         "type": "scatter",
         "x": [
          "2019-07-15T00:00:00",
          "2019-07-15T00:00:00"
         ],
         "xaxis": "x2",
         "y": [
          177.05,
          348.6
         ],
         "yaxis": "y2"
        },
        {
         "line": {
          "color": "red",
          "dash": "dash",
          "width": 1
         },
         "mode": "lines",
         "name": "Sell signal",
         "showlegend": false,
         "type": "scatter",
         "x": [
          "2019-08-05T00:00:00",
          "2019-08-05T00:00:00"
         ],
         "xaxis": "x2",
         "y": [
          177.05,
          348.6
         ],
         "yaxis": "y2"
        },
        {
         "line": {
          "color": "green",
          "dash": "solid",
          "width": 0.5
         },
         "mode": "lines",
         "name": "Buy signal",
         "showlegend": false,
         "type": "scatter",
         "x": [
          "2019-08-12T00:00:00",
          "2019-08-12T00:00:00"
         ],
         "xaxis": "x2",
         "y": [
          177.05,
          348.6
         ],
         "yaxis": "y2"
        },
        {
         "line": {
          "color": "green",
          "dash": "dash",
          "width": 1
         },
         "mode": "lines",
         "name": "Buy signal",
         "showlegend": false,
         "type": "scatter",
         "x": [
          "2019-08-12T00:00:00",
          "2019-08-12T00:00:00"
         ],
         "xaxis": "x2",
         "y": [
          177.05,
          348.6
         ],
         "yaxis": "y2"
        },
        {
         "line": {
          "color": "green",
          "dash": "solid",
          "width": 0.5
         },
         "mode": "lines",
         "name": "Buy signal",
         "showlegend": false,
         "type": "scatter",
         "x": [
          "2019-08-26T00:00:00",
          "2019-08-26T00:00:00"
         ],
         "xaxis": "x2",
         "y": [
          177.05,
          348.6
         ],
         "yaxis": "y2"
        },
        {
         "line": {
          "color": "green",
          "dash": "solid",
          "width": 0.5
         },
         "mode": "lines",
         "name": "Buy signal",
         "showlegend": false,
         "type": "scatter",
         "x": [
          "2019-09-02T00:00:00",
          "2019-09-02T00:00:00"
         ],
         "xaxis": "x2",
         "y": [
          177.05,
          348.6
         ],
         "yaxis": "y2"
        },
        {
         "line": {
          "color": "green",
          "dash": "solid",
          "width": 0.5
         },
         "mode": "lines",
         "name": "Buy signal",
         "showlegend": false,
         "type": "scatter",
         "x": [
          "2019-09-16T00:00:00",
          "2019-09-16T00:00:00"
         ],
         "xaxis": "x2",
         "y": [
          177.05,
          348.6
         ],
         "yaxis": "y2"
        },
        {
         "line": {
          "color": "red",
          "dash": "dash",
          "width": 1
         },
         "mode": "lines",
         "name": "Sell signal",
         "showlegend": false,
         "type": "scatter",
         "x": [
          "2019-09-23T00:00:00",
          "2019-09-23T00:00:00"
         ],
         "xaxis": "x2",
         "y": [
          177.05,
          348.6
         ],
         "yaxis": "y2"
        },
        {
         "line": {
          "color": "green",
          "dash": "solid",
          "width": 0.5
         },
         "mode": "lines",
         "name": "Buy signal",
         "showlegend": false,
         "type": "scatter",
         "x": [
          "2019-09-30T00:00:00",
          "2019-09-30T00:00:00"
         ],
         "xaxis": "x2",
         "y": [
          177.05,
          348.6
         ],
         "yaxis": "y2"
        }
       ],
       "layout": {
        "height": 1200,
        "template": {
         "data": {
          "bar": [
           {
            "error_x": {
             "color": "#2a3f5f"
            },
            "error_y": {
             "color": "#2a3f5f"
            },
            "marker": {
             "line": {
              "color": "#E5ECF6",
              "width": 0.5
             }
            },
            "type": "bar"
           }
          ],
          "barpolar": [
           {
            "marker": {
             "line": {
              "color": "#E5ECF6",
              "width": 0.5
             }
            },
            "type": "barpolar"
           }
          ],
          "carpet": [
           {
            "aaxis": {
             "endlinecolor": "#2a3f5f",
             "gridcolor": "white",
             "linecolor": "white",
             "minorgridcolor": "white",
             "startlinecolor": "#2a3f5f"
            },
            "baxis": {
             "endlinecolor": "#2a3f5f",
             "gridcolor": "white",
             "linecolor": "white",
             "minorgridcolor": "white",
             "startlinecolor": "#2a3f5f"
            },
            "type": "carpet"
           }
          ],
          "choropleth": [
           {
            "colorbar": {
             "outlinewidth": 0,
             "ticks": ""
            },
            "type": "choropleth"
           }
          ],
          "contour": [
           {
            "colorbar": {
             "outlinewidth": 0,
             "ticks": ""
            },
            "colorscale": [
             [
              0,
              "#0d0887"
             ],
             [
              0.1111111111111111,
              "#46039f"
             ],
             [
              0.2222222222222222,
              "#7201a8"
             ],
             [
              0.3333333333333333,
              "#9c179e"
             ],
             [
              0.4444444444444444,
              "#bd3786"
             ],
             [
              0.5555555555555556,
              "#d8576b"
             ],
             [
              0.6666666666666666,
              "#ed7953"
             ],
             [
              0.7777777777777778,
              "#fb9f3a"
             ],
             [
              0.8888888888888888,
              "#fdca26"
             ],
             [
              1,
              "#f0f921"
             ]
            ],
            "type": "contour"
           }
          ],
          "contourcarpet": [
           {
            "colorbar": {
             "outlinewidth": 0,
             "ticks": ""
            },
            "type": "contourcarpet"
           }
          ],
          "heatmap": [
           {
            "colorbar": {
             "outlinewidth": 0,
             "ticks": ""
            },
            "colorscale": [
             [
              0,
              "#0d0887"
             ],
             [
              0.1111111111111111,
              "#46039f"
             ],
             [
              0.2222222222222222,
              "#7201a8"
             ],
             [
              0.3333333333333333,
              "#9c179e"
             ],
             [
              0.4444444444444444,
              "#bd3786"
             ],
             [
              0.5555555555555556,
              "#d8576b"
             ],
             [
              0.6666666666666666,
              "#ed7953"
             ],
             [
              0.7777777777777778,
              "#fb9f3a"
             ],
             [
              0.8888888888888888,
              "#fdca26"
             ],
             [
              1,
              "#f0f921"
             ]
            ],
            "type": "heatmap"
           }
          ],
          "heatmapgl": [
           {
            "colorbar": {
             "outlinewidth": 0,
             "ticks": ""
            },
            "colorscale": [
             [
              0,
              "#0d0887"
             ],
             [
              0.1111111111111111,
              "#46039f"
             ],
             [
              0.2222222222222222,
              "#7201a8"
             ],
             [
              0.3333333333333333,
              "#9c179e"
             ],
             [
              0.4444444444444444,
              "#bd3786"
             ],
             [
              0.5555555555555556,
              "#d8576b"
             ],
             [
              0.6666666666666666,
              "#ed7953"
             ],
             [
              0.7777777777777778,
              "#fb9f3a"
             ],
             [
              0.8888888888888888,
              "#fdca26"
             ],
             [
              1,
              "#f0f921"
             ]
            ],
            "type": "heatmapgl"
           }
          ],
          "histogram": [
           {
            "marker": {
             "colorbar": {
              "outlinewidth": 0,
              "ticks": ""
             }
            },
            "type": "histogram"
           }
          ],
          "histogram2d": [
           {
            "colorbar": {
             "outlinewidth": 0,
             "ticks": ""
            },
            "colorscale": [
             [
              0,
              "#0d0887"
             ],
             [
              0.1111111111111111,
              "#46039f"
             ],
             [
              0.2222222222222222,
              "#7201a8"
             ],
             [
              0.3333333333333333,
              "#9c179e"
             ],
             [
              0.4444444444444444,
              "#bd3786"
             ],
             [
              0.5555555555555556,
              "#d8576b"
             ],
             [
              0.6666666666666666,
              "#ed7953"
             ],
             [
              0.7777777777777778,
              "#fb9f3a"
             ],
             [
              0.8888888888888888,
              "#fdca26"
             ],
             [
              1,
              "#f0f921"
             ]
            ],
            "type": "histogram2d"
           }
          ],
          "histogram2dcontour": [
           {
            "colorbar": {
             "outlinewidth": 0,
             "ticks": ""
            },
            "colorscale": [
             [
              0,
              "#0d0887"
             ],
             [
              0.1111111111111111,
              "#46039f"
             ],
             [
              0.2222222222222222,
              "#7201a8"
             ],
             [
              0.3333333333333333,
              "#9c179e"
             ],
             [
              0.4444444444444444,
              "#bd3786"
             ],
             [
              0.5555555555555556,
              "#d8576b"
             ],
             [
              0.6666666666666666,
              "#ed7953"
             ],
             [
              0.7777777777777778,
              "#fb9f3a"
             ],
             [
              0.8888888888888888,
              "#fdca26"
             ],
             [
              1,
              "#f0f921"
             ]
            ],
            "type": "histogram2dcontour"
           }
          ],
          "mesh3d": [
           {
            "colorbar": {
             "outlinewidth": 0,
             "ticks": ""
            },
            "type": "mesh3d"
           }
          ],
          "parcoords": [
           {
            "line": {
             "colorbar": {
              "outlinewidth": 0,
              "ticks": ""
             }
            },
            "type": "parcoords"
           }
          ],
          "scatter": [
           {
            "marker": {
             "colorbar": {
              "outlinewidth": 0,
              "ticks": ""
             }
            },
            "type": "scatter"
           }
          ],
          "scatter3d": [
           {
            "line": {
             "colorbar": {
              "outlinewidth": 0,
              "ticks": ""
             }
            },
            "marker": {
             "colorbar": {
              "outlinewidth": 0,
              "ticks": ""
             }
            },
            "type": "scatter3d"
           }
          ],
          "scattercarpet": [
           {
            "marker": {
             "colorbar": {
              "outlinewidth": 0,
              "ticks": ""
             }
            },
            "type": "scattercarpet"
           }
          ],
          "scattergeo": [
           {
            "marker": {
             "colorbar": {
              "outlinewidth": 0,
              "ticks": ""
             }
            },
            "type": "scattergeo"
           }
          ],
          "scattergl": [
           {
            "marker": {
             "colorbar": {
              "outlinewidth": 0,
              "ticks": ""
             }
            },
            "type": "scattergl"
           }
          ],
          "scattermapbox": [
           {
            "marker": {
             "colorbar": {
              "outlinewidth": 0,
              "ticks": ""
             }
            },
            "type": "scattermapbox"
           }
          ],
          "scatterpolar": [
           {
            "marker": {
             "colorbar": {
              "outlinewidth": 0,
              "ticks": ""
             }
            },
            "type": "scatterpolar"
           }
          ],
          "scatterpolargl": [
           {
            "marker": {
             "colorbar": {
              "outlinewidth": 0,
              "ticks": ""
             }
            },
            "type": "scatterpolargl"
           }
          ],
          "scatterternary": [
           {
            "marker": {
             "colorbar": {
              "outlinewidth": 0,
              "ticks": ""
             }
            },
            "type": "scatterternary"
           }
          ],
          "surface": [
           {
            "colorbar": {
             "outlinewidth": 0,
             "ticks": ""
            },
            "colorscale": [
             [
              0,
              "#0d0887"
             ],
             [
              0.1111111111111111,
              "#46039f"
             ],
             [
              0.2222222222222222,
              "#7201a8"
             ],
             [
              0.3333333333333333,
              "#9c179e"
             ],
             [
              0.4444444444444444,
              "#bd3786"
             ],
             [
              0.5555555555555556,
              "#d8576b"
             ],
             [
              0.6666666666666666,
              "#ed7953"
             ],
             [
              0.7777777777777778,
              "#fb9f3a"
             ],
             [
              0.8888888888888888,
              "#fdca26"
             ],
             [
              1,
              "#f0f921"
             ]
            ],
            "type": "surface"
           }
          ],
          "table": [
           {
            "cells": {
             "fill": {
              "color": "#EBF0F8"
             },
             "line": {
              "color": "white"
             }
            },
            "header": {
             "fill": {
              "color": "#C8D4E3"
             },
             "line": {
              "color": "white"
             }
            },
            "type": "table"
           }
          ]
         },
         "layout": {
          "annotationdefaults": {
           "arrowcolor": "#2a3f5f",
           "arrowhead": 0,
           "arrowwidth": 1
          },
          "colorscale": {
           "diverging": [
            [
             0,
             "#8e0152"
            ],
            [
             0.1,
             "#c51b7d"
            ],
            [
             0.2,
             "#de77ae"
            ],
            [
             0.3,
             "#f1b6da"
            ],
            [
             0.4,
             "#fde0ef"
            ],
            [
             0.5,
             "#f7f7f7"
            ],
            [
             0.6,
             "#e6f5d0"
            ],
            [
             0.7,
             "#b8e186"
            ],
            [
             0.8,
             "#7fbc41"
            ],
            [
             0.9,
             "#4d9221"
            ],
            [
             1,
             "#276419"
            ]
           ],
           "sequential": [
            [
             0,
             "#0d0887"
            ],
            [
             0.1111111111111111,
             "#46039f"
            ],
            [
             0.2222222222222222,
             "#7201a8"
            ],
            [
             0.3333333333333333,
             "#9c179e"
            ],
            [
             0.4444444444444444,
             "#bd3786"
            ],
            [
             0.5555555555555556,
             "#d8576b"
            ],
            [
             0.6666666666666666,
             "#ed7953"
            ],
            [
             0.7777777777777778,
             "#fb9f3a"
            ],
            [
             0.8888888888888888,
             "#fdca26"
            ],
            [
             1,
             "#f0f921"
            ]
           ],
           "sequentialminus": [
            [
             0,
             "#0d0887"
            ],
            [
             0.1111111111111111,
             "#46039f"
            ],
            [
             0.2222222222222222,
             "#7201a8"
            ],
            [
             0.3333333333333333,
             "#9c179e"
            ],
            [
             0.4444444444444444,
             "#bd3786"
            ],
            [
             0.5555555555555556,
             "#d8576b"
            ],
            [
             0.6666666666666666,
             "#ed7953"
            ],
            [
             0.7777777777777778,
             "#fb9f3a"
            ],
            [
             0.8888888888888888,
             "#fdca26"
            ],
            [
             1,
             "#f0f921"
            ]
           ]
          },
          "colorway": [
           "#636efa",
           "#EF553B",
           "#00cc96",
           "#ab63fa",
           "#FFA15A",
           "#19d3f3",
           "#FF6692",
           "#B6E880",
           "#FF97FF",
           "#FECB52"
          ],
          "font": {
           "color": "#2a3f5f"
          },
          "geo": {
           "bgcolor": "white",
           "lakecolor": "white",
           "landcolor": "#E5ECF6",
           "showlakes": true,
           "showland": true,
           "subunitcolor": "white"
          },
          "hoverlabel": {
           "align": "left"
          },
          "hovermode": "closest",
          "mapbox": {
           "style": "light"
          },
          "paper_bgcolor": "white",
          "plot_bgcolor": "#E5ECF6",
          "polar": {
           "angularaxis": {
            "gridcolor": "white",
            "linecolor": "white",
            "ticks": ""
           },
           "bgcolor": "#E5ECF6",
           "radialaxis": {
            "gridcolor": "white",
            "linecolor": "white",
            "ticks": ""
           }
          },
          "scene": {
           "xaxis": {
            "backgroundcolor": "#E5ECF6",
            "gridcolor": "white",
            "gridwidth": 2,
            "linecolor": "white",
            "showbackground": true,
            "ticks": "",
            "zerolinecolor": "white"
           },
           "yaxis": {
            "backgroundcolor": "#E5ECF6",
            "gridcolor": "white",
            "gridwidth": 2,
            "linecolor": "white",
            "showbackground": true,
            "ticks": "",
            "zerolinecolor": "white"
           },
           "zaxis": {
            "backgroundcolor": "#E5ECF6",
            "gridcolor": "white",
            "gridwidth": 2,
            "linecolor": "white",
            "showbackground": true,
            "ticks": "",
            "zerolinecolor": "white"
           }
          },
          "shapedefaults": {
           "line": {
            "color": "#2a3f5f"
           }
          },
          "ternary": {
           "aaxis": {
            "gridcolor": "white",
            "linecolor": "white",
            "ticks": ""
           },
           "baxis": {
            "gridcolor": "white",
            "linecolor": "white",
            "ticks": ""
           },
           "bgcolor": "#E5ECF6",
           "caxis": {
            "gridcolor": "white",
            "linecolor": "white",
            "ticks": ""
           }
          },
          "title": {
           "x": 0.05
          },
          "xaxis": {
           "automargin": true,
           "gridcolor": "white",
           "linecolor": "white",
           "ticks": "",
           "zerolinecolor": "white",
           "zerolinewidth": 2
          },
          "yaxis": {
           "automargin": true,
           "gridcolor": "white",
           "linecolor": "white",
           "ticks": "",
           "zerolinecolor": "white",
           "zerolinewidth": 2
          }
         }
        },
        "width": 800,
        "xaxis": {
         "anchor": "y",
         "domain": [
          0,
          1
         ],
         "rangeslider": {
          "visible": false
         }
        },
        "xaxis2": {
         "anchor": "y2",
         "domain": [
          0,
          1
         ]
        },
        "xaxis3": {
         "anchor": "y3",
         "domain": [
          0,
          1
         ]
        },
        "xaxis4": {
         "anchor": "y4",
         "domain": [
          0,
          1
         ]
        },
        "yaxis": {
         "anchor": "x",
         "domain": [
          0.8277777777777777,
          1
         ]
        },
        "yaxis2": {
         "anchor": "x2",
         "domain": [
          0.4083333333333333,
          0.7527777777777778
         ]
        },
        "yaxis3": {
         "anchor": "x3",
         "domain": [
          0.24722222222222223,
          0.33333333333333337
         ]
        },
        "yaxis4": {
         "anchor": "x4",
         "domain": [
          0,
          0.17222222222222222
         ]
        }
       }
      },
      "text/html": [
       "<div>\n",
       "        \n",
       "        \n",
       "            <div id=\"1203e84c-aaad-4a08-8f18-f9b716f19f20\" class=\"plotly-graph-div\" style=\"height:1200px; width:800px;\"></div>\n",
       "            <script type=\"text/javascript\">\n",
       "                require([\"plotly\"], function(Plotly) {\n",
       "                    window.PLOTLYENV=window.PLOTLYENV || {};\n",
       "                    \n",
       "                if (document.getElementById(\"1203e84c-aaad-4a08-8f18-f9b716f19f20\")) {\n",
       "                    Plotly.newPlot(\n",
       "                        '1203e84c-aaad-4a08-8f18-f9b716f19f20',\n",
       "                        [{\"close\": [343.7, 346.1, 326.1, 322.8, 316.8, 316.7, 321.6, 315.1, 324.7, 320.2, 310.9, 302.4, 311.7, 306.5, 290.3, 292.0, 287.1, 284.3, 250.1, 227.4, 228.8, 244.8, 238.2, 245.5, 261.6, 270.1, 259.7, 233.4, 238.3, 227.5, 239.8, 244.7, 243.4, 241.8, 256.8, 267.9, 255.4, 269.8, 266.8, 271.6, 271.9, 276.6, 259.1, 272.1, 262.5, 260.4, 277.4, 275.2, 268.1, 271.7, 278.0, 265.9, 261.3, 251.6, 247.2, 261.8, 262.9, 276.3, 263.3, 258.8, 266.6, 262.5, 264.9, 267.7, 254.9, 239.6, 242.7, 237.4, 233.4, 228.3, 226.6, 259.3, 275.7, 264.9, 269.2, 266.4, 274.6, 241.1, 253.7, 256.1, 245.0, 235.0, 255.2, 266.4, 258.8, 241.9, 243.9, 233.6, 245.1, 250.9, 239.3, 261.1, 252.8, 267.2, 273.3, 273.2, 275.6, 276.6, 288.5, 284.9, 292.4, 288.9, 266.5, 255.2, 260.6, 269.3, 246.2, 241.8, 231.6, 227.2, 236.1, 223.9, 229.2, 225.1, 224.3, 229.9, 237.6, 242.1, 241.5, 246.1, 241.0, 240.3, 253.9, 245.8, 232.0, 232.9, 240.9, 254.0, 254.8, 235.2, 238.9, 236.0, 229.0, 247.0, 250.0, 248.7, 249.3, 252.0, 264.6, 262.7, 254.5, 264.8, 264.6, 268.4, 265.6, 261.4, 266.4, 269.7, 266.6, 264.3, 261.8, 258.4, 266.0, 275.4, 265.0, 264.8, 274.3, 281.7, 275.1, 265.0, 252.3, 253.4, 251.7, 246.4, 245.7, 247.0, 246.7, 252.5, 241.6, 237.1, 236.1, 236.1, 234.9, 237.7, 233.3, 237.9, 242.0, 241.7, 247.7, 243.0, 235.1, 232.2, 227.6, 227.4, 233.0, 244.7, 236.1, 238.0, 241.4, 241.0, 252.7, 258.0, 261.1, 249.1, 244.9, 250.9, 255.5, 253.0, 243.0, 236.1, 227.5, 238.8, 246.0, 255.9, 263.9, 269.8, 301.3, 306.5, 305.5, 317.9, 315.6, 304.8, 310.4, 317.5, 321.2, 325.9, 329.4, 326.1, 326.3, 329.0, 333.8, 334.6, 336.4, 324.2, 318.9, 321.2, 314.2, 321.8, 315.1, 305.0, 304.1, 304.8, 318.7, 322.0, 305.3, 310.3, 305.0, 300.0, 275.5, 270.0, 264.9, 260.0, 275.8, 277.9, 282.7, 286.9, 291.9, 286.2, 233.6, 231.8, 223.8, 223.8, 236.8, 235.7, 238.8, 235.0, 227.7, 220.2, 220.3, 211.7, 201.2, 195.3, 200.1, 197.4, 193.9, 195.85, 195.95, 205.3, 199.6, 205.9, 198.8, 195.35, 191.3, 182.5, 196.8, 196.1, 201.6, 221.4, 215.9, 222.5, 210.1], \"high\": [346.3, 348.6, 346.7, 344.9, 331.84, 319.8, 322.4, 322.6, 327.8, 332.4, 324.49, 312.84, 312.7, 314.64, 313.7, 299.9, 295.1, 288.7, 281.7, 256.0, 235.6, 245.79, 250.3, 253.5, 275.9, 282.4, 269.14, 260.8, 246.1, 247.1, 240.58, 246.76, 247.3, 256.1, 259.6, 271.4, 273.5, 274.8, 269.3, 272.6, 276.3, 280.4, 277.9, 275.5, 273.8, 265.5, 277.8, 288.4, 278.3, 274.1, 279.6, 285.99, 269.8, 261.4, 254.04, 267.7, 267.4, 281.7, 277.0, 267.0, 269.1, 277.3, 264.9, 268.26, 268.8, 256.8, 242.7, 245.8, 246.5, 236.1, 234.2, 264.0, 276.01, 275.85, 269.9, 274.5, 279.9, 279.0, 256.76, 258.4, 256.4, 253.1, 261.11, 267.6, 267.2, 276.0, 254.7, 245.4, 245.9, 252.9, 253.3, 268.03, 261.1, 269.9, 274.2, 284.0, 284.9, 280.9, 289.4, 292.4, 294.4, 292.8, 290.6, 268.6, 261.3, 269.8, 270.4, 254.4, 244.5, 248.5, 237.7, 237.5, 233.8, 232.23, 229.8, 231.33, 238.6, 242.7, 246.5, 247.7, 248.1, 241.88, 253.9, 254.5, 257.7, 239.33, 243.8, 255.3, 263.2, 259.0, 245.0, 240.1, 237.1, 247.3, 252.1, 250.6, 250.0, 254.38, 277.1, 268.0, 262.25, 264.8, 270.2, 268.5, 269.8, 270.0, 266.8, 274.4, 274.6, 270.0, 265.0, 265.2, 270.1, 275.6, 282.3, 273.6, 275.1, 283.6, 282.8, 279.3, 270.2, 259.75, 260.2, 255.8, 248.8, 250.2, 250.03, 254.0, 253.5, 245.56, 238.9, 237.3, 238.1, 241.4, 245.88, 239.9, 249.4, 242.5, 250.4, 248.0, 244.08, 236.72, 232.65, 231.7, 236.6, 246.0, 246.0, 241.5, 244.8, 245.2, 255.4, 258.2, 261.7, 262.2, 248.4, 251.6, 256.1, 260.5, 256.4, 246.8, 237.5, 241.1, 247.0, 256.4, 267.8, 269.8, 327.1, 308.4, 310.8, 322.1, 323.5, 319.9, 315.2, 318.3, 324.7, 329.5, 333.4, 331.9, 330.0, 330.3, 338.3, 339.3, 341.8, 339.6, 328.4, 324.8, 323.5, 323.5, 325.1, 317.3, 307.7, 311.5, 319.0, 327.2, 324.5, 313.2, 320.7, 310.7, 303.1, 276.7, 269.4, 266.3, 281.4, 279.5, 283.2, 289.8, 296.2, 296.1, 288.7, 236.4, 235.3, 231.0, 242.4, 239.3, 241.0, 239.6, 236.2, 232.0, 236.7, 222.0, 213.0, 208.3, 200.6, 205.8, 199.45, 199.2, 197.35, 207.6, 208.2, 206.2, 210.9, 202.3, 193.35, 193.7, 199.8, 200.2, 203.0, 222.4, 224.5, 222.8, 223.23], \"low\": [334.7, 331.0, 324.16, 320.3, 316.3, 310.7, 311.4, 307.0, 315.44, 310.7, 310.3, 291.88, 300.34, 304.7, 284.6, 285.3, 209.5, 276.98, 249.9, 223.6, 225.24, 223.33, 232.1, 237.0, 240.5, 251.7, 255.3, 226.1, 229.6, 221.1, 224.7, 238.1, 241.4, 227.8, 236.7, 250.26, 254.3, 260.7, 261.5, 264.7, 266.4, 267.1, 256.9, 255.4, 258.9, 253.8, 260.8, 271.7, 261.1, 261.8, 259.6, 264.5, 259.67, 251.4, 241.6, 244.6, 256.61, 261.99, 260.8, 249.7, 259.41, 262.2, 258.3, 260.5, 250.8, 239.6, 230.1, 234.7, 232.9, 221.3, 223.2, 223.4, 262.2, 260.5, 261.8, 264.96, 264.6, 240.4, 236.3, 247.4, 243.5, 234.4, 235.1, 253.5, 253.5, 234.7, 239.8, 229.5, 227.0, 241.4, 233.83, 242.67, 245.96, 249.2, 264.5, 270.4, 269.4, 269.0, 273.5, 281.4, 280.2, 283.8, 261.8, 250.6, 250.4, 257.6, 244.5, 241.3, 223.0, 211.5, 214.8, 212.6, 218.6, 224.6, 221.7, 220.14, 228.9, 231.9, 240.0, 238.35, 239.98, 234.54, 239.0, 237.51, 232.0, 228.82, 228.4, 239.0, 248.9, 228.7, 233.23, 232.3, 224.1, 228.2, 240.0, 246.1, 246.3, 249.3, 251.3, 260.7, 252.5, 252.6, 257.8, 263.17, 264.6, 260.98, 259.3, 263.0, 262.7, 263.5, 251.6, 255.9, 254.05, 266.31, 257.2, 260.99, 264.8, 274.0, 274.4, 258.6, 249.9, 249.8, 251.4, 243.89, 242.8, 245.3, 242.5, 244.42, 238.6, 236.0, 231.77, 229.8, 233.8, 235.8, 232.4, 232.4, 237.6, 237.2, 242.12, 242.6, 235.02, 224.9, 224.8, 223.6, 225.5, 231.7, 232.6, 234.8, 239.3, 239.4, 238.4, 250.5, 255.4, 248.4, 234.1, 242.7, 249.6, 252.2, 239.6, 235.8, 225.3, 224.7, 233.9, 244.3, 253.1, 262.0, 300.0, 294.5, 299.7, 305.2, 313.0, 301.7, 304.1, 306.3, 305.3, 316.2, 323.5, 322.6, 321.6, 322.4, 327.8, 328.1, 331.1, 323.8, 316.8, 315.0, 312.6, 312.3, 314.0, 304.6, 297.7, 298.8, 304.4, 310.0, 302.3, 304.1, 305.0, 298.8, 274.3, 262.5, 259.4, 257.4, 259.0, 268.1, 271.3, 276.2, 286.4, 281.0, 230.5, 227.1, 223.2, 221.9, 223.3, 232.6, 230.0, 230.9, 226.3, 212.1, 219.0, 208.1, 199.3, 193.2, 195.35, 193.55, 192.7, 192.4, 185.3, 194.0, 199.25, 197.15, 198.75, 192.1, 186.7, 177.05, 181.42, 191.12, 194.2, 199.85, 212.8, 212.31, 205.7], \"name\": \"HLOC\", \"open\": [345.5, 345.9, 346.7, 327.2, 322.8, 318.3, 317.3, 320.9, 315.9, 320.0, 321.9, 312.0, 303.5, 313.6, 309.1, 290.7, 292.5, 287.0, 280.0, 250.0, 229.6, 227.5, 245.8, 240.8, 244.9, 263.0, 268.0, 260.3, 229.9, 243.0, 226.7, 242.3, 245.3, 241.4, 243.0, 258.3, 267.9, 264.7, 267.0, 266.2, 272.6, 272.0, 276.2, 259.8, 272.4, 264.7, 260.8, 277.1, 275.3, 267.7, 270.0, 279.0, 266.0, 260.6, 252.0, 247.3, 262.1, 267.6, 269.0, 260.2, 261.2, 267.3, 261.0, 263.7, 267.7, 256.8, 232.5, 240.1, 239.3, 233.5, 227.8, 226.6, 263.4, 274.8, 264.3, 269.0, 265.9, 273.9, 239.9, 252.6, 255.5, 245.2, 235.1, 254.1, 264.3, 256.9, 241.9, 242.5, 235.2, 245.9, 251.1, 243.3, 260.0, 251.5, 267.0, 273.2, 274.9, 276.3, 276.4, 287.8, 285.6, 292.0, 287.6, 268.0, 253.5, 261.2, 268.8, 246.2, 241.0, 236.0, 222.9, 237.5, 224.9, 229.6, 225.8, 225.6, 230.0, 238.2, 240.9, 240.8, 246.0, 238.5, 242.0, 252.5, 244.5, 232.1, 233.9, 241.2, 252.7, 257.3, 237.1, 240.1, 235.0, 228.4, 247.6, 250.6, 247.7, 250.3, 253.0, 265.0, 261.6, 253.7, 264.3, 264.3, 268.6, 267.1, 261.7, 265.4, 268.5, 265.6, 265.0, 262.0, 258.3, 268.0, 275.7, 264.9, 266.2, 275.7, 280.0, 275.8, 264.3, 255.6, 255.1, 251.7, 246.4, 245.3, 247.4, 246.3, 252.6, 241.1, 236.1, 233.9, 234.0, 236.4, 238.6, 232.8, 237.8, 241.9, 242.8, 247.1, 242.7, 234.3, 232.5, 224.6, 227.2, 235.0, 244.8, 236.0, 239.4, 242.8, 240.7, 251.8, 255.4, 261.1, 247.5, 246.2, 250.8, 256.2, 254.4, 243.6, 236.0, 228.0, 236.9, 246.3, 256.4, 263.3, 322.0, 300.0, 307.0, 305.2, 318.3, 317.6, 307.2, 312.3, 316.2, 317.9, 325.9, 329.4, 324.6, 324.4, 328.9, 332.1, 335.7, 337.5, 323.2, 315.5, 320.7, 314.1, 322.1, 313.8, 304.6, 304.7, 304.8, 316.9, 324.5, 305.0, 313.1, 306.9, 301.0, 276.0, 267.1, 264.2, 261.7, 274.6, 276.1, 280.3, 288.1, 295.4, 287.0, 233.0, 231.3, 226.6, 224.2, 235.0, 234.7, 237.5, 235.8, 229.0, 219.7, 219.3, 211.8, 200.8, 196.0, 199.65, 198.05, 193.55, 195.6, 196.05, 205.4, 199.8, 209.1, 199.0, 192.85, 192.0, 182.9, 196.35, 196.1, 202.6, 220.0, 218.9, 221.9], \"type\": \"candlestick\", \"x\": [\"2014-05-19T00:00:00\", \"2014-05-26T00:00:00\", \"2014-06-02T00:00:00\", \"2014-06-09T00:00:00\", \"2014-06-16T00:00:00\", \"2014-06-23T00:00:00\", \"2014-06-30T00:00:00\", \"2014-07-07T00:00:00\", \"2014-07-14T00:00:00\", \"2014-07-21T00:00:00\", \"2014-07-28T00:00:00\", \"2014-08-04T00:00:00\", \"2014-08-11T00:00:00\", \"2014-08-18T00:00:00\", \"2014-08-25T00:00:00\", \"2014-09-01T00:00:00\", \"2014-09-08T00:00:00\", \"2014-09-15T00:00:00\", \"2014-09-22T00:00:00\", \"2014-09-29T00:00:00\", \"2014-10-06T00:00:00\", \"2014-10-13T00:00:00\", \"2014-10-20T00:00:00\", \"2014-10-27T00:00:00\", \"2014-11-03T00:00:00\", \"2014-11-10T00:00:00\", \"2014-11-17T00:00:00\", \"2014-11-24T00:00:00\", \"2014-12-01T00:00:00\", \"2014-12-08T00:00:00\", \"2014-12-15T00:00:00\", \"2014-12-22T00:00:00\", \"2014-12-29T00:00:00\", \"2015-01-05T00:00:00\", \"2015-01-12T00:00:00\", \"2015-01-19T00:00:00\", \"2015-01-26T00:00:00\", \"2015-02-02T00:00:00\", \"2015-02-09T00:00:00\", \"2015-02-16T00:00:00\", \"2015-02-23T00:00:00\", \"2015-03-02T00:00:00\", \"2015-03-09T00:00:00\", \"2015-03-16T00:00:00\", \"2015-03-23T00:00:00\", \"2015-03-30T00:00:00\", \"2015-04-06T00:00:00\", \"2015-04-13T00:00:00\", \"2015-04-20T00:00:00\", \"2015-04-27T00:00:00\", \"2015-05-04T00:00:00\", \"2015-05-11T00:00:00\", \"2015-05-18T00:00:00\", \"2015-05-25T00:00:00\", \"2015-06-01T00:00:00\", \"2015-06-08T00:00:00\", \"2015-06-15T00:00:00\", \"2015-06-22T00:00:00\", \"2015-06-29T00:00:00\", \"2015-07-06T00:00:00\", \"2015-07-13T00:00:00\", \"2015-07-20T00:00:00\", \"2015-07-27T00:00:00\", \"2015-08-03T00:00:00\", \"2015-08-10T00:00:00\", \"2015-08-17T00:00:00\", \"2015-08-24T00:00:00\", \"2015-08-31T00:00:00\", \"2015-09-07T00:00:00\", \"2015-09-14T00:00:00\", \"2015-09-21T00:00:00\", \"2015-09-28T00:00:00\", \"2015-10-05T00:00:00\", \"2015-10-12T00:00:00\", \"2015-10-19T00:00:00\", \"2015-10-26T00:00:00\", \"2015-11-02T00:00:00\", \"2015-11-09T00:00:00\", \"2015-11-16T00:00:00\", \"2015-11-23T00:00:00\", \"2015-11-30T00:00:00\", \"2015-12-07T00:00:00\", \"2015-12-14T00:00:00\", \"2015-12-21T00:00:00\", \"2015-12-28T00:00:00\", \"2016-01-04T00:00:00\", \"2016-01-11T00:00:00\", \"2016-01-18T00:00:00\", \"2016-01-25T00:00:00\", \"2016-02-01T00:00:00\", \"2016-02-08T00:00:00\", \"2016-02-15T00:00:00\", \"2016-02-22T00:00:00\", \"2016-02-29T00:00:00\", \"2016-03-07T00:00:00\", \"2016-03-14T00:00:00\", \"2016-03-21T00:00:00\", \"2016-03-28T00:00:00\", \"2016-04-04T00:00:00\", \"2016-04-11T00:00:00\", \"2016-04-18T00:00:00\", \"2016-04-25T00:00:00\", \"2016-05-02T00:00:00\", \"2016-05-09T00:00:00\", \"2016-05-16T00:00:00\", \"2016-05-23T00:00:00\", \"2016-05-30T00:00:00\", \"2016-06-06T00:00:00\", \"2016-06-13T00:00:00\", \"2016-06-20T00:00:00\", \"2016-06-27T00:00:00\", \"2016-07-04T00:00:00\", \"2016-07-11T00:00:00\", \"2016-07-18T00:00:00\", \"2016-07-25T00:00:00\", \"2016-08-01T00:00:00\", \"2016-08-08T00:00:00\", \"2016-08-15T00:00:00\", \"2016-08-22T00:00:00\", \"2016-08-29T00:00:00\", \"2016-09-05T00:00:00\", \"2016-09-12T00:00:00\", \"2016-09-19T00:00:00\", \"2016-09-26T00:00:00\", \"2016-10-03T00:00:00\", \"2016-10-10T00:00:00\", \"2016-10-17T00:00:00\", \"2016-10-24T00:00:00\", \"2016-10-31T00:00:00\", \"2016-11-07T00:00:00\", \"2016-11-14T00:00:00\", \"2016-11-21T00:00:00\", \"2016-11-28T00:00:00\", \"2016-12-05T00:00:00\", \"2016-12-12T00:00:00\", \"2016-12-19T00:00:00\", \"2016-12-26T00:00:00\", \"2017-01-02T00:00:00\", \"2017-01-09T00:00:00\", \"2017-01-16T00:00:00\", \"2017-01-23T00:00:00\", \"2017-01-30T00:00:00\", \"2017-02-06T00:00:00\", \"2017-02-13T00:00:00\", \"2017-02-20T00:00:00\", \"2017-02-27T00:00:00\", \"2017-03-06T00:00:00\", \"2017-03-13T00:00:00\", \"2017-03-20T00:00:00\", \"2017-03-27T00:00:00\", \"2017-04-03T00:00:00\", \"2017-04-10T00:00:00\", \"2017-04-17T00:00:00\", \"2017-04-24T00:00:00\", \"2017-05-01T00:00:00\", \"2017-05-08T00:00:00\", \"2017-05-15T00:00:00\", \"2017-05-22T00:00:00\", \"2017-05-29T00:00:00\", \"2017-06-05T00:00:00\", \"2017-06-12T00:00:00\", \"2017-06-19T00:00:00\", \"2017-06-26T00:00:00\", \"2017-07-03T00:00:00\", \"2017-07-10T00:00:00\", \"2017-07-17T00:00:00\", \"2017-07-24T00:00:00\", \"2017-07-31T00:00:00\", \"2017-08-07T00:00:00\", \"2017-08-14T00:00:00\", \"2017-08-21T00:00:00\", \"2017-08-28T00:00:00\", \"2017-09-04T00:00:00\", \"2017-09-11T00:00:00\", \"2017-09-18T00:00:00\", \"2017-09-25T00:00:00\", \"2017-10-02T00:00:00\", \"2017-10-09T00:00:00\", \"2017-10-16T00:00:00\", \"2017-10-23T00:00:00\", \"2017-10-30T00:00:00\", \"2017-11-06T00:00:00\", \"2017-11-13T00:00:00\", \"2017-11-20T00:00:00\", \"2017-11-27T00:00:00\", \"2017-12-04T00:00:00\", \"2017-12-11T00:00:00\", \"2017-12-18T00:00:00\", \"2017-12-25T00:00:00\", \"2018-01-01T00:00:00\", \"2018-01-08T00:00:00\", \"2018-01-15T00:00:00\", \"2018-01-22T00:00:00\", \"2018-01-29T00:00:00\", \"2018-02-05T00:00:00\", \"2018-02-12T00:00:00\", \"2018-02-19T00:00:00\", \"2018-02-26T00:00:00\", \"2018-03-05T00:00:00\", \"2018-03-12T00:00:00\", \"2018-03-19T00:00:00\", \"2018-03-26T00:00:00\", \"2018-04-02T00:00:00\", \"2018-04-09T00:00:00\", \"2018-04-16T00:00:00\", \"2018-04-23T00:00:00\", \"2018-04-30T00:00:00\", \"2018-05-07T00:00:00\", \"2018-05-14T00:00:00\", \"2018-05-21T00:00:00\", \"2018-05-28T00:00:00\", \"2018-06-04T00:00:00\", \"2018-06-11T00:00:00\", \"2018-06-18T00:00:00\", \"2018-06-25T00:00:00\", \"2018-07-02T00:00:00\", \"2018-07-09T00:00:00\", \"2018-07-16T00:00:00\", \"2018-07-23T00:00:00\", \"2018-07-30T00:00:00\", \"2018-08-06T00:00:00\", \"2018-08-13T00:00:00\", \"2018-08-20T00:00:00\", \"2018-08-27T00:00:00\", \"2018-09-03T00:00:00\", \"2018-09-10T00:00:00\", \"2018-09-17T00:00:00\", \"2018-09-24T00:00:00\", \"2018-10-01T00:00:00\", \"2018-10-08T00:00:00\", \"2018-10-15T00:00:00\", \"2018-10-22T00:00:00\", \"2018-10-29T00:00:00\", \"2018-11-05T00:00:00\", \"2018-11-12T00:00:00\", \"2018-11-19T00:00:00\", \"2018-11-26T00:00:00\", \"2018-12-03T00:00:00\", \"2018-12-10T00:00:00\", \"2018-12-17T00:00:00\", \"2018-12-24T00:00:00\", \"2018-12-31T00:00:00\", \"2019-01-07T00:00:00\", \"2019-01-14T00:00:00\", \"2019-01-21T00:00:00\", \"2019-01-28T00:00:00\", \"2019-02-04T00:00:00\", \"2019-02-11T00:00:00\", \"2019-02-18T00:00:00\", \"2019-02-25T00:00:00\", \"2019-03-04T00:00:00\", \"2019-03-11T00:00:00\", \"2019-03-18T00:00:00\", \"2019-03-25T00:00:00\", \"2019-04-01T00:00:00\", \"2019-04-08T00:00:00\", \"2019-04-15T00:00:00\", \"2019-04-22T00:00:00\", \"2019-04-29T00:00:00\", \"2019-05-06T00:00:00\", \"2019-05-13T00:00:00\", \"2019-05-20T00:00:00\", \"2019-05-27T00:00:00\", \"2019-06-03T00:00:00\", \"2019-06-10T00:00:00\", \"2019-06-17T00:00:00\", \"2019-06-24T00:00:00\", \"2019-07-01T00:00:00\", \"2019-07-08T00:00:00\", \"2019-07-15T00:00:00\", \"2019-07-22T00:00:00\", \"2019-07-29T00:00:00\", \"2019-08-05T00:00:00\", \"2019-08-12T00:00:00\", \"2019-08-19T00:00:00\", \"2019-08-26T00:00:00\", \"2019-09-02T00:00:00\", \"2019-09-09T00:00:00\", \"2019-09-16T00:00:00\", \"2019-09-23T00:00:00\", \"2019-09-30T00:00:00\"], \"xaxis\": \"x2\", \"yaxis\": \"y2\"}, {\"line\": {\"color\": \"firebrick\", \"width\": 1}, \"name\": \"EMA12\", \"type\": \"scatter\", \"x\": [\"2014-05-19T00:00:00\", \"2014-05-26T00:00:00\", \"2014-06-02T00:00:00\", \"2014-06-09T00:00:00\", \"2014-06-16T00:00:00\", \"2014-06-23T00:00:00\", \"2014-06-30T00:00:00\", \"2014-07-07T00:00:00\", \"2014-07-14T00:00:00\", \"2014-07-21T00:00:00\", \"2014-07-28T00:00:00\", \"2014-08-04T00:00:00\", \"2014-08-11T00:00:00\", \"2014-08-18T00:00:00\", \"2014-08-25T00:00:00\", \"2014-09-01T00:00:00\", \"2014-09-08T00:00:00\", \"2014-09-15T00:00:00\", \"2014-09-22T00:00:00\", \"2014-09-29T00:00:00\", \"2014-10-06T00:00:00\", \"2014-10-13T00:00:00\", \"2014-10-20T00:00:00\", \"2014-10-27T00:00:00\", \"2014-11-03T00:00:00\", \"2014-11-10T00:00:00\", \"2014-11-17T00:00:00\", \"2014-11-24T00:00:00\", \"2014-12-01T00:00:00\", \"2014-12-08T00:00:00\", \"2014-12-15T00:00:00\", \"2014-12-22T00:00:00\", \"2014-12-29T00:00:00\", \"2015-01-05T00:00:00\", \"2015-01-12T00:00:00\", \"2015-01-19T00:00:00\", \"2015-01-26T00:00:00\", \"2015-02-02T00:00:00\", \"2015-02-09T00:00:00\", \"2015-02-16T00:00:00\", \"2015-02-23T00:00:00\", \"2015-03-02T00:00:00\", \"2015-03-09T00:00:00\", \"2015-03-16T00:00:00\", \"2015-03-23T00:00:00\", \"2015-03-30T00:00:00\", \"2015-04-06T00:00:00\", \"2015-04-13T00:00:00\", \"2015-04-20T00:00:00\", \"2015-04-27T00:00:00\", \"2015-05-04T00:00:00\", \"2015-05-11T00:00:00\", \"2015-05-18T00:00:00\", \"2015-05-25T00:00:00\", \"2015-06-01T00:00:00\", \"2015-06-08T00:00:00\", \"2015-06-15T00:00:00\", \"2015-06-22T00:00:00\", \"2015-06-29T00:00:00\", \"2015-07-06T00:00:00\", \"2015-07-13T00:00:00\", \"2015-07-20T00:00:00\", \"2015-07-27T00:00:00\", \"2015-08-03T00:00:00\", \"2015-08-10T00:00:00\", \"2015-08-17T00:00:00\", \"2015-08-24T00:00:00\", \"2015-08-31T00:00:00\", \"2015-09-07T00:00:00\", \"2015-09-14T00:00:00\", \"2015-09-21T00:00:00\", \"2015-09-28T00:00:00\", \"2015-10-05T00:00:00\", \"2015-10-12T00:00:00\", \"2015-10-19T00:00:00\", \"2015-10-26T00:00:00\", \"2015-11-02T00:00:00\", \"2015-11-09T00:00:00\", \"2015-11-16T00:00:00\", \"2015-11-23T00:00:00\", \"2015-11-30T00:00:00\", \"2015-12-07T00:00:00\", \"2015-12-14T00:00:00\", \"2015-12-21T00:00:00\", \"2015-12-28T00:00:00\", \"2016-01-04T00:00:00\", \"2016-01-11T00:00:00\", \"2016-01-18T00:00:00\", \"2016-01-25T00:00:00\", \"2016-02-01T00:00:00\", \"2016-02-08T00:00:00\", \"2016-02-15T00:00:00\", \"2016-02-22T00:00:00\", \"2016-02-29T00:00:00\", \"2016-03-07T00:00:00\", \"2016-03-14T00:00:00\", \"2016-03-21T00:00:00\", \"2016-03-28T00:00:00\", \"2016-04-04T00:00:00\", \"2016-04-11T00:00:00\", \"2016-04-18T00:00:00\", \"2016-04-25T00:00:00\", \"2016-05-02T00:00:00\", \"2016-05-09T00:00:00\", \"2016-05-16T00:00:00\", \"2016-05-23T00:00:00\", \"2016-05-30T00:00:00\", \"2016-06-06T00:00:00\", \"2016-06-13T00:00:00\", \"2016-06-20T00:00:00\", \"2016-06-27T00:00:00\", \"2016-07-04T00:00:00\", \"2016-07-11T00:00:00\", \"2016-07-18T00:00:00\", \"2016-07-25T00:00:00\", \"2016-08-01T00:00:00\", \"2016-08-08T00:00:00\", \"2016-08-15T00:00:00\", \"2016-08-22T00:00:00\", \"2016-08-29T00:00:00\", \"2016-09-05T00:00:00\", \"2016-09-12T00:00:00\", \"2016-09-19T00:00:00\", \"2016-09-26T00:00:00\", \"2016-10-03T00:00:00\", \"2016-10-10T00:00:00\", \"2016-10-17T00:00:00\", \"2016-10-24T00:00:00\", \"2016-10-31T00:00:00\", \"2016-11-07T00:00:00\", \"2016-11-14T00:00:00\", \"2016-11-21T00:00:00\", \"2016-11-28T00:00:00\", \"2016-12-05T00:00:00\", \"2016-12-12T00:00:00\", \"2016-12-19T00:00:00\", \"2016-12-26T00:00:00\", \"2017-01-02T00:00:00\", \"2017-01-09T00:00:00\", \"2017-01-16T00:00:00\", \"2017-01-23T00:00:00\", \"2017-01-30T00:00:00\", \"2017-02-06T00:00:00\", \"2017-02-13T00:00:00\", \"2017-02-20T00:00:00\", \"2017-02-27T00:00:00\", \"2017-03-06T00:00:00\", \"2017-03-13T00:00:00\", \"2017-03-20T00:00:00\", \"2017-03-27T00:00:00\", \"2017-04-03T00:00:00\", \"2017-04-10T00:00:00\", \"2017-04-17T00:00:00\", \"2017-04-24T00:00:00\", \"2017-05-01T00:00:00\", \"2017-05-08T00:00:00\", \"2017-05-15T00:00:00\", \"2017-05-22T00:00:00\", \"2017-05-29T00:00:00\", \"2017-06-05T00:00:00\", \"2017-06-12T00:00:00\", \"2017-06-19T00:00:00\", \"2017-06-26T00:00:00\", \"2017-07-03T00:00:00\", \"2017-07-10T00:00:00\", \"2017-07-17T00:00:00\", \"2017-07-24T00:00:00\", \"2017-07-31T00:00:00\", \"2017-08-07T00:00:00\", \"2017-08-14T00:00:00\", \"2017-08-21T00:00:00\", \"2017-08-28T00:00:00\", \"2017-09-04T00:00:00\", \"2017-09-11T00:00:00\", \"2017-09-18T00:00:00\", \"2017-09-25T00:00:00\", \"2017-10-02T00:00:00\", \"2017-10-09T00:00:00\", \"2017-10-16T00:00:00\", \"2017-10-23T00:00:00\", \"2017-10-30T00:00:00\", \"2017-11-06T00:00:00\", \"2017-11-13T00:00:00\", \"2017-11-20T00:00:00\", \"2017-11-27T00:00:00\", \"2017-12-04T00:00:00\", \"2017-12-11T00:00:00\", \"2017-12-18T00:00:00\", \"2017-12-25T00:00:00\", \"2018-01-01T00:00:00\", \"2018-01-08T00:00:00\", \"2018-01-15T00:00:00\", \"2018-01-22T00:00:00\", \"2018-01-29T00:00:00\", \"2018-02-05T00:00:00\", \"2018-02-12T00:00:00\", \"2018-02-19T00:00:00\", \"2018-02-26T00:00:00\", \"2018-03-05T00:00:00\", \"2018-03-12T00:00:00\", \"2018-03-19T00:00:00\", \"2018-03-26T00:00:00\", \"2018-04-02T00:00:00\", \"2018-04-09T00:00:00\", \"2018-04-16T00:00:00\", \"2018-04-23T00:00:00\", \"2018-04-30T00:00:00\", \"2018-05-07T00:00:00\", \"2018-05-14T00:00:00\", \"2018-05-21T00:00:00\", \"2018-05-28T00:00:00\", \"2018-06-04T00:00:00\", \"2018-06-11T00:00:00\", \"2018-06-18T00:00:00\", \"2018-06-25T00:00:00\", \"2018-07-02T00:00:00\", \"2018-07-09T00:00:00\", \"2018-07-16T00:00:00\", \"2018-07-23T00:00:00\", \"2018-07-30T00:00:00\", \"2018-08-06T00:00:00\", \"2018-08-13T00:00:00\", \"2018-08-20T00:00:00\", \"2018-08-27T00:00:00\", \"2018-09-03T00:00:00\", \"2018-09-10T00:00:00\", \"2018-09-17T00:00:00\", \"2018-09-24T00:00:00\", \"2018-10-01T00:00:00\", \"2018-10-08T00:00:00\", \"2018-10-15T00:00:00\", \"2018-10-22T00:00:00\", \"2018-10-29T00:00:00\", \"2018-11-05T00:00:00\", \"2018-11-12T00:00:00\", \"2018-11-19T00:00:00\", \"2018-11-26T00:00:00\", \"2018-12-03T00:00:00\", \"2018-12-10T00:00:00\", \"2018-12-17T00:00:00\", \"2018-12-24T00:00:00\", \"2018-12-31T00:00:00\", \"2019-01-07T00:00:00\", \"2019-01-14T00:00:00\", \"2019-01-21T00:00:00\", \"2019-01-28T00:00:00\", \"2019-02-04T00:00:00\", \"2019-02-11T00:00:00\", \"2019-02-18T00:00:00\", \"2019-02-25T00:00:00\", \"2019-03-04T00:00:00\", \"2019-03-11T00:00:00\", \"2019-03-18T00:00:00\", \"2019-03-25T00:00:00\", \"2019-04-01T00:00:00\", \"2019-04-08T00:00:00\", \"2019-04-15T00:00:00\", \"2019-04-22T00:00:00\", \"2019-04-29T00:00:00\", \"2019-05-06T00:00:00\", \"2019-05-13T00:00:00\", \"2019-05-20T00:00:00\", \"2019-05-27T00:00:00\", \"2019-06-03T00:00:00\", \"2019-06-10T00:00:00\", \"2019-06-17T00:00:00\", \"2019-06-24T00:00:00\", \"2019-07-01T00:00:00\", \"2019-07-08T00:00:00\", \"2019-07-15T00:00:00\", \"2019-07-22T00:00:00\", \"2019-07-29T00:00:00\", \"2019-08-05T00:00:00\", \"2019-08-12T00:00:00\", \"2019-08-19T00:00:00\", \"2019-08-26T00:00:00\", \"2019-09-02T00:00:00\", \"2019-09-09T00:00:00\", \"2019-09-16T00:00:00\", \"2019-09-23T00:00:00\", \"2019-09-30T00:00:00\"], \"xaxis\": \"x2\", \"y\": [379.3101396974637, 374.20088743631544, 366.80075090765155, 360.0314046141667, 353.3804192889103, 347.73727785984715, 343.71615818910146, 339.3136723138551, 337.0654150348004, 334.47073579867725, 330.8444687527269, 326.46839663692276, 324.1963356158577, 321.4738224441873, 316.6778497604662, 312.8812574896252, 308.91491018352906, 305.1280009245246, 296.6621546284439, 286.00643853176024, 277.2054479884125, 272.21999445173367, 266.986149151467, 263.680587743549, 263.36049732146455, 264.3973438873931, 263.67467559702493, 259.01703319748265, 255.82979732094685, 251.4713669638781, 249.6757720463584, 248.91026865461095, 248.06253501544003, 247.09906808998772, 248.59151915306654, 251.56205466797937, 252.15250779598253, 254.8675065966006, 256.7032748125082, 258.9950786875069, 260.9804511971212, 263.38345870525643, 262.7244650582939, 264.1668550493256, 263.91041581096783, 263.3703518400497, 265.5287592492728, 267.0166424416924, 267.1833128352782, 267.8781877836969, 269.43538966312815, 268.89148356110843, 267.7235630132456, 265.2430148573617, 262.4671664177676, 262.3645254304187, 262.44690613343124, 264.5781513436726, 264.38151267541525, 263.52281841765904, 263.99623096878844, 263.7660415889748, 263.9404967291325, 264.5188818477275, 263.03905387115407, 259.4330455832842, 256.85873087816356, 253.8650799738307, 250.7166061317029, 247.2678974960563, 244.08822095820148, 246.4284946569397, 250.93180317125666, 253.08075652952488, 255.5606401403672, 257.2282339649261, 259.9008133549375, 257.00838053110095, 256.4993989109316, 256.43795292463443, 254.67826785930606, 251.65084203479745, 252.1968663371363, 254.3819638237307, 255.0616616970029, 253.03679066669477, 251.63113056412635, 248.85711047733767, 248.27909348082417, 248.6823098683897, 247.23887758094511, 249.3713579531074, 249.89884134493704, 252.56055806110058, 255.75124143631587, 258.4356658307288, 261.0763326260013, 263.46458914507804, 267.316190815066, 270.0213922281328, 273.46425496226624, 275.83898496807143, 274.4022180499066, 271.4480306576133, 269.7791028641343, 269.70539473119055, 266.08918015716125, 262.35238320990567, 257.6212473314586, 252.94105543431112, 250.3501238290325, 246.28087400918133, 243.65304723853805, 240.79873227876297, 238.2604657743379, 236.9742402705936, 237.0705109981946, 237.8442785369339, 238.40669722355946, 239.59028226608876, 239.80716191745972, 239.88298316092747, 242.03944729001554, 242.61799386078238, 240.98445634373894, 239.74069382931756, 239.91904862480717, 242.0853488363753, 244.04144901539448, 242.68122608994918, 242.09949899918777, 241.16111453777427, 239.29017383965515, 240.47630094124668, 241.94148541182412, 242.9812568869281, 243.9533712120161, 245.19131410247516, 248.17726577901746, 250.41153258224554, 251.04052756959237, 253.15736948196277, 254.91777417704543, 256.9919627651923, 258.31627618593194, 258.7906952342501, 259.96135750590395, 261.45961019730333, 262.2504393977182, 262.56575641345387, 262.44794773446097, 261.8251865445439, 262.467465537691, 264.45708622420005, 264.540611420477, 264.58051735578823, 266.07582237797465, 268.4795420121324, 269.4980740102659, 268.80606262407116, 266.2666683742141, 264.2871809320273, 262.35069155786925, 259.89673901050475, 257.71262531658095, 256.06452911403005, 254.6238323272562, 254.29708889229371, 252.3436906011716, 249.99850743176057, 247.860275519182, 246.05100236238476, 244.3354635374025, 243.31462299318673, 241.7739117634657, 241.17792533831712, 241.3043983631914, 241.36526015346965, 242.33983551447432, 242.44139928147825, 241.3119532381739, 239.91011427845484, 238.01625054330793, 236.38298122895287, 235.86252257834474, 237.2221344893686, 237.04949841408114, 237.19572942729943, 237.84254028463798, 238.3283033177706, 240.53933357657513, 243.22558994940974, 245.9754991879621, 246.45619162058333, 246.21677752510897, 246.9372732904768, 248.25461586117268, 248.9846749594538, 248.06395573492244, 246.22334716031898, 243.3428322125776, 242.64393494910414, 243.16025264924195, 245.1202137801278, 248.00941166010816, 251.36180986624535, 259.04460834836146, 266.3454378332289, 272.36921662811676, 279.3739525314834, 284.9471906035629, 288.0014689722455, 291.44739682266925, 295.45548961918166, 299.41618352392294, 303.4906168279348, 307.47667577748325, 310.3418025809474, 312.79690987618625, 315.2896929721576, 318.13743251490257, 320.6701352049176, 323.09011440416106, 323.26086603429013, 322.5899635674763, 322.3761230186338, 321.11825793884395, 321.22314133286795, 320.2811195893498, 317.93017811406526, 315.80245840420906, 314.1097724958692, 314.81596134265857, 315.92119805917264, 314.2871675885307, 313.6737571902952, 312.33933300717285, 310.4409740829924, 305.0654396086859, 299.67075659196496, 294.32140942397035, 289.0411925895134, 287.00408603728056, 285.6034574161605, 285.1567716598281, 285.4249606352392, 286.4211205375101, 286.3871019932778, 278.2660093789274, 271.1173925514001, 263.83779369733855, 257.67813312851723, 254.4661126472069, 251.57901839379045, 249.61301556397655, 247.36485932336478, 244.33949635053943, 240.62572768122567, 237.4986926533448, 233.52966301436868, 228.5558687044658, 223.43958121147108, 219.8488764097063, 216.39520311590533, 212.93440263653528, 210.30603300014525, 208.09741253858445, 207.66704137880222, 206.42595808975574, 206.34504146056256, 205.18426585124524, 203.6713018741306, 201.76802466272588, 198.80371317615266, 198.4954496105907, 198.12691890126905, 198.6612390703046, 202.15950998256542, 204.2734315237092, 207.0775189816001, 207.54251606135392], \"yaxis\": \"y2\"}, {\"line\": {\"color\": \"royalblue\", \"width\": 1}, \"name\": \"EMA26\", \"type\": \"scatter\", \"x\": [\"2014-05-19T00:00:00\", \"2014-05-26T00:00:00\", \"2014-06-02T00:00:00\", \"2014-06-09T00:00:00\", \"2014-06-16T00:00:00\", \"2014-06-23T00:00:00\", \"2014-06-30T00:00:00\", \"2014-07-07T00:00:00\", \"2014-07-14T00:00:00\", \"2014-07-21T00:00:00\", \"2014-07-28T00:00:00\", \"2014-08-04T00:00:00\", \"2014-08-11T00:00:00\", \"2014-08-18T00:00:00\", \"2014-08-25T00:00:00\", \"2014-09-01T00:00:00\", \"2014-09-08T00:00:00\", \"2014-09-15T00:00:00\", \"2014-09-22T00:00:00\", \"2014-09-29T00:00:00\", \"2014-10-06T00:00:00\", \"2014-10-13T00:00:00\", \"2014-10-20T00:00:00\", \"2014-10-27T00:00:00\", \"2014-11-03T00:00:00\", \"2014-11-10T00:00:00\", \"2014-11-17T00:00:00\", \"2014-11-24T00:00:00\", \"2014-12-01T00:00:00\", \"2014-12-08T00:00:00\", \"2014-12-15T00:00:00\", \"2014-12-22T00:00:00\", \"2014-12-29T00:00:00\", \"2015-01-05T00:00:00\", \"2015-01-12T00:00:00\", \"2015-01-19T00:00:00\", \"2015-01-26T00:00:00\", \"2015-02-02T00:00:00\", \"2015-02-09T00:00:00\", \"2015-02-16T00:00:00\", \"2015-02-23T00:00:00\", \"2015-03-02T00:00:00\", \"2015-03-09T00:00:00\", \"2015-03-16T00:00:00\", \"2015-03-23T00:00:00\", \"2015-03-30T00:00:00\", \"2015-04-06T00:00:00\", \"2015-04-13T00:00:00\", \"2015-04-20T00:00:00\", \"2015-04-27T00:00:00\", \"2015-05-04T00:00:00\", \"2015-05-11T00:00:00\", \"2015-05-18T00:00:00\", \"2015-05-25T00:00:00\", \"2015-06-01T00:00:00\", \"2015-06-08T00:00:00\", \"2015-06-15T00:00:00\", \"2015-06-22T00:00:00\", \"2015-06-29T00:00:00\", \"2015-07-06T00:00:00\", \"2015-07-13T00:00:00\", \"2015-07-20T00:00:00\", \"2015-07-27T00:00:00\", \"2015-08-03T00:00:00\", \"2015-08-10T00:00:00\", \"2015-08-17T00:00:00\", \"2015-08-24T00:00:00\", \"2015-08-31T00:00:00\", \"2015-09-07T00:00:00\", \"2015-09-14T00:00:00\", \"2015-09-21T00:00:00\", \"2015-09-28T00:00:00\", \"2015-10-05T00:00:00\", \"2015-10-12T00:00:00\", \"2015-10-19T00:00:00\", \"2015-10-26T00:00:00\", \"2015-11-02T00:00:00\", \"2015-11-09T00:00:00\", \"2015-11-16T00:00:00\", \"2015-11-23T00:00:00\", \"2015-11-30T00:00:00\", \"2015-12-07T00:00:00\", \"2015-12-14T00:00:00\", \"2015-12-21T00:00:00\", \"2015-12-28T00:00:00\", \"2016-01-04T00:00:00\", \"2016-01-11T00:00:00\", \"2016-01-18T00:00:00\", \"2016-01-25T00:00:00\", \"2016-02-01T00:00:00\", \"2016-02-08T00:00:00\", \"2016-02-15T00:00:00\", \"2016-02-22T00:00:00\", \"2016-02-29T00:00:00\", \"2016-03-07T00:00:00\", \"2016-03-14T00:00:00\", \"2016-03-21T00:00:00\", \"2016-03-28T00:00:00\", \"2016-04-04T00:00:00\", \"2016-04-11T00:00:00\", \"2016-04-18T00:00:00\", \"2016-04-25T00:00:00\", \"2016-05-02T00:00:00\", \"2016-05-09T00:00:00\", \"2016-05-16T00:00:00\", \"2016-05-23T00:00:00\", \"2016-05-30T00:00:00\", \"2016-06-06T00:00:00\", \"2016-06-13T00:00:00\", \"2016-06-20T00:00:00\", \"2016-06-27T00:00:00\", \"2016-07-04T00:00:00\", \"2016-07-11T00:00:00\", \"2016-07-18T00:00:00\", \"2016-07-25T00:00:00\", \"2016-08-01T00:00:00\", \"2016-08-08T00:00:00\", \"2016-08-15T00:00:00\", \"2016-08-22T00:00:00\", \"2016-08-29T00:00:00\", \"2016-09-05T00:00:00\", \"2016-09-12T00:00:00\", \"2016-09-19T00:00:00\", \"2016-09-26T00:00:00\", \"2016-10-03T00:00:00\", \"2016-10-10T00:00:00\", \"2016-10-17T00:00:00\", \"2016-10-24T00:00:00\", \"2016-10-31T00:00:00\", \"2016-11-07T00:00:00\", \"2016-11-14T00:00:00\", \"2016-11-21T00:00:00\", \"2016-11-28T00:00:00\", \"2016-12-05T00:00:00\", \"2016-12-12T00:00:00\", \"2016-12-19T00:00:00\", \"2016-12-26T00:00:00\", \"2017-01-02T00:00:00\", \"2017-01-09T00:00:00\", \"2017-01-16T00:00:00\", \"2017-01-23T00:00:00\", \"2017-01-30T00:00:00\", \"2017-02-06T00:00:00\", \"2017-02-13T00:00:00\", \"2017-02-20T00:00:00\", \"2017-02-27T00:00:00\", \"2017-03-06T00:00:00\", \"2017-03-13T00:00:00\", \"2017-03-20T00:00:00\", \"2017-03-27T00:00:00\", \"2017-04-03T00:00:00\", \"2017-04-10T00:00:00\", \"2017-04-17T00:00:00\", \"2017-04-24T00:00:00\", \"2017-05-01T00:00:00\", \"2017-05-08T00:00:00\", \"2017-05-15T00:00:00\", \"2017-05-22T00:00:00\", \"2017-05-29T00:00:00\", \"2017-06-05T00:00:00\", \"2017-06-12T00:00:00\", \"2017-06-19T00:00:00\", \"2017-06-26T00:00:00\", \"2017-07-03T00:00:00\", \"2017-07-10T00:00:00\", \"2017-07-17T00:00:00\", \"2017-07-24T00:00:00\", \"2017-07-31T00:00:00\", \"2017-08-07T00:00:00\", \"2017-08-14T00:00:00\", \"2017-08-21T00:00:00\", \"2017-08-28T00:00:00\", \"2017-09-04T00:00:00\", \"2017-09-11T00:00:00\", \"2017-09-18T00:00:00\", \"2017-09-25T00:00:00\", \"2017-10-02T00:00:00\", \"2017-10-09T00:00:00\", \"2017-10-16T00:00:00\", \"2017-10-23T00:00:00\", \"2017-10-30T00:00:00\", \"2017-11-06T00:00:00\", \"2017-11-13T00:00:00\", \"2017-11-20T00:00:00\", \"2017-11-27T00:00:00\", \"2017-12-04T00:00:00\", \"2017-12-11T00:00:00\", \"2017-12-18T00:00:00\", \"2017-12-25T00:00:00\", \"2018-01-01T00:00:00\", \"2018-01-08T00:00:00\", \"2018-01-15T00:00:00\", \"2018-01-22T00:00:00\", \"2018-01-29T00:00:00\", \"2018-02-05T00:00:00\", \"2018-02-12T00:00:00\", \"2018-02-19T00:00:00\", \"2018-02-26T00:00:00\", \"2018-03-05T00:00:00\", \"2018-03-12T00:00:00\", \"2018-03-19T00:00:00\", \"2018-03-26T00:00:00\", \"2018-04-02T00:00:00\", \"2018-04-09T00:00:00\", \"2018-04-16T00:00:00\", \"2018-04-23T00:00:00\", \"2018-04-30T00:00:00\", \"2018-05-07T00:00:00\", \"2018-05-14T00:00:00\", \"2018-05-21T00:00:00\", \"2018-05-28T00:00:00\", \"2018-06-04T00:00:00\", \"2018-06-11T00:00:00\", \"2018-06-18T00:00:00\", \"2018-06-25T00:00:00\", \"2018-07-02T00:00:00\", \"2018-07-09T00:00:00\", \"2018-07-16T00:00:00\", \"2018-07-23T00:00:00\", \"2018-07-30T00:00:00\", \"2018-08-06T00:00:00\", \"2018-08-13T00:00:00\", \"2018-08-20T00:00:00\", \"2018-08-27T00:00:00\", \"2018-09-03T00:00:00\", \"2018-09-10T00:00:00\", \"2018-09-17T00:00:00\", \"2018-09-24T00:00:00\", \"2018-10-01T00:00:00\", \"2018-10-08T00:00:00\", \"2018-10-15T00:00:00\", \"2018-10-22T00:00:00\", \"2018-10-29T00:00:00\", \"2018-11-05T00:00:00\", \"2018-11-12T00:00:00\", \"2018-11-19T00:00:00\", \"2018-11-26T00:00:00\", \"2018-12-03T00:00:00\", \"2018-12-10T00:00:00\", \"2018-12-17T00:00:00\", \"2018-12-24T00:00:00\", \"2018-12-31T00:00:00\", \"2019-01-07T00:00:00\", \"2019-01-14T00:00:00\", \"2019-01-21T00:00:00\", \"2019-01-28T00:00:00\", \"2019-02-04T00:00:00\", \"2019-02-11T00:00:00\", \"2019-02-18T00:00:00\", \"2019-02-25T00:00:00\", \"2019-03-04T00:00:00\", \"2019-03-11T00:00:00\", \"2019-03-18T00:00:00\", \"2019-03-25T00:00:00\", \"2019-04-01T00:00:00\", \"2019-04-08T00:00:00\", \"2019-04-15T00:00:00\", \"2019-04-22T00:00:00\", \"2019-04-29T00:00:00\", \"2019-05-06T00:00:00\", \"2019-05-13T00:00:00\", \"2019-05-20T00:00:00\", \"2019-05-27T00:00:00\", \"2019-06-03T00:00:00\", \"2019-06-10T00:00:00\", \"2019-06-17T00:00:00\", \"2019-06-24T00:00:00\", \"2019-07-01T00:00:00\", \"2019-07-08T00:00:00\", \"2019-07-15T00:00:00\", \"2019-07-22T00:00:00\", \"2019-07-29T00:00:00\", \"2019-08-05T00:00:00\", \"2019-08-12T00:00:00\", \"2019-08-19T00:00:00\", \"2019-08-26T00:00:00\", \"2019-09-02T00:00:00\", \"2019-09-09T00:00:00\", \"2019-09-16T00:00:00\", \"2019-09-23T00:00:00\", \"2019-09-30T00:00:00\"], \"xaxis\": \"x2\", \"y\": [382.7366126178569, 380.02278946097863, 376.0285087601654, 372.0856562594124, 367.9904224624189, 364.19113190964714, 361.0362332496733, 357.63354930525304, 355.1940271344936, 352.6018769763829, 349.51284905220643, 346.02300838167264, 343.48056331636354, 340.7412623299662, 337.0048725277465, 333.6711782664319, 330.22146135780736, 326.8198716275994, 321.1369181737032, 314.1934427534289, 307.8680025494712, 303.1962986569178, 298.3817580156646, 294.464590755245, 292.0301766252269, 290.4057190974323, 288.1312213865114, 284.0770568393624, 280.6861637401504, 276.74644790754667, 274.00967398846916, 271.83858702636036, 269.73202502440773, 267.6629861337109, 266.8583204941767, 266.9354819390525, 266.081001795419, 266.3564831439065, 266.3893362443578, 266.77531133736835, 267.1549179049707, 267.85455361571366, 267.2060681626978, 267.56858163212763, 267.1931311408589, 266.68993624153603, 267.48327429771854, 268.05488360899864, 268.0582255638876, 268.3279866332293, 269.0444320678049, 268.81151117389345, 268.25510293879023, 267.0213916099909, 265.55314037962125, 265.2751299811308, 265.099194426973, 265.92888372867867, 265.7341516006284, 265.22051074132264, 265.3226951308543, 265.11360660264285, 265.09778389133595, 265.29054064012587, 264.5208709630795, 262.6748805213699, 261.19525974200917, 259.43264790926776, 257.5043036196924, 255.34102187008554, 253.21205728711624, 253.66301600658912, 255.29538519128621, 256.0068381400798, 256.9841093889628, 257.68158276755815, 258.9347988588502, 257.61370264708347, 257.3237987472995, 257.2331469882403, 256.3269879520744, 254.74721106673553, 254.78075098771808, 255.64143609973897, 255.8754037960546, 254.84018870005056, 254.02980435189866, 252.51648551101727, 251.9671162139049, 251.88807056843046, 250.95562089669488, 251.7070563858286, 251.78801517206352, 252.9296436778366, 254.43855896095982, 255.82829533422205, 257.2928660502056, 258.72302412056075, 260.92872603755626, 262.70437596070025, 264.90405181546316, 266.6815294587622, 266.6680828321872, 265.8185952149882, 265.43203260647056, 265.71854870969497, 264.2727302867546, 262.60808359884686, 260.3111885174508, 257.8585078865285, 256.24676656160045, 253.8507097792597, 252.02473127709231, 250.03030673804844, 248.1243580907856, 246.77440563961628, 246.09482003668174, 245.79890744137197, 245.4804698531222, 245.52636097511314, 245.1910749769566, 244.82877312681165, 245.50071585815894, 245.52288505385087, 244.52118986467673, 243.6603609858118, 243.45588980167759, 244.23693500155332, 245.0193842606975, 244.2920224636088, 243.89261339223037, 243.30797536317627, 242.2481253362743, 242.60011605210585, 243.14825560380172, 243.55949592944603, 243.98471845319077, 244.57844301221368, 246.06152130760526, 247.29400121074562, 247.82777889883855, 249.08498046188754, 250.2342411684144, 251.57985293371704, 252.61838234603428, 253.26887254262434, 254.2415486505781, 255.38661912090564, 256.2172399267645, 256.81596289515227, 257.1851508288447, 257.27513965633767, 257.92142560772004, 259.216134821963, 259.6445692795954, 260.02645303666236, 261.0837528117244, 262.61088223307814, 263.5360020676649, 263.644446358949, 262.80411699902686, 262.1075157398397, 261.33658864799975, 260.23017467407385, 259.15386543895727, 258.2535791101456, 257.39775843532, 257.03496151418517, 255.89163103165293, 254.4996583626416, 253.13672070614965, 251.874741394583, 250.61735314313242, 249.66051216956706, 248.44862237922877, 247.66724294373034, 247.2474471701207, 246.83652515751916, 246.90048625696218, 246.61156134903905, 245.75885310096209, 244.75449361200194, 243.4837903814833, 242.2923985013734, 241.60407268645687, 241.83340063560823, 241.40870429222983, 241.15620767799058, 241.1742663685098, 241.1613577486202, 242.01607198946314, 243.2000666569103, 244.52598764528733, 244.86480337526604, 244.86741053265374, 245.31426901171642, 246.06876760344113, 246.58219222540845, 246.31684465315598, 245.5600413455148, 244.2222605051063, 243.82061157880213, 243.98204775815012, 244.86485903532417, 246.274869477152, 248.01747173810372, 251.96432568342937, 256.0040052624346, 259.67037524299496, 263.9836807805509, 267.80711183384346, 270.5473257720773, 273.49937571488636, 276.7586812174874, 280.0506307569328, 283.4468803304933, 286.8508151208271, 289.758162148914, 292.46496495269815, 295.1712638450909, 298.0326517084175, 300.74134417446066, 303.3827260874636, 304.9247463772811, 305.95995034933435, 307.08884291605034, 307.6155952926392, 308.6662919376289, 309.1428629052119, 308.8359841714925, 308.48517052915975, 308.2121949344072, 308.9890693837104, 309.95284202195404, 309.60818705736483, 309.65943246052296, 309.31428931529905, 308.6243419586102, 306.17068699871317, 303.49137685066034, 300.632756343204, 297.6229225400037, 296.0064097592627, 294.66519422153954, 293.77888353846254, 293.2693366096875, 293.16790426822917, 292.6517632113233, 288.2775585290031, 284.0940356750029, 279.62781081018784, 275.49241741684057, 272.6263124230005, 269.8910300212968, 267.58799076046, 265.1740655189445, 262.39820881383747, 259.27241556836805, 256.3855699707112, 253.0755277506585, 249.23289606542454, 245.23786672724495, 241.89432104374532, 238.59844541087529, 235.28744945451416, 232.36615690232793, 229.66866379845177, 227.86357759115904, 225.76997925107318, 224.29812893617887, 222.40937864461006, 220.4049802264908, 218.24905576526928, 215.6009775604345, 214.20831255595786, 212.86695607033136, 212.0323667317883, 212.72626549239658, 212.96135693740425, 213.6679230901891, 213.40363249091584], \"yaxis\": \"y2\"}, {\"line\": {\"color\": \"firebrick\", \"width\": 1}, \"name\": \"MACD line\", \"type\": \"scatter\", \"x\": [\"2014-05-19T00:00:00\", \"2014-05-26T00:00:00\", \"2014-06-02T00:00:00\", \"2014-06-09T00:00:00\", \"2014-06-16T00:00:00\", \"2014-06-23T00:00:00\", \"2014-06-30T00:00:00\", \"2014-07-07T00:00:00\", \"2014-07-14T00:00:00\", \"2014-07-21T00:00:00\", \"2014-07-28T00:00:00\", \"2014-08-04T00:00:00\", \"2014-08-11T00:00:00\", \"2014-08-18T00:00:00\", \"2014-08-25T00:00:00\", \"2014-09-01T00:00:00\", \"2014-09-08T00:00:00\", \"2014-09-15T00:00:00\", \"2014-09-22T00:00:00\", \"2014-09-29T00:00:00\", \"2014-10-06T00:00:00\", \"2014-10-13T00:00:00\", \"2014-10-20T00:00:00\", \"2014-10-27T00:00:00\", \"2014-11-03T00:00:00\", \"2014-11-10T00:00:00\", \"2014-11-17T00:00:00\", \"2014-11-24T00:00:00\", \"2014-12-01T00:00:00\", \"2014-12-08T00:00:00\", \"2014-12-15T00:00:00\", \"2014-12-22T00:00:00\", \"2014-12-29T00:00:00\", \"2015-01-05T00:00:00\", \"2015-01-12T00:00:00\", \"2015-01-19T00:00:00\", \"2015-01-26T00:00:00\", \"2015-02-02T00:00:00\", \"2015-02-09T00:00:00\", \"2015-02-16T00:00:00\", \"2015-02-23T00:00:00\", \"2015-03-02T00:00:00\", \"2015-03-09T00:00:00\", \"2015-03-16T00:00:00\", \"2015-03-23T00:00:00\", \"2015-03-30T00:00:00\", \"2015-04-06T00:00:00\", \"2015-04-13T00:00:00\", \"2015-04-20T00:00:00\", \"2015-04-27T00:00:00\", \"2015-05-04T00:00:00\", \"2015-05-11T00:00:00\", \"2015-05-18T00:00:00\", \"2015-05-25T00:00:00\", \"2015-06-01T00:00:00\", \"2015-06-08T00:00:00\", \"2015-06-15T00:00:00\", \"2015-06-22T00:00:00\", \"2015-06-29T00:00:00\", \"2015-07-06T00:00:00\", \"2015-07-13T00:00:00\", \"2015-07-20T00:00:00\", \"2015-07-27T00:00:00\", \"2015-08-03T00:00:00\", \"2015-08-10T00:00:00\", \"2015-08-17T00:00:00\", \"2015-08-24T00:00:00\", \"2015-08-31T00:00:00\", \"2015-09-07T00:00:00\", \"2015-09-14T00:00:00\", \"2015-09-21T00:00:00\", \"2015-09-28T00:00:00\", \"2015-10-05T00:00:00\", \"2015-10-12T00:00:00\", \"2015-10-19T00:00:00\", \"2015-10-26T00:00:00\", \"2015-11-02T00:00:00\", \"2015-11-09T00:00:00\", \"2015-11-16T00:00:00\", \"2015-11-23T00:00:00\", \"2015-11-30T00:00:00\", \"2015-12-07T00:00:00\", \"2015-12-14T00:00:00\", \"2015-12-21T00:00:00\", \"2015-12-28T00:00:00\", \"2016-01-04T00:00:00\", \"2016-01-11T00:00:00\", \"2016-01-18T00:00:00\", \"2016-01-25T00:00:00\", \"2016-02-01T00:00:00\", \"2016-02-08T00:00:00\", \"2016-02-15T00:00:00\", \"2016-02-22T00:00:00\", \"2016-02-29T00:00:00\", \"2016-03-07T00:00:00\", \"2016-03-14T00:00:00\", \"2016-03-21T00:00:00\", \"2016-03-28T00:00:00\", \"2016-04-04T00:00:00\", \"2016-04-11T00:00:00\", \"2016-04-18T00:00:00\", \"2016-04-25T00:00:00\", \"2016-05-02T00:00:00\", \"2016-05-09T00:00:00\", \"2016-05-16T00:00:00\", \"2016-05-23T00:00:00\", \"2016-05-30T00:00:00\", \"2016-06-06T00:00:00\", \"2016-06-13T00:00:00\", \"2016-06-20T00:00:00\", \"2016-06-27T00:00:00\", \"2016-07-04T00:00:00\", \"2016-07-11T00:00:00\", \"2016-07-18T00:00:00\", \"2016-07-25T00:00:00\", \"2016-08-01T00:00:00\", \"2016-08-08T00:00:00\", \"2016-08-15T00:00:00\", \"2016-08-22T00:00:00\", \"2016-08-29T00:00:00\", \"2016-09-05T00:00:00\", \"2016-09-12T00:00:00\", \"2016-09-19T00:00:00\", \"2016-09-26T00:00:00\", \"2016-10-03T00:00:00\", \"2016-10-10T00:00:00\", \"2016-10-17T00:00:00\", \"2016-10-24T00:00:00\", \"2016-10-31T00:00:00\", \"2016-11-07T00:00:00\", \"2016-11-14T00:00:00\", \"2016-11-21T00:00:00\", \"2016-11-28T00:00:00\", \"2016-12-05T00:00:00\", \"2016-12-12T00:00:00\", \"2016-12-19T00:00:00\", \"2016-12-26T00:00:00\", \"2017-01-02T00:00:00\", \"2017-01-09T00:00:00\", \"2017-01-16T00:00:00\", \"2017-01-23T00:00:00\", \"2017-01-30T00:00:00\", \"2017-02-06T00:00:00\", \"2017-02-13T00:00:00\", \"2017-02-20T00:00:00\", \"2017-02-27T00:00:00\", \"2017-03-06T00:00:00\", \"2017-03-13T00:00:00\", \"2017-03-20T00:00:00\", \"2017-03-27T00:00:00\", \"2017-04-03T00:00:00\", \"2017-04-10T00:00:00\", \"2017-04-17T00:00:00\", \"2017-04-24T00:00:00\", \"2017-05-01T00:00:00\", \"2017-05-08T00:00:00\", \"2017-05-15T00:00:00\", \"2017-05-22T00:00:00\", \"2017-05-29T00:00:00\", \"2017-06-05T00:00:00\", \"2017-06-12T00:00:00\", \"2017-06-19T00:00:00\", \"2017-06-26T00:00:00\", \"2017-07-03T00:00:00\", \"2017-07-10T00:00:00\", \"2017-07-17T00:00:00\", \"2017-07-24T00:00:00\", \"2017-07-31T00:00:00\", \"2017-08-07T00:00:00\", \"2017-08-14T00:00:00\", \"2017-08-21T00:00:00\", \"2017-08-28T00:00:00\", \"2017-09-04T00:00:00\", \"2017-09-11T00:00:00\", \"2017-09-18T00:00:00\", \"2017-09-25T00:00:00\", \"2017-10-02T00:00:00\", \"2017-10-09T00:00:00\", \"2017-10-16T00:00:00\", \"2017-10-23T00:00:00\", \"2017-10-30T00:00:00\", \"2017-11-06T00:00:00\", \"2017-11-13T00:00:00\", \"2017-11-20T00:00:00\", \"2017-11-27T00:00:00\", \"2017-12-04T00:00:00\", \"2017-12-11T00:00:00\", \"2017-12-18T00:00:00\", \"2017-12-25T00:00:00\", \"2018-01-01T00:00:00\", \"2018-01-08T00:00:00\", \"2018-01-15T00:00:00\", \"2018-01-22T00:00:00\", \"2018-01-29T00:00:00\", \"2018-02-05T00:00:00\", \"2018-02-12T00:00:00\", \"2018-02-19T00:00:00\", \"2018-02-26T00:00:00\", \"2018-03-05T00:00:00\", \"2018-03-12T00:00:00\", \"2018-03-19T00:00:00\", \"2018-03-26T00:00:00\", \"2018-04-02T00:00:00\", \"2018-04-09T00:00:00\", \"2018-04-16T00:00:00\", \"2018-04-23T00:00:00\", \"2018-04-30T00:00:00\", \"2018-05-07T00:00:00\", \"2018-05-14T00:00:00\", \"2018-05-21T00:00:00\", \"2018-05-28T00:00:00\", \"2018-06-04T00:00:00\", \"2018-06-11T00:00:00\", \"2018-06-18T00:00:00\", \"2018-06-25T00:00:00\", \"2018-07-02T00:00:00\", \"2018-07-09T00:00:00\", \"2018-07-16T00:00:00\", \"2018-07-23T00:00:00\", \"2018-07-30T00:00:00\", \"2018-08-06T00:00:00\", \"2018-08-13T00:00:00\", \"2018-08-20T00:00:00\", \"2018-08-27T00:00:00\", \"2018-09-03T00:00:00\", \"2018-09-10T00:00:00\", \"2018-09-17T00:00:00\", \"2018-09-24T00:00:00\", \"2018-10-01T00:00:00\", \"2018-10-08T00:00:00\", \"2018-10-15T00:00:00\", \"2018-10-22T00:00:00\", \"2018-10-29T00:00:00\", \"2018-11-05T00:00:00\", \"2018-11-12T00:00:00\", \"2018-11-19T00:00:00\", \"2018-11-26T00:00:00\", \"2018-12-03T00:00:00\", \"2018-12-10T00:00:00\", \"2018-12-17T00:00:00\", \"2018-12-24T00:00:00\", \"2018-12-31T00:00:00\", \"2019-01-07T00:00:00\", \"2019-01-14T00:00:00\", \"2019-01-21T00:00:00\", \"2019-01-28T00:00:00\", \"2019-02-04T00:00:00\", \"2019-02-11T00:00:00\", \"2019-02-18T00:00:00\", \"2019-02-25T00:00:00\", \"2019-03-04T00:00:00\", \"2019-03-11T00:00:00\", \"2019-03-18T00:00:00\", \"2019-03-25T00:00:00\", \"2019-04-01T00:00:00\", \"2019-04-08T00:00:00\", \"2019-04-15T00:00:00\", \"2019-04-22T00:00:00\", \"2019-04-29T00:00:00\", \"2019-05-06T00:00:00\", \"2019-05-13T00:00:00\", \"2019-05-20T00:00:00\", \"2019-05-27T00:00:00\", \"2019-06-03T00:00:00\", \"2019-06-10T00:00:00\", \"2019-06-17T00:00:00\", \"2019-06-24T00:00:00\", \"2019-07-01T00:00:00\", \"2019-07-08T00:00:00\", \"2019-07-15T00:00:00\", \"2019-07-22T00:00:00\", \"2019-07-29T00:00:00\", \"2019-08-05T00:00:00\", \"2019-08-12T00:00:00\", \"2019-08-19T00:00:00\", \"2019-08-26T00:00:00\", \"2019-09-02T00:00:00\", \"2019-09-09T00:00:00\", \"2019-09-16T00:00:00\", \"2019-09-23T00:00:00\", \"2019-09-30T00:00:00\"], \"xaxis\": \"x\", \"y\": [-3.4264729203932234, -5.8219020246631885, -9.227757852513832, -12.0542516452457, -14.61000317350863, -16.453854049799986, -17.32007506057181, -18.31987699139796, -18.128612099693157, -18.131141177705672, -18.66838029947951, -19.554611744749877, -19.284227700505824, -19.267439885778913, -20.32702276728031, -20.789920776806696, -21.306551174278297, -21.691870703074812, -24.474763545259293, -28.187004221668644, -30.6625545610587, -30.976304205184135, -31.39560886419764, -30.78400301169603, -28.669679303762337, -26.00837521003922, -24.456545789486483, -25.060023641879752, -24.85636641920354, -25.27508094366857, -24.33390194211077, -22.928318371749413, -21.6694900089677, -20.563918043723163, -18.26680134111018, -15.373427271073155, -13.928493999436483, -11.488976547305867, -9.686061431849623, -7.780232649861432, -6.17446670784949, -4.471094910457225, -4.481603104403916, -3.4017265828020413, -3.2827153298910616, -3.3195844014863383, -1.954515048445728, -1.0382411673062393, -0.8749127286094449, -0.44979884953238525, 0.39095759532324337, 0.07997238721497979, -0.5315399255446209, -1.7783767526292422, -3.0859739618536537, -2.910604550712094, -2.6522882935417442, -1.350732385006097, -1.3526389252131708, -1.6976923236636026, -1.3264641620658608, -1.3475650136680315, -1.1572871622034313, -0.7716587923983411, -1.4818170919254499, -3.2418349380857308, -4.336528863845615, -5.567567935437069, -6.7876974879895045, -8.073124374029248, -9.123836328914763, -7.2345213496494125, -4.363582020029554, -2.926081610554945, -1.4234692485955804, -0.4533488026320356, 0.9660144960873254, -0.6053221159825171, -0.8243998363679452, -0.7951940636058907, -1.6487200927683148, -3.0963690319380817, -2.58388465058178, -1.2594722760082675, -0.8137420990516944, -1.8033980333557906, -2.39867378777231, -3.659375033679595, -3.6880227330807145, -3.20576070004077, -3.716743315749767, -2.3356984327211876, -1.8891738271264842, -0.36908561673601525, 1.3126824753560413, 2.6073704965067463, 3.783466575795728, 4.741565024517286, 6.387464777509763, 7.317016267432564, 8.560203146803076, 9.157455509309216, 7.73413521771937, 5.629435442625095, 4.347070257663745, 3.9868460214955803, 1.8164498704066432, -0.25570038894119307, -2.6899411859921543, -4.91745245221739, -5.896642732567955, -7.569835770078356, -8.371684038554264, -9.231574459285468, -9.863892316447703, -9.800165369022665, -9.024309038487132, -7.954628904438067, -7.07377262956274, -5.936078709024372, -5.3839130594968765, -4.945789965884188, -3.461268568143396, -2.9048911930684937, -3.536733520937787, -3.919667156494228, -3.5368411768704107, -2.1515861651780313, -0.9779352453030299, -1.6107963736596105, -1.7931143930426003, -2.146860825402001, -2.9579514966191596, -2.1238151108591694, -1.206770191977597, -0.5782390425179358, -0.03134724117467158, 0.6128710902614785, 2.1157444714121993, 3.117531371499922, 3.2127486707538253, 4.072389020075235, 4.683533008631031, 5.412109831475249, 5.6978938398976595, 5.521822691625772, 5.7198088553258515, 6.072991076397699, 6.0331994709537184, 5.749793518301601, 5.262796905616256, 4.550046888206225, 4.546039929970959, 5.2409514022370445, 4.896042140881605, 4.554064319125871, 4.992069566250223, 5.868659779054269, 5.962071942600971, 5.161616265122177, 3.4625513751872177, 2.179665192187599, 1.0141029098695071, -0.33343566356910515, -1.441240122376314, -2.189049996115557, -2.7739261080637903, -2.737872621891455, -3.547940430481333, -4.501150930881039, -5.276445186967635, -5.823739032198233, -6.28188960572993, -6.345889176380325, -6.674710615763075, -6.48931760541322, -5.9430488069292835, -5.471265004049513, -4.560650742487866, -4.1701620675607955, -4.446899862788172, -4.844379333547096, -5.467539838175355, -5.909417272420541, -5.741550108112136, -4.611266146239615, -4.3592058781486855, -3.9604782506911533, -3.331726083871814, -2.833054430849586, -1.476738412888011, 0.025523292499428862, 1.4495115426747702, 1.5913882453172903, 1.3493669924552307, 1.6230042787603907, 2.18584825773155, 2.40248273404535, 1.7471110817664623, 0.6633058148041755, -0.8794282925287007, -1.1766766296979938, -0.8217951089081623, 0.25535474480363973, 1.7345421829561474, 3.3443381281416293, 7.080282664932099, 10.341432570794325, 12.698841385121796, 15.39027175093247, 17.140078769719423, 17.454143200168232, 17.948021107782893, 18.696808401694284, 19.365552766990163, 20.0437364974415, 20.62586065665613, 20.583640432033405, 20.331944923488095, 20.11842912706669, 20.104780806485053, 19.92879103045692, 19.70738831669746, 18.33611965700902, 16.630013218141926, 15.287280102583452, 13.502662646204726, 12.556849395239055, 11.1382566841379, 9.094193942572758, 7.317287875049317, 5.897577561462015, 5.826891958948181, 5.968356037218598, 4.678980531165848, 4.014324729772227, 3.0250436918738046, 1.8166321243821812, -1.105247390027273, -3.820620258695385, -6.311346919233642, -8.581729950490285, -9.002323721982123, -9.061736805379041, -8.622111878634428, -7.844375974448326, -6.7467837307190734, -6.264661218045546, -10.011549150075723, -12.976643123602798, -15.790017112849284, -17.814284288323336, -18.160199775793615, -18.312011627506337, -17.974975196483456, -17.80920619557969, -18.058712463298036, -18.646687887142377, -18.886877317366384, -19.545864736289815, -20.677027360958732, -21.79828551577387, -22.04544463403903, -22.203242294969954, -22.35304681797888, -22.06012390218268, -21.571251259867324, -20.19653621235682, -19.344021161317443, -17.953087475616314, -17.225112793364815, -16.733678352360215, -16.481031102543398, -16.797264384281846, -15.712862945367164, -14.740037169062305, -13.371127661483712, -10.566755509831154, -8.68792541369504, -6.590404108589013, -5.861116429561918], \"yaxis\": \"y\"}, {\"line\": {\"color\": \"royalblue\", \"width\": 1}, \"name\": \"Signal line\", \"type\": \"scatter\", \"x\": [\"2014-05-19T00:00:00\", \"2014-05-26T00:00:00\", \"2014-06-02T00:00:00\", \"2014-06-09T00:00:00\", \"2014-06-16T00:00:00\", \"2014-06-23T00:00:00\", \"2014-06-30T00:00:00\", \"2014-07-07T00:00:00\", \"2014-07-14T00:00:00\", \"2014-07-21T00:00:00\", \"2014-07-28T00:00:00\", \"2014-08-04T00:00:00\", \"2014-08-11T00:00:00\", \"2014-08-18T00:00:00\", \"2014-08-25T00:00:00\", \"2014-09-01T00:00:00\", \"2014-09-08T00:00:00\", \"2014-09-15T00:00:00\", \"2014-09-22T00:00:00\", \"2014-09-29T00:00:00\", \"2014-10-06T00:00:00\", \"2014-10-13T00:00:00\", \"2014-10-20T00:00:00\", \"2014-10-27T00:00:00\", \"2014-11-03T00:00:00\", \"2014-11-10T00:00:00\", \"2014-11-17T00:00:00\", \"2014-11-24T00:00:00\", \"2014-12-01T00:00:00\", \"2014-12-08T00:00:00\", \"2014-12-15T00:00:00\", \"2014-12-22T00:00:00\", \"2014-12-29T00:00:00\", \"2015-01-05T00:00:00\", \"2015-01-12T00:00:00\", \"2015-01-19T00:00:00\", \"2015-01-26T00:00:00\", \"2015-02-02T00:00:00\", \"2015-02-09T00:00:00\", \"2015-02-16T00:00:00\", \"2015-02-23T00:00:00\", \"2015-03-02T00:00:00\", \"2015-03-09T00:00:00\", \"2015-03-16T00:00:00\", \"2015-03-23T00:00:00\", \"2015-03-30T00:00:00\", \"2015-04-06T00:00:00\", \"2015-04-13T00:00:00\", \"2015-04-20T00:00:00\", \"2015-04-27T00:00:00\", \"2015-05-04T00:00:00\", \"2015-05-11T00:00:00\", \"2015-05-18T00:00:00\", \"2015-05-25T00:00:00\", \"2015-06-01T00:00:00\", \"2015-06-08T00:00:00\", \"2015-06-15T00:00:00\", \"2015-06-22T00:00:00\", \"2015-06-29T00:00:00\", \"2015-07-06T00:00:00\", \"2015-07-13T00:00:00\", \"2015-07-20T00:00:00\", \"2015-07-27T00:00:00\", \"2015-08-03T00:00:00\", \"2015-08-10T00:00:00\", \"2015-08-17T00:00:00\", \"2015-08-24T00:00:00\", \"2015-08-31T00:00:00\", \"2015-09-07T00:00:00\", \"2015-09-14T00:00:00\", \"2015-09-21T00:00:00\", \"2015-09-28T00:00:00\", \"2015-10-05T00:00:00\", \"2015-10-12T00:00:00\", \"2015-10-19T00:00:00\", \"2015-10-26T00:00:00\", \"2015-11-02T00:00:00\", \"2015-11-09T00:00:00\", \"2015-11-16T00:00:00\", \"2015-11-23T00:00:00\", \"2015-11-30T00:00:00\", \"2015-12-07T00:00:00\", \"2015-12-14T00:00:00\", \"2015-12-21T00:00:00\", \"2015-12-28T00:00:00\", \"2016-01-04T00:00:00\", \"2016-01-11T00:00:00\", \"2016-01-18T00:00:00\", \"2016-01-25T00:00:00\", \"2016-02-01T00:00:00\", \"2016-02-08T00:00:00\", \"2016-02-15T00:00:00\", \"2016-02-22T00:00:00\", \"2016-02-29T00:00:00\", \"2016-03-07T00:00:00\", \"2016-03-14T00:00:00\", \"2016-03-21T00:00:00\", \"2016-03-28T00:00:00\", \"2016-04-04T00:00:00\", \"2016-04-11T00:00:00\", \"2016-04-18T00:00:00\", \"2016-04-25T00:00:00\", \"2016-05-02T00:00:00\", \"2016-05-09T00:00:00\", \"2016-05-16T00:00:00\", \"2016-05-23T00:00:00\", \"2016-05-30T00:00:00\", \"2016-06-06T00:00:00\", \"2016-06-13T00:00:00\", \"2016-06-20T00:00:00\", \"2016-06-27T00:00:00\", \"2016-07-04T00:00:00\", \"2016-07-11T00:00:00\", \"2016-07-18T00:00:00\", \"2016-07-25T00:00:00\", \"2016-08-01T00:00:00\", \"2016-08-08T00:00:00\", \"2016-08-15T00:00:00\", \"2016-08-22T00:00:00\", \"2016-08-29T00:00:00\", \"2016-09-05T00:00:00\", \"2016-09-12T00:00:00\", \"2016-09-19T00:00:00\", \"2016-09-26T00:00:00\", \"2016-10-03T00:00:00\", \"2016-10-10T00:00:00\", \"2016-10-17T00:00:00\", \"2016-10-24T00:00:00\", \"2016-10-31T00:00:00\", \"2016-11-07T00:00:00\", \"2016-11-14T00:00:00\", \"2016-11-21T00:00:00\", \"2016-11-28T00:00:00\", \"2016-12-05T00:00:00\", \"2016-12-12T00:00:00\", \"2016-12-19T00:00:00\", \"2016-12-26T00:00:00\", \"2017-01-02T00:00:00\", \"2017-01-09T00:00:00\", \"2017-01-16T00:00:00\", \"2017-01-23T00:00:00\", \"2017-01-30T00:00:00\", \"2017-02-06T00:00:00\", \"2017-02-13T00:00:00\", \"2017-02-20T00:00:00\", \"2017-02-27T00:00:00\", \"2017-03-06T00:00:00\", \"2017-03-13T00:00:00\", \"2017-03-20T00:00:00\", \"2017-03-27T00:00:00\", \"2017-04-03T00:00:00\", \"2017-04-10T00:00:00\", \"2017-04-17T00:00:00\", \"2017-04-24T00:00:00\", \"2017-05-01T00:00:00\", \"2017-05-08T00:00:00\", \"2017-05-15T00:00:00\", \"2017-05-22T00:00:00\", \"2017-05-29T00:00:00\", \"2017-06-05T00:00:00\", \"2017-06-12T00:00:00\", \"2017-06-19T00:00:00\", \"2017-06-26T00:00:00\", \"2017-07-03T00:00:00\", \"2017-07-10T00:00:00\", \"2017-07-17T00:00:00\", \"2017-07-24T00:00:00\", \"2017-07-31T00:00:00\", \"2017-08-07T00:00:00\", \"2017-08-14T00:00:00\", \"2017-08-21T00:00:00\", \"2017-08-28T00:00:00\", \"2017-09-04T00:00:00\", \"2017-09-11T00:00:00\", \"2017-09-18T00:00:00\", \"2017-09-25T00:00:00\", \"2017-10-02T00:00:00\", \"2017-10-09T00:00:00\", \"2017-10-16T00:00:00\", \"2017-10-23T00:00:00\", \"2017-10-30T00:00:00\", \"2017-11-06T00:00:00\", \"2017-11-13T00:00:00\", \"2017-11-20T00:00:00\", \"2017-11-27T00:00:00\", \"2017-12-04T00:00:00\", \"2017-12-11T00:00:00\", \"2017-12-18T00:00:00\", \"2017-12-25T00:00:00\", \"2018-01-01T00:00:00\", \"2018-01-08T00:00:00\", \"2018-01-15T00:00:00\", \"2018-01-22T00:00:00\", \"2018-01-29T00:00:00\", \"2018-02-05T00:00:00\", \"2018-02-12T00:00:00\", \"2018-02-19T00:00:00\", \"2018-02-26T00:00:00\", \"2018-03-05T00:00:00\", \"2018-03-12T00:00:00\", \"2018-03-19T00:00:00\", \"2018-03-26T00:00:00\", \"2018-04-02T00:00:00\", \"2018-04-09T00:00:00\", \"2018-04-16T00:00:00\", \"2018-04-23T00:00:00\", \"2018-04-30T00:00:00\", \"2018-05-07T00:00:00\", \"2018-05-14T00:00:00\", \"2018-05-21T00:00:00\", \"2018-05-28T00:00:00\", \"2018-06-04T00:00:00\", \"2018-06-11T00:00:00\", \"2018-06-18T00:00:00\", \"2018-06-25T00:00:00\", \"2018-07-02T00:00:00\", \"2018-07-09T00:00:00\", \"2018-07-16T00:00:00\", \"2018-07-23T00:00:00\", \"2018-07-30T00:00:00\", \"2018-08-06T00:00:00\", \"2018-08-13T00:00:00\", \"2018-08-20T00:00:00\", \"2018-08-27T00:00:00\", \"2018-09-03T00:00:00\", \"2018-09-10T00:00:00\", \"2018-09-17T00:00:00\", \"2018-09-24T00:00:00\", \"2018-10-01T00:00:00\", \"2018-10-08T00:00:00\", \"2018-10-15T00:00:00\", \"2018-10-22T00:00:00\", \"2018-10-29T00:00:00\", \"2018-11-05T00:00:00\", \"2018-11-12T00:00:00\", \"2018-11-19T00:00:00\", \"2018-11-26T00:00:00\", \"2018-12-03T00:00:00\", \"2018-12-10T00:00:00\", \"2018-12-17T00:00:00\", \"2018-12-24T00:00:00\", \"2018-12-31T00:00:00\", \"2019-01-07T00:00:00\", \"2019-01-14T00:00:00\", \"2019-01-21T00:00:00\", \"2019-01-28T00:00:00\", \"2019-02-04T00:00:00\", \"2019-02-11T00:00:00\", \"2019-02-18T00:00:00\", \"2019-02-25T00:00:00\", \"2019-03-04T00:00:00\", \"2019-03-11T00:00:00\", \"2019-03-18T00:00:00\", \"2019-03-25T00:00:00\", \"2019-04-01T00:00:00\", \"2019-04-08T00:00:00\", \"2019-04-15T00:00:00\", \"2019-04-22T00:00:00\", \"2019-04-29T00:00:00\", \"2019-05-06T00:00:00\", \"2019-05-13T00:00:00\", \"2019-05-20T00:00:00\", \"2019-05-27T00:00:00\", \"2019-06-03T00:00:00\", \"2019-06-10T00:00:00\", \"2019-06-17T00:00:00\", \"2019-06-24T00:00:00\", \"2019-07-01T00:00:00\", \"2019-07-08T00:00:00\", \"2019-07-15T00:00:00\", \"2019-07-22T00:00:00\", \"2019-07-29T00:00:00\", \"2019-08-05T00:00:00\", \"2019-08-12T00:00:00\", \"2019-08-19T00:00:00\", \"2019-08-26T00:00:00\", \"2019-09-02T00:00:00\", \"2019-09-09T00:00:00\", \"2019-09-16T00:00:00\", \"2019-09-23T00:00:00\", \"2019-09-30T00:00:00\"], \"xaxis\": \"x\", \"y\": [2.9231516172244465, 1.1741408888469194, -0.9062388594252309, -3.135841416589325, -5.430673767973186, -7.635309824338546, -9.572262871585199, -11.321785695547751, -12.683150976376833, -13.772749016642601, -14.751875273209983, -15.712422567517962, -16.426783594115534, -16.99491485244821, -17.661336435414633, -18.287053303693046, -18.890952877810097, -19.45113644286304, -20.45586186334229, -22.00209033500756, -23.734183180217787, -25.182607385211057, -26.425207681008374, -27.296966747145905, -27.57150925846919, -27.258882448783197, -26.698415116923854, -26.370736821915035, -26.067862741372736, -25.909306381831904, -25.594225493887677, -25.061044069460024, -24.382733257361558, -23.61897021463388, -22.54853643992914, -21.113514606157942, -19.67651048481365, -18.039003697312094, -16.368415244219598, -14.650778725347966, -12.95551632184827, -11.258632039570061, -9.903226252536832, -8.602926318589875, -7.538884120850112, -6.695024176977357, -5.7469223512710315, -4.805186114478073, -4.019131437304347, -3.3052649197499546, -2.566020416735315, -2.036821855945256, -1.7357654698651293, -1.744287726417952, -2.0126249735050923, -2.1922208889464927, -2.284234369865543, -2.097533972893654, -1.9485549633575574, -1.8983824354187664, -1.7839987807481852, -1.6967120273321545, -1.5888270543064098, -1.425393401924796, -1.4366781399249269, -1.7977094995570877, -2.3054733724147933, -2.9578922850192484, -3.7238533256132995, -4.593707535296489, -5.499733294020144, -5.846690905145998, -5.5500691281227095, -5.025271624609156, -4.304911149406442, -3.5345986800515603, -2.634476044823783, -2.22864525905553, -1.9477961745180132, -1.7172757523355888, -1.703564620422134, -1.9821255027253235, -2.1024773322966146, -1.9338763210389451, -1.709849476641495, -1.728559187984354, -1.8625821079419453, -2.221940693089475, -2.515157101087723, -2.6532778208783325, -2.8659709198526193, -2.759916422426333, -2.585767903366363, -2.142431446040294, -1.4514086617610267, -0.639652830107472, 0.2449710510731682, 1.1442898457619917, 2.192924832111546, 3.2177431191757497, 4.286235124701215, 5.2604792016228155, 5.755210404842126, 5.73005541239872, 5.453458381451725, 5.160135909460496, 4.491398701649725, 3.5419788835315416, 2.295594869626802, 0.8529854052579635, -0.4969402223072201, -1.9115193318614474, -3.203552273200011, -4.409156710417102, -5.500103831623223, -6.360116139103111, -6.892954718979915, -7.105289556071545, -7.098986170769784, -6.866404678420702, -6.569906354635937, -6.245083076885587, -5.688320175137148, -5.131634378723417, -4.812654207166291, -4.634056797031879, -4.414613672999585, -3.9620081714352744, -3.3651935862088256, -3.0143141436989827, -2.770074193567706, -2.645431519934565, -2.707935515271484, -2.5911114343890214, -2.3142431859067365, -1.9670423572289764, -1.5799033340181154, -1.1413484491621966, -0.4899298650473174, 0.23156238226213055, 0.8277996399604695, 1.4767175159834227, 2.1180806145129445, 2.7768864579054053, 3.361087934303856, 3.793234885768239, 4.178549679679762, 4.557437959023349, 4.852590261409423, 5.032030912787858, 5.078184111353538, 4.972556666724076, 4.887253319373452, 4.957992935946171, 4.945602776933258, 4.867295085371781, 4.89224998154747, 5.087531941048829, 5.262439941359258, 5.242275206111842, 4.886330439926917, 4.344997390379054, 3.6788184942771442, 2.8763676627078945, 2.012846105691053, 1.1724668853297309, 0.38318828665102656, -0.2410238950574698, -0.9024072021422425, -1.6221559478900018, -2.3530137957055284, -3.0471588430040693, -3.6941049955492415, -4.224461831715458, -4.7145115885249815, -5.069472791902629, -5.24418799490796, -5.28960339673627, -5.14381286588659, -4.94908270622143, -4.848646137534779, -4.847792776737242, -4.971742189024864, -5.159277205703999, -5.275731786185626, -5.142838658196424, -4.986112102186876, -4.780985331887732, -4.491133482284548, -4.1595176719975555, -3.6229618201756466, -2.8932647976406316, -2.0247095295775512, -1.3014899745985828, -0.7713185811878202, -0.292454009198178, 0.20320644418776762, 0.6430617021592842, 0.8638715780807198, 0.8237584254254109, 0.4831210818345886, 0.1511615395280721, -0.04342979015917481, 0.016327116833388104, 0.35997013005794, 0.9568437296746779, 2.181531516726162, 3.8135117275397947, 5.590577659056195, 7.550516477431451, 9.468428935889046, 11.065571788744883, 12.442061652552486, 13.693011002380846, 14.827519355302709, 15.870762783730466, 16.8217823583156, 17.57415397305916, 18.125712163144946, 18.524255555929294, 18.840360606040445, 19.05804669092374, 19.187915016078485, 19.017555944264593, 18.54004739904006, 17.88949393974874, 17.012127681039935, 16.12107202387976, 15.124508955931386, 13.91844595325966, 12.598214337617591, 11.258086982386477, 10.171847977698818, 9.331149589602774, 8.400715777915389, 7.523437568286757, 6.623758793004166, 5.662333459279769, 4.308817289418361, 2.6829297797956118, 0.8840744399897611, -1.009086438106248, -2.607733894881423, -3.898534476980947, -4.843249957311643, -5.44347516073898, -5.704136874734998, -5.816241743397108, -6.655303224732831, -7.919571204506825, -9.493660386175318, -11.15778516660492, -12.55826808844266, -13.709016796255394, -14.562208476301006, -15.211608020156742, -15.781028908785, -16.354160704456476, -16.86070402703846, -17.39773616888873, -18.053594407302732, -18.80253262899696, -19.451115030005376, -20.00154048299829, -20.471841749994407, -20.789498180432062, -20.945848796319115, -20.795986279526655, -20.50559325588481, -19.995092099831112, -19.441096238537853, -18.899612661302324, -18.41589634955054, -18.0921699564968, -17.616308554270873, -17.041054277229158, -16.30706895408007, -15.159006265230285, -13.864790094923237, -12.409912897656392, -11.100153604037498], \"yaxis\": \"y\"}, {\"marker\": {\"color\": \"green\"}, \"opacity\": 1, \"type\": \"bar\", \"x\": [\"2014-11-10T00:00:00\", \"2014-11-17T00:00:00\", \"2014-11-24T00:00:00\", \"2014-12-01T00:00:00\", \"2014-12-08T00:00:00\", \"2014-12-15T00:00:00\", \"2014-12-22T00:00:00\", \"2014-12-29T00:00:00\", \"2015-01-05T00:00:00\", \"2015-01-12T00:00:00\", \"2015-01-19T00:00:00\", \"2015-01-26T00:00:00\", \"2015-02-02T00:00:00\", \"2015-02-09T00:00:00\", \"2015-02-16T00:00:00\", \"2015-02-23T00:00:00\", \"2015-03-02T00:00:00\", \"2015-03-09T00:00:00\", \"2015-03-16T00:00:00\", \"2015-03-23T00:00:00\", \"2015-03-30T00:00:00\", \"2015-04-06T00:00:00\", \"2015-04-13T00:00:00\", \"2015-04-20T00:00:00\", \"2015-04-27T00:00:00\", \"2015-05-04T00:00:00\", \"2015-05-11T00:00:00\", \"2015-05-18T00:00:00\", \"2015-06-22T00:00:00\", \"2015-06-29T00:00:00\", \"2015-07-06T00:00:00\", \"2015-07-13T00:00:00\", \"2015-07-20T00:00:00\", \"2015-07-27T00:00:00\", \"2015-08-03T00:00:00\", \"2015-10-05T00:00:00\", \"2015-10-12T00:00:00\", \"2015-10-19T00:00:00\", \"2015-10-26T00:00:00\", \"2015-11-02T00:00:00\", \"2015-11-09T00:00:00\", \"2015-11-16T00:00:00\", \"2015-11-23T00:00:00\", \"2015-11-30T00:00:00\", \"2015-12-21T00:00:00\", \"2015-12-28T00:00:00\", \"2016-02-15T00:00:00\", \"2016-02-22T00:00:00\", \"2016-02-29T00:00:00\", \"2016-03-07T00:00:00\", \"2016-03-14T00:00:00\", \"2016-03-21T00:00:00\", \"2016-03-28T00:00:00\", \"2016-04-04T00:00:00\", \"2016-04-11T00:00:00\", \"2016-04-18T00:00:00\", \"2016-04-25T00:00:00\", \"2016-05-02T00:00:00\", \"2016-08-22T00:00:00\", \"2016-08-29T00:00:00\", \"2016-09-05T00:00:00\", \"2016-09-12T00:00:00\", \"2016-09-19T00:00:00\", \"2016-09-26T00:00:00\", \"2016-10-03T00:00:00\", \"2016-10-10T00:00:00\", \"2016-10-17T00:00:00\", \"2016-10-24T00:00:00\", \"2016-10-31T00:00:00\", \"2016-11-07T00:00:00\", \"2016-11-14T00:00:00\", \"2016-11-21T00:00:00\", \"2016-12-05T00:00:00\", \"2016-12-12T00:00:00\", \"2016-12-19T00:00:00\", \"2016-12-26T00:00:00\", \"2017-01-02T00:00:00\", \"2017-01-09T00:00:00\", \"2017-01-16T00:00:00\", \"2017-01-23T00:00:00\", \"2017-01-30T00:00:00\", \"2017-02-06T00:00:00\", \"2017-02-13T00:00:00\", \"2017-02-20T00:00:00\", \"2017-02-27T00:00:00\", \"2017-03-06T00:00:00\", \"2017-03-13T00:00:00\", \"2017-03-20T00:00:00\", \"2017-03-27T00:00:00\", \"2017-04-03T00:00:00\", \"2017-04-24T00:00:00\", \"2017-05-15T00:00:00\", \"2017-05-22T00:00:00\", \"2017-05-29T00:00:00\", \"2017-10-16T00:00:00\", \"2017-10-23T00:00:00\", \"2017-10-30T00:00:00\", \"2017-11-06T00:00:00\", \"2017-12-04T00:00:00\", \"2017-12-11T00:00:00\", \"2017-12-18T00:00:00\", \"2017-12-25T00:00:00\", \"2018-01-01T00:00:00\", \"2018-01-08T00:00:00\", \"2018-01-15T00:00:00\", \"2018-01-22T00:00:00\", \"2018-01-29T00:00:00\", \"2018-02-05T00:00:00\", \"2018-02-12T00:00:00\", \"2018-02-19T00:00:00\", \"2018-02-26T00:00:00\", \"2018-03-05T00:00:00\", \"2018-04-09T00:00:00\", \"2018-04-16T00:00:00\", \"2018-04-23T00:00:00\", \"2018-04-30T00:00:00\", \"2018-05-07T00:00:00\", \"2018-05-14T00:00:00\", \"2018-05-21T00:00:00\", \"2018-05-28T00:00:00\", \"2018-06-04T00:00:00\", \"2018-06-11T00:00:00\", \"2018-06-18T00:00:00\", \"2018-06-25T00:00:00\", \"2018-07-02T00:00:00\", \"2018-07-09T00:00:00\", \"2018-07-16T00:00:00\", \"2018-07-23T00:00:00\", \"2018-07-30T00:00:00\", \"2018-08-06T00:00:00\", \"2018-08-13T00:00:00\", \"2018-08-20T00:00:00\", \"2019-07-01T00:00:00\", \"2019-07-08T00:00:00\", \"2019-07-15T00:00:00\", \"2019-07-22T00:00:00\", \"2019-07-29T00:00:00\", \"2019-08-05T00:00:00\", \"2019-08-12T00:00:00\", \"2019-08-19T00:00:00\", \"2019-08-26T00:00:00\", \"2019-09-02T00:00:00\", \"2019-09-09T00:00:00\", \"2019-09-16T00:00:00\", \"2019-09-23T00:00:00\", \"2019-09-30T00:00:00\"], \"xaxis\": \"x\", \"y\": [1.2505072387439782, 2.241869327437371, 1.3107131800352825, 1.2114963221691966, 0.6342254381633339, 1.2603235517769065, 2.1327256977106117, 2.7132432483938587, 3.0550521709107166, 4.2817350988189595, 5.740087335084787, 5.748016485377168, 6.550027150006226, 6.682353812369975, 6.8705460754865335, 6.78104961399878, 6.787537129112836, 5.421623148132916, 5.201199735787833, 4.25616879095905, 3.375439775491019, 3.7924073028253034, 3.766944947171834, 3.1442187086949023, 2.8554660702175694, 2.9569780120585585, 2.116794243160236, 1.2042255443205083, 0.7468015878875569, 0.5959160381443867, 0.20069011175516382, 0.45753461868232437, 0.34914701366412304, 0.4315398921029785, 0.6537346095264549, 1.1864871080931554, 2.0991900140542112, 2.881441900810861, 3.0812498774195247, 3.6004905409111085, 1.623323143073013, 1.123396338150068, 0.9220816887296981, 0.0548445276538192, 0.6744040450306776, 0.8961073775898005, 0.42421798970514546, 0.696594076239879, 1.7733458293042785, 2.764091137117068, 3.2470233266142183, 3.53849552472256, 3.597275178755294, 4.194539945398217, 4.099273148256814, 4.273968022101861, 3.8969763076864004, 1.9789248128772439, 0.025213541207044443, 0.9303259693963302, 1.1859932951390606, 1.2992931110013988, 2.2270516069937525, 2.2267431856549234, 1.2759206862285044, 0.7143896405376511, 0.8777724961291744, 1.8104220062572431, 2.3872583409057957, 1.4035177700393722, 0.9769598005251057, 0.49857069453256386, 0.46729632352985195, 1.1074729939291394, 1.3888033147110406, 1.5485560928434439, 1.754219539423675, 2.6056743364595167, 2.8859689892377913, 2.384949030793356, 2.595671504091812, 2.5654523941180862, 2.6352233735698434, 2.3368059055938035, 1.7285878058575328, 1.5412591756460898, 1.51555311737435, 1.1806092095442953, 0.7177626055137427, 0.18461279426271737, 0.2829584662908733, 0.09981958470275298, 0.7811278380054398, 0.6996320012417137, 0.5831621233987239, 0.7789206386606349, 0.40174627474660696, 0.003413443190146026, 0.5315725119568091, 0.6269062240381906, 0.8205070811965784, 1.1594073984127338, 1.3264632411479695, 2.1462234072876356, 2.9187880901400605, 3.4742210722523215, 2.892878219915873, 2.1206855736430508, 1.9154582879585687, 1.9826418135437822, 1.7594210318860657, 0.8832395036857426, 0.23902762797025162, 1.3745720528982073, 2.387494398466951, 4.898751148205937, 6.52792084325453, 7.1082637260656005, 7.839755273501019, 7.671649833830378, 6.388571411423349, 5.505959455230407, 5.003797399313438, 4.538033411687454, 4.172973713711034, 3.8040782983405315, 3.0094864589742443, 2.2062327603431484, 1.5941735711373966, 1.264420200444608, 0.8707443395331822, 0.5194733006189765, 0.5994500671698368, 1.1615720945673687, 2.0420046242147976, 2.2159834451730376, 2.1659343089421093, 1.9348652470071421, 1.2949055722149545, 1.9034456089037093, 2.301017108166853, 2.9359412925963575, 4.592250755399132, 5.176864681228196, 5.819508789067379, 5.23903717447558], \"yaxis\": \"y\"}, {\"marker\": {\"color\": \"red\"}, \"opacity\": 1, \"type\": \"bar\", \"x\": [\"2014-05-19T00:00:00\", \"2014-05-26T00:00:00\", \"2014-06-02T00:00:00\", \"2014-06-09T00:00:00\", \"2014-06-16T00:00:00\", \"2014-06-23T00:00:00\", \"2014-06-30T00:00:00\", \"2014-07-07T00:00:00\", \"2014-07-14T00:00:00\", \"2014-07-21T00:00:00\", \"2014-07-28T00:00:00\", \"2014-08-04T00:00:00\", \"2014-08-11T00:00:00\", \"2014-08-18T00:00:00\", \"2014-08-25T00:00:00\", \"2014-09-01T00:00:00\", \"2014-09-08T00:00:00\", \"2014-09-15T00:00:00\", \"2014-09-22T00:00:00\", \"2014-09-29T00:00:00\", \"2014-10-06T00:00:00\", \"2014-10-13T00:00:00\", \"2014-10-20T00:00:00\", \"2014-10-27T00:00:00\", \"2014-11-03T00:00:00\", \"2015-05-25T00:00:00\", \"2015-06-01T00:00:00\", \"2015-06-08T00:00:00\", \"2015-06-15T00:00:00\", \"2015-08-10T00:00:00\", \"2015-08-17T00:00:00\", \"2015-08-24T00:00:00\", \"2015-08-31T00:00:00\", \"2015-09-07T00:00:00\", \"2015-09-14T00:00:00\", \"2015-09-21T00:00:00\", \"2015-09-28T00:00:00\", \"2015-12-07T00:00:00\", \"2015-12-14T00:00:00\", \"2016-01-04T00:00:00\", \"2016-01-11T00:00:00\", \"2016-01-18T00:00:00\", \"2016-01-25T00:00:00\", \"2016-02-01T00:00:00\", \"2016-02-08T00:00:00\", \"2016-05-09T00:00:00\", \"2016-05-16T00:00:00\", \"2016-05-23T00:00:00\", \"2016-05-30T00:00:00\", \"2016-06-06T00:00:00\", \"2016-06-13T00:00:00\", \"2016-06-20T00:00:00\", \"2016-06-27T00:00:00\", \"2016-07-04T00:00:00\", \"2016-07-11T00:00:00\", \"2016-07-18T00:00:00\", \"2016-07-25T00:00:00\", \"2016-08-01T00:00:00\", \"2016-08-08T00:00:00\", \"2016-08-15T00:00:00\", \"2016-11-28T00:00:00\", \"2017-04-10T00:00:00\", \"2017-04-17T00:00:00\", \"2017-05-01T00:00:00\", \"2017-05-08T00:00:00\", \"2017-06-05T00:00:00\", \"2017-06-12T00:00:00\", \"2017-06-19T00:00:00\", \"2017-06-26T00:00:00\", \"2017-07-03T00:00:00\", \"2017-07-10T00:00:00\", \"2017-07-17T00:00:00\", \"2017-07-24T00:00:00\", \"2017-07-31T00:00:00\", \"2017-08-07T00:00:00\", \"2017-08-14T00:00:00\", \"2017-08-21T00:00:00\", \"2017-08-28T00:00:00\", \"2017-09-04T00:00:00\", \"2017-09-11T00:00:00\", \"2017-09-18T00:00:00\", \"2017-09-25T00:00:00\", \"2017-10-02T00:00:00\", \"2017-10-09T00:00:00\", \"2017-11-13T00:00:00\", \"2017-11-20T00:00:00\", \"2017-11-27T00:00:00\", \"2018-03-12T00:00:00\", \"2018-03-19T00:00:00\", \"2018-03-26T00:00:00\", \"2018-04-02T00:00:00\", \"2018-08-27T00:00:00\", \"2018-09-03T00:00:00\", \"2018-09-10T00:00:00\", \"2018-09-17T00:00:00\", \"2018-09-24T00:00:00\", \"2018-10-01T00:00:00\", \"2018-10-08T00:00:00\", \"2018-10-15T00:00:00\", \"2018-10-22T00:00:00\", \"2018-10-29T00:00:00\", \"2018-11-05T00:00:00\", \"2018-11-12T00:00:00\", \"2018-11-19T00:00:00\", \"2018-11-26T00:00:00\", \"2018-12-03T00:00:00\", \"2018-12-10T00:00:00\", \"2018-12-17T00:00:00\", \"2018-12-24T00:00:00\", \"2018-12-31T00:00:00\", \"2019-01-07T00:00:00\", \"2019-01-14T00:00:00\", \"2019-01-21T00:00:00\", \"2019-01-28T00:00:00\", \"2019-02-04T00:00:00\", \"2019-02-11T00:00:00\", \"2019-02-18T00:00:00\", \"2019-02-25T00:00:00\", \"2019-03-04T00:00:00\", \"2019-03-11T00:00:00\", \"2019-03-18T00:00:00\", \"2019-03-25T00:00:00\", \"2019-04-01T00:00:00\", \"2019-04-08T00:00:00\", \"2019-04-15T00:00:00\", \"2019-04-22T00:00:00\", \"2019-04-29T00:00:00\", \"2019-05-06T00:00:00\", \"2019-05-13T00:00:00\", \"2019-05-20T00:00:00\", \"2019-05-27T00:00:00\", \"2019-06-03T00:00:00\", \"2019-06-10T00:00:00\", \"2019-06-17T00:00:00\", \"2019-06-24T00:00:00\"], \"xaxis\": \"x\", \"y\": [-6.34962453761767, -6.996042913510108, -8.3215189930886, -8.918410228656374, -9.179329405535444, -8.81854422546144, -7.747812188986611, -6.998091295850211, -5.445461123316324, -4.358392161063071, -3.916505026269526, -3.8421891772319157, -2.8574441063902896, -2.2725250333307017, -2.665686331865679, -2.5028674731136498, -2.4155982964682003, -2.2407342602117737, -4.018901681917004, -6.184913886661086, -6.928371380840911, -5.7936968199730785, -4.970401183189267, -3.487036264550124, -1.0981700452931449, -0.034089026211290285, -1.0733489883485614, -0.7183836617656012, -0.36805392367620104, -0.04513895200052298, -1.444125438528643, -2.0310554914308216, -2.6096756504178202, -3.063844162376205, -3.4794168387327593, -3.6241030348946186, -1.3878304445034146, -1.1142435292127582, -0.48140731828516525, -0.07483884537143659, -0.5360916798303648, -1.4374343405901198, -1.1728656319929915, -0.5524828791624374, -0.8507723958971476, -0.10061996977362497, -1.1063881237879798, -1.1732898879649154, -2.674948831243082, -3.7976792724727346, -4.985536055618956, -5.770437857475353, -5.399702510260735, -5.658316438216909, -5.168131765354254, -4.822417748868366, -4.363788484824481, -3.4400492299195538, -2.131354319507217, -0.8493393483665219, -0.25001598134767544, -0.4225097785178509, -0.34121338940249313, -0.04956063605165362, -0.3132307662459102, -0.08065894098966453, -1.4237790647396995, -2.1653321981914546, -2.664715584407637, -3.2098033262769996, -3.454086228067367, -3.361516881445288, -3.157114394714817, -2.4968487268339854, -2.64553322833909, -2.878994982991037, -2.9234313912621066, -2.776580189194164, -2.5877846101806883, -2.121427344664867, -1.9601990272380938, -1.4198448135105908, -0.6988608120213238, -0.18166160731324332, -0.4957976491504912, -0.7501400667165417, -0.46581832192650996, -0.1604526106212354, -1.3625493743632893, -1.327838169226066, -0.7783653187489875, -0.6814362872555719, -1.9100341808981334, -2.602213837165287, -3.509465034835209, -3.564222628640703, -3.986252271793486, -4.824252010686902, -5.280926462568274, -5.360509420924462, -4.344956018750636, -3.3627935523841757, -3.7217352467495406, -3.50911283851453, -3.5987151011303613, -3.845701334897588, -5.414064679445634, -6.503550038490997, -7.1954213592234035, -7.572643512384037, -6.3945898271007, -5.163202328398095, -3.7788619213227843, -2.400900813709346, -1.0426468559840751, -0.44841947464843823, -3.3562459253428916, -5.057071919095973, -6.296356726673967, -6.656499121718415, -5.601931687350955, -4.6029948312509426, -3.41276672018245, -2.5975981754229487, -2.277683554513036, -2.2925271826859017, -2.0261732903279253, -2.148128567401084, -2.6234329536559997, -2.995752886776909, -2.5943296040336534, -2.201701811971663, -1.881205067984471, -1.2706257217506192, -0.6254024635482089], \"yaxis\": \"y\"}, {\"line\": {\"color\": \"red\", \"dash\": \"solid\", \"width\": 0.5}, \"mode\": \"lines\", \"name\": \"Sell signal\", \"showlegend\": false, \"type\": \"scatter\", \"x\": [\"2014-05-26T00:00:00\", \"2014-05-26T00:00:00\"], \"xaxis\": \"x2\", \"y\": [177.05, 348.6], \"yaxis\": \"y2\"}, {\"line\": {\"color\": \"red\", \"dash\": \"solid\", \"width\": 0.5}, \"mode\": \"lines\", \"name\": \"Sell signal\", \"showlegend\": false, \"type\": \"scatter\", \"x\": [\"2014-06-02T00:00:00\", \"2014-06-02T00:00:00\"], \"xaxis\": \"x2\", \"y\": [177.05, 348.6], \"yaxis\": \"y2\"}, {\"line\": {\"color\": \"red\", \"dash\": \"solid\", \"width\": 0.5}, \"mode\": \"lines\", \"name\": \"Sell signal\", \"showlegend\": false, \"type\": \"scatter\", \"x\": [\"2014-06-09T00:00:00\", \"2014-06-09T00:00:00\"], \"xaxis\": \"x2\", \"y\": [177.05, 348.6], \"yaxis\": \"y2\"}, {\"line\": {\"color\": \"red\", \"dash\": \"solid\", \"width\": 0.5}, \"mode\": \"lines\", \"name\": \"Sell signal\", \"showlegend\": false, \"type\": \"scatter\", \"x\": [\"2014-06-16T00:00:00\", \"2014-06-16T00:00:00\"], \"xaxis\": \"x2\", \"y\": [177.05, 348.6], \"yaxis\": \"y2\"}, {\"line\": {\"color\": \"red\", \"dash\": \"solid\", \"width\": 0.5}, \"mode\": \"lines\", \"name\": \"Sell signal\", \"showlegend\": false, \"type\": \"scatter\", \"x\": [\"2014-06-30T00:00:00\", \"2014-06-30T00:00:00\"], \"xaxis\": \"x2\", \"y\": [177.05, 348.6], \"yaxis\": \"y2\"}, {\"line\": {\"color\": \"red\", \"dash\": \"solid\", \"width\": 0.5}, \"mode\": \"lines\", \"name\": \"Sell signal\", \"showlegend\": false, \"type\": \"scatter\", \"x\": [\"2014-07-14T00:00:00\", \"2014-07-14T00:00:00\"], \"xaxis\": \"x2\", \"y\": [177.05, 348.6], \"yaxis\": \"y2\"}, {\"line\": {\"color\": \"red\", \"dash\": \"dash\", \"width\": 1}, \"mode\": \"lines\", \"name\": \"Sell signal\", \"showlegend\": false, \"type\": \"scatter\", \"x\": [\"2014-07-14T00:00:00\", \"2014-07-14T00:00:00\"], \"xaxis\": \"x2\", \"y\": [177.05, 348.6], \"yaxis\": \"y2\"}, {\"line\": {\"color\": \"red\", \"dash\": \"solid\", \"width\": 0.5}, \"mode\": \"lines\", \"name\": \"Sell signal\", \"showlegend\": false, \"type\": \"scatter\", \"x\": [\"2014-07-21T00:00:00\", \"2014-07-21T00:00:00\"], \"xaxis\": \"x2\", \"y\": [177.05, 348.6], \"yaxis\": \"y2\"}, {\"line\": {\"color\": \"red\", \"dash\": \"solid\", \"width\": 0.5}, \"mode\": \"lines\", \"name\": \"Sell signal\", \"showlegend\": false, \"type\": \"scatter\", \"x\": [\"2014-07-28T00:00:00\", \"2014-07-28T00:00:00\"], \"xaxis\": \"x2\", \"y\": [177.05, 348.6], \"yaxis\": \"y2\"}, {\"line\": {\"color\": \"red\", \"dash\": \"solid\", \"width\": 0.5}, \"mode\": \"lines\", \"name\": \"Sell signal\", \"showlegend\": false, \"type\": \"scatter\", \"x\": [\"2014-08-11T00:00:00\", \"2014-08-11T00:00:00\"], \"xaxis\": \"x2\", \"y\": [177.05, 348.6], \"yaxis\": \"y2\"}, {\"line\": {\"color\": \"red\", \"dash\": \"solid\", \"width\": 0.5}, \"mode\": \"lines\", \"name\": \"Sell signal\", \"showlegend\": false, \"type\": \"scatter\", \"x\": [\"2014-08-18T00:00:00\", \"2014-08-18T00:00:00\"], \"xaxis\": \"x2\", \"y\": [177.05, 348.6], \"yaxis\": \"y2\"}, {\"line\": {\"color\": \"red\", \"dash\": \"dash\", \"width\": 1}, \"mode\": \"lines\", \"name\": \"Sell signal\", \"showlegend\": false, \"type\": \"scatter\", \"x\": [\"2014-08-18T00:00:00\", \"2014-08-18T00:00:00\"], \"xaxis\": \"x2\", \"y\": [177.05, 348.6], \"yaxis\": \"y2\"}, {\"line\": {\"color\": \"red\", \"dash\": \"solid\", \"width\": 0.5}, \"mode\": \"lines\", \"name\": \"Sell signal\", \"showlegend\": false, \"type\": \"scatter\", \"x\": [\"2014-09-01T00:00:00\", \"2014-09-01T00:00:00\"], \"xaxis\": \"x2\", \"y\": [177.05, 348.6], \"yaxis\": \"y2\"}, {\"line\": {\"color\": \"red\", \"dash\": \"solid\", \"width\": 0.5}, \"mode\": \"lines\", \"name\": \"Sell signal\", \"showlegend\": false, \"type\": \"scatter\", \"x\": [\"2014-09-08T00:00:00\", \"2014-09-08T00:00:00\"], \"xaxis\": \"x2\", \"y\": [177.05, 348.6], \"yaxis\": \"y2\"}, {\"line\": {\"color\": \"red\", \"dash\": \"solid\", \"width\": 0.5}, \"mode\": \"lines\", \"name\": \"Sell signal\", \"showlegend\": false, \"type\": \"scatter\", \"x\": [\"2014-09-15T00:00:00\", \"2014-09-15T00:00:00\"], \"xaxis\": \"x2\", \"y\": [177.05, 348.6], \"yaxis\": \"y2\"}, {\"line\": {\"color\": \"red\", \"dash\": \"dash\", \"width\": 1}, \"mode\": \"lines\", \"name\": \"Sell signal\", \"showlegend\": false, \"type\": \"scatter\", \"x\": [\"2014-09-15T00:00:00\", \"2014-09-15T00:00:00\"], \"xaxis\": \"x2\", \"y\": [177.05, 348.6], \"yaxis\": \"y2\"}, {\"line\": {\"color\": \"red\", \"dash\": \"solid\", \"width\": 0.5}, \"mode\": \"lines\", \"name\": \"Sell signal\", \"showlegend\": false, \"type\": \"scatter\", \"x\": [\"2014-09-22T00:00:00\", \"2014-09-22T00:00:00\"], \"xaxis\": \"x2\", \"y\": [177.05, 348.6], \"yaxis\": \"y2\"}, {\"line\": {\"color\": \"green\", \"dash\": \"solid\", \"width\": 0.5}, \"mode\": \"lines\", \"name\": \"Buy signal\", \"showlegend\": false, \"type\": \"scatter\", \"x\": [\"2014-09-29T00:00:00\", \"2014-09-29T00:00:00\"], \"xaxis\": \"x2\", \"y\": [177.05, 348.6], \"yaxis\": \"y2\"}, {\"line\": {\"color\": \"green\", \"dash\": \"dash\", \"width\": 1}, \"mode\": \"lines\", \"name\": \"Buy signal\", \"showlegend\": false, \"type\": \"scatter\", \"x\": [\"2014-09-29T00:00:00\", \"2014-09-29T00:00:00\"], \"xaxis\": \"x2\", \"y\": [177.05, 348.6], \"yaxis\": \"y2\"}, {\"line\": {\"color\": \"green\", \"dash\": \"solid\", \"width\": 0.5}, \"mode\": \"lines\", \"name\": \"Buy signal\", \"showlegend\": false, \"type\": \"scatter\", \"x\": [\"2014-10-06T00:00:00\", \"2014-10-06T00:00:00\"], \"xaxis\": \"x2\", \"y\": [177.05, 348.6], \"yaxis\": \"y2\"}, {\"line\": {\"color\": \"green\", \"dash\": \"solid\", \"width\": 0.5}, \"mode\": \"lines\", \"name\": \"Buy signal\", \"showlegend\": false, \"type\": \"scatter\", \"x\": [\"2014-10-20T00:00:00\", \"2014-10-20T00:00:00\"], \"xaxis\": \"x2\", \"y\": [177.05, 348.6], \"yaxis\": \"y2\"}, {\"line\": {\"color\": \"red\", \"dash\": \"solid\", \"width\": 0.5}, \"mode\": \"lines\", \"name\": \"Sell signal\", \"showlegend\": false, \"type\": \"scatter\", \"x\": [\"2014-11-10T00:00:00\", \"2014-11-10T00:00:00\"], \"xaxis\": \"x2\", \"y\": [177.05, 348.6], \"yaxis\": \"y2\"}, {\"line\": {\"color\": \"red\", \"dash\": \"dash\", \"width\": 1}, \"mode\": \"lines\", \"name\": \"Sell signal\", \"showlegend\": false, \"type\": \"scatter\", \"x\": [\"2014-11-10T00:00:00\", \"2014-11-10T00:00:00\"], \"xaxis\": \"x2\", \"y\": [177.05, 348.6], \"yaxis\": \"y2\"}, {\"line\": {\"color\": \"red\", \"dash\": \"solid\", \"width\": 0.5}, \"mode\": \"lines\", \"name\": \"Sell signal\", \"showlegend\": false, \"type\": \"scatter\", \"x\": [\"2014-11-17T00:00:00\", \"2014-11-17T00:00:00\"], \"xaxis\": \"x2\", \"y\": [177.05, 348.6], \"yaxis\": \"y2\"}, {\"line\": {\"color\": \"red\", \"dash\": \"dash\", \"width\": 1}, \"mode\": \"lines\", \"name\": \"Sell signal\", \"showlegend\": false, \"type\": \"scatter\", \"x\": [\"2014-11-17T00:00:00\", \"2014-11-17T00:00:00\"], \"xaxis\": \"x2\", \"y\": [177.05, 348.6], \"yaxis\": \"y2\"}, {\"line\": {\"color\": \"green\", \"dash\": \"solid\", \"width\": 0.5}, \"mode\": \"lines\", \"name\": \"Buy signal\", \"showlegend\": false, \"type\": \"scatter\", \"x\": [\"2014-11-24T00:00:00\", \"2014-11-24T00:00:00\"], \"xaxis\": \"x2\", \"y\": [177.05, 348.6], \"yaxis\": \"y2\"}, {\"line\": {\"color\": \"green\", \"dash\": \"solid\", \"width\": 0.5}, \"mode\": \"lines\", \"name\": \"Buy signal\", \"showlegend\": false, \"type\": \"scatter\", \"x\": [\"2014-12-08T00:00:00\", \"2014-12-08T00:00:00\"], \"xaxis\": \"x2\", \"y\": [177.05, 348.6], \"yaxis\": \"y2\"}, {\"line\": {\"color\": \"green\", \"dash\": \"dash\", \"width\": 1}, \"mode\": \"lines\", \"name\": \"Buy signal\", \"showlegend\": false, \"type\": \"scatter\", \"x\": [\"2014-12-08T00:00:00\", \"2014-12-08T00:00:00\"], \"xaxis\": \"x2\", \"y\": [177.05, 348.6], \"yaxis\": \"y2\"}, {\"line\": {\"color\": \"green\", \"dash\": \"solid\", \"width\": 0.5}, \"mode\": \"lines\", \"name\": \"Buy signal\", \"showlegend\": false, \"type\": \"scatter\", \"x\": [\"2014-12-15T00:00:00\", \"2014-12-15T00:00:00\"], \"xaxis\": \"x2\", \"y\": [177.05, 348.6], \"yaxis\": \"y2\"}, {\"line\": {\"color\": \"green\", \"dash\": \"solid\", \"width\": 0.5}, \"mode\": \"lines\", \"name\": \"Buy signal\", \"showlegend\": false, \"type\": \"scatter\", \"x\": [\"2015-01-05T00:00:00\", \"2015-01-05T00:00:00\"], \"xaxis\": \"x2\", \"y\": [177.05, 348.6], \"yaxis\": \"y2\"}, {\"line\": {\"color\": \"red\", \"dash\": \"solid\", \"width\": 0.5}, \"mode\": \"lines\", \"name\": \"Sell signal\", \"showlegend\": false, \"type\": \"scatter\", \"x\": [\"2015-03-02T00:00:00\", \"2015-03-02T00:00:00\"], \"xaxis\": \"x2\", \"y\": [177.05, 348.6], \"yaxis\": \"y2\"}, {\"line\": {\"color\": \"red\", \"dash\": \"dash\", \"width\": 1}, \"mode\": \"lines\", \"name\": \"Sell signal\", \"showlegend\": false, \"type\": \"scatter\", \"x\": [\"2015-03-02T00:00:00\", \"2015-03-02T00:00:00\"], \"xaxis\": \"x2\", \"y\": [177.05, 348.6], \"yaxis\": \"y2\"}, {\"line\": {\"color\": \"red\", \"dash\": \"solid\", \"width\": 0.5}, \"mode\": \"lines\", \"name\": \"Sell signal\", \"showlegend\": false, \"type\": \"scatter\", \"x\": [\"2015-03-16T00:00:00\", \"2015-03-16T00:00:00\"], \"xaxis\": \"x2\", \"y\": [177.05, 348.6], \"yaxis\": \"y2\"}, {\"line\": {\"color\": \"red\", \"dash\": \"dash\", \"width\": 1}, \"mode\": \"lines\", \"name\": \"Sell signal\", \"showlegend\": false, \"type\": \"scatter\", \"x\": [\"2015-03-16T00:00:00\", \"2015-03-16T00:00:00\"], \"xaxis\": \"x2\", \"y\": [177.05, 348.6], \"yaxis\": \"y2\"}, {\"line\": {\"color\": \"red\", \"dash\": \"solid\", \"width\": 0.5}, \"mode\": \"lines\", \"name\": \"Sell signal\", \"showlegend\": false, \"type\": \"scatter\", \"x\": [\"2015-03-23T00:00:00\", \"2015-03-23T00:00:00\"], \"xaxis\": \"x2\", \"y\": [177.05, 348.6], \"yaxis\": \"y2\"}, {\"line\": {\"color\": \"red\", \"dash\": \"dash\", \"width\": 1}, \"mode\": \"lines\", \"name\": \"Sell signal\", \"showlegend\": false, \"type\": \"scatter\", \"x\": [\"2015-03-23T00:00:00\", \"2015-03-23T00:00:00\"], \"xaxis\": \"x2\", \"y\": [177.05, 348.6], \"yaxis\": \"y2\"}, {\"line\": {\"color\": \"red\", \"dash\": \"solid\", \"width\": 0.5}, \"mode\": \"lines\", \"name\": \"Sell signal\", \"showlegend\": false, \"type\": \"scatter\", \"x\": [\"2015-04-06T00:00:00\", \"2015-04-06T00:00:00\"], \"xaxis\": \"x2\", \"y\": [177.05, 348.6], \"yaxis\": \"y2\"}, {\"line\": {\"color\": \"red\", \"dash\": \"solid\", \"width\": 0.5}, \"mode\": \"lines\", \"name\": \"Sell signal\", \"showlegend\": false, \"type\": \"scatter\", \"x\": [\"2015-04-13T00:00:00\", \"2015-04-13T00:00:00\"], \"xaxis\": \"x2\", \"y\": [177.05, 348.6], \"yaxis\": \"y2\"}, {\"line\": {\"color\": \"red\", \"dash\": \"solid\", \"width\": 0.5}, \"mode\": \"lines\", \"name\": \"Sell signal\", \"showlegend\": false, \"type\": \"scatter\", \"x\": [\"2015-05-04T00:00:00\", \"2015-05-04T00:00:00\"], \"xaxis\": \"x2\", \"y\": [177.05, 348.6], \"yaxis\": \"y2\"}, {\"line\": {\"color\": \"red\", \"dash\": \"dash\", \"width\": 1}, \"mode\": \"lines\", \"name\": \"Sell signal\", \"showlegend\": false, \"type\": \"scatter\", \"x\": [\"2015-05-04T00:00:00\", \"2015-05-04T00:00:00\"], \"xaxis\": \"x2\", \"y\": [177.05, 348.6], \"yaxis\": \"y2\"}, {\"line\": {\"color\": \"red\", \"dash\": \"solid\", \"width\": 0.5}, \"mode\": \"lines\", \"name\": \"Sell signal\", \"showlegend\": false, \"type\": \"scatter\", \"x\": [\"2015-05-11T00:00:00\", \"2015-05-11T00:00:00\"], \"xaxis\": \"x2\", \"y\": [177.05, 348.6], \"yaxis\": \"y2\"}, {\"line\": {\"color\": \"red\", \"dash\": \"solid\", \"width\": 0.5}, \"mode\": \"lines\", \"name\": \"Sell signal\", \"showlegend\": false, \"type\": \"scatter\", \"x\": [\"2015-05-18T00:00:00\", \"2015-05-18T00:00:00\"], \"xaxis\": \"x2\", \"y\": [177.05, 348.6], \"yaxis\": \"y2\"}, {\"line\": {\"color\": \"red\", \"dash\": \"dash\", \"width\": 1}, \"mode\": \"lines\", \"name\": \"Sell signal\", \"showlegend\": false, \"type\": \"scatter\", \"x\": [\"2015-05-18T00:00:00\", \"2015-05-18T00:00:00\"], \"xaxis\": \"x2\", \"y\": [177.05, 348.6], \"yaxis\": \"y2\"}, {\"line\": {\"color\": \"green\", \"dash\": \"solid\", \"width\": 0.5}, \"mode\": \"lines\", \"name\": \"Buy signal\", \"showlegend\": false, \"type\": \"scatter\", \"x\": [\"2015-06-01T00:00:00\", \"2015-06-01T00:00:00\"], \"xaxis\": \"x2\", \"y\": [177.05, 348.6], \"yaxis\": \"y2\"}, {\"line\": {\"color\": \"green\", \"dash\": \"dash\", \"width\": 1}, \"mode\": \"lines\", \"name\": \"Buy signal\", \"showlegend\": false, \"type\": \"scatter\", \"x\": [\"2015-06-01T00:00:00\", \"2015-06-01T00:00:00\"], \"xaxis\": \"x2\", \"y\": [177.05, 348.6], \"yaxis\": \"y2\"}, {\"line\": {\"color\": \"red\", \"dash\": \"solid\", \"width\": 0.5}, \"mode\": \"lines\", \"name\": \"Sell signal\", \"showlegend\": false, \"type\": \"scatter\", \"x\": [\"2015-06-22T00:00:00\", \"2015-06-22T00:00:00\"], \"xaxis\": \"x2\", \"y\": [177.05, 348.6], \"yaxis\": \"y2\"}, {\"line\": {\"color\": \"red\", \"dash\": \"dash\", \"width\": 1}, \"mode\": \"lines\", \"name\": \"Sell signal\", \"showlegend\": false, \"type\": \"scatter\", \"x\": [\"2015-06-22T00:00:00\", \"2015-06-22T00:00:00\"], \"xaxis\": \"x2\", \"y\": [177.05, 348.6], \"yaxis\": \"y2\"}, {\"line\": {\"color\": \"red\", \"dash\": \"solid\", \"width\": 0.5}, \"mode\": \"lines\", \"name\": \"Sell signal\", \"showlegend\": false, \"type\": \"scatter\", \"x\": [\"2015-06-29T00:00:00\", \"2015-06-29T00:00:00\"], \"xaxis\": \"x2\", \"y\": [177.05, 348.6], \"yaxis\": \"y2\"}, {\"line\": {\"color\": \"green\", \"dash\": \"dash\", \"width\": 1}, \"mode\": \"lines\", \"name\": \"Buy signal\", \"showlegend\": false, \"type\": \"scatter\", \"x\": [\"2015-07-06T00:00:00\", \"2015-07-06T00:00:00\"], \"xaxis\": \"x2\", \"y\": [177.05, 348.6], \"yaxis\": \"y2\"}, {\"line\": {\"color\": \"red\", \"dash\": \"solid\", \"width\": 0.5}, \"mode\": \"lines\", \"name\": \"Sell signal\", \"showlegend\": false, \"type\": \"scatter\", \"x\": [\"2015-07-13T00:00:00\", \"2015-07-13T00:00:00\"], \"xaxis\": \"x2\", \"y\": [177.05, 348.6], \"yaxis\": \"y2\"}, {\"line\": {\"color\": \"red\", \"dash\": \"dash\", \"width\": 1}, \"mode\": \"lines\", \"name\": \"Sell signal\", \"showlegend\": false, \"type\": \"scatter\", \"x\": [\"2015-07-13T00:00:00\", \"2015-07-13T00:00:00\"], \"xaxis\": \"x2\", \"y\": [177.05, 348.6], \"yaxis\": \"y2\"}, {\"line\": {\"color\": \"red\", \"dash\": \"solid\", \"width\": 0.5}, \"mode\": \"lines\", \"name\": \"Sell signal\", \"showlegend\": false, \"type\": \"scatter\", \"x\": [\"2015-08-03T00:00:00\", \"2015-08-03T00:00:00\"], \"xaxis\": \"x2\", \"y\": [177.05, 348.6], \"yaxis\": \"y2\"}, {\"line\": {\"color\": \"red\", \"dash\": \"dash\", \"width\": 1}, \"mode\": \"lines\", \"name\": \"Sell signal\", \"showlegend\": false, \"type\": \"scatter\", \"x\": [\"2015-08-03T00:00:00\", \"2015-08-03T00:00:00\"], \"xaxis\": \"x2\", \"y\": [177.05, 348.6], \"yaxis\": \"y2\"}, {\"line\": {\"color\": \"red\", \"dash\": \"solid\", \"width\": 0.5}, \"mode\": \"lines\", \"name\": \"Sell signal\", \"showlegend\": false, \"type\": \"scatter\", \"x\": [\"2015-08-10T00:00:00\", \"2015-08-10T00:00:00\"], \"xaxis\": \"x2\", \"y\": [177.05, 348.6], \"yaxis\": \"y2\"}, {\"line\": {\"color\": \"red\", \"dash\": \"dash\", \"width\": 1}, \"mode\": \"lines\", \"name\": \"Sell signal\", \"showlegend\": false, \"type\": \"scatter\", \"x\": [\"2015-08-24T00:00:00\", \"2015-08-24T00:00:00\"], \"xaxis\": \"x2\", \"y\": [177.05, 348.6], \"yaxis\": \"y2\"}, {\"line\": {\"color\": \"red\", \"dash\": \"dash\", \"width\": 1}, \"mode\": \"lines\", \"name\": \"Sell signal\", \"showlegend\": false, \"type\": \"scatter\", \"x\": [\"2015-09-07T00:00:00\", \"2015-09-07T00:00:00\"], \"xaxis\": \"x2\", \"y\": [177.05, 348.6], \"yaxis\": \"y2\"}, {\"line\": {\"color\": \"green\", \"dash\": \"solid\", \"width\": 0.5}, \"mode\": \"lines\", \"name\": \"Buy signal\", \"showlegend\": false, \"type\": \"scatter\", \"x\": [\"2015-09-21T00:00:00\", \"2015-09-21T00:00:00\"], \"xaxis\": \"x2\", \"y\": [177.05, 348.6], \"yaxis\": \"y2\"}, {\"line\": {\"color\": \"green\", \"dash\": \"dash\", \"width\": 1}, \"mode\": \"lines\", \"name\": \"Buy signal\", \"showlegend\": false, \"type\": \"scatter\", \"x\": [\"2015-09-21T00:00:00\", \"2015-09-21T00:00:00\"], \"xaxis\": \"x2\", \"y\": [177.05, 348.6], \"yaxis\": \"y2\"}, {\"line\": {\"color\": \"red\", \"dash\": \"solid\", \"width\": 0.5}, \"mode\": \"lines\", \"name\": \"Sell signal\", \"showlegend\": false, \"type\": \"scatter\", \"x\": [\"2015-10-05T00:00:00\", \"2015-10-05T00:00:00\"], \"xaxis\": \"x2\", \"y\": [177.05, 348.6], \"yaxis\": \"y2\"}, {\"line\": {\"color\": \"red\", \"dash\": \"dash\", \"width\": 1}, \"mode\": \"lines\", \"name\": \"Sell signal\", \"showlegend\": false, \"type\": \"scatter\", \"x\": [\"2015-10-05T00:00:00\", \"2015-10-05T00:00:00\"], \"xaxis\": \"x2\", \"y\": [177.05, 348.6], \"yaxis\": \"y2\"}, {\"line\": {\"color\": \"red\", \"dash\": \"solid\", \"width\": 0.5}, \"mode\": \"lines\", \"name\": \"Sell signal\", \"showlegend\": false, \"type\": \"scatter\", \"x\": [\"2015-10-19T00:00:00\", \"2015-10-19T00:00:00\"], \"xaxis\": \"x2\", \"y\": [177.05, 348.6], \"yaxis\": \"y2\"}, {\"line\": {\"color\": \"red\", \"dash\": \"solid\", \"width\": 0.5}, \"mode\": \"lines\", \"name\": \"Sell signal\", \"showlegend\": false, \"type\": \"scatter\", \"x\": [\"2015-11-02T00:00:00\", \"2015-11-02T00:00:00\"], \"xaxis\": \"x2\", \"y\": [177.05, 348.6], \"yaxis\": \"y2\"}, {\"line\": {\"color\": \"red\", \"dash\": \"dash\", \"width\": 1}, \"mode\": \"lines\", \"name\": \"Sell signal\", \"showlegend\": false, \"type\": \"scatter\", \"x\": [\"2015-11-02T00:00:00\", \"2015-11-02T00:00:00\"], \"xaxis\": \"x2\", \"y\": [177.05, 348.6], \"yaxis\": \"y2\"}, {\"line\": {\"color\": \"green\", \"dash\": \"solid\", \"width\": 0.5}, \"mode\": \"lines\", \"name\": \"Buy signal\", \"showlegend\": false, \"type\": \"scatter\", \"x\": [\"2015-11-09T00:00:00\", \"2015-11-09T00:00:00\"], \"xaxis\": \"x2\", \"y\": [177.05, 348.6], \"yaxis\": \"y2\"}, {\"line\": {\"color\": \"red\", \"dash\": \"solid\", \"width\": 0.5}, \"mode\": \"lines\", \"name\": \"Sell signal\", \"showlegend\": false, \"type\": \"scatter\", \"x\": [\"2015-11-23T00:00:00\", \"2015-11-23T00:00:00\"], \"xaxis\": \"x2\", \"y\": [177.05, 348.6], \"yaxis\": \"y2\"}, {\"line\": {\"color\": \"red\", \"dash\": \"dash\", \"width\": 1}, \"mode\": \"lines\", \"name\": \"Sell signal\", \"showlegend\": false, \"type\": \"scatter\", \"x\": [\"2015-11-30T00:00:00\", \"2015-11-30T00:00:00\"], \"xaxis\": \"x2\", \"y\": [177.05, 348.6], \"yaxis\": \"y2\"}, {\"line\": {\"color\": \"green\", \"dash\": \"solid\", \"width\": 0.5}, \"mode\": \"lines\", \"name\": \"Buy signal\", \"showlegend\": false, \"type\": \"scatter\", \"x\": [\"2015-12-07T00:00:00\", \"2015-12-07T00:00:00\"], \"xaxis\": \"x2\", \"y\": [177.05, 348.6], \"yaxis\": \"y2\"}, {\"line\": {\"color\": \"green\", \"dash\": \"dash\", \"width\": 1}, \"mode\": \"lines\", \"name\": \"Buy signal\", \"showlegend\": false, \"type\": \"scatter\", \"x\": [\"2015-12-07T00:00:00\", \"2015-12-07T00:00:00\"], \"xaxis\": \"x2\", \"y\": [177.05, 348.6], \"yaxis\": \"y2\"}, {\"line\": {\"color\": \"red\", \"dash\": \"solid\", \"width\": 0.5}, \"mode\": \"lines\", \"name\": \"Sell signal\", \"showlegend\": false, \"type\": \"scatter\", \"x\": [\"2015-12-21T00:00:00\", \"2015-12-21T00:00:00\"], \"xaxis\": \"x2\", \"y\": [177.05, 348.6], \"yaxis\": \"y2\"}, {\"line\": {\"color\": \"red\", \"dash\": \"dash\", \"width\": 1}, \"mode\": \"lines\", \"name\": \"Sell signal\", \"showlegend\": false, \"type\": \"scatter\", \"x\": [\"2015-12-21T00:00:00\", \"2015-12-21T00:00:00\"], \"xaxis\": \"x2\", \"y\": [177.05, 348.6], \"yaxis\": \"y2\"}, {\"line\": {\"color\": \"red\", \"dash\": \"solid\", \"width\": 0.5}, \"mode\": \"lines\", \"name\": \"Sell signal\", \"showlegend\": false, \"type\": \"scatter\", \"x\": [\"2015-12-28T00:00:00\", \"2015-12-28T00:00:00\"], \"xaxis\": \"x2\", \"y\": [177.05, 348.6], \"yaxis\": \"y2\"}, {\"line\": {\"color\": \"red\", \"dash\": \"dash\", \"width\": 1}, \"mode\": \"lines\", \"name\": \"Sell signal\", \"showlegend\": false, \"type\": \"scatter\", \"x\": [\"2015-12-28T00:00:00\", \"2015-12-28T00:00:00\"], \"xaxis\": \"x2\", \"y\": [177.05, 348.6], \"yaxis\": \"y2\"}, {\"line\": {\"color\": \"green\", \"dash\": \"solid\", \"width\": 0.5}, \"mode\": \"lines\", \"name\": \"Buy signal\", \"showlegend\": false, \"type\": \"scatter\", \"x\": [\"2016-01-04T00:00:00\", \"2016-01-04T00:00:00\"], \"xaxis\": \"x2\", \"y\": [177.05, 348.6], \"yaxis\": \"y2\"}, {\"line\": {\"color\": \"green\", \"dash\": \"solid\", \"width\": 0.5}, \"mode\": \"lines\", \"name\": \"Buy signal\", \"showlegend\": false, \"type\": \"scatter\", \"x\": [\"2016-01-18T00:00:00\", \"2016-01-18T00:00:00\"], \"xaxis\": \"x2\", \"y\": [177.05, 348.6], \"yaxis\": \"y2\"}, {\"line\": {\"color\": \"green\", \"dash\": \"dash\", \"width\": 1}, \"mode\": \"lines\", \"name\": \"Buy signal\", \"showlegend\": false, \"type\": \"scatter\", \"x\": [\"2016-01-18T00:00:00\", \"2016-01-18T00:00:00\"], \"xaxis\": \"x2\", \"y\": [177.05, 348.6], \"yaxis\": \"y2\"}, {\"line\": {\"color\": \"green\", \"dash\": \"solid\", \"width\": 0.5}, \"mode\": \"lines\", \"name\": \"Buy signal\", \"showlegend\": false, \"type\": \"scatter\", \"x\": [\"2016-01-25T00:00:00\", \"2016-01-25T00:00:00\"], \"xaxis\": \"x2\", \"y\": [177.05, 348.6], \"yaxis\": \"y2\"}, {\"line\": {\"color\": \"green\", \"dash\": \"dash\", \"width\": 1}, \"mode\": \"lines\", \"name\": \"Buy signal\", \"showlegend\": false, \"type\": \"scatter\", \"x\": [\"2016-01-25T00:00:00\", \"2016-01-25T00:00:00\"], \"xaxis\": \"x2\", \"y\": [177.05, 348.6], \"yaxis\": \"y2\"}, {\"line\": {\"color\": \"red\", \"dash\": \"dash\", \"width\": 1}, \"mode\": \"lines\", \"name\": \"Sell signal\", \"showlegend\": false, \"type\": \"scatter\", \"x\": [\"2016-02-01T00:00:00\", \"2016-02-01T00:00:00\"], \"xaxis\": \"x2\", \"y\": [177.05, 348.6], \"yaxis\": \"y2\"}, {\"line\": {\"color\": \"green\", \"dash\": \"solid\", \"width\": 0.5}, \"mode\": \"lines\", \"name\": \"Buy signal\", \"showlegend\": false, \"type\": \"scatter\", \"x\": [\"2016-02-08T00:00:00\", \"2016-02-08T00:00:00\"], \"xaxis\": \"x2\", \"y\": [177.05, 348.6], \"yaxis\": \"y2\"}, {\"line\": {\"color\": \"green\", \"dash\": \"dash\", \"width\": 1}, \"mode\": \"lines\", \"name\": \"Buy signal\", \"showlegend\": false, \"type\": \"scatter\", \"x\": [\"2016-02-08T00:00:00\", \"2016-02-08T00:00:00\"], \"xaxis\": \"x2\", \"y\": [177.05, 348.6], \"yaxis\": \"y2\"}, {\"line\": {\"color\": \"green\", \"dash\": \"solid\", \"width\": 0.5}, \"mode\": \"lines\", \"name\": \"Buy signal\", \"showlegend\": false, \"type\": \"scatter\", \"x\": [\"2016-02-22T00:00:00\", \"2016-02-22T00:00:00\"], \"xaxis\": \"x2\", \"y\": [177.05, 348.6], \"yaxis\": \"y2\"}, {\"line\": {\"color\": \"red\", \"dash\": \"solid\", \"width\": 0.5}, \"mode\": \"lines\", \"name\": \"Sell signal\", \"showlegend\": false, \"type\": \"scatter\", \"x\": [\"2016-03-07T00:00:00\", \"2016-03-07T00:00:00\"], \"xaxis\": \"x2\", \"y\": [177.05, 348.6], \"yaxis\": \"y2\"}, {\"line\": {\"color\": \"red\", \"dash\": \"solid\", \"width\": 0.5}, \"mode\": \"lines\", \"name\": \"Sell signal\", \"showlegend\": false, \"type\": \"scatter\", \"x\": [\"2016-04-04T00:00:00\", \"2016-04-04T00:00:00\"], \"xaxis\": \"x2\", \"y\": [177.05, 348.6], \"yaxis\": \"y2\"}, {\"line\": {\"color\": \"red\", \"dash\": \"solid\", \"width\": 0.5}, \"mode\": \"lines\", \"name\": \"Sell signal\", \"showlegend\": false, \"type\": \"scatter\", \"x\": [\"2016-04-18T00:00:00\", \"2016-04-18T00:00:00\"], \"xaxis\": \"x2\", \"y\": [177.05, 348.6], \"yaxis\": \"y2\"}, {\"line\": {\"color\": \"red\", \"dash\": \"dash\", \"width\": 1}, \"mode\": \"lines\", \"name\": \"Sell signal\", \"showlegend\": false, \"type\": \"scatter\", \"x\": [\"2016-04-18T00:00:00\", \"2016-04-18T00:00:00\"], \"xaxis\": \"x2\", \"y\": [177.05, 348.6], \"yaxis\": \"y2\"}, {\"line\": {\"color\": \"red\", \"dash\": \"solid\", \"width\": 0.5}, \"mode\": \"lines\", \"name\": \"Sell signal\", \"showlegend\": false, \"type\": \"scatter\", \"x\": [\"2016-04-25T00:00:00\", \"2016-04-25T00:00:00\"], \"xaxis\": \"x2\", \"y\": [177.05, 348.6], \"yaxis\": \"y2\"}, {\"line\": {\"color\": \"red\", \"dash\": \"dash\", \"width\": 1}, \"mode\": \"lines\", \"name\": \"Sell signal\", \"showlegend\": false, \"type\": \"scatter\", \"x\": [\"2016-04-25T00:00:00\", \"2016-04-25T00:00:00\"], \"xaxis\": \"x2\", \"y\": [177.05, 348.6], \"yaxis\": \"y2\"}, {\"line\": {\"color\": \"red\", \"dash\": \"solid\", \"width\": 0.5}, \"mode\": \"lines\", \"name\": \"Sell signal\", \"showlegend\": false, \"type\": \"scatter\", \"x\": [\"2016-05-02T00:00:00\", \"2016-05-02T00:00:00\"], \"xaxis\": \"x2\", \"y\": [177.05, 348.6], \"yaxis\": \"y2\"}, {\"line\": {\"color\": \"red\", \"dash\": \"dash\", \"width\": 1}, \"mode\": \"lines\", \"name\": \"Sell signal\", \"showlegend\": false, \"type\": \"scatter\", \"x\": [\"2016-05-02T00:00:00\", \"2016-05-02T00:00:00\"], \"xaxis\": \"x2\", \"y\": [177.05, 348.6], \"yaxis\": \"y2\"}, {\"line\": {\"color\": \"red\", \"dash\": \"solid\", \"width\": 0.5}, \"mode\": \"lines\", \"name\": \"Sell signal\", \"showlegend\": false, \"type\": \"scatter\", \"x\": [\"2016-05-23T00:00:00\", \"2016-05-23T00:00:00\"], \"xaxis\": \"x2\", \"y\": [177.05, 348.6], \"yaxis\": \"y2\"}, {\"line\": {\"color\": \"red\", \"dash\": \"dash\", \"width\": 1}, \"mode\": \"lines\", \"name\": \"Sell signal\", \"showlegend\": false, \"type\": \"scatter\", \"x\": [\"2016-05-23T00:00:00\", \"2016-05-23T00:00:00\"], \"xaxis\": \"x2\", \"y\": [177.05, 348.6], \"yaxis\": \"y2\"}, {\"line\": {\"color\": \"red\", \"dash\": \"solid\", \"width\": 0.5}, \"mode\": \"lines\", \"name\": \"Sell signal\", \"showlegend\": false, \"type\": \"scatter\", \"x\": [\"2016-05-30T00:00:00\", \"2016-05-30T00:00:00\"], \"xaxis\": \"x2\", \"y\": [177.05, 348.6], \"yaxis\": \"y2\"}, {\"line\": {\"color\": \"red\", \"dash\": \"solid\", \"width\": 0.5}, \"mode\": \"lines\", \"name\": \"Sell signal\", \"showlegend\": false, \"type\": \"scatter\", \"x\": [\"2016-06-06T00:00:00\", \"2016-06-06T00:00:00\"], \"xaxis\": \"x2\", \"y\": [177.05, 348.6], \"yaxis\": \"y2\"}, {\"line\": {\"color\": \"red\", \"dash\": \"solid\", \"width\": 0.5}, \"mode\": \"lines\", \"name\": \"Sell signal\", \"showlegend\": false, \"type\": \"scatter\", \"x\": [\"2016-06-27T00:00:00\", \"2016-06-27T00:00:00\"], \"xaxis\": \"x2\", \"y\": [177.05, 348.6], \"yaxis\": \"y2\"}, {\"line\": {\"color\": \"red\", \"dash\": \"dash\", \"width\": 1}, \"mode\": \"lines\", \"name\": \"Sell signal\", \"showlegend\": false, \"type\": \"scatter\", \"x\": [\"2016-06-27T00:00:00\", \"2016-06-27T00:00:00\"], \"xaxis\": \"x2\", \"y\": [177.05, 348.6], \"yaxis\": \"y2\"}, {\"line\": {\"color\": \"green\", \"dash\": \"solid\", \"width\": 0.5}, \"mode\": \"lines\", \"name\": \"Buy signal\", \"showlegend\": false, \"type\": \"scatter\", \"x\": [\"2016-07-04T00:00:00\", \"2016-07-04T00:00:00\"], \"xaxis\": \"x2\", \"y\": [177.05, 348.6], \"yaxis\": \"y2\"}, {\"line\": {\"color\": \"green\", \"dash\": \"dash\", \"width\": 1}, \"mode\": \"lines\", \"name\": \"Buy signal\", \"showlegend\": false, \"type\": \"scatter\", \"x\": [\"2016-07-04T00:00:00\", \"2016-07-04T00:00:00\"], \"xaxis\": \"x2\", \"y\": [177.05, 348.6], \"yaxis\": \"y2\"}, {\"line\": {\"color\": \"green\", \"dash\": \"solid\", \"width\": 0.5}, \"mode\": \"lines\", \"name\": \"Buy signal\", \"showlegend\": false, \"type\": \"scatter\", \"x\": [\"2016-07-25T00:00:00\", \"2016-07-25T00:00:00\"], \"xaxis\": \"x2\", \"y\": [177.05, 348.6], \"yaxis\": \"y2\"}, {\"line\": {\"color\": \"green\", \"dash\": \"solid\", \"width\": 0.5}, \"mode\": \"lines\", \"name\": \"Buy signal\", \"showlegend\": false, \"type\": \"scatter\", \"x\": [\"2016-08-01T00:00:00\", \"2016-08-01T00:00:00\"], \"xaxis\": \"x2\", \"y\": [177.05, 348.6], \"yaxis\": \"y2\"}, {\"line\": {\"color\": \"red\", \"dash\": \"solid\", \"width\": 0.5}, \"mode\": \"lines\", \"name\": \"Sell signal\", \"showlegend\": false, \"type\": \"scatter\", \"x\": [\"2016-08-29T00:00:00\", \"2016-08-29T00:00:00\"], \"xaxis\": \"x2\", \"y\": [177.05, 348.6], \"yaxis\": \"y2\"}, {\"line\": {\"color\": \"red\", \"dash\": \"solid\", \"width\": 0.5}, \"mode\": \"lines\", \"name\": \"Sell signal\", \"showlegend\": false, \"type\": \"scatter\", \"x\": [\"2016-09-19T00:00:00\", \"2016-09-19T00:00:00\"], \"xaxis\": \"x2\", \"y\": [177.05, 348.6], \"yaxis\": \"y2\"}, {\"line\": {\"color\": \"red\", \"dash\": \"dash\", \"width\": 1}, \"mode\": \"lines\", \"name\": \"Sell signal\", \"showlegend\": false, \"type\": \"scatter\", \"x\": [\"2016-09-19T00:00:00\", \"2016-09-19T00:00:00\"], \"xaxis\": \"x2\", \"y\": [177.05, 348.6], \"yaxis\": \"y2\"}, {\"line\": {\"color\": \"red\", \"dash\": \"solid\", \"width\": 0.5}, \"mode\": \"lines\", \"name\": \"Sell signal\", \"showlegend\": false, \"type\": \"scatter\", \"x\": [\"2016-09-26T00:00:00\", \"2016-09-26T00:00:00\"], \"xaxis\": \"x2\", \"y\": [177.05, 348.6], \"yaxis\": \"y2\"}, {\"line\": {\"color\": \"red\", \"dash\": \"dash\", \"width\": 1}, \"mode\": \"lines\", \"name\": \"Sell signal\", \"showlegend\": false, \"type\": \"scatter\", \"x\": [\"2016-09-26T00:00:00\", \"2016-09-26T00:00:00\"], \"xaxis\": \"x2\", \"y\": [177.05, 348.6], \"yaxis\": \"y2\"}, {\"line\": {\"color\": \"green\", \"dash\": \"dash\", \"width\": 1}, \"mode\": \"lines\", \"name\": \"Buy signal\", \"showlegend\": false, \"type\": \"scatter\", \"x\": [\"2016-10-03T00:00:00\", \"2016-10-03T00:00:00\"], \"xaxis\": \"x2\", \"y\": [177.05, 348.6], \"yaxis\": \"y2\"}, {\"line\": {\"color\": \"green\", \"dash\": \"dash\", \"width\": 1}, \"mode\": \"lines\", \"name\": \"Buy signal\", \"showlegend\": false, \"type\": \"scatter\", \"x\": [\"2016-10-10T00:00:00\", \"2016-10-10T00:00:00\"], \"xaxis\": \"x2\", \"y\": [177.05, 348.6], \"yaxis\": \"y2\"}, {\"line\": {\"color\": \"red\", \"dash\": \"solid\", \"width\": 0.5}, \"mode\": \"lines\", \"name\": \"Sell signal\", \"showlegend\": false, \"type\": \"scatter\", \"x\": [\"2016-10-31T00:00:00\", \"2016-10-31T00:00:00\"], \"xaxis\": \"x2\", \"y\": [177.05, 348.6], \"yaxis\": \"y2\"}, {\"line\": {\"color\": \"red\", \"dash\": \"dash\", \"width\": 1}, \"mode\": \"lines\", \"name\": \"Sell signal\", \"showlegend\": false, \"type\": \"scatter\", \"x\": [\"2016-10-31T00:00:00\", \"2016-10-31T00:00:00\"], \"xaxis\": \"x2\", \"y\": [177.05, 348.6], \"yaxis\": \"y2\"}, {\"line\": {\"color\": \"green\", \"dash\": \"solid\", \"width\": 0.5}, \"mode\": \"lines\", \"name\": \"Buy signal\", \"showlegend\": false, \"type\": \"scatter\", \"x\": [\"2016-11-07T00:00:00\", \"2016-11-07T00:00:00\"], \"xaxis\": \"x2\", \"y\": [177.05, 348.6], \"yaxis\": \"y2\"}, {\"line\": {\"color\": \"green\", \"dash\": \"solid\", \"width\": 0.5}, \"mode\": \"lines\", \"name\": \"Buy signal\", \"showlegend\": false, \"type\": \"scatter\", \"x\": [\"2016-11-28T00:00:00\", \"2016-11-28T00:00:00\"], \"xaxis\": \"x2\", \"y\": [177.05, 348.6], \"yaxis\": \"y2\"}, {\"line\": {\"color\": \"green\", \"dash\": \"dash\", \"width\": 1}, \"mode\": \"lines\", \"name\": \"Buy signal\", \"showlegend\": false, \"type\": \"scatter\", \"x\": [\"2016-11-28T00:00:00\", \"2016-11-28T00:00:00\"], \"xaxis\": \"x2\", \"y\": [177.05, 348.6], \"yaxis\": \"y2\"}, {\"line\": {\"color\": \"red\", \"dash\": \"dash\", \"width\": 1}, \"mode\": \"lines\", \"name\": \"Sell signal\", \"showlegend\": false, \"type\": \"scatter\", \"x\": [\"2017-01-16T00:00:00\", \"2017-01-16T00:00:00\"], \"xaxis\": \"x2\", \"y\": [177.05, 348.6], \"yaxis\": \"y2\"}, {\"line\": {\"color\": \"red\", \"dash\": \"dash\", \"width\": 1}, \"mode\": \"lines\", \"name\": \"Sell signal\", \"showlegend\": false, \"type\": \"scatter\", \"x\": [\"2017-02-20T00:00:00\", \"2017-02-20T00:00:00\"], \"xaxis\": \"x2\", \"y\": [177.05, 348.6], \"yaxis\": \"y2\"}, {\"line\": {\"color\": \"green\", \"dash\": \"dash\", \"width\": 1}, \"mode\": \"lines\", \"name\": \"Buy signal\", \"showlegend\": false, \"type\": \"scatter\", \"x\": [\"2017-02-27T00:00:00\", \"2017-02-27T00:00:00\"], \"xaxis\": \"x2\", \"y\": [177.05, 348.6], \"yaxis\": \"y2\"}, {\"line\": {\"color\": \"red\", \"dash\": \"dash\", \"width\": 1}, \"mode\": \"lines\", \"name\": \"Sell signal\", \"showlegend\": false, \"type\": \"scatter\", \"x\": [\"2017-03-13T00:00:00\", \"2017-03-13T00:00:00\"], \"xaxis\": \"x2\", \"y\": [177.05, 348.6], \"yaxis\": \"y2\"}, {\"line\": {\"color\": \"red\", \"dash\": \"solid\", \"width\": 0.5}, \"mode\": \"lines\", \"name\": \"Sell signal\", \"showlegend\": false, \"type\": \"scatter\", \"x\": [\"2017-03-20T00:00:00\", \"2017-03-20T00:00:00\"], \"xaxis\": \"x2\", \"y\": [177.05, 348.6], \"yaxis\": \"y2\"}, {\"line\": {\"color\": \"red\", \"dash\": \"dash\", \"width\": 1}, \"mode\": \"lines\", \"name\": \"Sell signal\", \"showlegend\": false, \"type\": \"scatter\", \"x\": [\"2017-03-20T00:00:00\", \"2017-03-20T00:00:00\"], \"xaxis\": \"x2\", \"y\": [177.05, 348.6], \"yaxis\": \"y2\"}, {\"line\": {\"color\": \"green\", \"dash\": \"dash\", \"width\": 1}, \"mode\": \"lines\", \"name\": \"Buy signal\", \"showlegend\": false, \"type\": \"scatter\", \"x\": [\"2017-04-10T00:00:00\", \"2017-04-10T00:00:00\"], \"xaxis\": \"x2\", \"y\": [177.05, 348.6], \"yaxis\": \"y2\"}, {\"line\": {\"color\": \"red\", \"dash\": \"solid\", \"width\": 0.5}, \"mode\": \"lines\", \"name\": \"Sell signal\", \"showlegend\": false, \"type\": \"scatter\", \"x\": [\"2017-04-24T00:00:00\", \"2017-04-24T00:00:00\"], \"xaxis\": \"x2\", \"y\": [177.05, 348.6], \"yaxis\": \"y2\"}, {\"line\": {\"color\": \"red\", \"dash\": \"solid\", \"width\": 0.5}, \"mode\": \"lines\", \"name\": \"Sell signal\", \"showlegend\": false, \"type\": \"scatter\", \"x\": [\"2017-05-01T00:00:00\", \"2017-05-01T00:00:00\"], \"xaxis\": \"x2\", \"y\": [177.05, 348.6], \"yaxis\": \"y2\"}, {\"line\": {\"color\": \"green\", \"dash\": \"dash\", \"width\": 1}, \"mode\": \"lines\", \"name\": \"Buy signal\", \"showlegend\": false, \"type\": \"scatter\", \"x\": [\"2017-05-08T00:00:00\", \"2017-05-08T00:00:00\"], \"xaxis\": \"x2\", \"y\": [177.05, 348.6], \"yaxis\": \"y2\"}, {\"line\": {\"color\": \"red\", \"dash\": \"solid\", \"width\": 0.5}, \"mode\": \"lines\", \"name\": \"Sell signal\", \"showlegend\": false, \"type\": \"scatter\", \"x\": [\"2017-05-22T00:00:00\", \"2017-05-22T00:00:00\"], \"xaxis\": \"x2\", \"y\": [177.05, 348.6], \"yaxis\": \"y2\"}, {\"line\": {\"color\": \"red\", \"dash\": \"dash\", \"width\": 1}, \"mode\": \"lines\", \"name\": \"Sell signal\", \"showlegend\": false, \"type\": \"scatter\", \"x\": [\"2017-05-22T00:00:00\", \"2017-05-22T00:00:00\"], \"xaxis\": \"x2\", \"y\": [177.05, 348.6], \"yaxis\": \"y2\"}, {\"line\": {\"color\": \"red\", \"dash\": \"solid\", \"width\": 0.5}, \"mode\": \"lines\", \"name\": \"Sell signal\", \"showlegend\": false, \"type\": \"scatter\", \"x\": [\"2017-05-29T00:00:00\", \"2017-05-29T00:00:00\"], \"xaxis\": \"x2\", \"y\": [177.05, 348.6], \"yaxis\": \"y2\"}, {\"line\": {\"color\": \"red\", \"dash\": \"dash\", \"width\": 1}, \"mode\": \"lines\", \"name\": \"Sell signal\", \"showlegend\": false, \"type\": \"scatter\", \"x\": [\"2017-05-29T00:00:00\", \"2017-05-29T00:00:00\"], \"xaxis\": \"x2\", \"y\": [177.05, 348.6], \"yaxis\": \"y2\"}, {\"line\": {\"color\": \"red\", \"dash\": \"solid\", \"width\": 0.5}, \"mode\": \"lines\", \"name\": \"Sell signal\", \"showlegend\": false, \"type\": \"scatter\", \"x\": [\"2017-06-05T00:00:00\", \"2017-06-05T00:00:00\"], \"xaxis\": \"x2\", \"y\": [177.05, 348.6], \"yaxis\": \"y2\"}, {\"line\": {\"color\": \"red\", \"dash\": \"dash\", \"width\": 1}, \"mode\": \"lines\", \"name\": \"Sell signal\", \"showlegend\": false, \"type\": \"scatter\", \"x\": [\"2017-06-05T00:00:00\", \"2017-06-05T00:00:00\"], \"xaxis\": \"x2\", \"y\": [177.05, 348.6], \"yaxis\": \"y2\"}, {\"line\": {\"color\": \"red\", \"dash\": \"solid\", \"width\": 0.5}, \"mode\": \"lines\", \"name\": \"Sell signal\", \"showlegend\": false, \"type\": \"scatter\", \"x\": [\"2017-06-19T00:00:00\", \"2017-06-19T00:00:00\"], \"xaxis\": \"x2\", \"y\": [177.05, 348.6], \"yaxis\": \"y2\"}, {\"line\": {\"color\": \"red\", \"dash\": \"dash\", \"width\": 1}, \"mode\": \"lines\", \"name\": \"Sell signal\", \"showlegend\": false, \"type\": \"scatter\", \"x\": [\"2017-06-19T00:00:00\", \"2017-06-19T00:00:00\"], \"xaxis\": \"x2\", \"y\": [177.05, 348.6], \"yaxis\": \"y2\"}, {\"line\": {\"color\": \"red\", \"dash\": \"solid\", \"width\": 0.5}, \"mode\": \"lines\", \"name\": \"Sell signal\", \"showlegend\": false, \"type\": \"scatter\", \"x\": [\"2017-06-26T00:00:00\", \"2017-06-26T00:00:00\"], \"xaxis\": \"x2\", \"y\": [177.05, 348.6], \"yaxis\": \"y2\"}, {\"line\": {\"color\": \"red\", \"dash\": \"solid\", \"width\": 0.5}, \"mode\": \"lines\", \"name\": \"Sell signal\", \"showlegend\": false, \"type\": \"scatter\", \"x\": [\"2017-07-03T00:00:00\", \"2017-07-03T00:00:00\"], \"xaxis\": \"x2\", \"y\": [177.05, 348.6], \"yaxis\": \"y2\"}, {\"line\": {\"color\": \"red\", \"dash\": \"solid\", \"width\": 0.5}, \"mode\": \"lines\", \"name\": \"Sell signal\", \"showlegend\": false, \"type\": \"scatter\", \"x\": [\"2017-07-17T00:00:00\", \"2017-07-17T00:00:00\"], \"xaxis\": \"x2\", \"y\": [177.05, 348.6], \"yaxis\": \"y2\"}, {\"line\": {\"color\": \"red\", \"dash\": \"solid\", \"width\": 0.5}, \"mode\": \"lines\", \"name\": \"Sell signal\", \"showlegend\": false, \"type\": \"scatter\", \"x\": [\"2017-07-31T00:00:00\", \"2017-07-31T00:00:00\"], \"xaxis\": \"x2\", \"y\": [177.05, 348.6], \"yaxis\": \"y2\"}, {\"line\": {\"color\": \"red\", \"dash\": \"dash\", \"width\": 1}, \"mode\": \"lines\", \"name\": \"Sell signal\", \"showlegend\": false, \"type\": \"scatter\", \"x\": [\"2017-07-31T00:00:00\", \"2017-07-31T00:00:00\"], \"xaxis\": \"x2\", \"y\": [177.05, 348.6], \"yaxis\": \"y2\"}, {\"line\": {\"color\": \"green\", \"dash\": \"dash\", \"width\": 1}, \"mode\": \"lines\", \"name\": \"Buy signal\", \"showlegend\": false, \"type\": \"scatter\", \"x\": [\"2017-09-18T00:00:00\", \"2017-09-18T00:00:00\"], \"xaxis\": \"x2\", \"y\": [177.05, 348.6], \"yaxis\": \"y2\"}, {\"line\": {\"color\": \"red\", \"dash\": \"solid\", \"width\": 0.5}, \"mode\": \"lines\", \"name\": \"Sell signal\", \"showlegend\": false, \"type\": \"scatter\", \"x\": [\"2017-10-02T00:00:00\", \"2017-10-02T00:00:00\"], \"xaxis\": \"x2\", \"y\": [177.05, 348.6], \"yaxis\": \"y2\"}, {\"line\": {\"color\": \"red\", \"dash\": \"solid\", \"width\": 0.5}, \"mode\": \"lines\", \"name\": \"Sell signal\", \"showlegend\": false, \"type\": \"scatter\", \"x\": [\"2017-10-16T00:00:00\", \"2017-10-16T00:00:00\"], \"xaxis\": \"x2\", \"y\": [177.05, 348.6], \"yaxis\": \"y2\"}, {\"line\": {\"color\": \"red\", \"dash\": \"dash\", \"width\": 1}, \"mode\": \"lines\", \"name\": \"Sell signal\", \"showlegend\": false, \"type\": \"scatter\", \"x\": [\"2017-10-16T00:00:00\", \"2017-10-16T00:00:00\"], \"xaxis\": \"x2\", \"y\": [177.05, 348.6], \"yaxis\": \"y2\"}, {\"line\": {\"color\": \"red\", \"dash\": \"solid\", \"width\": 0.5}, \"mode\": \"lines\", \"name\": \"Sell signal\", \"showlegend\": false, \"type\": \"scatter\", \"x\": [\"2017-10-23T00:00:00\", \"2017-10-23T00:00:00\"], \"xaxis\": \"x2\", \"y\": [177.05, 348.6], \"yaxis\": \"y2\"}, {\"line\": {\"color\": \"red\", \"dash\": \"dash\", \"width\": 1}, \"mode\": \"lines\", \"name\": \"Sell signal\", \"showlegend\": false, \"type\": \"scatter\", \"x\": [\"2017-10-23T00:00:00\", \"2017-10-23T00:00:00\"], \"xaxis\": \"x2\", \"y\": [177.05, 348.6], \"yaxis\": \"y2\"}, {\"line\": {\"color\": \"red\", \"dash\": \"dash\", \"width\": 1}, \"mode\": \"lines\", \"name\": \"Sell signal\", \"showlegend\": false, \"type\": \"scatter\", \"x\": [\"2017-11-06T00:00:00\", \"2017-11-06T00:00:00\"], \"xaxis\": \"x2\", \"y\": [177.05, 348.6], \"yaxis\": \"y2\"}, {\"line\": {\"color\": \"green\", \"dash\": \"solid\", \"width\": 0.5}, \"mode\": \"lines\", \"name\": \"Buy signal\", \"showlegend\": false, \"type\": \"scatter\", \"x\": [\"2017-11-20T00:00:00\", \"2017-11-20T00:00:00\"], \"xaxis\": \"x2\", \"y\": [177.05, 348.6], \"yaxis\": \"y2\"}, {\"line\": {\"color\": \"green\", \"dash\": \"dash\", \"width\": 1}, \"mode\": \"lines\", \"name\": \"Buy signal\", \"showlegend\": false, \"type\": \"scatter\", \"x\": [\"2017-11-20T00:00:00\", \"2017-11-20T00:00:00\"], \"xaxis\": \"x2\", \"y\": [177.05, 348.6], \"yaxis\": \"y2\"}, {\"line\": {\"color\": \"green\", \"dash\": \"solid\", \"width\": 0.5}, \"mode\": \"lines\", \"name\": \"Buy signal\", \"showlegend\": false, \"type\": \"scatter\", \"x\": [\"2017-11-27T00:00:00\", \"2017-11-27T00:00:00\"], \"xaxis\": \"x2\", \"y\": [177.05, 348.6], \"yaxis\": \"y2\"}, {\"line\": {\"color\": \"green\", \"dash\": \"dash\", \"width\": 1}, \"mode\": \"lines\", \"name\": \"Buy signal\", \"showlegend\": false, \"type\": \"scatter\", \"x\": [\"2017-11-27T00:00:00\", \"2017-11-27T00:00:00\"], \"xaxis\": \"x2\", \"y\": [177.05, 348.6], \"yaxis\": \"y2\"}, {\"line\": {\"color\": \"red\", \"dash\": \"dash\", \"width\": 1}, \"mode\": \"lines\", \"name\": \"Sell signal\", \"showlegend\": false, \"type\": \"scatter\", \"x\": [\"2017-12-04T00:00:00\", \"2017-12-04T00:00:00\"], \"xaxis\": \"x2\", \"y\": [177.05, 348.6], \"yaxis\": \"y2\"}, {\"line\": {\"color\": \"green\", \"dash\": \"solid\", \"width\": 0.5}, \"mode\": \"lines\", \"name\": \"Buy signal\", \"showlegend\": false, \"type\": \"scatter\", \"x\": [\"2017-12-11T00:00:00\", \"2017-12-11T00:00:00\"], \"xaxis\": \"x2\", \"y\": [177.05, 348.6], \"yaxis\": \"y2\"}, {\"line\": {\"color\": \"red\", \"dash\": \"solid\", \"width\": 0.5}, \"mode\": \"lines\", \"name\": \"Sell signal\", \"showlegend\": false, \"type\": \"scatter\", \"x\": [\"2017-12-25T00:00:00\", \"2017-12-25T00:00:00\"], \"xaxis\": \"x2\", \"y\": [177.05, 348.6], \"yaxis\": \"y2\"}, {\"line\": {\"color\": \"red\", \"dash\": \"solid\", \"width\": 0.5}, \"mode\": \"lines\", \"name\": \"Sell signal\", \"showlegend\": false, \"type\": \"scatter\", \"x\": [\"2018-01-22T00:00:00\", \"2018-01-22T00:00:00\"], \"xaxis\": \"x2\", \"y\": [177.05, 348.6], \"yaxis\": \"y2\"}, {\"line\": {\"color\": \"red\", \"dash\": \"dash\", \"width\": 1}, \"mode\": \"lines\", \"name\": \"Sell signal\", \"showlegend\": false, \"type\": \"scatter\", \"x\": [\"2018-01-22T00:00:00\", \"2018-01-22T00:00:00\"], \"xaxis\": \"x2\", \"y\": [177.05, 348.6], \"yaxis\": \"y2\"}, {\"line\": {\"color\": \"red\", \"dash\": \"solid\", \"width\": 0.5}, \"mode\": \"lines\", \"name\": \"Sell signal\", \"showlegend\": false, \"type\": \"scatter\", \"x\": [\"2018-01-29T00:00:00\", \"2018-01-29T00:00:00\"], \"xaxis\": \"x2\", \"y\": [177.05, 348.6], \"yaxis\": \"y2\"}, {\"line\": {\"color\": \"red\", \"dash\": \"dash\", \"width\": 1}, \"mode\": \"lines\", \"name\": \"Sell signal\", \"showlegend\": false, \"type\": \"scatter\", \"x\": [\"2018-01-29T00:00:00\", \"2018-01-29T00:00:00\"], \"xaxis\": \"x2\", \"y\": [177.05, 348.6], \"yaxis\": \"y2\"}, {\"line\": {\"color\": \"red\", \"dash\": \"dash\", \"width\": 1}, \"mode\": \"lines\", \"name\": \"Sell signal\", \"showlegend\": false, \"type\": \"scatter\", \"x\": [\"2018-02-19T00:00:00\", \"2018-02-19T00:00:00\"], \"xaxis\": \"x2\", \"y\": [177.05, 348.6], \"yaxis\": \"y2\"}, {\"line\": {\"color\": \"red\", \"dash\": \"dash\", \"width\": 1}, \"mode\": \"lines\", \"name\": \"Sell signal\", \"showlegend\": false, \"type\": \"scatter\", \"x\": [\"2018-02-26T00:00:00\", \"2018-02-26T00:00:00\"], \"xaxis\": \"x2\", \"y\": [177.05, 348.6], \"yaxis\": \"y2\"}, {\"line\": {\"color\": \"red\", \"dash\": \"dash\", \"width\": 1}, \"mode\": \"lines\", \"name\": \"Sell signal\", \"showlegend\": false, \"type\": \"scatter\", \"x\": [\"2018-03-05T00:00:00\", \"2018-03-05T00:00:00\"], \"xaxis\": \"x2\", \"y\": [177.05, 348.6], \"yaxis\": \"y2\"}, {\"line\": {\"color\": \"green\", \"dash\": \"solid\", \"width\": 0.5}, \"mode\": \"lines\", \"name\": \"Buy signal\", \"showlegend\": false, \"type\": \"scatter\", \"x\": [\"2018-03-19T00:00:00\", \"2018-03-19T00:00:00\"], \"xaxis\": \"x2\", \"y\": [177.05, 348.6], \"yaxis\": \"y2\"}, {\"line\": {\"color\": \"green\", \"dash\": \"dash\", \"width\": 1}, \"mode\": \"lines\", \"name\": \"Buy signal\", \"showlegend\": false, \"type\": \"scatter\", \"x\": [\"2018-03-19T00:00:00\", \"2018-03-19T00:00:00\"], \"xaxis\": \"x2\", \"y\": [177.05, 348.6], \"yaxis\": \"y2\"}, {\"line\": {\"color\": \"green\", \"dash\": \"solid\", \"width\": 0.5}, \"mode\": \"lines\", \"name\": \"Buy signal\", \"showlegend\": false, \"type\": \"scatter\", \"x\": [\"2018-03-26T00:00:00\", \"2018-03-26T00:00:00\"], \"xaxis\": \"x2\", \"y\": [177.05, 348.6], \"yaxis\": \"y2\"}, {\"line\": {\"color\": \"green\", \"dash\": \"dash\", \"width\": 1}, \"mode\": \"lines\", \"name\": \"Buy signal\", \"showlegend\": false, \"type\": \"scatter\", \"x\": [\"2018-03-26T00:00:00\", \"2018-03-26T00:00:00\"], \"xaxis\": \"x2\", \"y\": [177.05, 348.6], \"yaxis\": \"y2\"}, {\"line\": {\"color\": \"green\", \"dash\": \"solid\", \"width\": 0.5}, \"mode\": \"lines\", \"name\": \"Buy signal\", \"showlegend\": false, \"type\": \"scatter\", \"x\": [\"2018-04-02T00:00:00\", \"2018-04-02T00:00:00\"], \"xaxis\": \"x2\", \"y\": [177.05, 348.6], \"yaxis\": \"y2\"}, {\"line\": {\"color\": \"green\", \"dash\": \"dash\", \"width\": 1}, \"mode\": \"lines\", \"name\": \"Buy signal\", \"showlegend\": false, \"type\": \"scatter\", \"x\": [\"2018-04-02T00:00:00\", \"2018-04-02T00:00:00\"], \"xaxis\": \"x2\", \"y\": [177.05, 348.6], \"yaxis\": \"y2\"}, {\"line\": {\"color\": \"green\", \"dash\": \"solid\", \"width\": 0.5}, \"mode\": \"lines\", \"name\": \"Buy signal\", \"showlegend\": false, \"type\": \"scatter\", \"x\": [\"2018-04-09T00:00:00\", \"2018-04-09T00:00:00\"], \"xaxis\": \"x2\", \"y\": [177.05, 348.6], \"yaxis\": \"y2\"}, {\"line\": {\"color\": \"green\", \"dash\": \"solid\", \"width\": 0.5}, \"mode\": \"lines\", \"name\": \"Buy signal\", \"showlegend\": false, \"type\": \"scatter\", \"x\": [\"2018-04-16T00:00:00\", \"2018-04-16T00:00:00\"], \"xaxis\": \"x2\", \"y\": [177.05, 348.6], \"yaxis\": \"y2\"}, {\"line\": {\"color\": \"green\", \"dash\": \"solid\", \"width\": 0.5}, \"mode\": \"lines\", \"name\": \"Buy signal\", \"showlegend\": false, \"type\": \"scatter\", \"x\": [\"2018-04-23T00:00:00\", \"2018-04-23T00:00:00\"], \"xaxis\": \"x2\", \"y\": [177.05, 348.6], \"yaxis\": \"y2\"}, {\"line\": {\"color\": \"red\", \"dash\": \"dash\", \"width\": 1}, \"mode\": \"lines\", \"name\": \"Sell signal\", \"showlegend\": false, \"type\": \"scatter\", \"x\": [\"2018-05-21T00:00:00\", \"2018-05-21T00:00:00\"], \"xaxis\": \"x2\", \"y\": [177.05, 348.6], \"yaxis\": \"y2\"}, {\"line\": {\"color\": \"green\", \"dash\": \"solid\", \"width\": 0.5}, \"mode\": \"lines\", \"name\": \"Buy signal\", \"showlegend\": false, \"type\": \"scatter\", \"x\": [\"2018-06-04T00:00:00\", \"2018-06-04T00:00:00\"], \"xaxis\": \"x2\", \"y\": [177.05, 348.6], \"yaxis\": \"y2\"}, {\"line\": {\"color\": \"green\", \"dash\": \"dash\", \"width\": 1}, \"mode\": \"lines\", \"name\": \"Buy signal\", \"showlegend\": false, \"type\": \"scatter\", \"x\": [\"2018-06-04T00:00:00\", \"2018-06-04T00:00:00\"], \"xaxis\": \"x2\", \"y\": [177.05, 348.6], \"yaxis\": \"y2\"}, {\"line\": {\"color\": \"red\", \"dash\": \"solid\", \"width\": 0.5}, \"mode\": \"lines\", \"name\": \"Sell signal\", \"showlegend\": false, \"type\": \"scatter\", \"x\": [\"2018-08-20T00:00:00\", \"2018-08-20T00:00:00\"], \"xaxis\": \"x2\", \"y\": [177.05, 348.6], \"yaxis\": \"y2\"}, {\"line\": {\"color\": \"red\", \"dash\": \"dash\", \"width\": 1}, \"mode\": \"lines\", \"name\": \"Sell signal\", \"showlegend\": false, \"type\": \"scatter\", \"x\": [\"2018-08-20T00:00:00\", \"2018-08-20T00:00:00\"], \"xaxis\": \"x2\", \"y\": [177.05, 348.6], \"yaxis\": \"y2\"}, {\"line\": {\"color\": \"red\", \"dash\": \"solid\", \"width\": 0.5}, \"mode\": \"lines\", \"name\": \"Sell signal\", \"showlegend\": false, \"type\": \"scatter\", \"x\": [\"2018-08-27T00:00:00\", \"2018-08-27T00:00:00\"], \"xaxis\": \"x2\", \"y\": [177.05, 348.6], \"yaxis\": \"y2\"}, {\"line\": {\"color\": \"red\", \"dash\": \"solid\", \"width\": 0.5}, \"mode\": \"lines\", \"name\": \"Sell signal\", \"showlegend\": false, \"type\": \"scatter\", \"x\": [\"2018-09-10T00:00:00\", \"2018-09-10T00:00:00\"], \"xaxis\": \"x2\", \"y\": [177.05, 348.6], \"yaxis\": \"y2\"}, {\"line\": {\"color\": \"red\", \"dash\": \"solid\", \"width\": 0.5}, \"mode\": \"lines\", \"name\": \"Sell signal\", \"showlegend\": false, \"type\": \"scatter\", \"x\": [\"2018-09-24T00:00:00\", \"2018-09-24T00:00:00\"], \"xaxis\": \"x2\", \"y\": [177.05, 348.6], \"yaxis\": \"y2\"}, {\"line\": {\"color\": \"red\", \"dash\": \"solid\", \"width\": 0.5}, \"mode\": \"lines\", \"name\": \"Sell signal\", \"showlegend\": false, \"type\": \"scatter\", \"x\": [\"2018-10-01T00:00:00\", \"2018-10-01T00:00:00\"], \"xaxis\": \"x2\", \"y\": [177.05, 348.6], \"yaxis\": \"y2\"}, {\"line\": {\"color\": \"red\", \"dash\": \"dash\", \"width\": 1}, \"mode\": \"lines\", \"name\": \"Sell signal\", \"showlegend\": false, \"type\": \"scatter\", \"x\": [\"2018-10-01T00:00:00\", \"2018-10-01T00:00:00\"], \"xaxis\": \"x2\", \"y\": [177.05, 348.6], \"yaxis\": \"y2\"}, {\"line\": {\"color\": \"red\", \"dash\": \"solid\", \"width\": 0.5}, \"mode\": \"lines\", \"name\": \"Sell signal\", \"showlegend\": false, \"type\": \"scatter\", \"x\": [\"2018-10-08T00:00:00\", \"2018-10-08T00:00:00\"], \"xaxis\": \"x2\", \"y\": [177.05, 348.6], \"yaxis\": \"y2\"}, {\"line\": {\"color\": \"red\", \"dash\": \"solid\", \"width\": 0.5}, \"mode\": \"lines\", \"name\": \"Sell signal\", \"showlegend\": false, \"type\": \"scatter\", \"x\": [\"2018-11-05T00:00:00\", \"2018-11-05T00:00:00\"], \"xaxis\": \"x2\", \"y\": [177.05, 348.6], \"yaxis\": \"y2\"}, {\"line\": {\"color\": \"red\", \"dash\": \"dash\", \"width\": 1}, \"mode\": \"lines\", \"name\": \"Sell signal\", \"showlegend\": false, \"type\": \"scatter\", \"x\": [\"2018-11-05T00:00:00\", \"2018-11-05T00:00:00\"], \"xaxis\": \"x2\", \"y\": [177.05, 348.6], \"yaxis\": \"y2\"}, {\"line\": {\"color\": \"green\", \"dash\": \"dash\", \"width\": 1}, \"mode\": \"lines\", \"name\": \"Buy signal\", \"showlegend\": false, \"type\": \"scatter\", \"x\": [\"2018-11-12T00:00:00\", \"2018-11-12T00:00:00\"], \"xaxis\": \"x2\", \"y\": [177.05, 348.6], \"yaxis\": \"y2\"}, {\"line\": {\"color\": \"red\", \"dash\": \"solid\", \"width\": 0.5}, \"mode\": \"lines\", \"name\": \"Sell signal\", \"showlegend\": false, \"type\": \"scatter\", \"x\": [\"2018-11-19T00:00:00\", \"2018-11-19T00:00:00\"], \"xaxis\": \"x2\", \"y\": [177.05, 348.6], \"yaxis\": \"y2\"}, {\"line\": {\"color\": \"red\", \"dash\": \"solid\", \"width\": 0.5}, \"mode\": \"lines\", \"name\": \"Sell signal\", \"showlegend\": false, \"type\": \"scatter\", \"x\": [\"2018-11-26T00:00:00\", \"2018-11-26T00:00:00\"], \"xaxis\": \"x2\", \"y\": [177.05, 348.6], \"yaxis\": \"y2\"}, {\"line\": {\"color\": \"red\", \"dash\": \"solid\", \"width\": 0.5}, \"mode\": \"lines\", \"name\": \"Sell signal\", \"showlegend\": false, \"type\": \"scatter\", \"x\": [\"2018-12-03T00:00:00\", \"2018-12-03T00:00:00\"], \"xaxis\": \"x2\", \"y\": [177.05, 348.6], \"yaxis\": \"y2\"}, {\"line\": {\"color\": \"red\", \"dash\": \"solid\", \"width\": 0.5}, \"mode\": \"lines\", \"name\": \"Sell signal\", \"showlegend\": false, \"type\": \"scatter\", \"x\": [\"2018-12-10T00:00:00\", \"2018-12-10T00:00:00\"], \"xaxis\": \"x2\", \"y\": [177.05, 348.6], \"yaxis\": \"y2\"}, {\"line\": {\"color\": \"red\", \"dash\": \"solid\", \"width\": 0.5}, \"mode\": \"lines\", \"name\": \"Sell signal\", \"showlegend\": false, \"type\": \"scatter\", \"x\": [\"2018-12-17T00:00:00\", \"2018-12-17T00:00:00\"], \"xaxis\": \"x2\", \"y\": [177.05, 348.6], \"yaxis\": \"y2\"}, {\"line\": {\"color\": \"red\", \"dash\": \"dash\", \"width\": 1}, \"mode\": \"lines\", \"name\": \"Sell signal\", \"showlegend\": false, \"type\": \"scatter\", \"x\": [\"2018-12-17T00:00:00\", \"2018-12-17T00:00:00\"], \"xaxis\": \"x2\", \"y\": [177.05, 348.6], \"yaxis\": \"y2\"}, {\"line\": {\"color\": \"red\", \"dash\": \"dash\", \"width\": 1}, \"mode\": \"lines\", \"name\": \"Sell signal\", \"showlegend\": false, \"type\": \"scatter\", \"x\": [\"2018-12-24T00:00:00\", \"2018-12-24T00:00:00\"], \"xaxis\": \"x2\", \"y\": [177.05, 348.6], \"yaxis\": \"y2\"}, {\"line\": {\"color\": \"green\", \"dash\": \"dash\", \"width\": 1}, \"mode\": \"lines\", \"name\": \"Buy signal\", \"showlegend\": false, \"type\": \"scatter\", \"x\": [\"2018-12-31T00:00:00\", \"2018-12-31T00:00:00\"], \"xaxis\": \"x2\", \"y\": [177.05, 348.6], \"yaxis\": \"y2\"}, {\"line\": {\"color\": \"red\", \"dash\": \"solid\", \"width\": 0.5}, \"mode\": \"lines\", \"name\": \"Sell signal\", \"showlegend\": false, \"type\": \"scatter\", \"x\": [\"2019-02-04T00:00:00\", \"2019-02-04T00:00:00\"], \"xaxis\": \"x2\", \"y\": [177.05, 348.6], \"yaxis\": \"y2\"}, {\"line\": {\"color\": \"red\", \"dash\": \"dash\", \"width\": 1}, \"mode\": \"lines\", \"name\": \"Sell signal\", \"showlegend\": false, \"type\": \"scatter\", \"x\": [\"2019-02-04T00:00:00\", \"2019-02-04T00:00:00\"], \"xaxis\": \"x2\", \"y\": [177.05, 348.6], \"yaxis\": \"y2\"}, {\"line\": {\"color\": \"red\", \"dash\": \"solid\", \"width\": 0.5}, \"mode\": \"lines\", \"name\": \"Sell signal\", \"showlegend\": false, \"type\": \"scatter\", \"x\": [\"2019-02-11T00:00:00\", \"2019-02-11T00:00:00\"], \"xaxis\": \"x2\", \"y\": [177.05, 348.6], \"yaxis\": \"y2\"}, {\"line\": {\"color\": \"red\", \"dash\": \"dash\", \"width\": 1}, \"mode\": \"lines\", \"name\": \"Sell signal\", \"showlegend\": false, \"type\": \"scatter\", \"x\": [\"2019-02-11T00:00:00\", \"2019-02-11T00:00:00\"], \"xaxis\": \"x2\", \"y\": [177.05, 348.6], \"yaxis\": \"y2\"}, {\"line\": {\"color\": \"red\", \"dash\": \"solid\", \"width\": 0.5}, \"mode\": \"lines\", \"name\": \"Sell signal\", \"showlegend\": false, \"type\": \"scatter\", \"x\": [\"2019-02-18T00:00:00\", \"2019-02-18T00:00:00\"], \"xaxis\": \"x2\", \"y\": [177.05, 348.6], \"yaxis\": \"y2\"}, {\"line\": {\"color\": \"red\", \"dash\": \"solid\", \"width\": 0.5}, \"mode\": \"lines\", \"name\": \"Sell signal\", \"showlegend\": false, \"type\": \"scatter\", \"x\": [\"2019-02-25T00:00:00\", \"2019-02-25T00:00:00\"], \"xaxis\": \"x2\", \"y\": [177.05, 348.6], \"yaxis\": \"y2\"}, {\"line\": {\"color\": \"green\", \"dash\": \"dash\", \"width\": 1}, \"mode\": \"lines\", \"name\": \"Buy signal\", \"showlegend\": false, \"type\": \"scatter\", \"x\": [\"2019-03-04T00:00:00\", \"2019-03-04T00:00:00\"], \"xaxis\": \"x2\", \"y\": [177.05, 348.6], \"yaxis\": \"y2\"}, {\"line\": {\"color\": \"green\", \"dash\": \"dash\", \"width\": 1}, \"mode\": \"lines\", \"name\": \"Buy signal\", \"showlegend\": false, \"type\": \"scatter\", \"x\": [\"2019-03-11T00:00:00\", \"2019-03-11T00:00:00\"], \"xaxis\": \"x2\", \"y\": [177.05, 348.6], \"yaxis\": \"y2\"}, {\"line\": {\"color\": \"red\", \"dash\": \"solid\", \"width\": 0.5}, \"mode\": \"lines\", \"name\": \"Sell signal\", \"showlegend\": false, \"type\": \"scatter\", \"x\": [\"2019-03-18T00:00:00\", \"2019-03-18T00:00:00\"], \"xaxis\": \"x2\", \"y\": [177.05, 348.6], \"yaxis\": \"y2\"}, {\"line\": {\"color\": \"red\", \"dash\": \"solid\", \"width\": 0.5}, \"mode\": \"lines\", \"name\": \"Sell signal\", \"showlegend\": false, \"type\": \"scatter\", \"x\": [\"2019-04-01T00:00:00\", \"2019-04-01T00:00:00\"], \"xaxis\": \"x2\", \"y\": [177.05, 348.6], \"yaxis\": \"y2\"}, {\"line\": {\"color\": \"red\", \"dash\": \"dash\", \"width\": 1}, \"mode\": \"lines\", \"name\": \"Sell signal\", \"showlegend\": false, \"type\": \"scatter\", \"x\": [\"2019-04-01T00:00:00\", \"2019-04-01T00:00:00\"], \"xaxis\": \"x2\", \"y\": [177.05, 348.6], \"yaxis\": \"y2\"}, {\"line\": {\"color\": \"red\", \"dash\": \"solid\", \"width\": 0.5}, \"mode\": \"lines\", \"name\": \"Sell signal\", \"showlegend\": false, \"type\": \"scatter\", \"x\": [\"2019-04-08T00:00:00\", \"2019-04-08T00:00:00\"], \"xaxis\": \"x2\", \"y\": [177.05, 348.6], \"yaxis\": \"y2\"}, {\"line\": {\"color\": \"red\", \"dash\": \"dash\", \"width\": 1}, \"mode\": \"lines\", \"name\": \"Sell signal\", \"showlegend\": false, \"type\": \"scatter\", \"x\": [\"2019-04-08T00:00:00\", \"2019-04-08T00:00:00\"], \"xaxis\": \"x2\", \"y\": [177.05, 348.6], \"yaxis\": \"y2\"}, {\"line\": {\"color\": \"red\", \"dash\": \"solid\", \"width\": 0.5}, \"mode\": \"lines\", \"name\": \"Sell signal\", \"showlegend\": false, \"type\": \"scatter\", \"x\": [\"2019-04-15T00:00:00\", \"2019-04-15T00:00:00\"], \"xaxis\": \"x2\", \"y\": [177.05, 348.6], \"yaxis\": \"y2\"}, {\"line\": {\"color\": \"red\", \"dash\": \"dash\", \"width\": 1}, \"mode\": \"lines\", \"name\": \"Sell signal\", \"showlegend\": false, \"type\": \"scatter\", \"x\": [\"2019-04-15T00:00:00\", \"2019-04-15T00:00:00\"], \"xaxis\": \"x2\", \"y\": [177.05, 348.6], \"yaxis\": \"y2\"}, {\"line\": {\"color\": \"red\", \"dash\": \"solid\", \"width\": 0.5}, \"mode\": \"lines\", \"name\": \"Sell signal\", \"showlegend\": false, \"type\": \"scatter\", \"x\": [\"2019-04-29T00:00:00\", \"2019-04-29T00:00:00\"], \"xaxis\": \"x2\", \"y\": [177.05, 348.6], \"yaxis\": \"y2\"}, {\"line\": {\"color\": \"red\", \"dash\": \"dash\", \"width\": 1}, \"mode\": \"lines\", \"name\": \"Sell signal\", \"showlegend\": false, \"type\": \"scatter\", \"x\": [\"2019-04-29T00:00:00\", \"2019-04-29T00:00:00\"], \"xaxis\": \"x2\", \"y\": [177.05, 348.6], \"yaxis\": \"y2\"}, {\"line\": {\"color\": \"red\", \"dash\": \"solid\", \"width\": 0.5}, \"mode\": \"lines\", \"name\": \"Sell signal\", \"showlegend\": false, \"type\": \"scatter\", \"x\": [\"2019-05-06T00:00:00\", \"2019-05-06T00:00:00\"], \"xaxis\": \"x2\", \"y\": [177.05, 348.6], \"yaxis\": \"y2\"}, {\"line\": {\"color\": \"red\", \"dash\": \"dash\", \"width\": 1}, \"mode\": \"lines\", \"name\": \"Sell signal\", \"showlegend\": false, \"type\": \"scatter\", \"x\": [\"2019-05-06T00:00:00\", \"2019-05-06T00:00:00\"], \"xaxis\": \"x2\", \"y\": [177.05, 348.6], \"yaxis\": \"y2\"}, {\"line\": {\"color\": \"red\", \"dash\": \"dash\", \"width\": 1}, \"mode\": \"lines\", \"name\": \"Sell signal\", \"showlegend\": false, \"type\": \"scatter\", \"x\": [\"2019-05-13T00:00:00\", \"2019-05-13T00:00:00\"], \"xaxis\": \"x2\", \"y\": [177.05, 348.6], \"yaxis\": \"y2\"}, {\"line\": {\"color\": \"red\", \"dash\": \"solid\", \"width\": 0.5}, \"mode\": \"lines\", \"name\": \"Sell signal\", \"showlegend\": false, \"type\": \"scatter\", \"x\": [\"2019-05-27T00:00:00\", \"2019-05-27T00:00:00\"], \"xaxis\": \"x2\", \"y\": [177.05, 348.6], \"yaxis\": \"y2\"}, {\"line\": {\"color\": \"red\", \"dash\": \"dash\", \"width\": 1}, \"mode\": \"lines\", \"name\": \"Sell signal\", \"showlegend\": false, \"type\": \"scatter\", \"x\": [\"2019-05-27T00:00:00\", \"2019-05-27T00:00:00\"], \"xaxis\": \"x2\", \"y\": [177.05, 348.6], \"yaxis\": \"y2\"}, {\"line\": {\"color\": \"red\", \"dash\": \"solid\", \"width\": 0.5}, \"mode\": \"lines\", \"name\": \"Sell signal\", \"showlegend\": false, \"type\": \"scatter\", \"x\": [\"2019-06-03T00:00:00\", \"2019-06-03T00:00:00\"], \"xaxis\": \"x2\", \"y\": [177.05, 348.6], \"yaxis\": \"y2\"}, {\"line\": {\"color\": \"green\", \"dash\": \"dash\", \"width\": 1}, \"mode\": \"lines\", \"name\": \"Buy signal\", \"showlegend\": false, \"type\": \"scatter\", \"x\": [\"2019-06-10T00:00:00\", \"2019-06-10T00:00:00\"], \"xaxis\": \"x2\", \"y\": [177.05, 348.6], \"yaxis\": \"y2\"}, {\"line\": {\"color\": \"red\", \"dash\": \"solid\", \"width\": 0.5}, \"mode\": \"lines\", \"name\": \"Sell signal\", \"showlegend\": false, \"type\": \"scatter\", \"x\": [\"2019-07-01T00:00:00\", \"2019-07-01T00:00:00\"], \"xaxis\": \"x2\", \"y\": [177.05, 348.6], \"yaxis\": \"y2\"}, {\"line\": {\"color\": \"red\", \"dash\": \"dash\", \"width\": 1}, \"mode\": \"lines\", \"name\": \"Sell signal\", \"showlegend\": false, \"type\": \"scatter\", \"x\": [\"2019-07-15T00:00:00\", \"2019-07-15T00:00:00\"], \"xaxis\": \"x2\", \"y\": [177.05, 348.6], \"yaxis\": \"y2\"}, {\"line\": {\"color\": \"red\", \"dash\": \"dash\", \"width\": 1}, \"mode\": \"lines\", \"name\": \"Sell signal\", \"showlegend\": false, \"type\": \"scatter\", \"x\": [\"2019-08-05T00:00:00\", \"2019-08-05T00:00:00\"], \"xaxis\": \"x2\", \"y\": [177.05, 348.6], \"yaxis\": \"y2\"}, {\"line\": {\"color\": \"green\", \"dash\": \"solid\", \"width\": 0.5}, \"mode\": \"lines\", \"name\": \"Buy signal\", \"showlegend\": false, \"type\": \"scatter\", \"x\": [\"2019-08-12T00:00:00\", \"2019-08-12T00:00:00\"], \"xaxis\": \"x2\", \"y\": [177.05, 348.6], \"yaxis\": \"y2\"}, {\"line\": {\"color\": \"green\", \"dash\": \"dash\", \"width\": 1}, \"mode\": \"lines\", \"name\": \"Buy signal\", \"showlegend\": false, \"type\": \"scatter\", \"x\": [\"2019-08-12T00:00:00\", \"2019-08-12T00:00:00\"], \"xaxis\": \"x2\", \"y\": [177.05, 348.6], \"yaxis\": \"y2\"}, {\"line\": {\"color\": \"green\", \"dash\": \"solid\", \"width\": 0.5}, \"mode\": \"lines\", \"name\": \"Buy signal\", \"showlegend\": false, \"type\": \"scatter\", \"x\": [\"2019-08-26T00:00:00\", \"2019-08-26T00:00:00\"], \"xaxis\": \"x2\", \"y\": [177.05, 348.6], \"yaxis\": \"y2\"}, {\"line\": {\"color\": \"green\", \"dash\": \"solid\", \"width\": 0.5}, \"mode\": \"lines\", \"name\": \"Buy signal\", \"showlegend\": false, \"type\": \"scatter\", \"x\": [\"2019-09-02T00:00:00\", \"2019-09-02T00:00:00\"], \"xaxis\": \"x2\", \"y\": [177.05, 348.6], \"yaxis\": \"y2\"}, {\"line\": {\"color\": \"green\", \"dash\": \"solid\", \"width\": 0.5}, \"mode\": \"lines\", \"name\": \"Buy signal\", \"showlegend\": false, \"type\": \"scatter\", \"x\": [\"2019-09-16T00:00:00\", \"2019-09-16T00:00:00\"], \"xaxis\": \"x2\", \"y\": [177.05, 348.6], \"yaxis\": \"y2\"}, {\"line\": {\"color\": \"red\", \"dash\": \"dash\", \"width\": 1}, \"mode\": \"lines\", \"name\": \"Sell signal\", \"showlegend\": false, \"type\": \"scatter\", \"x\": [\"2019-09-23T00:00:00\", \"2019-09-23T00:00:00\"], \"xaxis\": \"x2\", \"y\": [177.05, 348.6], \"yaxis\": \"y2\"}, {\"line\": {\"color\": \"green\", \"dash\": \"solid\", \"width\": 0.5}, \"mode\": \"lines\", \"name\": \"Buy signal\", \"showlegend\": false, \"type\": \"scatter\", \"x\": [\"2019-09-30T00:00:00\", \"2019-09-30T00:00:00\"], \"xaxis\": \"x2\", \"y\": [177.05, 348.6], \"yaxis\": \"y2\"}],\n",
       "                        {\"height\": 1200, \"template\": {\"data\": {\"bar\": [{\"error_x\": {\"color\": \"#2a3f5f\"}, \"error_y\": {\"color\": \"#2a3f5f\"}, \"marker\": {\"line\": {\"color\": \"#E5ECF6\", \"width\": 0.5}}, \"type\": \"bar\"}], \"barpolar\": [{\"marker\": {\"line\": {\"color\": \"#E5ECF6\", \"width\": 0.5}}, \"type\": \"barpolar\"}], \"carpet\": [{\"aaxis\": {\"endlinecolor\": \"#2a3f5f\", \"gridcolor\": \"white\", \"linecolor\": \"white\", \"minorgridcolor\": \"white\", \"startlinecolor\": \"#2a3f5f\"}, \"baxis\": {\"endlinecolor\": \"#2a3f5f\", \"gridcolor\": \"white\", \"linecolor\": \"white\", \"minorgridcolor\": \"white\", \"startlinecolor\": \"#2a3f5f\"}, \"type\": \"carpet\"}], \"choropleth\": [{\"colorbar\": {\"outlinewidth\": 0, \"ticks\": \"\"}, \"type\": \"choropleth\"}], \"contour\": [{\"colorbar\": {\"outlinewidth\": 0, \"ticks\": \"\"}, \"colorscale\": [[0.0, \"#0d0887\"], [0.1111111111111111, \"#46039f\"], [0.2222222222222222, \"#7201a8\"], [0.3333333333333333, \"#9c179e\"], [0.4444444444444444, \"#bd3786\"], [0.5555555555555556, \"#d8576b\"], [0.6666666666666666, \"#ed7953\"], [0.7777777777777778, \"#fb9f3a\"], [0.8888888888888888, \"#fdca26\"], [1.0, \"#f0f921\"]], \"type\": \"contour\"}], \"contourcarpet\": [{\"colorbar\": {\"outlinewidth\": 0, \"ticks\": \"\"}, \"type\": \"contourcarpet\"}], \"heatmap\": [{\"colorbar\": {\"outlinewidth\": 0, \"ticks\": \"\"}, \"colorscale\": [[0.0, \"#0d0887\"], [0.1111111111111111, \"#46039f\"], [0.2222222222222222, \"#7201a8\"], [0.3333333333333333, \"#9c179e\"], [0.4444444444444444, \"#bd3786\"], [0.5555555555555556, \"#d8576b\"], [0.6666666666666666, \"#ed7953\"], [0.7777777777777778, \"#fb9f3a\"], [0.8888888888888888, \"#fdca26\"], [1.0, \"#f0f921\"]], \"type\": \"heatmap\"}], \"heatmapgl\": [{\"colorbar\": {\"outlinewidth\": 0, \"ticks\": \"\"}, \"colorscale\": [[0.0, \"#0d0887\"], [0.1111111111111111, \"#46039f\"], [0.2222222222222222, \"#7201a8\"], [0.3333333333333333, \"#9c179e\"], [0.4444444444444444, \"#bd3786\"], [0.5555555555555556, \"#d8576b\"], [0.6666666666666666, \"#ed7953\"], [0.7777777777777778, \"#fb9f3a\"], [0.8888888888888888, \"#fdca26\"], [1.0, \"#f0f921\"]], \"type\": \"heatmapgl\"}], \"histogram\": [{\"marker\": {\"colorbar\": {\"outlinewidth\": 0, \"ticks\": \"\"}}, \"type\": \"histogram\"}], \"histogram2d\": [{\"colorbar\": {\"outlinewidth\": 0, \"ticks\": \"\"}, \"colorscale\": [[0.0, \"#0d0887\"], [0.1111111111111111, \"#46039f\"], [0.2222222222222222, \"#7201a8\"], [0.3333333333333333, \"#9c179e\"], [0.4444444444444444, \"#bd3786\"], [0.5555555555555556, \"#d8576b\"], [0.6666666666666666, \"#ed7953\"], [0.7777777777777778, \"#fb9f3a\"], [0.8888888888888888, \"#fdca26\"], [1.0, \"#f0f921\"]], \"type\": \"histogram2d\"}], \"histogram2dcontour\": [{\"colorbar\": {\"outlinewidth\": 0, \"ticks\": \"\"}, \"colorscale\": [[0.0, \"#0d0887\"], [0.1111111111111111, \"#46039f\"], [0.2222222222222222, \"#7201a8\"], [0.3333333333333333, \"#9c179e\"], [0.4444444444444444, \"#bd3786\"], [0.5555555555555556, \"#d8576b\"], [0.6666666666666666, \"#ed7953\"], [0.7777777777777778, \"#fb9f3a\"], [0.8888888888888888, \"#fdca26\"], [1.0, \"#f0f921\"]], \"type\": \"histogram2dcontour\"}], \"mesh3d\": [{\"colorbar\": {\"outlinewidth\": 0, \"ticks\": \"\"}, \"type\": \"mesh3d\"}], \"parcoords\": [{\"line\": {\"colorbar\": {\"outlinewidth\": 0, \"ticks\": \"\"}}, \"type\": \"parcoords\"}], \"scatter\": [{\"marker\": {\"colorbar\": {\"outlinewidth\": 0, \"ticks\": \"\"}}, \"type\": \"scatter\"}], \"scatter3d\": [{\"line\": {\"colorbar\": {\"outlinewidth\": 0, \"ticks\": \"\"}}, \"marker\": {\"colorbar\": {\"outlinewidth\": 0, \"ticks\": \"\"}}, \"type\": \"scatter3d\"}], \"scattercarpet\": [{\"marker\": {\"colorbar\": {\"outlinewidth\": 0, \"ticks\": \"\"}}, \"type\": \"scattercarpet\"}], \"scattergeo\": [{\"marker\": {\"colorbar\": {\"outlinewidth\": 0, \"ticks\": \"\"}}, \"type\": \"scattergeo\"}], \"scattergl\": [{\"marker\": {\"colorbar\": {\"outlinewidth\": 0, \"ticks\": \"\"}}, \"type\": \"scattergl\"}], \"scattermapbox\": [{\"marker\": {\"colorbar\": {\"outlinewidth\": 0, \"ticks\": \"\"}}, \"type\": \"scattermapbox\"}], \"scatterpolar\": [{\"marker\": {\"colorbar\": {\"outlinewidth\": 0, \"ticks\": \"\"}}, \"type\": \"scatterpolar\"}], \"scatterpolargl\": [{\"marker\": {\"colorbar\": {\"outlinewidth\": 0, \"ticks\": \"\"}}, \"type\": \"scatterpolargl\"}], \"scatterternary\": [{\"marker\": {\"colorbar\": {\"outlinewidth\": 0, \"ticks\": \"\"}}, \"type\": \"scatterternary\"}], \"surface\": [{\"colorbar\": {\"outlinewidth\": 0, \"ticks\": \"\"}, \"colorscale\": [[0.0, \"#0d0887\"], [0.1111111111111111, \"#46039f\"], [0.2222222222222222, \"#7201a8\"], [0.3333333333333333, \"#9c179e\"], [0.4444444444444444, \"#bd3786\"], [0.5555555555555556, \"#d8576b\"], [0.6666666666666666, \"#ed7953\"], [0.7777777777777778, \"#fb9f3a\"], [0.8888888888888888, \"#fdca26\"], [1.0, \"#f0f921\"]], \"type\": \"surface\"}], \"table\": [{\"cells\": {\"fill\": {\"color\": \"#EBF0F8\"}, \"line\": {\"color\": \"white\"}}, \"header\": {\"fill\": {\"color\": \"#C8D4E3\"}, \"line\": {\"color\": \"white\"}}, \"type\": \"table\"}]}, \"layout\": {\"annotationdefaults\": {\"arrowcolor\": \"#2a3f5f\", \"arrowhead\": 0, \"arrowwidth\": 1}, \"colorscale\": {\"diverging\": [[0, \"#8e0152\"], [0.1, \"#c51b7d\"], [0.2, \"#de77ae\"], [0.3, \"#f1b6da\"], [0.4, \"#fde0ef\"], [0.5, \"#f7f7f7\"], [0.6, \"#e6f5d0\"], [0.7, \"#b8e186\"], [0.8, \"#7fbc41\"], [0.9, \"#4d9221\"], [1, \"#276419\"]], \"sequential\": [[0.0, \"#0d0887\"], [0.1111111111111111, \"#46039f\"], [0.2222222222222222, \"#7201a8\"], [0.3333333333333333, \"#9c179e\"], [0.4444444444444444, \"#bd3786\"], [0.5555555555555556, \"#d8576b\"], [0.6666666666666666, \"#ed7953\"], [0.7777777777777778, \"#fb9f3a\"], [0.8888888888888888, \"#fdca26\"], [1.0, \"#f0f921\"]], \"sequentialminus\": [[0.0, \"#0d0887\"], [0.1111111111111111, \"#46039f\"], [0.2222222222222222, \"#7201a8\"], [0.3333333333333333, \"#9c179e\"], [0.4444444444444444, \"#bd3786\"], [0.5555555555555556, \"#d8576b\"], [0.6666666666666666, \"#ed7953\"], [0.7777777777777778, \"#fb9f3a\"], [0.8888888888888888, \"#fdca26\"], [1.0, \"#f0f921\"]]}, \"colorway\": [\"#636efa\", \"#EF553B\", \"#00cc96\", \"#ab63fa\", \"#FFA15A\", \"#19d3f3\", \"#FF6692\", \"#B6E880\", \"#FF97FF\", \"#FECB52\"], \"font\": {\"color\": \"#2a3f5f\"}, \"geo\": {\"bgcolor\": \"white\", \"lakecolor\": \"white\", \"landcolor\": \"#E5ECF6\", \"showlakes\": true, \"showland\": true, \"subunitcolor\": \"white\"}, \"hoverlabel\": {\"align\": \"left\"}, \"hovermode\": \"closest\", \"mapbox\": {\"style\": \"light\"}, \"paper_bgcolor\": \"white\", \"plot_bgcolor\": \"#E5ECF6\", \"polar\": {\"angularaxis\": {\"gridcolor\": \"white\", \"linecolor\": \"white\", \"ticks\": \"\"}, \"bgcolor\": \"#E5ECF6\", \"radialaxis\": {\"gridcolor\": \"white\", \"linecolor\": \"white\", \"ticks\": \"\"}}, \"scene\": {\"xaxis\": {\"backgroundcolor\": \"#E5ECF6\", \"gridcolor\": \"white\", \"gridwidth\": 2, \"linecolor\": \"white\", \"showbackground\": true, \"ticks\": \"\", \"zerolinecolor\": \"white\"}, \"yaxis\": {\"backgroundcolor\": \"#E5ECF6\", \"gridcolor\": \"white\", \"gridwidth\": 2, \"linecolor\": \"white\", \"showbackground\": true, \"ticks\": \"\", \"zerolinecolor\": \"white\"}, \"zaxis\": {\"backgroundcolor\": \"#E5ECF6\", \"gridcolor\": \"white\", \"gridwidth\": 2, \"linecolor\": \"white\", \"showbackground\": true, \"ticks\": \"\", \"zerolinecolor\": \"white\"}}, \"shapedefaults\": {\"line\": {\"color\": \"#2a3f5f\"}}, \"ternary\": {\"aaxis\": {\"gridcolor\": \"white\", \"linecolor\": \"white\", \"ticks\": \"\"}, \"baxis\": {\"gridcolor\": \"white\", \"linecolor\": \"white\", \"ticks\": \"\"}, \"bgcolor\": \"#E5ECF6\", \"caxis\": {\"gridcolor\": \"white\", \"linecolor\": \"white\", \"ticks\": \"\"}}, \"title\": {\"x\": 0.05}, \"xaxis\": {\"automargin\": true, \"gridcolor\": \"white\", \"linecolor\": \"white\", \"ticks\": \"\", \"zerolinecolor\": \"white\", \"zerolinewidth\": 2}, \"yaxis\": {\"automargin\": true, \"gridcolor\": \"white\", \"linecolor\": \"white\", \"ticks\": \"\", \"zerolinecolor\": \"white\", \"zerolinewidth\": 2}}}, \"width\": 800, \"xaxis\": {\"anchor\": \"y\", \"domain\": [0.0, 1.0], \"rangeslider\": {\"visible\": false}}, \"xaxis2\": {\"anchor\": \"y2\", \"domain\": [0.0, 1.0]}, \"xaxis3\": {\"anchor\": \"y3\", \"domain\": [0.0, 1.0]}, \"xaxis4\": {\"anchor\": \"y4\", \"domain\": [0.0, 1.0]}, \"yaxis\": {\"anchor\": \"x\", \"domain\": [0.8277777777777777, 1.0]}, \"yaxis2\": {\"anchor\": \"x2\", \"domain\": [0.4083333333333333, 0.7527777777777778]}, \"yaxis3\": {\"anchor\": \"x3\", \"domain\": [0.24722222222222223, 0.33333333333333337]}, \"yaxis4\": {\"anchor\": \"x4\", \"domain\": [0.0, 0.17222222222222222]}},\n",
       "                        {\"responsive\": true}\n",
       "                    ).then(function(){\n",
       "                            \n",
       "var gd = document.getElementById('1203e84c-aaad-4a08-8f18-f9b716f19f20');\n",
       "var x = new MutationObserver(function (mutations, observer) {{\n",
       "        var display = window.getComputedStyle(gd).display;\n",
       "        if (!display || display === 'none') {{\n",
       "            console.log([gd, 'removed!']);\n",
       "            Plotly.purge(gd);\n",
       "            observer.disconnect();\n",
       "        }}\n",
       "}});\n",
       "\n",
       "// Listen for the removal of the full notebook cells\n",
       "var notebookContainer = gd.closest('#notebook-container');\n",
       "if (notebookContainer) {{\n",
       "    x.observe(notebookContainer, {childList: true});\n",
       "}}\n",
       "\n",
       "// Listen for the clearing of the current output cell\n",
       "var outputEl = gd.closest('.output');\n",
       "if (outputEl) {{\n",
       "    x.observe(outputEl, {childList: true});\n",
       "}}\n",
       "\n",
       "                        })\n",
       "                };\n",
       "                });\n",
       "            </script>\n",
       "        </div>"
      ]
     },
     "metadata": {},
     "output_type": "display_data"
    }
   ],
   "source": [
    "run_time = process_time()\n",
    "tmp_df = data_df[data_df.ticker == 'SBRY']\n",
    "\n",
    "#Create the figrue with subplots\n",
    "# fig = go.Figure()\n",
    "fig = make_subplots(\n",
    "    rows=4\n",
    "    ,cols=1\n",
    "    ,row_heights=[0.2,0.4,0.1,0.2]\n",
    ")\n",
    "fig.update_layout(\n",
    "    width=800\n",
    "    ,height=1200\n",
    ")\n",
    "\n",
    "#Add the HLCO\n",
    "fig.add_trace(go.Candlestick(\n",
    "    x=tmp_df.date\n",
    "    ,open=tmp_df.open\n",
    "    ,close=tmp_df.close\n",
    "    ,high=tmp_df.high\n",
    "    ,low=tmp_df.low\n",
    "    ,name='HLOC'\n",
    "),row=2,col=1)\n",
    "\n",
    "#Add the EMAs\n",
    "fig.add_trace(go.Scatter(\n",
    "    x=tmp_df.date\n",
    "    ,y=tmp_df.ema12\n",
    "    ,line=dict(color='firebrick',width=1)\n",
    "    ,name='EMA12'\n",
    "),row=2,col=1)\n",
    "fig.add_trace(go.Scatter(\n",
    "    x=tmp_df.date\n",
    "    ,y=tmp_df.ema26\n",
    "    ,line=dict(color='royalblue',width=1)\n",
    "    ,name='EMA26'\n",
    "),row=2,col=1)\n",
    "\n",
    "#Show the MACD with lines\n",
    "fig.add_trace(go.Scatter(\n",
    "    x=tmp_df.date\n",
    "    ,y=tmp_df.macd_line\n",
    "    ,line=dict(color='firebrick',width=1)\n",
    "    ,name='MACD line'\n",
    "),row=1,col=1)\n",
    "fig.add_trace(go.Scatter(\n",
    "    x=tmp_df.date\n",
    "    ,y=tmp_df.signal_line\n",
    "    ,line=dict(color='royalblue',width=1)\n",
    "    ,name='Signal line'\n",
    "),row=1,col=1)\n",
    "fig.add_trace(go.Bar(\n",
    "    x=tmp_df[tmp_df.macd > 0].date\n",
    "    ,y=tmp_df[tmp_df.macd > 0].macd\n",
    "    ,marker_color='green'\n",
    "    ,opacity=1\n",
    "),row=1,col=1)\n",
    "fig.add_trace(go.Bar(\n",
    "    x=tmp_df[tmp_df.macd < 0].date\n",
    "    ,y=tmp_df[tmp_df.macd < 0].macd\n",
    "    ,marker_color='red'\n",
    "    ,opacity=1\n",
    "),row=1,col=1)\n",
    "\n",
    "#Add buy and sell signals\n",
    "def add_buy(x_val,min_max,w=0.5,d='solid'):\n",
    "    fig.add_trace(\n",
    "        go.Scatter(\n",
    "            x=[x_val,x_val]\n",
    "            ,y=[min_max[0],min_max[1]]\n",
    "            ,line=dict(color='green',width=w,dash=d)\n",
    "            ,name='Buy signal'\n",
    "            ,showlegend=False\n",
    "            ,mode='lines'\n",
    "        )\n",
    "        ,row=2,col=1\n",
    "    )\n",
    "def add_sell(x_val,min_max,w=0.5,d='solid'):\n",
    "    fig.add_trace(\n",
    "        go.Scatter(\n",
    "            x=[x_val,x_val]\n",
    "            ,y=[min_max[0],min_max[1]]\n",
    "            ,line=dict(color='red',width=w,dash=d)\n",
    "            ,name='Sell signal'\n",
    "            ,showlegend=False\n",
    "            ,mode='lines'\n",
    "        )\n",
    "        ,row=2,col=1\n",
    "    )\n",
    "\n",
    "#Plot the area I'm investigating\n",
    "def add_flags(x_val,min_max,_color:str='black',_row:int=1):\n",
    "    fig.add_trace(\n",
    "        go.Scatter(\n",
    "            x=[x_val,x_val]\n",
    "            ,y=[min_max[0],min_max[1]]\n",
    "            ,line=dict(color=_color,width=1,dash='solid')\n",
    "            ,name='ALT'\n",
    "            ,showlegend=False\n",
    "            ,mode='lines'\n",
    "        )\n",
    "        ,row=_row,col=1\n",
    "    )\n",
    "def add_lines(_x,_y,_color:str='black',_row:int=1):\n",
    "    fig.add_trace(\n",
    "        go.Scatter(\n",
    "            x=_x\n",
    "            ,y=_y\n",
    "            ,line=dict(color=_color,width=1,dash='solid')\n",
    "            ,name='ALT'\n",
    "            ,showlegend=False\n",
    "            ,mode='lines'\n",
    "        )\n",
    "        ,row=_row,col=1\n",
    "    )\n",
    "alt_col = 'close'\n",
    "price_min_max = (tmp_df.low.min(),tmp_df.high.max())\n",
    "alt_min_max = (tmp_df[alt_col].min(),tmp_df[alt_col].max())\n",
    "for i,row in tmp_df.iterrows():\n",
    "    if row.signal == 'buy':\n",
    "        add_buy(row.date,price_min_max,0.5)\n",
    "    elif row.signal == 'sell':\n",
    "        add_sell(row.date,price_min_max,0.5)\n",
    "    if row.signal_model == 'buy':\n",
    "        add_buy(row.date,price_min_max,1,'dash')\n",
    "    elif row.signal_model == 'sell':\n",
    "        add_sell(row.date,price_min_max,1,'dash')\n",
    "#     if row['{}_max'.format(alt_col)] == True:\n",
    "#         add_flags(row.date,alt_min_max,'purple',_row=2)\n",
    "#     if row['{}_min'.format(alt_col)] == True:\n",
    "#         add_flags(row.date,alt_min_max,'orange',_row=2)\n",
    "\n",
    "# alt_col = 'long_max_grad_macd'\n",
    "# add_lines(tmp_df.date,tmp_df[alt_col],_row=4)\n",
    "        \n",
    "run_time.end()\n",
    "\n",
    "\n",
    "#Display the plot\n",
    "fig.update_layout(xaxis_rangeslider_visible=False)\n",
    "fig.show()"
   ]
  },
  {
   "cell_type": "markdown",
   "metadata": {},
   "source": [
    "# Create a chart comparing all the features to buy, sell, hold signals in the ft_eng dataset"
   ]
  },
  {
   "cell_type": "code",
   "execution_count": 12,
   "metadata": {},
   "outputs": [],
   "source": [
    "tmp_df2 = pd.merge(ft_eng_df.drop(columns=['open','close','high','low','volume']),prices_df,left_on=['ticker','date'],right_on=['ticker','date'],how='left')\n",
    "tmp_df2 = tmp_df2[tmp_df2.date < '2014-01-01']"
   ]
  },
  {
   "cell_type": "code",
   "execution_count": 13,
   "metadata": {},
   "outputs": [],
   "source": [
    "import os\n",
    "if not os.path.exists('cor_imgs'):\n",
    "    os.mkdir('cor_imgs')"
   ]
  },
  {
   "cell_type": "code",
   "execution_count": 14,
   "metadata": {
    "scrolled": true
   },
   "outputs": [
    {
     "name": "stdout",
     "output_type": "stream",
     "text": [
      "LAP 1 TIME -> 0:0:0\n",
      "LAP 2 TIME -> 0:0:46\n",
      "LAP 3 TIME -> 0:0:6\n",
      "LAP 4 TIME -> 0:0:6\n",
      "LAP 5 TIME -> 0:0:7\n",
      "LAP 6 TIME -> 0:0:7\n",
      "LAP 7 TIME -> 0:0:9\n",
      "LAP 8 TIME -> 0:0:7\n",
      "LAP 9 TIME -> 0:0:8\n",
      "LAP 10 TIME -> 0:0:7\n",
      "LAP 11 TIME -> 0:0:10\n",
      "LAP 12 TIME -> 0:0:6\n",
      "LAP 13 TIME -> 0:0:8\n",
      "LAP 14 TIME -> 0:0:3\n",
      "LAP 15 TIME -> 0:0:4\n",
      "LAP 16 TIME -> 0:0:4\n",
      "LAP 17 TIME -> 0:0:4\n",
      "LAP 18 TIME -> 0:0:4\n",
      "LAP 19 TIME -> 0:0:3\n",
      "LAP 20 TIME -> 0:0:6\n",
      "LAP 21 TIME -> 0:0:6\n",
      "LAP 22 TIME -> 0:0:6\n",
      "LAP 23 TIME -> 0:0:6\n",
      "LAP 24 TIME -> 0:0:4\n",
      "LAP 25 TIME -> 0:0:4\n",
      "LAP 26 TIME -> 0:0:8\n",
      "LAP 27 TIME -> 0:0:7\n",
      "LAP 28 TIME -> 0:0:8\n",
      "LAP 29 TIME -> 0:0:8\n",
      "LAP 30 TIME -> 0:0:8\n",
      "LAP 31 TIME -> 0:0:8\n",
      "LAP 32 TIME -> 0:0:5\n",
      "LAP 33 TIME -> 0:0:5\n",
      "LAP 34 TIME -> 0:0:12\n",
      "LAP 35 TIME -> 0:0:13\n",
      "LAP 36 TIME -> 0:0:8\n",
      "LAP 37 TIME -> 0:0:6\n",
      "LAP 38 TIME -> 0:0:7\n",
      "LAP 39 TIME -> 0:0:8\n",
      "LAP 40 TIME -> 0:0:5\n",
      "LAP 41 TIME -> 0:0:4\n",
      "LAP 42 TIME -> 0:0:8\n",
      "LAP 43 TIME -> 0:0:8\n",
      "LAP 44 TIME -> 0:0:7\n",
      "LAP 45 TIME -> 0:0:9\n",
      "LAP 46 TIME -> 0:0:19\n",
      "LAP 47 TIME -> 0:0:16\n",
      "LAP 48 TIME -> 0:0:6\n",
      "LAP 49 TIME -> 0:0:5\n",
      "LAP 50 TIME -> 0:0:17\n",
      "LAP 51 TIME -> 0:0:16\n",
      "LAP 52 TIME -> 0:0:5\n",
      "LAP 53 TIME -> 0:0:6\n",
      "LAP 54 TIME -> 0:0:6\n",
      "LAP 55 TIME -> 0:0:6\n",
      "LAP 56 TIME -> 0:0:5\n",
      "LAP 57 TIME -> 0:0:5\n",
      "LAP 58 TIME -> 0:0:11\n",
      "LAP 59 TIME -> 0:0:10\n",
      "LAP 60 TIME -> 0:0:7\n",
      "LAP 61 TIME -> 0:0:8\n",
      "LAP 62 TIME -> 0:0:7\n",
      "LAP 63 TIME -> 0:0:9\n",
      "LAP 64 TIME -> 0:0:7\n",
      "LAP 65 TIME -> 0:0:6\n",
      "LAP 66 TIME -> 0:0:16\n",
      "LAP 67 TIME -> 0:0:14\n",
      "LAP 68 TIME -> 0:0:4\n",
      "LAP 69 TIME -> 0:0:5\n",
      "LAP 70 TIME -> 0:0:7\n",
      "LAP 71 TIME -> 0:0:8\n",
      "LAP 72 TIME -> 0:0:5\n",
      "LAP 73 TIME -> 0:0:5\n",
      "LAP 74 TIME -> 0:0:8\n",
      "LAP 75 TIME -> 0:0:7\n",
      "LAP 76 TIME -> 0:0:7\n",
      "LAP 77 TIME -> 0:0:7\n",
      "LAP 78 TIME -> 0:0:15\n",
      "LAP 79 TIME -> 0:0:16\n",
      "LAP 80 TIME -> 0:0:5\n",
      "LAP 81 TIME -> 0:0:5\n",
      "LAP 82 TIME -> 0:0:14\n",
      "LAP 83 TIME -> 0:0:13\n",
      "LAP 84 TIME -> 0:0:6\n",
      "LAP 85 TIME -> 0:0:7\n",
      "LAP 86 TIME -> 0:0:8\n",
      "LAP 87 TIME -> 0:0:8\n",
      "LAP 88 TIME -> 0:0:4\n",
      "LAP 89 TIME -> 0:0:4\n",
      "LAP 90 TIME -> 0:0:9\n",
      "LAP 91 TIME -> 0:0:9\n",
      "LAP 92 TIME -> 0:0:8\n",
      "LAP 93 TIME -> 0:0:8\n",
      "LAP 94 TIME -> 0:0:17\n",
      "LAP 95 TIME -> 0:0:14\n",
      "LAP 96 TIME -> 0:0:5\n",
      "LAP 97 TIME -> 0:0:6\n",
      "LAP 98 TIME -> 0:0:15\n",
      "LAP 99 TIME -> 0:0:16\n",
      "LAP 100 TIME -> 0:0:8\n",
      "TOTAL ELAPSED TIME -> 0:14:37\n"
     ]
    }
   ],
   "source": [
    "run_time = process_time()\n",
    "def plot_ft_cor(col):\n",
    "    fig = px.box(\n",
    "        tmp_df2\n",
    "        ,x='signal'\n",
    "        ,y=col\n",
    "        ,notched=True\n",
    "        ,title='Correllation of {} and signal'.format(col)\n",
    "    )\n",
    "    fig.update_layout(\n",
    "        width=400\n",
    "        ,height=400\n",
    "    )\n",
    "    fig.write_image(\"cor_imgs/{}.jpeg\".format(col))\n",
    "for col in tmp_df2.drop(columns=['ticker','date','signal']).columns:\n",
    "    run_time.lap()\n",
    "    run_time.show_latest_lap_time()\n",
    "    plot_ft_cor(col)\n",
    "run_time.end()"
   ]
  },
  {
   "cell_type": "code",
   "execution_count": null,
   "metadata": {},
   "outputs": [],
   "source": []
  }
 ],
 "metadata": {
  "kernelspec": {
   "display_name": "Python 3",
   "language": "python",
   "name": "python3"
  },
  "language_info": {
   "codemirror_mode": {
    "name": "ipython",
    "version": 3
   },
   "file_extension": ".py",
   "mimetype": "text/x-python",
   "name": "python",
   "nbconvert_exporter": "python",
   "pygments_lexer": "ipython3",
   "version": "3.7.0"
  }
 },
 "nbformat": 4,
 "nbformat_minor": 2
}
