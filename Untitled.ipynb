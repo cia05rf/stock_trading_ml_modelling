{
 "cells": [
  {
   "cell_type": "code",
   "execution_count": 1,
   "metadata": {},
   "outputs": [
    {
     "name": "stdout",
     "output_type": "stream",
     "text": [
      "  ticker       date    open   close    high    low  change     volume  ema12  \\\n",
      "0    III 2008-01-02   995.0  1005.0  1023.0  995.0    10.0   785944.0    NaN   \n",
      "1    III 2008-01-03  1005.0   988.0  1020.0  981.0   -17.0  1805560.0    NaN   \n",
      "2    III 2008-01-04   985.5   965.0  1000.0  964.0   -20.5  1920061.0    NaN   \n",
      "3    III 2008-01-07   967.5   971.5   974.0  953.0     4.0  3167216.0    NaN   \n",
      "4    III 2008-01-08   975.0   978.5   989.0  971.5     3.5  2297118.0    NaN   \n",
      "\n",
      "   ema26  macd_line  signal  macd  \n",
      "0    NaN        NaN     NaN   NaN  \n",
      "1    NaN        NaN     NaN   NaN  \n",
      "2    NaN        NaN     NaN   NaN  \n",
      "3    NaN        NaN     NaN   NaN  \n",
      "4    NaN        NaN     NaN   NaN  \n"
     ]
    }
   ],
   "source": [
    "import pandas as pd\n",
    "\n",
    "#Setup the variables\n",
    "path = r'C:\\Users\\Robert\\Documents\\python_scripts\\stock_trading_ml_modelling\\historical_prices'\n",
    "\n",
    "#Read in the file\n",
    "data_d_df = pd.read_hdf(path + r'\\all_hist_prices_d.h5')\n",
    "print(data_d_df.head())"
   ]
  },
  {
   "cell_type": "code",
   "execution_count": null,
   "metadata": {},
   "outputs": [],
   "source": []
  }
 ],
 "metadata": {
  "kernelspec": {
   "display_name": "Python 3",
   "language": "python",
   "name": "python3"
  },
  "language_info": {
   "codemirror_mode": {
    "name": "ipython",
    "version": 3
   },
   "file_extension": ".py",
   "mimetype": "text/x-python",
   "name": "python",
   "nbconvert_exporter": "python",
   "pygments_lexer": "ipython3",
   "version": "3.7.0"
  }
 },
 "nbformat": 4,
 "nbformat_minor": 2
}
